{
  "nbformat": 4,
  "nbformat_minor": 0,
  "metadata": {
    "kernelspec": {
      "name": "python3",
      "display_name": "Python 3"
    },
    "language_info": {
      "codemirror_mode": {
        "name": "ipython",
        "version": 3
      },
      "file_extension": ".py",
      "mimetype": "text/x-python",
      "name": "python",
      "nbconvert_exporter": "python",
      "pygments_lexer": "ipython3",
      "version": "3.6.9"
    },
    "widgets": {
      "state": {},
      "version": "1.1.2"
    },
    "colab": {
      "name": "Spam Classifier using Naive Bayes.ipynb",
      "version": "0.3.2",
      "provenance": [],
      "include_colab_link": true
    },
    "accelerator": "GPU"
  },
  "cells": [
    {
      "cell_type": "markdown",
      "metadata": {
        "id": "view-in-github",
        "colab_type": "text"
      },
      "source": [
        "<a href=\"https://colab.research.google.com/github/PratikhyaManas/Spam-Classifier-using-Naive-Bayes/blob/master/Spam_Classifier_using_Naive_Bayes.ipynb\" target=\"_parent\"><img src=\"https://colab.research.google.com/assets/colab-badge.svg\" alt=\"Open In Colab\"/></a>"
      ]
    },
    {
      "cell_type": "markdown",
      "metadata": {
        "id": "BAg5WLTuv7r7",
        "colab_type": "text"
      },
      "source": [
        "# PROBLEM STATEMENT"
      ]
    },
    {
      "cell_type": "markdown",
      "metadata": {
        "id": "HsUjcuJlv7r9",
        "colab_type": "text"
      },
      "source": [
        "- The SMS Spam Collection is a set of SMS tagged messages that have been collected for SMS Spam research. It contains one set of SMS messages in English of 5,574 messages, tagged acording being ham (legitimate) or spam.\n",
        "\n",
        "- The files contain one message per line. Each line is composed by two columns: v1 contains the label (ham or spam) and v2 contains the raw text.\n"
      ]
    },
    {
      "cell_type": "markdown",
      "metadata": {
        "id": "BkdtwJkCv7sB",
        "colab_type": "text"
      },
      "source": [
        "# STEP #0: LIBRARIES IMPORT\n"
      ]
    },
    {
      "cell_type": "code",
      "metadata": {
        "id": "QO_7S9UEv7sF",
        "colab_type": "code",
        "colab": {}
      },
      "source": [
        "import pandas as pd\n",
        "import numpy as np\n",
        "import matplotlib.pyplot as plt\n",
        "import seaborn as sns\n",
        "%matplotlib inline"
      ],
      "execution_count": 0,
      "outputs": []
    },
    {
      "cell_type": "markdown",
      "metadata": {
        "id": "gOeNPOqPv7sO",
        "colab_type": "text"
      },
      "source": [
        "# STEP #1: IMPORT DATASET"
      ]
    },
    {
      "cell_type": "code",
      "metadata": {
        "id": "POW5YFo0v7sQ",
        "colab_type": "code",
        "colab": {
          "resources": {
            "http://localhost:8080/nbextensions/google.colab/files.js": {
              "data": "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",
              "ok": true,
              "headers": [
                [
                  "content-type",
                  "application/javascript"
                ]
              ],
              "status": 200,
              "status_text": ""
            }
          },
          "base_uri": "https://localhost:8080/",
          "height": 74
        },
        "outputId": "72785f0f-4b4c-4fe2-fdf2-6a16aea840d9"
      },
      "source": [
        "from google.colab import files\n",
        "uploaded = files.upload()\n",
        "import io\n",
        "spam_df = pd.read_csv(io.BytesIO(uploaded['emails.csv']))"
      ],
      "execution_count": 4,
      "outputs": [
        {
          "output_type": "display_data",
          "data": {
            "text/html": [
              "\n",
              "     <input type=\"file\" id=\"files-03d84878-1573-454f-b35f-df5f4d826981\" name=\"files[]\" multiple disabled />\n",
              "     <output id=\"result-03d84878-1573-454f-b35f-df5f4d826981\">\n",
              "      Upload widget is only available when the cell has been executed in the\n",
              "      current browser session. Please rerun this cell to enable.\n",
              "      </output>\n",
              "      <script src=\"/nbextensions/google.colab/files.js\"></script> "
            ],
            "text/plain": [
              "<IPython.core.display.HTML object>"
            ]
          },
          "metadata": {
            "tags": []
          }
        },
        {
          "output_type": "stream",
          "text": [
            "Saving emails.csv to emails.csv\n"
          ],
          "name": "stdout"
        }
      ]
    },
    {
      "cell_type": "code",
      "metadata": {
        "id": "D7_dTRR0v7sX",
        "colab_type": "code",
        "colab": {
          "base_uri": "https://localhost:8080/",
          "height": 359
        },
        "outputId": "5c60450e-d656-4fc5-c782-ffc7b149868c"
      },
      "source": [
        "spam_df.head(10)"
      ],
      "execution_count": 5,
      "outputs": [
        {
          "output_type": "execute_result",
          "data": {
            "text/html": [
              "<div>\n",
              "<style scoped>\n",
              "    .dataframe tbody tr th:only-of-type {\n",
              "        vertical-align: middle;\n",
              "    }\n",
              "\n",
              "    .dataframe tbody tr th {\n",
              "        vertical-align: top;\n",
              "    }\n",
              "\n",
              "    .dataframe thead th {\n",
              "        text-align: right;\n",
              "    }\n",
              "</style>\n",
              "<table border=\"1\" class=\"dataframe\">\n",
              "  <thead>\n",
              "    <tr style=\"text-align: right;\">\n",
              "      <th></th>\n",
              "      <th>text</th>\n",
              "      <th>spam</th>\n",
              "    </tr>\n",
              "  </thead>\n",
              "  <tbody>\n",
              "    <tr>\n",
              "      <th>0</th>\n",
              "      <td>Subject: naturally irresistible your corporate...</td>\n",
              "      <td>1</td>\n",
              "    </tr>\n",
              "    <tr>\n",
              "      <th>1</th>\n",
              "      <td>Subject: the stock trading gunslinger  fanny i...</td>\n",
              "      <td>1</td>\n",
              "    </tr>\n",
              "    <tr>\n",
              "      <th>2</th>\n",
              "      <td>Subject: unbelievable new homes made easy  im ...</td>\n",
              "      <td>1</td>\n",
              "    </tr>\n",
              "    <tr>\n",
              "      <th>3</th>\n",
              "      <td>Subject: 4 color printing special  request add...</td>\n",
              "      <td>1</td>\n",
              "    </tr>\n",
              "    <tr>\n",
              "      <th>4</th>\n",
              "      <td>Subject: do not have money , get software cds ...</td>\n",
              "      <td>1</td>\n",
              "    </tr>\n",
              "    <tr>\n",
              "      <th>5</th>\n",
              "      <td>Subject: great nnews  hello , welcome to medzo...</td>\n",
              "      <td>1</td>\n",
              "    </tr>\n",
              "    <tr>\n",
              "      <th>6</th>\n",
              "      <td>Subject: here ' s a hot play in motion  homela...</td>\n",
              "      <td>1</td>\n",
              "    </tr>\n",
              "    <tr>\n",
              "      <th>7</th>\n",
              "      <td>Subject: save your money buy getting this thin...</td>\n",
              "      <td>1</td>\n",
              "    </tr>\n",
              "    <tr>\n",
              "      <th>8</th>\n",
              "      <td>Subject: undeliverable : home based business f...</td>\n",
              "      <td>1</td>\n",
              "    </tr>\n",
              "    <tr>\n",
              "      <th>9</th>\n",
              "      <td>Subject: save your money buy getting this thin...</td>\n",
              "      <td>1</td>\n",
              "    </tr>\n",
              "  </tbody>\n",
              "</table>\n",
              "</div>"
            ],
            "text/plain": [
              "                                                text  spam\n",
              "0  Subject: naturally irresistible your corporate...     1\n",
              "1  Subject: the stock trading gunslinger  fanny i...     1\n",
              "2  Subject: unbelievable new homes made easy  im ...     1\n",
              "3  Subject: 4 color printing special  request add...     1\n",
              "4  Subject: do not have money , get software cds ...     1\n",
              "5  Subject: great nnews  hello , welcome to medzo...     1\n",
              "6  Subject: here ' s a hot play in motion  homela...     1\n",
              "7  Subject: save your money buy getting this thin...     1\n",
              "8  Subject: undeliverable : home based business f...     1\n",
              "9  Subject: save your money buy getting this thin...     1"
            ]
          },
          "metadata": {
            "tags": []
          },
          "execution_count": 5
        }
      ]
    },
    {
      "cell_type": "code",
      "metadata": {
        "scrolled": true,
        "id": "S4rSv0Ggv7sh",
        "colab_type": "code",
        "colab": {
          "base_uri": "https://localhost:8080/",
          "height": 204
        },
        "outputId": "3b8a508f-2730-43d9-865b-97cc0e645909"
      },
      "source": [
        "spam_df.tail()"
      ],
      "execution_count": 6,
      "outputs": [
        {
          "output_type": "execute_result",
          "data": {
            "text/html": [
              "<div>\n",
              "<style scoped>\n",
              "    .dataframe tbody tr th:only-of-type {\n",
              "        vertical-align: middle;\n",
              "    }\n",
              "\n",
              "    .dataframe tbody tr th {\n",
              "        vertical-align: top;\n",
              "    }\n",
              "\n",
              "    .dataframe thead th {\n",
              "        text-align: right;\n",
              "    }\n",
              "</style>\n",
              "<table border=\"1\" class=\"dataframe\">\n",
              "  <thead>\n",
              "    <tr style=\"text-align: right;\">\n",
              "      <th></th>\n",
              "      <th>text</th>\n",
              "      <th>spam</th>\n",
              "    </tr>\n",
              "  </thead>\n",
              "  <tbody>\n",
              "    <tr>\n",
              "      <th>5723</th>\n",
              "      <td>Subject: re : research and development charges...</td>\n",
              "      <td>0</td>\n",
              "    </tr>\n",
              "    <tr>\n",
              "      <th>5724</th>\n",
              "      <td>Subject: re : receipts from visit  jim ,  than...</td>\n",
              "      <td>0</td>\n",
              "    </tr>\n",
              "    <tr>\n",
              "      <th>5725</th>\n",
              "      <td>Subject: re : enron case study update  wow ! a...</td>\n",
              "      <td>0</td>\n",
              "    </tr>\n",
              "    <tr>\n",
              "      <th>5726</th>\n",
              "      <td>Subject: re : interest  david ,  please , call...</td>\n",
              "      <td>0</td>\n",
              "    </tr>\n",
              "    <tr>\n",
              "      <th>5727</th>\n",
              "      <td>Subject: news : aurora 5 . 2 update  aurora ve...</td>\n",
              "      <td>0</td>\n",
              "    </tr>\n",
              "  </tbody>\n",
              "</table>\n",
              "</div>"
            ],
            "text/plain": [
              "                                                   text  spam\n",
              "5723  Subject: re : research and development charges...     0\n",
              "5724  Subject: re : receipts from visit  jim ,  than...     0\n",
              "5725  Subject: re : enron case study update  wow ! a...     0\n",
              "5726  Subject: re : interest  david ,  please , call...     0\n",
              "5727  Subject: news : aurora 5 . 2 update  aurora ve...     0"
            ]
          },
          "metadata": {
            "tags": []
          },
          "execution_count": 6
        }
      ]
    },
    {
      "cell_type": "code",
      "metadata": {
        "id": "cNbrQbXkv7so",
        "colab_type": "code",
        "colab": {
          "base_uri": "https://localhost:8080/",
          "height": 297
        },
        "outputId": "46231471-da69-4ee9-e408-b43e39ad918d"
      },
      "source": [
        "spam_df.describe()"
      ],
      "execution_count": 7,
      "outputs": [
        {
          "output_type": "execute_result",
          "data": {
            "text/html": [
              "<div>\n",
              "<style scoped>\n",
              "    .dataframe tbody tr th:only-of-type {\n",
              "        vertical-align: middle;\n",
              "    }\n",
              "\n",
              "    .dataframe tbody tr th {\n",
              "        vertical-align: top;\n",
              "    }\n",
              "\n",
              "    .dataframe thead th {\n",
              "        text-align: right;\n",
              "    }\n",
              "</style>\n",
              "<table border=\"1\" class=\"dataframe\">\n",
              "  <thead>\n",
              "    <tr style=\"text-align: right;\">\n",
              "      <th></th>\n",
              "      <th>spam</th>\n",
              "    </tr>\n",
              "  </thead>\n",
              "  <tbody>\n",
              "    <tr>\n",
              "      <th>count</th>\n",
              "      <td>5728.000000</td>\n",
              "    </tr>\n",
              "    <tr>\n",
              "      <th>mean</th>\n",
              "      <td>0.238827</td>\n",
              "    </tr>\n",
              "    <tr>\n",
              "      <th>std</th>\n",
              "      <td>0.426404</td>\n",
              "    </tr>\n",
              "    <tr>\n",
              "      <th>min</th>\n",
              "      <td>0.000000</td>\n",
              "    </tr>\n",
              "    <tr>\n",
              "      <th>25%</th>\n",
              "      <td>0.000000</td>\n",
              "    </tr>\n",
              "    <tr>\n",
              "      <th>50%</th>\n",
              "      <td>0.000000</td>\n",
              "    </tr>\n",
              "    <tr>\n",
              "      <th>75%</th>\n",
              "      <td>0.000000</td>\n",
              "    </tr>\n",
              "    <tr>\n",
              "      <th>max</th>\n",
              "      <td>1.000000</td>\n",
              "    </tr>\n",
              "  </tbody>\n",
              "</table>\n",
              "</div>"
            ],
            "text/plain": [
              "              spam\n",
              "count  5728.000000\n",
              "mean      0.238827\n",
              "std       0.426404\n",
              "min       0.000000\n",
              "25%       0.000000\n",
              "50%       0.000000\n",
              "75%       0.000000\n",
              "max       1.000000"
            ]
          },
          "metadata": {
            "tags": []
          },
          "execution_count": 7
        }
      ]
    },
    {
      "cell_type": "code",
      "metadata": {
        "scrolled": true,
        "id": "UuevmUUqv7sv",
        "colab_type": "code",
        "colab": {
          "base_uri": "https://localhost:8080/",
          "height": 136
        },
        "outputId": "d52c21c9-4bee-45ac-bda5-c5fd84b3d6df"
      },
      "source": [
        "spam_df.info()"
      ],
      "execution_count": 8,
      "outputs": [
        {
          "output_type": "stream",
          "text": [
            "<class 'pandas.core.frame.DataFrame'>\n",
            "RangeIndex: 5728 entries, 0 to 5727\n",
            "Data columns (total 2 columns):\n",
            "text    5728 non-null object\n",
            "spam    5728 non-null int64\n",
            "dtypes: int64(1), object(1)\n",
            "memory usage: 89.6+ KB\n"
          ],
          "name": "stdout"
        }
      ]
    },
    {
      "cell_type": "markdown",
      "metadata": {
        "id": "46nMSkqgv7s0",
        "colab_type": "text"
      },
      "source": [
        "# STEP #2: VISUALIZE DATASET"
      ]
    },
    {
      "cell_type": "code",
      "metadata": {
        "id": "lOqV9Dggv7s1",
        "colab_type": "code",
        "colab": {
          "base_uri": "https://localhost:8080/",
          "height": 173
        },
        "outputId": "4e65a7b7-31f0-4c9c-a2fb-9f5309d68595"
      },
      "source": [
        "# Let's see which message is the most popular ham/spam message\n",
        "spam_df.groupby('spam').describe()"
      ],
      "execution_count": 9,
      "outputs": [
        {
          "output_type": "execute_result",
          "data": {
            "text/html": [
              "<div>\n",
              "<style scoped>\n",
              "    .dataframe tbody tr th:only-of-type {\n",
              "        vertical-align: middle;\n",
              "    }\n",
              "\n",
              "    .dataframe tbody tr th {\n",
              "        vertical-align: top;\n",
              "    }\n",
              "\n",
              "    .dataframe thead tr th {\n",
              "        text-align: left;\n",
              "    }\n",
              "\n",
              "    .dataframe thead tr:last-of-type th {\n",
              "        text-align: right;\n",
              "    }\n",
              "</style>\n",
              "<table border=\"1\" class=\"dataframe\">\n",
              "  <thead>\n",
              "    <tr>\n",
              "      <th></th>\n",
              "      <th colspan=\"4\" halign=\"left\">text</th>\n",
              "    </tr>\n",
              "    <tr>\n",
              "      <th></th>\n",
              "      <th>count</th>\n",
              "      <th>unique</th>\n",
              "      <th>top</th>\n",
              "      <th>freq</th>\n",
              "    </tr>\n",
              "    <tr>\n",
              "      <th>spam</th>\n",
              "      <th></th>\n",
              "      <th></th>\n",
              "      <th></th>\n",
              "      <th></th>\n",
              "    </tr>\n",
              "  </thead>\n",
              "  <tbody>\n",
              "    <tr>\n",
              "      <th>0</th>\n",
              "      <td>4360</td>\n",
              "      <td>4327</td>\n",
              "      <td>Subject: re : term project :  brian ,  no prob...</td>\n",
              "      <td>2</td>\n",
              "    </tr>\n",
              "    <tr>\n",
              "      <th>1</th>\n",
              "      <td>1368</td>\n",
              "      <td>1368</td>\n",
              "      <td>Subject: you don _ t know how to get into sear...</td>\n",
              "      <td>1</td>\n",
              "    </tr>\n",
              "  </tbody>\n",
              "</table>\n",
              "</div>"
            ],
            "text/plain": [
              "      text                                                               \n",
              "     count unique                                                top freq\n",
              "spam                                                                     \n",
              "0     4360   4327  Subject: re : term project :  brian ,  no prob...    2\n",
              "1     1368   1368  Subject: you don _ t know how to get into sear...    1"
            ]
          },
          "metadata": {
            "tags": []
          },
          "execution_count": 9
        }
      ]
    },
    {
      "cell_type": "code",
      "metadata": {
        "id": "v2wlQCQXv7uB",
        "colab_type": "code",
        "colab": {
          "base_uri": "https://localhost:8080/",
          "height": 204
        },
        "outputId": "d25fa4d3-a9a2-496e-869d-0a91bdca6cdf"
      },
      "source": [
        "# Let's get the length of the messages\n",
        "spam_df['length'] = spam_df['text'].apply(len)\n",
        "spam_df.head()"
      ],
      "execution_count": 10,
      "outputs": [
        {
          "output_type": "execute_result",
          "data": {
            "text/html": [
              "<div>\n",
              "<style scoped>\n",
              "    .dataframe tbody tr th:only-of-type {\n",
              "        vertical-align: middle;\n",
              "    }\n",
              "\n",
              "    .dataframe tbody tr th {\n",
              "        vertical-align: top;\n",
              "    }\n",
              "\n",
              "    .dataframe thead th {\n",
              "        text-align: right;\n",
              "    }\n",
              "</style>\n",
              "<table border=\"1\" class=\"dataframe\">\n",
              "  <thead>\n",
              "    <tr style=\"text-align: right;\">\n",
              "      <th></th>\n",
              "      <th>text</th>\n",
              "      <th>spam</th>\n",
              "      <th>length</th>\n",
              "    </tr>\n",
              "  </thead>\n",
              "  <tbody>\n",
              "    <tr>\n",
              "      <th>0</th>\n",
              "      <td>Subject: naturally irresistible your corporate...</td>\n",
              "      <td>1</td>\n",
              "      <td>1484</td>\n",
              "    </tr>\n",
              "    <tr>\n",
              "      <th>1</th>\n",
              "      <td>Subject: the stock trading gunslinger  fanny i...</td>\n",
              "      <td>1</td>\n",
              "      <td>598</td>\n",
              "    </tr>\n",
              "    <tr>\n",
              "      <th>2</th>\n",
              "      <td>Subject: unbelievable new homes made easy  im ...</td>\n",
              "      <td>1</td>\n",
              "      <td>448</td>\n",
              "    </tr>\n",
              "    <tr>\n",
              "      <th>3</th>\n",
              "      <td>Subject: 4 color printing special  request add...</td>\n",
              "      <td>1</td>\n",
              "      <td>500</td>\n",
              "    </tr>\n",
              "    <tr>\n",
              "      <th>4</th>\n",
              "      <td>Subject: do not have money , get software cds ...</td>\n",
              "      <td>1</td>\n",
              "      <td>235</td>\n",
              "    </tr>\n",
              "  </tbody>\n",
              "</table>\n",
              "</div>"
            ],
            "text/plain": [
              "                                                text  spam  length\n",
              "0  Subject: naturally irresistible your corporate...     1    1484\n",
              "1  Subject: the stock trading gunslinger  fanny i...     1     598\n",
              "2  Subject: unbelievable new homes made easy  im ...     1     448\n",
              "3  Subject: 4 color printing special  request add...     1     500\n",
              "4  Subject: do not have money , get software cds ...     1     235"
            ]
          },
          "metadata": {
            "tags": []
          },
          "execution_count": 10
        }
      ]
    },
    {
      "cell_type": "code",
      "metadata": {
        "id": "6HGtXovov7uK",
        "colab_type": "code",
        "colab": {
          "base_uri": "https://localhost:8080/",
          "height": 1000
        },
        "outputId": "aa661ba9-c16e-478e-8a8d-288eab6a81bd"
      },
      "source": [
        "spam_df"
      ],
      "execution_count": 11,
      "outputs": [
        {
          "output_type": "execute_result",
          "data": {
            "text/html": [
              "<div>\n",
              "<style scoped>\n",
              "    .dataframe tbody tr th:only-of-type {\n",
              "        vertical-align: middle;\n",
              "    }\n",
              "\n",
              "    .dataframe tbody tr th {\n",
              "        vertical-align: top;\n",
              "    }\n",
              "\n",
              "    .dataframe thead th {\n",
              "        text-align: right;\n",
              "    }\n",
              "</style>\n",
              "<table border=\"1\" class=\"dataframe\">\n",
              "  <thead>\n",
              "    <tr style=\"text-align: right;\">\n",
              "      <th></th>\n",
              "      <th>text</th>\n",
              "      <th>spam</th>\n",
              "      <th>length</th>\n",
              "    </tr>\n",
              "  </thead>\n",
              "  <tbody>\n",
              "    <tr>\n",
              "      <th>0</th>\n",
              "      <td>Subject: naturally irresistible your corporate...</td>\n",
              "      <td>1</td>\n",
              "      <td>1484</td>\n",
              "    </tr>\n",
              "    <tr>\n",
              "      <th>1</th>\n",
              "      <td>Subject: the stock trading gunslinger  fanny i...</td>\n",
              "      <td>1</td>\n",
              "      <td>598</td>\n",
              "    </tr>\n",
              "    <tr>\n",
              "      <th>2</th>\n",
              "      <td>Subject: unbelievable new homes made easy  im ...</td>\n",
              "      <td>1</td>\n",
              "      <td>448</td>\n",
              "    </tr>\n",
              "    <tr>\n",
              "      <th>3</th>\n",
              "      <td>Subject: 4 color printing special  request add...</td>\n",
              "      <td>1</td>\n",
              "      <td>500</td>\n",
              "    </tr>\n",
              "    <tr>\n",
              "      <th>4</th>\n",
              "      <td>Subject: do not have money , get software cds ...</td>\n",
              "      <td>1</td>\n",
              "      <td>235</td>\n",
              "    </tr>\n",
              "    <tr>\n",
              "      <th>5</th>\n",
              "      <td>Subject: great nnews  hello , welcome to medzo...</td>\n",
              "      <td>1</td>\n",
              "      <td>478</td>\n",
              "    </tr>\n",
              "    <tr>\n",
              "      <th>6</th>\n",
              "      <td>Subject: here ' s a hot play in motion  homela...</td>\n",
              "      <td>1</td>\n",
              "      <td>9340</td>\n",
              "    </tr>\n",
              "    <tr>\n",
              "      <th>7</th>\n",
              "      <td>Subject: save your money buy getting this thin...</td>\n",
              "      <td>1</td>\n",
              "      <td>446</td>\n",
              "    </tr>\n",
              "    <tr>\n",
              "      <th>8</th>\n",
              "      <td>Subject: undeliverable : home based business f...</td>\n",
              "      <td>1</td>\n",
              "      <td>507</td>\n",
              "    </tr>\n",
              "    <tr>\n",
              "      <th>9</th>\n",
              "      <td>Subject: save your money buy getting this thin...</td>\n",
              "      <td>1</td>\n",
              "      <td>446</td>\n",
              "    </tr>\n",
              "    <tr>\n",
              "      <th>10</th>\n",
              "      <td>Subject: las vegas high rise boom  las vegas i...</td>\n",
              "      <td>1</td>\n",
              "      <td>709</td>\n",
              "    </tr>\n",
              "    <tr>\n",
              "      <th>11</th>\n",
              "      <td>Subject: save your money buy getting this thin...</td>\n",
              "      <td>1</td>\n",
              "      <td>446</td>\n",
              "    </tr>\n",
              "    <tr>\n",
              "      <th>12</th>\n",
              "      <td>Subject: brighten those teeth  get your  teeth...</td>\n",
              "      <td>1</td>\n",
              "      <td>879</td>\n",
              "    </tr>\n",
              "    <tr>\n",
              "      <th>13</th>\n",
              "      <td>Subject: wall street phenomenon reaps rewards ...</td>\n",
              "      <td>1</td>\n",
              "      <td>8196</td>\n",
              "    </tr>\n",
              "    <tr>\n",
              "      <th>14</th>\n",
              "      <td>Subject: fpa notice : ebay misrepresentation o...</td>\n",
              "      <td>1</td>\n",
              "      <td>684</td>\n",
              "    </tr>\n",
              "    <tr>\n",
              "      <th>15</th>\n",
              "      <td>Subject: search engine position  be the very f...</td>\n",
              "      <td>1</td>\n",
              "      <td>1000</td>\n",
              "    </tr>\n",
              "    <tr>\n",
              "      <th>16</th>\n",
              "      <td>Subject: only our software is guaranteed 100 %...</td>\n",
              "      <td>1</td>\n",
              "      <td>215</td>\n",
              "    </tr>\n",
              "    <tr>\n",
              "      <th>17</th>\n",
              "      <td>Subject: localized software , all languages av...</td>\n",
              "      <td>1</td>\n",
              "      <td>663</td>\n",
              "    </tr>\n",
              "    <tr>\n",
              "      <th>18</th>\n",
              "      <td>Subject: security alert - confirm your nationa...</td>\n",
              "      <td>1</td>\n",
              "      <td>80</td>\n",
              "    </tr>\n",
              "    <tr>\n",
              "      <th>19</th>\n",
              "      <td>Subject: 21 st century web specialists jrgbm  ...</td>\n",
              "      <td>1</td>\n",
              "      <td>2560</td>\n",
              "    </tr>\n",
              "    <tr>\n",
              "      <th>20</th>\n",
              "      <td>Subject: any med for your girl to be happy !  ...</td>\n",
              "      <td>1</td>\n",
              "      <td>349</td>\n",
              "    </tr>\n",
              "    <tr>\n",
              "      <th>21</th>\n",
              "      <td>Subject: re : wearable electronics  hi my name...</td>\n",
              "      <td>1</td>\n",
              "      <td>649</td>\n",
              "    </tr>\n",
              "    <tr>\n",
              "      <th>22</th>\n",
              "      <td>Subject: top - level logo and business identit...</td>\n",
              "      <td>1</td>\n",
              "      <td>715</td>\n",
              "    </tr>\n",
              "    <tr>\n",
              "      <th>23</th>\n",
              "      <td>Subject: your trusted source for prescription ...</td>\n",
              "      <td>1</td>\n",
              "      <td>294</td>\n",
              "    </tr>\n",
              "    <tr>\n",
              "      <th>24</th>\n",
              "      <td>Subject: rely on us for your online prescripti...</td>\n",
              "      <td>1</td>\n",
              "      <td>350</td>\n",
              "    </tr>\n",
              "    <tr>\n",
              "      <th>25</th>\n",
              "      <td>Subject: guzzle like a fountain  spur m rocks ...</td>\n",
              "      <td>1</td>\n",
              "      <td>993</td>\n",
              "    </tr>\n",
              "    <tr>\n",
              "      <th>26</th>\n",
              "      <td>Subject: are you losing ? the answer would ama...</td>\n",
              "      <td>1</td>\n",
              "      <td>936</td>\n",
              "    </tr>\n",
              "    <tr>\n",
              "      <th>27</th>\n",
              "      <td>Subject: hi  how to save o improper n your med...</td>\n",
              "      <td>1</td>\n",
              "      <td>466</td>\n",
              "    </tr>\n",
              "    <tr>\n",
              "      <th>28</th>\n",
              "      <td>Subject: 25 mg did thhe trick  ho receivable w...</td>\n",
              "      <td>1</td>\n",
              "      <td>497</td>\n",
              "    </tr>\n",
              "    <tr>\n",
              "      <th>29</th>\n",
              "      <td>Subject: save your money buy getting this thin...</td>\n",
              "      <td>1</td>\n",
              "      <td>446</td>\n",
              "    </tr>\n",
              "    <tr>\n",
              "      <th>...</th>\n",
              "      <td>...</td>\n",
              "      <td>...</td>\n",
              "      <td>...</td>\n",
              "    </tr>\n",
              "    <tr>\n",
              "      <th>5698</th>\n",
              "      <td>Subject: schedule and more . .  dr . kaminski ...</td>\n",
              "      <td>0</td>\n",
              "      <td>1654</td>\n",
              "    </tr>\n",
              "    <tr>\n",
              "      <th>5699</th>\n",
              "      <td>Subject: re : message from ken rice  vince :  ...</td>\n",
              "      <td>0</td>\n",
              "      <td>1566</td>\n",
              "    </tr>\n",
              "    <tr>\n",
              "      <th>5700</th>\n",
              "      <td>Subject: re : exploration data as the root of ...</td>\n",
              "      <td>0</td>\n",
              "      <td>1373</td>\n",
              "    </tr>\n",
              "    <tr>\n",
              "      <th>5701</th>\n",
              "      <td>Subject: rendez - vous reporter : sunday 3 rd ...</td>\n",
              "      <td>0</td>\n",
              "      <td>1295</td>\n",
              "    </tr>\n",
              "    <tr>\n",
              "      <th>5702</th>\n",
              "      <td>Subject: dr . michelle foss - energy institute...</td>\n",
              "      <td>0</td>\n",
              "      <td>1513</td>\n",
              "    </tr>\n",
              "    <tr>\n",
              "      <th>5703</th>\n",
              "      <td>Subject: rice / enron finance seminar series  ...</td>\n",
              "      <td>0</td>\n",
              "      <td>742</td>\n",
              "    </tr>\n",
              "    <tr>\n",
              "      <th>5704</th>\n",
              "      <td>Subject: storage model security  stinson ,  i ...</td>\n",
              "      <td>0</td>\n",
              "      <td>195</td>\n",
              "    </tr>\n",
              "    <tr>\n",
              "      <th>5705</th>\n",
              "      <td>Subject: re : meeting w kevin hannon  vince an...</td>\n",
              "      <td>0</td>\n",
              "      <td>474</td>\n",
              "    </tr>\n",
              "    <tr>\n",
              "      <th>5706</th>\n",
              "      <td>Subject: e - mail and voicemail retention poli...</td>\n",
              "      <td>0</td>\n",
              "      <td>733</td>\n",
              "    </tr>\n",
              "    <tr>\n",
              "      <th>5707</th>\n",
              "      <td>Subject: approval is overdue : access request ...</td>\n",
              "      <td>0</td>\n",
              "      <td>499</td>\n",
              "    </tr>\n",
              "    <tr>\n",
              "      <th>5708</th>\n",
              "      <td>Subject: re : hi vince  hi jeff ,  no problem ...</td>\n",
              "      <td>0</td>\n",
              "      <td>1079</td>\n",
              "    </tr>\n",
              "    <tr>\n",
              "      <th>5709</th>\n",
              "      <td>Subject: agenda for larry thorne ' s presentat...</td>\n",
              "      <td>0</td>\n",
              "      <td>321</td>\n",
              "    </tr>\n",
              "    <tr>\n",
              "      <th>5710</th>\n",
              "      <td>Subject: raptors  here is the most recent vers...</td>\n",
              "      <td>0</td>\n",
              "      <td>104</td>\n",
              "    </tr>\n",
              "    <tr>\n",
              "      <th>5711</th>\n",
              "      <td>Subject: re : faculty lunch  alison ,  i recom...</td>\n",
              "      <td>0</td>\n",
              "      <td>1336</td>\n",
              "    </tr>\n",
              "    <tr>\n",
              "      <th>5712</th>\n",
              "      <td>Subject: 2 - survey / information email 5 - 7 ...</td>\n",
              "      <td>0</td>\n",
              "      <td>1589</td>\n",
              "    </tr>\n",
              "    <tr>\n",
              "      <th>5713</th>\n",
              "      <td>Subject: promotion  vince , i want to congratu...</td>\n",
              "      <td>0</td>\n",
              "      <td>487</td>\n",
              "    </tr>\n",
              "    <tr>\n",
              "      <th>5714</th>\n",
              "      <td>Subject: re : petronas benchmarking visit  fyi...</td>\n",
              "      <td>0</td>\n",
              "      <td>822</td>\n",
              "    </tr>\n",
              "    <tr>\n",
              "      <th>5715</th>\n",
              "      <td>Subject: request submitted : access request fo...</td>\n",
              "      <td>0</td>\n",
              "      <td>509</td>\n",
              "    </tr>\n",
              "    <tr>\n",
              "      <th>5716</th>\n",
              "      <td>Subject: * special notification * aurora versi...</td>\n",
              "      <td>0</td>\n",
              "      <td>2469</td>\n",
              "    </tr>\n",
              "    <tr>\n",
              "      <th>5717</th>\n",
              "      <td>Subject: fwd : update  return - path :  receiv...</td>\n",
              "      <td>0</td>\n",
              "      <td>1975</td>\n",
              "    </tr>\n",
              "    <tr>\n",
              "      <th>5718</th>\n",
              "      <td>Subject: altos na gas model  kim , i know you ...</td>\n",
              "      <td>0</td>\n",
              "      <td>1902</td>\n",
              "    </tr>\n",
              "    <tr>\n",
              "      <th>5719</th>\n",
              "      <td>Subject: power market research  i came across ...</td>\n",
              "      <td>0</td>\n",
              "      <td>2360</td>\n",
              "    </tr>\n",
              "    <tr>\n",
              "      <th>5720</th>\n",
              "      <td>Subject: re : visit to houston  fyi  - - - - -...</td>\n",
              "      <td>0</td>\n",
              "      <td>1470</td>\n",
              "    </tr>\n",
              "    <tr>\n",
              "      <th>5721</th>\n",
              "      <td>Subject: ees risk management presentations for...</td>\n",
              "      <td>0</td>\n",
              "      <td>799</td>\n",
              "    </tr>\n",
              "    <tr>\n",
              "      <th>5722</th>\n",
              "      <td>Subject: re : vacation  vince :  i just found ...</td>\n",
              "      <td>0</td>\n",
              "      <td>688</td>\n",
              "    </tr>\n",
              "    <tr>\n",
              "      <th>5723</th>\n",
              "      <td>Subject: re : research and development charges...</td>\n",
              "      <td>0</td>\n",
              "      <td>1189</td>\n",
              "    </tr>\n",
              "    <tr>\n",
              "      <th>5724</th>\n",
              "      <td>Subject: re : receipts from visit  jim ,  than...</td>\n",
              "      <td>0</td>\n",
              "      <td>1167</td>\n",
              "    </tr>\n",
              "    <tr>\n",
              "      <th>5725</th>\n",
              "      <td>Subject: re : enron case study update  wow ! a...</td>\n",
              "      <td>0</td>\n",
              "      <td>2131</td>\n",
              "    </tr>\n",
              "    <tr>\n",
              "      <th>5726</th>\n",
              "      <td>Subject: re : interest  david ,  please , call...</td>\n",
              "      <td>0</td>\n",
              "      <td>1060</td>\n",
              "    </tr>\n",
              "    <tr>\n",
              "      <th>5727</th>\n",
              "      <td>Subject: news : aurora 5 . 2 update  aurora ve...</td>\n",
              "      <td>0</td>\n",
              "      <td>2331</td>\n",
              "    </tr>\n",
              "  </tbody>\n",
              "</table>\n",
              "<p>5728 rows × 3 columns</p>\n",
              "</div>"
            ],
            "text/plain": [
              "                                                   text  spam  length\n",
              "0     Subject: naturally irresistible your corporate...     1    1484\n",
              "1     Subject: the stock trading gunslinger  fanny i...     1     598\n",
              "2     Subject: unbelievable new homes made easy  im ...     1     448\n",
              "3     Subject: 4 color printing special  request add...     1     500\n",
              "4     Subject: do not have money , get software cds ...     1     235\n",
              "5     Subject: great nnews  hello , welcome to medzo...     1     478\n",
              "6     Subject: here ' s a hot play in motion  homela...     1    9340\n",
              "7     Subject: save your money buy getting this thin...     1     446\n",
              "8     Subject: undeliverable : home based business f...     1     507\n",
              "9     Subject: save your money buy getting this thin...     1     446\n",
              "10    Subject: las vegas high rise boom  las vegas i...     1     709\n",
              "11    Subject: save your money buy getting this thin...     1     446\n",
              "12    Subject: brighten those teeth  get your  teeth...     1     879\n",
              "13    Subject: wall street phenomenon reaps rewards ...     1    8196\n",
              "14    Subject: fpa notice : ebay misrepresentation o...     1     684\n",
              "15    Subject: search engine position  be the very f...     1    1000\n",
              "16    Subject: only our software is guaranteed 100 %...     1     215\n",
              "17    Subject: localized software , all languages av...     1     663\n",
              "18    Subject: security alert - confirm your nationa...     1      80\n",
              "19    Subject: 21 st century web specialists jrgbm  ...     1    2560\n",
              "20    Subject: any med for your girl to be happy !  ...     1     349\n",
              "21    Subject: re : wearable electronics  hi my name...     1     649\n",
              "22    Subject: top - level logo and business identit...     1     715\n",
              "23    Subject: your trusted source for prescription ...     1     294\n",
              "24    Subject: rely on us for your online prescripti...     1     350\n",
              "25    Subject: guzzle like a fountain  spur m rocks ...     1     993\n",
              "26    Subject: are you losing ? the answer would ama...     1     936\n",
              "27    Subject: hi  how to save o improper n your med...     1     466\n",
              "28    Subject: 25 mg did thhe trick  ho receivable w...     1     497\n",
              "29    Subject: save your money buy getting this thin...     1     446\n",
              "...                                                 ...   ...     ...\n",
              "5698  Subject: schedule and more . .  dr . kaminski ...     0    1654\n",
              "5699  Subject: re : message from ken rice  vince :  ...     0    1566\n",
              "5700  Subject: re : exploration data as the root of ...     0    1373\n",
              "5701  Subject: rendez - vous reporter : sunday 3 rd ...     0    1295\n",
              "5702  Subject: dr . michelle foss - energy institute...     0    1513\n",
              "5703  Subject: rice / enron finance seminar series  ...     0     742\n",
              "5704  Subject: storage model security  stinson ,  i ...     0     195\n",
              "5705  Subject: re : meeting w kevin hannon  vince an...     0     474\n",
              "5706  Subject: e - mail and voicemail retention poli...     0     733\n",
              "5707  Subject: approval is overdue : access request ...     0     499\n",
              "5708  Subject: re : hi vince  hi jeff ,  no problem ...     0    1079\n",
              "5709  Subject: agenda for larry thorne ' s presentat...     0     321\n",
              "5710  Subject: raptors  here is the most recent vers...     0     104\n",
              "5711  Subject: re : faculty lunch  alison ,  i recom...     0    1336\n",
              "5712  Subject: 2 - survey / information email 5 - 7 ...     0    1589\n",
              "5713  Subject: promotion  vince , i want to congratu...     0     487\n",
              "5714  Subject: re : petronas benchmarking visit  fyi...     0     822\n",
              "5715  Subject: request submitted : access request fo...     0     509\n",
              "5716  Subject: * special notification * aurora versi...     0    2469\n",
              "5717  Subject: fwd : update  return - path :  receiv...     0    1975\n",
              "5718  Subject: altos na gas model  kim , i know you ...     0    1902\n",
              "5719  Subject: power market research  i came across ...     0    2360\n",
              "5720  Subject: re : visit to houston  fyi  - - - - -...     0    1470\n",
              "5721  Subject: ees risk management presentations for...     0     799\n",
              "5722  Subject: re : vacation  vince :  i just found ...     0     688\n",
              "5723  Subject: re : research and development charges...     0    1189\n",
              "5724  Subject: re : receipts from visit  jim ,  than...     0    1167\n",
              "5725  Subject: re : enron case study update  wow ! a...     0    2131\n",
              "5726  Subject: re : interest  david ,  please , call...     0    1060\n",
              "5727  Subject: news : aurora 5 . 2 update  aurora ve...     0    2331\n",
              "\n",
              "[5728 rows x 3 columns]"
            ]
          },
          "metadata": {
            "tags": []
          },
          "execution_count": 11
        }
      ]
    },
    {
      "cell_type": "code",
      "metadata": {
        "id": "OeZyAlhNv7uQ",
        "colab_type": "code",
        "colab": {
          "base_uri": "https://localhost:8080/",
          "height": 286
        },
        "outputId": "1d59fb78-7fb8-4828-8300-0d55c7824011"
      },
      "source": [
        "spam_df['length'].plot(bins=100, kind='hist')"
      ],
      "execution_count": 12,
      "outputs": [
        {
          "output_type": "execute_result",
          "data": {
            "text/plain": [
              "<matplotlib.axes._subplots.AxesSubplot at 0x7f05e2e521d0>"
            ]
          },
          "metadata": {
            "tags": []
          },
          "execution_count": 12
        },
        {
          "output_type": "display_data",
          "data": {
            "image/png": "[encoded data removed]",
            "text/plain": [
              "<Figure size 432x288 with 1 Axes>"
            ]
          },
          "metadata": {
            "tags": []
          }
        }
      ]
    },
    {
      "cell_type": "code",
      "metadata": {
        "id": "yK6kAS7Pv7uW",
        "colab_type": "code",
        "colab": {
          "base_uri": "https://localhost:8080/",
          "height": 170
        },
        "outputId": "16ceafe9-8fe0-48c8-c9f7-4e35a2c63986"
      },
      "source": [
        "spam_df.length.describe()"
      ],
      "execution_count": 13,
      "outputs": [
        {
          "output_type": "execute_result",
          "data": {
            "text/plain": [
              "count     5728.000000\n",
              "mean      1556.768680\n",
              "std       2042.649812\n",
              "min         13.000000\n",
              "25%        508.750000\n",
              "50%        979.000000\n",
              "75%       1894.250000\n",
              "max      43952.000000\n",
              "Name: length, dtype: float64"
            ]
          },
          "metadata": {
            "tags": []
          },
          "execution_count": 13
        }
      ]
    },
    {
      "cell_type": "code",
      "metadata": {
        "id": "RhOQx8Ukv7ud",
        "colab_type": "code",
        "colab": {
          "base_uri": "https://localhost:8080/",
          "height": 54
        },
        "outputId": "5bc4ac0e-8d90-475e-a8cb-65e9008ed33c"
      },
      "source": [
        "# Let's see the longest message 43952\n",
        "spam_df[spam_df['length'] == 43952]['text'].iloc[0]"
      ],
      "execution_count": 14,
      "outputs": [
        {
          "output_type": "execute_result",
          "data": {
            "text/plain": [
              "'Subject: from the enron india newsdesk - april 27 th newsclips  fyi news articles from indian press .  - - - - - - - - - - - - - - - - - - - - - - forwarded by sandeep kohli / enron _ development on 04 / 27 / 2001 08 : 24 am - - - - - - - - - - - - - - - - - - - - - - - - - - -  nikita varma  04 / 27 / 2001 07 : 51 am  to : nikita varma / enron _ development @ enron _ development  cc : ( bcc : sandeep kohli / enron _ development )  subject : from the enron india newsdesk - april 27 th newsclips  friday apr 27 2001 , http : / / www . economictimes . com / today / cmo 3 . htm  dpc board empowers md to cancel mseb contract  friday apr 27 2001 , http : / / www . economictimes . com / today / 27 compl 1 . htm  mseb pays rs 134 cr under \\' protest \\' to dpc  friday , april 27 , 001 , http : / / www . businessstandard . com / today / economy 4 . asp ? menu = 3  enron india md authorised to terminate ppa  friday , april 27 , 2001 , http : / / www . financialexpress . com / fe 20010427 / topl . html  foreign lenders slam brakes on disbursements to dpc , sanjay jog & raghu mohan  global banks comfortable with enron pull - out  friday , april 27 , 2001 , http : / / www . indian - express . com / ie 20010427 / nat 23 . html  enron : dabhol chief gets powers to end deal with the mseb  friday , april 27 , 2001 , http : / / www . the - hindu . com / stories / 0227000 d . htm  offer of renegotiation \\' too late \\' : enron , by mahesh vijapurkar  friday , 27 april 2001 , http : / / www . timesofindia . com / today / 27 home 2 . htm  enron ready to pull out , but lenders say wait  friday , april 27 , 2001 , http : / / www . hindubusinessline . com / stories / 142756 dh . htm  dpc board authorises md to issue ppa termination notice  friday , april 27 , 2001 , http : / / www . dailypioneer . com / secon 2 . asp ? cat = story 7 & d = front _ page  enron testing maharashtra \\' s nerves , t n raghunatha  friday , april 27 , 2001 , http : / / www . telegraphindia . com /  enron signal to switch off dabhol power  friday , april 27 , 2001 , http : / / www . thestatesman . org / page . news . php 3 ? id = 13026 & type = pageone & theme = a  enron threatens to pull out  friday , april 27 , 2001 , http : / / www . chalomumbai . com / asp / article . asp ? cat _ id = 29 & art _ id = 10006 & cat _ code = 2 f 574841545 f 535 f 4 f 4 e 5 f 4 d 554 d 4241492 f 5441415 a 415 f 4 b 4841424152  \\' dpc may not wind up \\'  friday , april 27 , 2001 , http : / / www . chalomumbai . com / asp / article . asp ? cat _ id = 29 & cat _ code = 2 f 574841545 f 535 f 4 f 4 e 5 f 4 d 554 d 4241492 f 5441415 a 415 f 4 b 4841424152 & art _ id = 9953  enron offers \\' no comment \\' on renegotiation , h s rao  http : / / www . afternoondc . com /  \\' enron \\' s on ! \\'  state govt . to renegotiate dabhol power project , by hubert vaz  the economic times , friday apr 27 2001  dpc board empowers md to cancel mseb contract  the enron power project crisis on thursday deepened with the board of dabhol power company authorising the management to issue a termination notice to the maharashtra state electricity board even while international lenders to the project asked enron to renegotiate power purchase agreement signed with the mseb .  the decision to authorise managing director neil mcgregor to issue \" notice of termination on the contract to sell 740 mw of power \" was taken after the board prevented mseb from voting on the ground that it was an interested party . the decision was taken with six votes in favour and the single opposition vote was cast by idbi , sources said .  according to reports , financial institutions such as anz investment bank , credit suisse first boston , citibank , abn - amro and the state bank of india have on wednesday advised enron against terminating its ppa with mseb . mseb chairman vinay bansal , who with two other directors attended the meeting on wednesday representing maharashtra \\' s 15 per cent stake in the near $ 3 - billion project , said : \" the indian side told them that it would be unfortunate if enron broke the contract . \" while bansal declined comment on the board decision , the sources said the indian side had expressed its interest to holds talks on the issue rather than terminating the project and there were possibilities of a fresh power purchase agreement between the company and the state . ( pti )  the economic times , friday apr 27 2001  mseb pays rs 134 cr under \\' protest \\' to dpc  despite the threat of a possible termination notice hanging on its head , maharashtra state electricity board on thursday made a \" protest payment \" of rs 134 crore disputed amount , towards march bill of rs 146 . 64 crore to dabhol . \" we were ready with the payment on wednesday itself , but dpc officials could not collect the cheque due to the statewide bandh \" , a senior mseb official said . \" we have disputed payment of rs 12 . 64 crore and it would be now taken up at the disputes resolution forum , of which enron india managing director k wade cline and krishna rao are members \" , mseb sources said .  last week , dpc had dashed off a communication to the government and mseb that it would not accept \" protest payments \" anymore . cline had said the energy major shall treat such payments as an election to pay the sums , which mseb in fact owed dpc in full and that the company would also not recognise the \" purported protest or reservation \" . mseb had paid a rs 113 . 5 crore february bill in protest last month . on april 23 last , both domestic and international lenders of dpc had met in london and held exhaustive discussions the multinational \\' s move to issue a termination notice to mseb and state government . ( pti )  business standard , friday , april 27 , 001  enron india md authorised to terminate ppa  the board of the enron - promoted dabhol power company ( dpc ) , at its meeting in london on wednesday , authorised the managing director of enron india to issue a notice for terminating the power purchase agreement to the maharashtra state electricity board and the state government . \" the board has authorised wade cline to serve the termination notice . however , this does not mean that the termination notice will be served immediately . it is only an enabling provision and will be used only if the situation arises , \" a state government source told business standard from london . he said dpc was under pressure from its lenders .  the dpc spokesperson here refused to comment on the issue . the hardening of the board \\' s stand is in sharp contrast to the advice of dpc \\' s lenders , who had warned enron not to precipitate matters by issuing a termination notice . the lenders had arrived at a consensus that the termination notice need not be served at this stage . serving of the notice requires a nod from the lenders , who have an exposure of about $ 2 billion in the project . sources said given the lenders \\' strong opposition to termination of the contract , the enron board \\' s \" enabling resolution \" did not have much significance beyond conveying a hardening of its stand with regard to the current imbroglio . the maharashtra chief minister had warned enron not to scuttle the process of crisis resolution by issuing a termination notice . the state government is to nominate an expert group to renegotiate the terms of the dabhol contract .  enron holds 65 per cent in dpc , while us - based ge and bechtel hold 10 per cent each . the balance 15 per cent is held by mseb through a special purpose vehicle , maharashtra power development corporation . the mseb representatives were not allowed to vote at the meeting since they were an interested party . the idbi representative protested against the board \\' s decision . the meeting was attended by state energy secretary vm lal . the meeting was held against the backdrop of a dispute between mseb and dpc over payment of bills .  after mseb failed to pay rs 102 crore towards the december 2000 bill , dpc invoked the state government \\' s guarantee and then the union government \\' s counter guarantee . when payment of the rs 127 - crore january bill became overdue , dpc again invoked the state government \\' s guarantee . mseb retaliated on january 28 , 2001 by slapping a rs 401 - crore penalty for non - supply of electricity at adequate levels . it demanded that dpc adjust the bills against this penalty . \" this stand of mseb was explained to dpc at the board meeting \" , a state government official said . the centre also supported mseb \\' s stand and refused to honour the counter guarantee . the power company then invoked the political force majeure clause . a process of conciliation and arbitration between the centre and dpc is currently on .  the financial express , friday , april 27 , 2001  foreign lenders slam brakes on disbursements to dpc , sanjay jog & raghu mohan  global banks comfortable with enron pull - out  lenders to the dabhol power company ( dpc ) are a sharply divided lot . international lenders , in direct contrast to the stand taken by local ones led by the the industrial develoment bank of india ( idbi ) , are categorical that additional assistance to dpc \\' s phase - ii will be held in abeyance despite the completion of 92 per cent of the project work . the stage is also set for a preliminary termination notice to be served by dpc to the maharashtra state electricity board ( mseb ) within the next four weeks . this follows the authorisation given to enron india \\' s managing director k wade cline and dpc president & ceo neil mcgregor to serve the termination notice , and transfer notices to mseb , following wednesday \\' s dpc board meeting in london .  the essence of the message from the international lenders following the london meeting with dpc board is : emotions do not work . contractual obligations and payments have to be met . we are convinced that the mseb has failed to meet its obligations . there is no point in enron continuing with the project and the company should get out of it . the structuring of dpc \\' s debt has created two classes of lenders . in phase - i , international lenders are covered by a sovereign guarantee while in phase - ii , no lender is . however , all lenders have a parri passu charge , making attachment of assets a messy affair .  sources in international banks were quick to point out that local lenders to phase - ii of the project are worried that an awry dpc project will affect their interests more given that they have no security - other than assets - like a sovereign cover . \" it was this desperation that made local lenders like idbi slash the interest rates a few months back to 16 . 5 per cent from 21 . 5 per cent , \" a leading foreign banker pointed out . three points that were made clear and stressed in no uncertain terms by international lenders were : a ) there are contractual obligations b ) mseb was not punctual in its payments to dpc and c ) mseb adopted a confrontational position by slapping a rs 401 crore rebate charge on dpc for misdeclaration and default on the availability of power .  while local lenders led by idbi - with mseb parroting the same - were of the view that the current situation is a temporary one , international lenders were steadfast that pulling out of the project is the only way out . this is despite the stance taken by idbi and mseb that authorisation for termination given to mr cline and mr mcgregor was not called for . international bankers pointed out that they will now have to look at the issue of charges and protection for their loans in the event of the power project being scrapped in its present form . the points of contention are : a ) that phase - i of dpc is backed by a sovereign guarantee b ) phase - ii is not and c ) to the extent that phase - ii is covered by assets , cancellation of phase - ii may see all assets - even those under phase - i - getting attached . therefore , an examination on the segregation of assets under phase - i and phase - ii is now warranted .  pti adds : in a significant move , dpc board has empowered its management to sever power supply agreement with mseb , a move that could inflict a financial liability of about rs 2840 crore on the centre . a decision to authorise dpc president neil mcgregor to issue a termination notice to mseb for sale of power was taken by the board at its meeting on wednesday .  the indian express , friday , april 27 , 2001  enron : dabhol chief gets powers to end deal with the mseb  the board of dabhol power company , a subsidiary of houston - based enron corp , has decided to warn the maharashtra state electricity board ( mseb ) that it intends to pull the plug on its guhagar - based project . in a board meeting held in london on wednesday , the board decided to authorise dpc president and ceo neil mcgregor and enron india \\' s managing director k wade cline to serve a \\' \\' preliminary \\' \\' termination notice for sale of power to the mseb within the next four weeks . the dabhol project has been mired in disputes since mseb began missing payments last year . mseb owes dabhol power $ 48 million for power delivered in december and january . the payment ran into a dispute after mseb slapped penalty notices of rs 401 crore on dpc for its failure to supply power within three hours of the demand being placed . but mseb has paid $ 24 million for february . and a payment of $ 31 million was made for march on thursday .  the $ 3 billion dabhol project is the largest foreign investment made in india to date . issuing the preliminary termination notice could enable dabhol to suspend deliveries as it negotiates payment disputes . while a preliminary termination notice is the first of three steps that could potentially lead to the abandonment of the project by enron , analysts have described the decision as a \\' \\' procedural \\' \\' move consistent with dpc \\' s negotiating strategy to recover overdue payments from the mseb .  after the company issues the preliminary termination notice , step two would be an official termination notice , and step three would be a notice that the company is surrendering control of the project . if the project is terminated , the government of india will have to take a hit of $ 300 million besides paying bills of rs 1 , 500 crore for the next one year to enron as penalty . \\' \\' our ( centre \\' s ) liability , if dabhol power project is terminated , would be one year \\' s electricity bill and a termination fee of $ 300 million , \\' \\' power secretary a k basu said . \\' \\' contractually , the centre will have to pay one year \\' s electricity bill , totalling at present prices about rs 1 , 400 - 1 , 500 crore , and take over dpc \\' s debt , which stands at around $ 300 million , if the project was terminated , \\' \\' basu said in delhi . dabhol power is in the process of completing the second phase of the 2 , 184 - megawatt power - plant project , which is 95 per cent through .  while the international lenders to the project are pressurising the company to get out of the project , indian lenders , led by idbi , are asking the company to reconsider its decision on its termination notice . during the meeting in london , mseb which holds a 15 per cent stake in the project , had strongly opposed dpc \\' s move to authorise cline and mcgregor to issue notices for termination .  mseb chairman vinay bansal and technical director prem paunikar - both directors on the dpc board - and the state principal secretary ( energy ) vm lal , an invitee to the board , raised the issue at the board meeting in london . mseb claimed that dpc was needlessly \\' \\' threatening \\' \\' to issue various arbitration notices and thereby interpreting the clauses of ppa in isolation . in recent weeks , dabhol has raised the stakes in its spat with the mseb , delivering a notice of political force majeure to maharashtra - a step typically invoked to dissolve a contract in case of an emergency like a war , coup , or a similar radical political event . in this case , dpc \\' s move was viewed as a threat to stop providing electricity . dpc has come under fire because of the relatively high cost of its power . critics object to the company charging rs 7 . 1 a kilowatt - hour for its power , compared with around rs 1 . 5 a kilowatt - hour charged by other suppliers .  the hindu , friday , april 27 , 2001  offer of renegotiation \\' too late \\' : enron , by mahesh vijapurkar  mumbai , april 26 . the enron - sponsored dabhol power company , which last night authorised its local management to issue a notice of termination of its power purchase agreement ( ppa ) with the maharashtra state electricity board , has decided to keep a stiff upper lip . this , in turn , has stoked speculation that the switching off of power from its phase i plant was imminent , while in reality , a lengthy procedure has to be followed as prescribed within the ppa .  as one source familiar with the ppa told the hindu , ` ` it is not sudden death of the project \\' \\' and in all probability , the dpc , vexed with the developments , including sharp and pointed observations by the godbole committee , has chosen to only arm itself with a serious option . ` ` this would only eventually come into effect . it is not an overnight operation and a lot of legal work is involved \\' \\' . apparently , the dpc intends to do some arm - twisting .  at the board of directors meeting in london , which maharashtra was initially disinclined to attend but later used the forum to put across its contentions on the project , the dpc squarely told the mseb nominees on the board that the offer of renegotiation had come rather ` ` too late \\' \\' . it also said it did not see any room for optimism about the outcome . it did not , however , rule out the option of talks , thus underscoring the possibility that the decision to authorise termination was a new weapon .  the maharashtra chief minister , mr . vilasrao deshmukh , had hoped that dpc would not take any ` ` harsh step \\' \\' which would cause lot of damage to the interests of both the independent power producer and the government and today he expressed his dismay . in fact , the mandate of the team that went , on the strength of its stake in the dpc , was to put across the idea that negotiation was the requirement and not confrontation .  echo in ls  the enron issue also echoed in the lok sabha today where the power minister , mr . suresh prabhu , said that scrapping of the agreement would cost the centre rs . 2 , 840 crores , whose liability in the project agreement was limited . the centre \\' s liability in case of termination is one year \\' s electricity bill and a termination fee of $ 300 million .  blow to fis  the termination could prove to be a serious blow to the indian financial institutions ( fis ) which , under the leadership of the idbi , were trying to convince the other lenders of the project against the notice . the exposure of indian fis in the project is understood to be not covered by any guarantee either of the centre or the state .  the times of india , friday , 27 april 2001  enron ready to pull out , but lenders say wait  the dabhol power company board , which met on wednesday in london , authorised the company management to issue a termination notice to the maharashtra state electricity board . the company , however , may not pull out of the project yet , considering its lenders , who met on monday , opposed such a move and favoured renegotiations . sources present during both the meetings said that though foreign lenders supported enron on the termination issue , domestic financial institutions , led by the industrial development bank of india , prevailed over the deliberations to oppose any such drastic move . enron needs the lenders \\' consent to file a pre - termination notice for pulling out from the project . the decision to empower dpc chief wade cline to issue a termination notice was taken with six votes in favour against a single idbi vote against such a move .  another significant development during the entire proceedings was that the financial institutions made it clear that further funding of phase ii of the project will depend on the government of india assuring payment mechanisms . institutions are yet to disburse about 30 per cent of the sanctioned package , which is crucial for completing the phase ii expansion project . ` ` the board has given powers to wade cline to issue a pre - termination notice . but the meeting quite unanimously felt the need of the hour is not to terminate the project but to initiate serious re - negotiation proceedings , \\' \\' said mseb chairman vinay bansal , who attended the board meeting . ` ` mseb presented their views to the board members and it was understood by enron which also included the rs 401 crore penalty issue which is heading for arbitration proceedings . ` ` we have also made it clear that the tariff structure of enron is quite high and a downward revision of tariffs is unavoidable , \" bansal added .  ` ` they cannot issue a termination notice without our consent since our exposure in the project is quite large and the lenders should approve any plans in that direction , \\' \\' said a top banker who was present during the lenders \\' meet . ` ` there is a general consensus that the project must be completed and the proposal to terminate the ppa should be kept in abeyance , \\' \\' he added . the global arrangers for the dpc include anz investment bank , credit suisse first boston , abn - amro , citibank and the state bank of india , where all these parties conducted separate meetings with the company officials . however , some bankers said the company can file a termination notice even if one lender with a minimum 5 per cent exposure on the project favours such proceedings .  meanwhile , in a clear reversal of roles , maharashtra chief minister vilasrao deshmukh said that the state government was not keen on terminating the ppa . ` ` we will ask them to refrain from taking any such harsh steps since that would be bad news for all of us , including dpc , \\' \\' deshmukh said . deshmukh was echoing union power minister suresh prabhu \\' s sentiments , who said that the government wanted an amicable settlement of the payment row . he , however , added that termination of the project would not hurt foreign investments , and dismissed warnings by analysts that winding up the $ 2 . 9 billion project would be a blow to india \\' s efforts to woo foreign investors .  the dpc has already slapped one conciliation notice on the centre and three arbitration notices on the state government over non - payment of dues amounting to rs 213 crore and interest towards the bills due for december 2000 and january 2001 . meanwhile , mseb officials said in mumbai that the march bills amounting to rs 134 crore was paid on thursday as protest payment , despite the dispute over the amount .  when asked on the future course of action , bansal said it was up to the dpc .  the hindu businessline , friday , april 27 , 2001  dpc board authorises md to issue ppa termination notice  the board of directors of dabhol power company ( dpc ) has authorised the managing director , mr neil mcgregor , to issue the notice of intent to terminate its power purchase agreement ( ppa ) with the maharashtra state electricity board ( mseb ) ` ` at an appropriate time \\' \\' . the decision was taken at a board meeting held in london yesterday . ` ` while mseb , which is an ` interested party \\' , was not allowed to vote , it made a presentation clarifying its stand on the matter , \\' \\' a senior state government official said .  the resolution to authorise the management to issue the termination notice was carried by six votes to one . idbi voted against the decision , the official said . the serving of the preliminary termination notice will lead to a six - month ` ` suspension period \\' \\' . according to clause 17 . 8 of the termination procedure , of the ppa : ` ` following the giving of a preliminary termination notice , the parties shall consult for a period of six months ( or such longer period as they may agree ) as to what step shall be taken with a view to mitigating the consequences of the relevant event having regard to all the circumstances . . . \\' \\'  idbi and state bank of india , the principal indian lenders , had earlier persuaded the overseas lenders to hold their consent to the termination notice for some more time . at least one lender has to consent for the company to serve termination notice . it is understood that overseas lenders are in favour of termination of the project and are prepared to consent . however , domestic lenders are worried about the security of their advances if the ppa is abandoned mid - way .  according to institutional sources , indian lenders are trying to get all the parties concerned to thrash out outstanding issues . the maharashtra and central governments too are in favour of a conciliation . mr vilasrao deshmukh , chief minister of maharashtra , yesterday went on record that the state did not want the project terminated . mr yashwant sinha , union finance minister , is also understood to be of the same opinion . ` ` the dpc will now have to decide what is the ` appropriate time \\' to serve the notice , \\' \\' the official said . mseb pays rs 134 crore : meanwhile , mseb has paid dpc rs 134 crore towards its march 2001 bill . mseb officials confirmed that the bill was paid ` in protest \\' \\' today morning . ` ` they ( dpc ) had billed us for an amount of rs 146 crore . we do not agree with some of the items included , \\' \\' a senior mseb official said .  the pioneer , friday , april 27 , 2001  enron testing maharashtra \\' s nerves , t n raghunatha  dabhol power company ( dpc ) has begun to put fresh pressure on the maharashtra state electricity board ( mseb ) , the maharashtra state government and the centre for an early resolution to the prolonged dispute between them , if the dpc board of directors \\' decision to authorise its managing director to serve a contract termination notice to the mseb is any indication .  the dpc board , in its meeting in london on wednesday , empowered the company management to sever its power supply agreement with mseb , a move that could inflict a financial liability of rs 2 , 840 crore on the centre . the decision to authorise the dpc management to issue a termination notice to mseb was taken by a vote of six to one after the maharasthra government representatives were prevented from voting on the ground of \" interested party \" .  when contacted , the company \\' s mumbai - based spokesperson , mr jimmy mogal , declined to comment on the reports about the decision taken by the dpc board . \" we have nothing to say on the reports emanating from london . we will express our views after a few days , \" he said . however , maharashtra chief minister vilasrao deshmukh on thursday termed the dpc board \\' s decision as \" unfortunate \" . \" we have already requested the company not to take any harsh decision \" , mr deshmukh said in mumbai .  official sources in the state energy ministry interpreted the dpc board \\' s decision as a pressure tactic employed by the enron subsidiary to force the mseb to clear the pending power bills without any further delay . through its tough posture , the dpc wants to make its position stronger before it can formally agree for re - negotiations with the mseb , the centre and the state government for cutting the price of power supplied by it to the state electricity board . the sources said that the dpc \\' s reported decision to authorise its managing director to stop electricity supply to the mseb did not mean that the enron subsidiary would actually go ahead with the scrapping of the power contract with the mseb .  \" if anything , the dpc \\' s reported decision is to mount additional pressure on the mseb for clearance of pending power bills and put itself in a stronger position in settling its dispute with the mseb . as part of its plan to arm itself with powers to break a contract in case situation goes beyond its control , the dpc had recently served a political force majeure to the mseb , the centre and the state government , \" the sources said . not surprisingly , the dpc \\' s london decision comes on the heels of the maharashtra government \\' s decision to set up a high - level committee , comprising representatives of the mseb , the centre and the state government to re - negotiate with the enron \\' s subsidiary company for reducing the cost of power supplied to the state electricity board . meanwhile , amidst the threat of a possible termination notice hanging on its head , the mseb on thursday made a \" protest payment \" of the rs 134 crore disputed amount towards march bill of rs 146 . 64 crore to dpc .  riday , april 27  the telegraph , friday , april 27 , 2001  enron signal to switch off dabhol power  enron today took the first decisive step out of the controversy - ridden dabhol power company when it won an authorisation from the company \\' s board to stop sale of power to maharashtra state electricity board ( mseb ) .  the meeting of the company , of which the houston - based energy giant holds 65 per cent and the mseb 15 per cent , was attended by state energy secretary v m lal and mseb technical director p paunikar and it came days after its lenders discussed payment problems and a possible termination . the centre \\' s liability , if enron decides to snap the agreement , will be a year \\' s power bill and a termination fee of $ 300 million . however , the company will have to wait for six months from the day it serves the notice before it pulls the plug . the centre shrugged off the move , saying there would not be any adverse effect on foreign investment in power if enron walks out . \" we do not see fdi inflows into the power sector being hit , \" power minister suresh prabhu said . mseb officials said the ball is now in the court of dpc , which said its corporate policy did not allow it to comment on proceedings at board meetings . the decision coincided with a rs 134 - crore \\' protest payment \\' by the cash - strapped power board as part of the march bill worth rs 146 . 64 crore .  there was speculation that mseb coughed up the amount to cool frayed tempers at enron \\' s hub in houston , and because it was rattled by the sudden turn of events in the past few days during which the dispute had come to a head . mseb officials brushed away the allusions , saying the cheque was ready on wednesday but could not be handed over to dpc because of the state - wide bandh . \" we have a disputed payment of rs 12 . 64 crore , which will be taken up at the dispute - resolution forum , \" a board official said . last week , dpc told the state government and mseb it would no longer accept protest payments in a move to fortify its legal position .  mseb officials say bechtel and general electric , the other partners who hold around 20 per cent in dpc , are willing to go along with enron corp in terminating the deal but financial institutions such as idbi are not game because it puts their loans at risk . investments made by indian institutions are not covered under the centre \\' s and state \\' s counter - guarantees , unlike those made by international lenders . maharashtra chief minister vilasrao deshmukh called enron \\' s decision unfortunate . \" we had told state government officials attending the enron board meeting to stop the company from winding up its operations in the state as it will harm both parties . \"  the statesman , friday , april 27 , 2001  enron threatens to pull out  the enron crisis deepened with the board of directors of the dabhol power company deciding to authorise the managing director , mr k wade cline , to serve a notice of termination on the contract for the first phase of the $ 2 . 9 billion power project . the decision , which could lead to the cessation of dabhol \\' s power supply to the state , was taken at the meeting held yesterday in london according to reports quoting the chairman of the maharashtra state electricity board , mr vinay bansal .  while dpc officials refuse to comment on anything , it is learnt that mseb was itself prepared to serve a legal notice of termination just two days before the meeting . mseb was said to have been dissuaded by the nationalist congress party president , mr sharad pawar , and union power minister mr suresh prabhu , who had talks in new delhi with the maharashtra chief minister , mr vilasrao deshmukh , and an mseb delegation last monday .  the state government has been served two arbitration notices while the centre is ready to go for conciliation with the dpc for failing to honour its counter - guarantee . further , the dpc has already slapped a notice of political force majeure which protects itself against undeserved claims in the event of exigencies that force it to take an extreme step . the union power minister , mr suresh prabhu , contended in delhi that since dpc contributed only 0 . 7 per cent of the total energy output of the country , its termination would not have such a phenomenal impact on the power situation .  however , if terminations proceedings go through , enron corp , a 65 per cent share - holder in the dabhol power company , would stand to net a hefty amount in damages . the union power secretary has been quoted as saying that termination of the dpc would cost the centre rs 1 , 800 crore , which is the total of one years \\' electricity bill and a termination fee of $ 300 million . according to an energy analyst , mr pradyumna kaul , the total liability would not cross rs 350 crore . however mr prabhu said in the lok sabha today that the that scrapping of the agreement would cost the centre rs 2 , 840 crore . it is learnt that on 20 april , mr deshmukh had given the go - ahead to the mseb to prepare a legal notice to be issued to enron during the meeting of the dpc \\' s board of directors on wednesday . at the meeting , the energy minister , padamsinh patil , energy secretary , mr vinay mohan lal and mseb chairman mr vinay bansal , were also present . the notice was prepared over the past weekend and taken by the delegation when they called on mr prabhu on 24 april . however , the politicians convinced them that enron would not get tough , given its huge stake in the project , and that such a notice would not be necessary . the meeting thus ended with the decision to renegotiate the power tariff , with enron \\' s consent .  among those present at the london meeting were mr lal , mr bansal and mseb technical director , mr p paunikar , in their capacity as directors . however , they abstained from voting since they were deemed an interested party . the only vote to go against the decision was that of the idbi which is also represented on the board , it is learnt . the chief minister , mr vilasrao deshmukh , said the state was not in favour of terminating the project . this could mean that the latest manoeuvre to arm - twist the indian authorities could achieve its immediate target of getting the arrears accumulated over the past three months cleared . the mseb owes enron rs 146 . 64 crore for march 2001 and rs 229 crore for december 2000 and january 2001 . the centre today put up a brave face on enron \\' s decision saying there would not be any adverse effect on foreign investment in power sector in the country , pti reported from new delhi .  \" there will be no adverse impact as a result of any action by any domestic or foreign company . as far as we are concerned there will be no adverse impact on fdi in power sector , \" power minister suresh prabhu told reporters when asked about dpc \\' s decision to authorise management to issue a termination notice to mseb . emphasising that there would be no fallout of such decision , prabhu said after the meeting of the cabinet committee on economic affairs \" we are expecting cooperation from many scandinavian countries as well as european nations in the power sector . \" in fact not only the power minister but also the prime minister of norway was here to inaugurate a seminar on power and he promised lot of cooperation in the sector . \"  mid day  \\' dpc may not wind up \\'  maharashtra chief secretary v ranganathan has said that though neil mcgregor , managing director of the dabhol power corporation ( dpc ) , has been given complete powers with regard to dpc \\' s operations in the state , including the authority to wind up operations , it does not necessarily mean that mcgregor will issue such a termination notice . mcgregor was given the powers at a meeting of the dpc board in london on wednesday . ranganathan said that state officials , including maharashtra state electricity board ( mseb ) chairman vinay bansal and power secretary v m lal , have reported back to him about the meeting in london .  with regard to the state \\' s failure to pay enron , ranganathan said , \" bills are prepared as per the power purchase agreement ( ppa ) and dpc owes some money to us . our people informed enron officials about this . . in fact , there was no reason to give powers to the md to slap a termination notice . \" in the london meeting , mseb and industrial development bank of india ( idbi ) representatives insisted that the dpc must pay rs 411 crore since it could not supply power whenever needed .  chief minister vilasrao deshmukh has already termed as unfortunate the decision of the board of the enron - promoted dpc to give mcgregor powers to wind up operations . deshmukh added , \" we have already requested enron not to take any harsh decision . \" deshmukh had earlier said , \" we have directed state government officials attending the dpc board meeting to desist the energy company from winding up operations in the state , as it would be harmful to both of us . \"  enron officials are keeping mum on the issue . mcgregor said , \" i am not going to give any comment . \"  mid day , april 27 , 2001  enron offers \\' no comment \\' on renegotiation , h s rao  a crucial meeting of the board of directors of the dabhol power company ( dpc ) , promoted by the us energy major enron , was held here yesterday apparently to discuss fate of its $ 900 - million power project in maharashtra , but there was no official word on the indian and state governments \\' decision to renegotiate the contract .  an enron spokesman declined to divulge what transpired at the meeting , saying the issues discussed at the meeting were \\' confidential \\' . \" we have not received any direct communication . unless we get it and evaluate the details , we have no comments to make , \" the spokesman said when asked about the proposed decision on re - negotiation of the project in which the maharashtra state electricity board ( mseb ) has 15 per cent stake .  asked whether the board had taken a decision on empowering dpc managing director neil mcgregor to wind up its operations in india , the spokesman said he had nothing to say on them . enron has reportedly authorised mcgregor to look at various options including selling the company \\' s stake in dpc . maharashtra chief minister vilasrao deshmukh said in mumbai that the state government would pay up the undisputed dues to the company . he said the maharashtra government \" is not in favour of terminating the 2184 - mw project , but wanted an amicable solution to the imbroglio . \"  mid day , friday , april 27 , 2001 ,  committee to renegotiate enron deal  a committee to renegotiate the power purchase agreement with the dabhol power company will be appointed by this evening , chief minister vilasrao deshmukh said today . addressing media persons after his meeting with the noted social reformer anna hazare at his official residence varsha , deshmukh said the committee would be formed by this evening or by tomorrow , at the most . he termed as unfortunate the enron board decision empowering dpc chief neil mcgregor to serve a preliminary termination notice on the maharashtra state electricity board and said the state was willing to negotiate the issue with power company .  \" renegotiations will be held as per the suggestions made by the godbole committee and the center will also depute its representative on the renegotiating committee . we don \\' t want to take any hasty decision , \" deshmukh saidhe pointed that the only bone of contention with the dpc had been its expensive tariff and hoped that the issue would be resolved amicably . when pointed that the enron board had taken a decision to serve the notice despite state \\x19 s willingness to appoint a renegotiating committee , chief minister said it was unfortunate .  earlier , in his meeting with hazare , deshmukh promised to make necessary amendments to the right to information law recently passed by the state so that the information was easily accessed by the common people . he also gave a patient hearing to hazare on his complaints of corruption in various state departments and promised action against guilty after a thorough inquiry within three months .  afternoon , april 27 , 2001  \\' enron \\' s on ! \\'  state govt . to renegotiate dabhol power project , by hubert vaz  the us power giant , enron power corporation \\' s willingness to wrap up the dabhol power project and leave the shores may not actually materialise , though the dabhol power company chief , mr . wade cline , has been authorised to do so , since the lenders for the project would have a decisive say in the matter .  disclosing this , chief minister vilasrao deshmukh confirmed this morning that the state government would churn out a compromise formula by which the power project at dabhol could be continued , and at the same time enron did not feel slighted . \" enron has not yet conveyed to us about this decision . we are waiting for their letter , \" he said . when asked what sort of compromise the state government plans to forge , mr . deshmukh said , \" let our officers come back . after that we will decide a future course of action . but we are definitely going in for renegotiation of the project . it is very difficult to predict the outcome of enron \\' s decision but as of now the project is still on . \" when asked whether the project could be moved to another state , if wound up from maharashtra , mr . deshmukh said , that was not possible as per the terms of the agreement between the us company and the state government . however , it was difficult for the project to move out of the state itself , he indicated . he also confirmed that both parties would face considerable losses if the project was terminated .  the board of directors of the dabhol power company , which met in london on wednesday , decided to put an end to all controversies surrounding the project once and for all by empowering the dpc chief to terminate the project , if he deemed it fit . however , this decision , as of now , does not necessarily indicate the death knell for the project . the enron project , which had been riddled with controversies right from its inception , had been a pretext for the political parties in the state to drag each other on the mat from time to time . the previous sena - bjp government , which had been out to terminate the project , however , chose to continue with it following renegotiations with enron \\' s top visiting officials like ms . rebecca mark . and , the democratic front government inherited the controversial project when the governments changed hands a year and a half ago .  meanwhile , state energy minister dr . padamsinh patil , when contacted at the osmanabad circuit house , said the state government and the central government have decided to appoint a joint committee to renegotiate the project with enron . \" it is not easy for them to walk out of the project just like that . they will have to go in for litigation and this would prove costly for both sides , \" he said . in case the project is terminated , the government can still manage the power needs of the state , though it would be a bit tough job , he added .'"
            ]
          },
          "metadata": {
            "tags": []
          },
          "execution_count": 14
        }
      ]
    },
    {
      "cell_type": "code",
      "metadata": {
        "id": "NloS8P-Kv7ui",
        "colab_type": "code",
        "colab": {}
      },
      "source": [
        "# Let's divide the messages into spam and ham"
      ],
      "execution_count": 0,
      "outputs": []
    },
    {
      "cell_type": "code",
      "metadata": {
        "id": "Gl0_glsOv7uo",
        "colab_type": "code",
        "colab": {}
      },
      "source": [
        "ham = spam_df[spam_df['spam']==0]"
      ],
      "execution_count": 0,
      "outputs": []
    },
    {
      "cell_type": "code",
      "metadata": {
        "id": "zai2whxNv7us",
        "colab_type": "code",
        "colab": {}
      },
      "source": [
        "spam = spam_df[spam_df['spam']==1]"
      ],
      "execution_count": 0,
      "outputs": []
    },
    {
      "cell_type": "code",
      "metadata": {
        "scrolled": true,
        "id": "9cIZuQmpv7uv",
        "colab_type": "code",
        "colab": {
          "base_uri": "https://localhost:8080/",
          "height": 1000
        },
        "outputId": "825a3ea9-ae72-4561-d4db-39527965d33c"
      },
      "source": [
        "ham"
      ],
      "execution_count": 17,
      "outputs": [
        {
          "output_type": "execute_result",
          "data": {
            "text/html": [
              "<div>\n",
              "<style scoped>\n",
              "    .dataframe tbody tr th:only-of-type {\n",
              "        vertical-align: middle;\n",
              "    }\n",
              "\n",
              "    .dataframe tbody tr th {\n",
              "        vertical-align: top;\n",
              "    }\n",
              "\n",
              "    .dataframe thead th {\n",
              "        text-align: right;\n",
              "    }\n",
              "</style>\n",
              "<table border=\"1\" class=\"dataframe\">\n",
              "  <thead>\n",
              "    <tr style=\"text-align: right;\">\n",
              "      <th></th>\n",
              "      <th>text</th>\n",
              "      <th>spam</th>\n",
              "      <th>length</th>\n",
              "    </tr>\n",
              "  </thead>\n",
              "  <tbody>\n",
              "    <tr>\n",
              "      <th>1368</th>\n",
              "      <td>Subject: hello guys ,  i ' m \" bugging you \" f...</td>\n",
              "      <td>0</td>\n",
              "      <td>1188</td>\n",
              "    </tr>\n",
              "    <tr>\n",
              "      <th>1369</th>\n",
              "      <td>Subject: sacramento weather station  fyi  - - ...</td>\n",
              "      <td>0</td>\n",
              "      <td>1997</td>\n",
              "    </tr>\n",
              "    <tr>\n",
              "      <th>1370</th>\n",
              "      <td>Subject: from the enron india newsdesk - jan 1...</td>\n",
              "      <td>0</td>\n",
              "      <td>7902</td>\n",
              "    </tr>\n",
              "    <tr>\n",
              "      <th>1371</th>\n",
              "      <td>Subject: re : powerisk 2001 - your invitation ...</td>\n",
              "      <td>0</td>\n",
              "      <td>3644</td>\n",
              "    </tr>\n",
              "    <tr>\n",
              "      <th>1372</th>\n",
              "      <td>Subject: re : resco database and customer capt...</td>\n",
              "      <td>0</td>\n",
              "      <td>5535</td>\n",
              "    </tr>\n",
              "    <tr>\n",
              "      <th>1373</th>\n",
              "      <td>Subject: ben zhang  any suggestions ?  - g  - ...</td>\n",
              "      <td>0</td>\n",
              "      <td>1559</td>\n",
              "    </tr>\n",
              "    <tr>\n",
              "      <th>1374</th>\n",
              "      <td>Subject: manoj gupta - interview schedule  att...</td>\n",
              "      <td>0</td>\n",
              "      <td>349</td>\n",
              "    </tr>\n",
              "    <tr>\n",
              "      <th>1375</th>\n",
              "      <td>Subject: re : hello from vince kaminski at enr...</td>\n",
              "      <td>0</td>\n",
              "      <td>6751</td>\n",
              "    </tr>\n",
              "    <tr>\n",
              "      <th>1376</th>\n",
              "      <td>Subject: candlestick charts  fyi fallout  - - ...</td>\n",
              "      <td>0</td>\n",
              "      <td>1196</td>\n",
              "    </tr>\n",
              "    <tr>\n",
              "      <th>1377</th>\n",
              "      <td>Subject: faculty information sheet  mr . kamin...</td>\n",
              "      <td>0</td>\n",
              "      <td>1395</td>\n",
              "    </tr>\n",
              "    <tr>\n",
              "      <th>1378</th>\n",
              "      <td>Subject: re : interview schedule change for br...</td>\n",
              "      <td>0</td>\n",
              "      <td>2009</td>\n",
              "    </tr>\n",
              "    <tr>\n",
              "      <th>1379</th>\n",
              "      <td>Subject: re : bei enron  gordian kemen on 03 /...</td>\n",
              "      <td>0</td>\n",
              "      <td>593</td>\n",
              "    </tr>\n",
              "    <tr>\n",
              "      <th>1380</th>\n",
              "      <td>Subject: from the enron india newsdesk - april...</td>\n",
              "      <td>0</td>\n",
              "      <td>43937</td>\n",
              "    </tr>\n",
              "    <tr>\n",
              "      <th>1381</th>\n",
              "      <td>Subject: tuesday morning meeting first thing ?...</td>\n",
              "      <td>0</td>\n",
              "      <td>401</td>\n",
              "    </tr>\n",
              "    <tr>\n",
              "      <th>1382</th>\n",
              "      <td>Subject: re : transition to research group - a...</td>\n",
              "      <td>0</td>\n",
              "      <td>6303</td>\n",
              "    </tr>\n",
              "    <tr>\n",
              "      <th>1383</th>\n",
              "      <td>Subject: status  stinson ,  as you requested ,...</td>\n",
              "      <td>0</td>\n",
              "      <td>1449</td>\n",
              "    </tr>\n",
              "    <tr>\n",
              "      <th>1384</th>\n",
              "      <td>Subject: re : garp credit derivatives discussi...</td>\n",
              "      <td>0</td>\n",
              "      <td>605</td>\n",
              "    </tr>\n",
              "    <tr>\n",
              "      <th>1385</th>\n",
              "      <td>Subject: trading limit and policy changes  vin...</td>\n",
              "      <td>0</td>\n",
              "      <td>203</td>\n",
              "    </tr>\n",
              "    <tr>\n",
              "      <th>1386</th>\n",
              "      <td>Subject: it purchasing process  as you all may...</td>\n",
              "      <td>0</td>\n",
              "      <td>733</td>\n",
              "    </tr>\n",
              "    <tr>\n",
              "      <th>1387</th>\n",
              "      <td>Subject: alliance ferc alert - regional market...</td>\n",
              "      <td>0</td>\n",
              "      <td>848</td>\n",
              "    </tr>\n",
              "    <tr>\n",
              "      <th>1388</th>\n",
              "      <td>Subject: t . v .  we are in need of a 9 inch t...</td>\n",
              "      <td>0</td>\n",
              "      <td>270</td>\n",
              "    </tr>\n",
              "    <tr>\n",
              "      <th>1389</th>\n",
              "      <td>Subject: ljm update  vince / stinson :  i just...</td>\n",
              "      <td>0</td>\n",
              "      <td>661</td>\n",
              "    </tr>\n",
              "    <tr>\n",
              "      <th>1390</th>\n",
              "      <td>Subject: visiting enron may 4 th  dear vince ,...</td>\n",
              "      <td>0</td>\n",
              "      <td>2881</td>\n",
              "    </tr>\n",
              "    <tr>\n",
              "      <th>1391</th>\n",
              "      <td>Subject: re : update / event time change  this...</td>\n",
              "      <td>0</td>\n",
              "      <td>4209</td>\n",
              "    </tr>\n",
              "    <tr>\n",
              "      <th>1392</th>\n",
              "      <td>Subject: re : a / a program question  gwyn :  ...</td>\n",
              "      <td>0</td>\n",
              "      <td>3238</td>\n",
              "    </tr>\n",
              "    <tr>\n",
              "      <th>1393</th>\n",
              "      <td>Subject: dec 2 super saturday friday and satur...</td>\n",
              "      <td>0</td>\n",
              "      <td>102</td>\n",
              "    </tr>\n",
              "    <tr>\n",
              "      <th>1394</th>\n",
              "      <td>Subject: re : creditdotcom projects  amitava ,...</td>\n",
              "      <td>0</td>\n",
              "      <td>2216</td>\n",
              "    </tr>\n",
              "    <tr>\n",
              "      <th>1395</th>\n",
              "      <td>Subject: re : energy finance conference partic...</td>\n",
              "      <td>0</td>\n",
              "      <td>1184</td>\n",
              "    </tr>\n",
              "    <tr>\n",
              "      <th>1396</th>\n",
              "      <td>Subject: re : london status report - research ...</td>\n",
              "      <td>0</td>\n",
              "      <td>3623</td>\n",
              "    </tr>\n",
              "    <tr>\n",
              "      <th>1397</th>\n",
              "      <td>Subject: re : my resume  we ' ll get this offe...</td>\n",
              "      <td>0</td>\n",
              "      <td>1181</td>\n",
              "    </tr>\n",
              "    <tr>\n",
              "      <th>...</th>\n",
              "      <td>...</td>\n",
              "      <td>...</td>\n",
              "      <td>...</td>\n",
              "    </tr>\n",
              "    <tr>\n",
              "      <th>5698</th>\n",
              "      <td>Subject: schedule and more . .  dr . kaminski ...</td>\n",
              "      <td>0</td>\n",
              "      <td>1654</td>\n",
              "    </tr>\n",
              "    <tr>\n",
              "      <th>5699</th>\n",
              "      <td>Subject: re : message from ken rice  vince :  ...</td>\n",
              "      <td>0</td>\n",
              "      <td>1566</td>\n",
              "    </tr>\n",
              "    <tr>\n",
              "      <th>5700</th>\n",
              "      <td>Subject: re : exploration data as the root of ...</td>\n",
              "      <td>0</td>\n",
              "      <td>1373</td>\n",
              "    </tr>\n",
              "    <tr>\n",
              "      <th>5701</th>\n",
              "      <td>Subject: rendez - vous reporter : sunday 3 rd ...</td>\n",
              "      <td>0</td>\n",
              "      <td>1295</td>\n",
              "    </tr>\n",
              "    <tr>\n",
              "      <th>5702</th>\n",
              "      <td>Subject: dr . michelle foss - energy institute...</td>\n",
              "      <td>0</td>\n",
              "      <td>1513</td>\n",
              "    </tr>\n",
              "    <tr>\n",
              "      <th>5703</th>\n",
              "      <td>Subject: rice / enron finance seminar series  ...</td>\n",
              "      <td>0</td>\n",
              "      <td>742</td>\n",
              "    </tr>\n",
              "    <tr>\n",
              "      <th>5704</th>\n",
              "      <td>Subject: storage model security  stinson ,  i ...</td>\n",
              "      <td>0</td>\n",
              "      <td>195</td>\n",
              "    </tr>\n",
              "    <tr>\n",
              "      <th>5705</th>\n",
              "      <td>Subject: re : meeting w kevin hannon  vince an...</td>\n",
              "      <td>0</td>\n",
              "      <td>474</td>\n",
              "    </tr>\n",
              "    <tr>\n",
              "      <th>5706</th>\n",
              "      <td>Subject: e - mail and voicemail retention poli...</td>\n",
              "      <td>0</td>\n",
              "      <td>733</td>\n",
              "    </tr>\n",
              "    <tr>\n",
              "      <th>5707</th>\n",
              "      <td>Subject: approval is overdue : access request ...</td>\n",
              "      <td>0</td>\n",
              "      <td>499</td>\n",
              "    </tr>\n",
              "    <tr>\n",
              "      <th>5708</th>\n",
              "      <td>Subject: re : hi vince  hi jeff ,  no problem ...</td>\n",
              "      <td>0</td>\n",
              "      <td>1079</td>\n",
              "    </tr>\n",
              "    <tr>\n",
              "      <th>5709</th>\n",
              "      <td>Subject: agenda for larry thorne ' s presentat...</td>\n",
              "      <td>0</td>\n",
              "      <td>321</td>\n",
              "    </tr>\n",
              "    <tr>\n",
              "      <th>5710</th>\n",
              "      <td>Subject: raptors  here is the most recent vers...</td>\n",
              "      <td>0</td>\n",
              "      <td>104</td>\n",
              "    </tr>\n",
              "    <tr>\n",
              "      <th>5711</th>\n",
              "      <td>Subject: re : faculty lunch  alison ,  i recom...</td>\n",
              "      <td>0</td>\n",
              "      <td>1336</td>\n",
              "    </tr>\n",
              "    <tr>\n",
              "      <th>5712</th>\n",
              "      <td>Subject: 2 - survey / information email 5 - 7 ...</td>\n",
              "      <td>0</td>\n",
              "      <td>1589</td>\n",
              "    </tr>\n",
              "    <tr>\n",
              "      <th>5713</th>\n",
              "      <td>Subject: promotion  vince , i want to congratu...</td>\n",
              "      <td>0</td>\n",
              "      <td>487</td>\n",
              "    </tr>\n",
              "    <tr>\n",
              "      <th>5714</th>\n",
              "      <td>Subject: re : petronas benchmarking visit  fyi...</td>\n",
              "      <td>0</td>\n",
              "      <td>822</td>\n",
              "    </tr>\n",
              "    <tr>\n",
              "      <th>5715</th>\n",
              "      <td>Subject: request submitted : access request fo...</td>\n",
              "      <td>0</td>\n",
              "      <td>509</td>\n",
              "    </tr>\n",
              "    <tr>\n",
              "      <th>5716</th>\n",
              "      <td>Subject: * special notification * aurora versi...</td>\n",
              "      <td>0</td>\n",
              "      <td>2469</td>\n",
              "    </tr>\n",
              "    <tr>\n",
              "      <th>5717</th>\n",
              "      <td>Subject: fwd : update  return - path :  receiv...</td>\n",
              "      <td>0</td>\n",
              "      <td>1975</td>\n",
              "    </tr>\n",
              "    <tr>\n",
              "      <th>5718</th>\n",
              "      <td>Subject: altos na gas model  kim , i know you ...</td>\n",
              "      <td>0</td>\n",
              "      <td>1902</td>\n",
              "    </tr>\n",
              "    <tr>\n",
              "      <th>5719</th>\n",
              "      <td>Subject: power market research  i came across ...</td>\n",
              "      <td>0</td>\n",
              "      <td>2360</td>\n",
              "    </tr>\n",
              "    <tr>\n",
              "      <th>5720</th>\n",
              "      <td>Subject: re : visit to houston  fyi  - - - - -...</td>\n",
              "      <td>0</td>\n",
              "      <td>1470</td>\n",
              "    </tr>\n",
              "    <tr>\n",
              "      <th>5721</th>\n",
              "      <td>Subject: ees risk management presentations for...</td>\n",
              "      <td>0</td>\n",
              "      <td>799</td>\n",
              "    </tr>\n",
              "    <tr>\n",
              "      <th>5722</th>\n",
              "      <td>Subject: re : vacation  vince :  i just found ...</td>\n",
              "      <td>0</td>\n",
              "      <td>688</td>\n",
              "    </tr>\n",
              "    <tr>\n",
              "      <th>5723</th>\n",
              "      <td>Subject: re : research and development charges...</td>\n",
              "      <td>0</td>\n",
              "      <td>1189</td>\n",
              "    </tr>\n",
              "    <tr>\n",
              "      <th>5724</th>\n",
              "      <td>Subject: re : receipts from visit  jim ,  than...</td>\n",
              "      <td>0</td>\n",
              "      <td>1167</td>\n",
              "    </tr>\n",
              "    <tr>\n",
              "      <th>5725</th>\n",
              "      <td>Subject: re : enron case study update  wow ! a...</td>\n",
              "      <td>0</td>\n",
              "      <td>2131</td>\n",
              "    </tr>\n",
              "    <tr>\n",
              "      <th>5726</th>\n",
              "      <td>Subject: re : interest  david ,  please , call...</td>\n",
              "      <td>0</td>\n",
              "      <td>1060</td>\n",
              "    </tr>\n",
              "    <tr>\n",
              "      <th>5727</th>\n",
              "      <td>Subject: news : aurora 5 . 2 update  aurora ve...</td>\n",
              "      <td>0</td>\n",
              "      <td>2331</td>\n",
              "    </tr>\n",
              "  </tbody>\n",
              "</table>\n",
              "<p>4360 rows × 3 columns</p>\n",
              "</div>"
            ],
            "text/plain": [
              "                                                   text  spam  length\n",
              "1368  Subject: hello guys ,  i ' m \" bugging you \" f...     0    1188\n",
              "1369  Subject: sacramento weather station  fyi  - - ...     0    1997\n",
              "1370  Subject: from the enron india newsdesk - jan 1...     0    7902\n",
              "1371  Subject: re : powerisk 2001 - your invitation ...     0    3644\n",
              "1372  Subject: re : resco database and customer capt...     0    5535\n",
              "1373  Subject: ben zhang  any suggestions ?  - g  - ...     0    1559\n",
              "1374  Subject: manoj gupta - interview schedule  att...     0     349\n",
              "1375  Subject: re : hello from vince kaminski at enr...     0    6751\n",
              "1376  Subject: candlestick charts  fyi fallout  - - ...     0    1196\n",
              "1377  Subject: faculty information sheet  mr . kamin...     0    1395\n",
              "1378  Subject: re : interview schedule change for br...     0    2009\n",
              "1379  Subject: re : bei enron  gordian kemen on 03 /...     0     593\n",
              "1380  Subject: from the enron india newsdesk - april...     0   43937\n",
              "1381  Subject: tuesday morning meeting first thing ?...     0     401\n",
              "1382  Subject: re : transition to research group - a...     0    6303\n",
              "1383  Subject: status  stinson ,  as you requested ,...     0    1449\n",
              "1384  Subject: re : garp credit derivatives discussi...     0     605\n",
              "1385  Subject: trading limit and policy changes  vin...     0     203\n",
              "1386  Subject: it purchasing process  as you all may...     0     733\n",
              "1387  Subject: alliance ferc alert - regional market...     0     848\n",
              "1388  Subject: t . v .  we are in need of a 9 inch t...     0     270\n",
              "1389  Subject: ljm update  vince / stinson :  i just...     0     661\n",
              "1390  Subject: visiting enron may 4 th  dear vince ,...     0    2881\n",
              "1391  Subject: re : update / event time change  this...     0    4209\n",
              "1392  Subject: re : a / a program question  gwyn :  ...     0    3238\n",
              "1393  Subject: dec 2 super saturday friday and satur...     0     102\n",
              "1394  Subject: re : creditdotcom projects  amitava ,...     0    2216\n",
              "1395  Subject: re : energy finance conference partic...     0    1184\n",
              "1396  Subject: re : london status report - research ...     0    3623\n",
              "1397  Subject: re : my resume  we ' ll get this offe...     0    1181\n",
              "...                                                 ...   ...     ...\n",
              "5698  Subject: schedule and more . .  dr . kaminski ...     0    1654\n",
              "5699  Subject: re : message from ken rice  vince :  ...     0    1566\n",
              "5700  Subject: re : exploration data as the root of ...     0    1373\n",
              "5701  Subject: rendez - vous reporter : sunday 3 rd ...     0    1295\n",
              "5702  Subject: dr . michelle foss - energy institute...     0    1513\n",
              "5703  Subject: rice / enron finance seminar series  ...     0     742\n",
              "5704  Subject: storage model security  stinson ,  i ...     0     195\n",
              "5705  Subject: re : meeting w kevin hannon  vince an...     0     474\n",
              "5706  Subject: e - mail and voicemail retention poli...     0     733\n",
              "5707  Subject: approval is overdue : access request ...     0     499\n",
              "5708  Subject: re : hi vince  hi jeff ,  no problem ...     0    1079\n",
              "5709  Subject: agenda for larry thorne ' s presentat...     0     321\n",
              "5710  Subject: raptors  here is the most recent vers...     0     104\n",
              "5711  Subject: re : faculty lunch  alison ,  i recom...     0    1336\n",
              "5712  Subject: 2 - survey / information email 5 - 7 ...     0    1589\n",
              "5713  Subject: promotion  vince , i want to congratu...     0     487\n",
              "5714  Subject: re : petronas benchmarking visit  fyi...     0     822\n",
              "5715  Subject: request submitted : access request fo...     0     509\n",
              "5716  Subject: * special notification * aurora versi...     0    2469\n",
              "5717  Subject: fwd : update  return - path :  receiv...     0    1975\n",
              "5718  Subject: altos na gas model  kim , i know you ...     0    1902\n",
              "5719  Subject: power market research  i came across ...     0    2360\n",
              "5720  Subject: re : visit to houston  fyi  - - - - -...     0    1470\n",
              "5721  Subject: ees risk management presentations for...     0     799\n",
              "5722  Subject: re : vacation  vince :  i just found ...     0     688\n",
              "5723  Subject: re : research and development charges...     0    1189\n",
              "5724  Subject: re : receipts from visit  jim ,  than...     0    1167\n",
              "5725  Subject: re : enron case study update  wow ! a...     0    2131\n",
              "5726  Subject: re : interest  david ,  please , call...     0    1060\n",
              "5727  Subject: news : aurora 5 . 2 update  aurora ve...     0    2331\n",
              "\n",
              "[4360 rows x 3 columns]"
            ]
          },
          "metadata": {
            "tags": []
          },
          "execution_count": 17
        }
      ]
    },
    {
      "cell_type": "code",
      "metadata": {
        "scrolled": true,
        "id": "nPLUz0Kyv7uy",
        "colab_type": "code",
        "colab": {
          "base_uri": "https://localhost:8080/",
          "height": 1000
        },
        "outputId": "991b5c78-2f42-4225-bf99-ee4f011619ac"
      },
      "source": [
        "spam"
      ],
      "execution_count": 18,
      "outputs": [
        {
          "output_type": "execute_result",
          "data": {
            "text/html": [
              "<div>\n",
              "<style scoped>\n",
              "    .dataframe tbody tr th:only-of-type {\n",
              "        vertical-align: middle;\n",
              "    }\n",
              "\n",
              "    .dataframe tbody tr th {\n",
              "        vertical-align: top;\n",
              "    }\n",
              "\n",
              "    .dataframe thead th {\n",
              "        text-align: right;\n",
              "    }\n",
              "</style>\n",
              "<table border=\"1\" class=\"dataframe\">\n",
              "  <thead>\n",
              "    <tr style=\"text-align: right;\">\n",
              "      <th></th>\n",
              "      <th>text</th>\n",
              "      <th>spam</th>\n",
              "      <th>length</th>\n",
              "    </tr>\n",
              "  </thead>\n",
              "  <tbody>\n",
              "    <tr>\n",
              "      <th>0</th>\n",
              "      <td>Subject: naturally irresistible your corporate...</td>\n",
              "      <td>1</td>\n",
              "      <td>1484</td>\n",
              "    </tr>\n",
              "    <tr>\n",
              "      <th>1</th>\n",
              "      <td>Subject: the stock trading gunslinger  fanny i...</td>\n",
              "      <td>1</td>\n",
              "      <td>598</td>\n",
              "    </tr>\n",
              "    <tr>\n",
              "      <th>2</th>\n",
              "      <td>Subject: unbelievable new homes made easy  im ...</td>\n",
              "      <td>1</td>\n",
              "      <td>448</td>\n",
              "    </tr>\n",
              "    <tr>\n",
              "      <th>3</th>\n",
              "      <td>Subject: 4 color printing special  request add...</td>\n",
              "      <td>1</td>\n",
              "      <td>500</td>\n",
              "    </tr>\n",
              "    <tr>\n",
              "      <th>4</th>\n",
              "      <td>Subject: do not have money , get software cds ...</td>\n",
              "      <td>1</td>\n",
              "      <td>235</td>\n",
              "    </tr>\n",
              "    <tr>\n",
              "      <th>5</th>\n",
              "      <td>Subject: great nnews  hello , welcome to medzo...</td>\n",
              "      <td>1</td>\n",
              "      <td>478</td>\n",
              "    </tr>\n",
              "    <tr>\n",
              "      <th>6</th>\n",
              "      <td>Subject: here ' s a hot play in motion  homela...</td>\n",
              "      <td>1</td>\n",
              "      <td>9340</td>\n",
              "    </tr>\n",
              "    <tr>\n",
              "      <th>7</th>\n",
              "      <td>Subject: save your money buy getting this thin...</td>\n",
              "      <td>1</td>\n",
              "      <td>446</td>\n",
              "    </tr>\n",
              "    <tr>\n",
              "      <th>8</th>\n",
              "      <td>Subject: undeliverable : home based business f...</td>\n",
              "      <td>1</td>\n",
              "      <td>507</td>\n",
              "    </tr>\n",
              "    <tr>\n",
              "      <th>9</th>\n",
              "      <td>Subject: save your money buy getting this thin...</td>\n",
              "      <td>1</td>\n",
              "      <td>446</td>\n",
              "    </tr>\n",
              "    <tr>\n",
              "      <th>10</th>\n",
              "      <td>Subject: las vegas high rise boom  las vegas i...</td>\n",
              "      <td>1</td>\n",
              "      <td>709</td>\n",
              "    </tr>\n",
              "    <tr>\n",
              "      <th>11</th>\n",
              "      <td>Subject: save your money buy getting this thin...</td>\n",
              "      <td>1</td>\n",
              "      <td>446</td>\n",
              "    </tr>\n",
              "    <tr>\n",
              "      <th>12</th>\n",
              "      <td>Subject: brighten those teeth  get your  teeth...</td>\n",
              "      <td>1</td>\n",
              "      <td>879</td>\n",
              "    </tr>\n",
              "    <tr>\n",
              "      <th>13</th>\n",
              "      <td>Subject: wall street phenomenon reaps rewards ...</td>\n",
              "      <td>1</td>\n",
              "      <td>8196</td>\n",
              "    </tr>\n",
              "    <tr>\n",
              "      <th>14</th>\n",
              "      <td>Subject: fpa notice : ebay misrepresentation o...</td>\n",
              "      <td>1</td>\n",
              "      <td>684</td>\n",
              "    </tr>\n",
              "    <tr>\n",
              "      <th>15</th>\n",
              "      <td>Subject: search engine position  be the very f...</td>\n",
              "      <td>1</td>\n",
              "      <td>1000</td>\n",
              "    </tr>\n",
              "    <tr>\n",
              "      <th>16</th>\n",
              "      <td>Subject: only our software is guaranteed 100 %...</td>\n",
              "      <td>1</td>\n",
              "      <td>215</td>\n",
              "    </tr>\n",
              "    <tr>\n",
              "      <th>17</th>\n",
              "      <td>Subject: localized software , all languages av...</td>\n",
              "      <td>1</td>\n",
              "      <td>663</td>\n",
              "    </tr>\n",
              "    <tr>\n",
              "      <th>18</th>\n",
              "      <td>Subject: security alert - confirm your nationa...</td>\n",
              "      <td>1</td>\n",
              "      <td>80</td>\n",
              "    </tr>\n",
              "    <tr>\n",
              "      <th>19</th>\n",
              "      <td>Subject: 21 st century web specialists jrgbm  ...</td>\n",
              "      <td>1</td>\n",
              "      <td>2560</td>\n",
              "    </tr>\n",
              "    <tr>\n",
              "      <th>20</th>\n",
              "      <td>Subject: any med for your girl to be happy !  ...</td>\n",
              "      <td>1</td>\n",
              "      <td>349</td>\n",
              "    </tr>\n",
              "    <tr>\n",
              "      <th>21</th>\n",
              "      <td>Subject: re : wearable electronics  hi my name...</td>\n",
              "      <td>1</td>\n",
              "      <td>649</td>\n",
              "    </tr>\n",
              "    <tr>\n",
              "      <th>22</th>\n",
              "      <td>Subject: top - level logo and business identit...</td>\n",
              "      <td>1</td>\n",
              "      <td>715</td>\n",
              "    </tr>\n",
              "    <tr>\n",
              "      <th>23</th>\n",
              "      <td>Subject: your trusted source for prescription ...</td>\n",
              "      <td>1</td>\n",
              "      <td>294</td>\n",
              "    </tr>\n",
              "    <tr>\n",
              "      <th>24</th>\n",
              "      <td>Subject: rely on us for your online prescripti...</td>\n",
              "      <td>1</td>\n",
              "      <td>350</td>\n",
              "    </tr>\n",
              "    <tr>\n",
              "      <th>25</th>\n",
              "      <td>Subject: guzzle like a fountain  spur m rocks ...</td>\n",
              "      <td>1</td>\n",
              "      <td>993</td>\n",
              "    </tr>\n",
              "    <tr>\n",
              "      <th>26</th>\n",
              "      <td>Subject: are you losing ? the answer would ama...</td>\n",
              "      <td>1</td>\n",
              "      <td>936</td>\n",
              "    </tr>\n",
              "    <tr>\n",
              "      <th>27</th>\n",
              "      <td>Subject: hi  how to save o improper n your med...</td>\n",
              "      <td>1</td>\n",
              "      <td>466</td>\n",
              "    </tr>\n",
              "    <tr>\n",
              "      <th>28</th>\n",
              "      <td>Subject: 25 mg did thhe trick  ho receivable w...</td>\n",
              "      <td>1</td>\n",
              "      <td>497</td>\n",
              "    </tr>\n",
              "    <tr>\n",
              "      <th>29</th>\n",
              "      <td>Subject: save your money buy getting this thin...</td>\n",
              "      <td>1</td>\n",
              "      <td>446</td>\n",
              "    </tr>\n",
              "    <tr>\n",
              "      <th>...</th>\n",
              "      <td>...</td>\n",
              "      <td>...</td>\n",
              "      <td>...</td>\n",
              "    </tr>\n",
              "    <tr>\n",
              "      <th>1338</th>\n",
              "      <td>Subject: largest collection of porn mo \\ / ies...</td>\n",
              "      <td>1</td>\n",
              "      <td>602</td>\n",
              "    </tr>\n",
              "    <tr>\n",
              "      <th>1339</th>\n",
              "      <td>Subject: failure notice  hi . this is the qmai...</td>\n",
              "      <td>1</td>\n",
              "      <td>1573</td>\n",
              "    </tr>\n",
              "    <tr>\n",
              "      <th>1340</th>\n",
              "      <td>Subject: save your money buy getting this thin...</td>\n",
              "      <td>1</td>\n",
              "      <td>446</td>\n",
              "    </tr>\n",
              "    <tr>\n",
              "      <th>1341</th>\n",
              "      <td>Subject: online tv deals 312  internet  exclus...</td>\n",
              "      <td>1</td>\n",
              "      <td>816</td>\n",
              "    </tr>\n",
              "    <tr>\n",
              "      <th>1342</th>\n",
              "      <td>Subject: in the heart of your business !  corp...</td>\n",
              "      <td>1</td>\n",
              "      <td>931</td>\n",
              "    </tr>\n",
              "    <tr>\n",
              "      <th>1343</th>\n",
              "      <td>Subject: capital hill gold - chgi - potential ...</td>\n",
              "      <td>1</td>\n",
              "      <td>8065</td>\n",
              "    </tr>\n",
              "    <tr>\n",
              "      <th>1344</th>\n",
              "      <td>Subject: localized software , all languages av...</td>\n",
              "      <td>1</td>\n",
              "      <td>661</td>\n",
              "    </tr>\n",
              "    <tr>\n",
              "      <th>1345</th>\n",
              "      <td>Subject: you want some outright sex - don ' t ...</td>\n",
              "      <td>1</td>\n",
              "      <td>331</td>\n",
              "    </tr>\n",
              "    <tr>\n",
              "      <th>1346</th>\n",
              "      <td>Subject: no pills , no pumps - its the patch  ...</td>\n",
              "      <td>1</td>\n",
              "      <td>348</td>\n",
              "    </tr>\n",
              "    <tr>\n",
              "      <th>1347</th>\n",
              "      <td>Subject: update information - verification req...</td>\n",
              "      <td>1</td>\n",
              "      <td>1275</td>\n",
              "    </tr>\n",
              "    <tr>\n",
              "      <th>1348</th>\n",
              "      <td>Subject: hilarious prank call service  please ...</td>\n",
              "      <td>1</td>\n",
              "      <td>122</td>\n",
              "    </tr>\n",
              "    <tr>\n",
              "      <th>1349</th>\n",
              "      <td>Subject: there  hello visioson @ hpp . za . ne...</td>\n",
              "      <td>1</td>\n",
              "      <td>879</td>\n",
              "    </tr>\n",
              "    <tr>\n",
              "      <th>1350</th>\n",
              "      <td>Subject: re : wall street micro news report  h...</td>\n",
              "      <td>1</td>\n",
              "      <td>9278</td>\n",
              "    </tr>\n",
              "    <tr>\n",
              "      <th>1351</th>\n",
              "      <td>Subject: more medz  how to save dhurry on your...</td>\n",
              "      <td>1</td>\n",
              "      <td>510</td>\n",
              "    </tr>\n",
              "    <tr>\n",
              "      <th>1352</th>\n",
              "      <td>Subject: rape ! ! .  rape sex !  click here  y...</td>\n",
              "      <td>1</td>\n",
              "      <td>408</td>\n",
              "    </tr>\n",
              "    <tr>\n",
              "      <th>1353</th>\n",
              "      <td>Subject: free sizzling ltc sales materials  lt...</td>\n",
              "      <td>1</td>\n",
              "      <td>1467</td>\n",
              "    </tr>\n",
              "    <tr>\n",
              "      <th>1354</th>\n",
              "      <td>Subject: cash : $ 48463  dear homeowner , you ...</td>\n",
              "      <td>1</td>\n",
              "      <td>624</td>\n",
              "    </tr>\n",
              "    <tr>\n",
              "      <th>1355</th>\n",
              "      <td>Subject: = ? gb 2312 ? q ? want _ to _ establi...</td>\n",
              "      <td>1</td>\n",
              "      <td>1260</td>\n",
              "    </tr>\n",
              "    <tr>\n",
              "      <th>1356</th>\n",
              "      <td>Subject: strictly private .  gooday ,  with wa...</td>\n",
              "      <td>1</td>\n",
              "      <td>4920</td>\n",
              "    </tr>\n",
              "    <tr>\n",
              "      <th>1357</th>\n",
              "      <td>Subject: all graphics software available , che...</td>\n",
              "      <td>1</td>\n",
              "      <td>976</td>\n",
              "    </tr>\n",
              "    <tr>\n",
              "      <th>1358</th>\n",
              "      <td>Subject: important  42745  start your own adul...</td>\n",
              "      <td>1</td>\n",
              "      <td>1066</td>\n",
              "    </tr>\n",
              "    <tr>\n",
              "      <th>1359</th>\n",
              "      <td>Subject: the government grants you $ 25 , 000 ...</td>\n",
              "      <td>1</td>\n",
              "      <td>17638</td>\n",
              "    </tr>\n",
              "    <tr>\n",
              "      <th>1360</th>\n",
              "      <td>Subject: aawesome  want to know how to save ov...</td>\n",
              "      <td>1</td>\n",
              "      <td>405</td>\n",
              "    </tr>\n",
              "    <tr>\n",
              "      <th>1361</th>\n",
              "      <td>Subject: avoid fake viagra get the real thing ...</td>\n",
              "      <td>1</td>\n",
              "      <td>224</td>\n",
              "    </tr>\n",
              "    <tr>\n",
              "      <th>1362</th>\n",
              "      <td>Subject: perfect logo charset = koi 8 - r \" &gt; ...</td>\n",
              "      <td>1</td>\n",
              "      <td>755</td>\n",
              "    </tr>\n",
              "    <tr>\n",
              "      <th>1363</th>\n",
              "      <td>Subject: are you ready to get it ?  hello !  v...</td>\n",
              "      <td>1</td>\n",
              "      <td>347</td>\n",
              "    </tr>\n",
              "    <tr>\n",
              "      <th>1364</th>\n",
              "      <td>Subject: would you like a $ 250 gas card ?  do...</td>\n",
              "      <td>1</td>\n",
              "      <td>188</td>\n",
              "    </tr>\n",
              "    <tr>\n",
              "      <th>1365</th>\n",
              "      <td>Subject: immediate reply needed  dear sir ,  i...</td>\n",
              "      <td>1</td>\n",
              "      <td>3164</td>\n",
              "    </tr>\n",
              "    <tr>\n",
              "      <th>1366</th>\n",
              "      <td>Subject: wanna see me get fisted ?  fist  bang...</td>\n",
              "      <td>1</td>\n",
              "      <td>734</td>\n",
              "    </tr>\n",
              "    <tr>\n",
              "      <th>1367</th>\n",
              "      <td>Subject: hot stock info : drgv announces anoth...</td>\n",
              "      <td>1</td>\n",
              "      <td>9342</td>\n",
              "    </tr>\n",
              "  </tbody>\n",
              "</table>\n",
              "<p>1368 rows × 3 columns</p>\n",
              "</div>"
            ],
            "text/plain": [
              "                                                   text  spam  length\n",
              "0     Subject: naturally irresistible your corporate...     1    1484\n",
              "1     Subject: the stock trading gunslinger  fanny i...     1     598\n",
              "2     Subject: unbelievable new homes made easy  im ...     1     448\n",
              "3     Subject: 4 color printing special  request add...     1     500\n",
              "4     Subject: do not have money , get software cds ...     1     235\n",
              "5     Subject: great nnews  hello , welcome to medzo...     1     478\n",
              "6     Subject: here ' s a hot play in motion  homela...     1    9340\n",
              "7     Subject: save your money buy getting this thin...     1     446\n",
              "8     Subject: undeliverable : home based business f...     1     507\n",
              "9     Subject: save your money buy getting this thin...     1     446\n",
              "10    Subject: las vegas high rise boom  las vegas i...     1     709\n",
              "11    Subject: save your money buy getting this thin...     1     446\n",
              "12    Subject: brighten those teeth  get your  teeth...     1     879\n",
              "13    Subject: wall street phenomenon reaps rewards ...     1    8196\n",
              "14    Subject: fpa notice : ebay misrepresentation o...     1     684\n",
              "15    Subject: search engine position  be the very f...     1    1000\n",
              "16    Subject: only our software is guaranteed 100 %...     1     215\n",
              "17    Subject: localized software , all languages av...     1     663\n",
              "18    Subject: security alert - confirm your nationa...     1      80\n",
              "19    Subject: 21 st century web specialists jrgbm  ...     1    2560\n",
              "20    Subject: any med for your girl to be happy !  ...     1     349\n",
              "21    Subject: re : wearable electronics  hi my name...     1     649\n",
              "22    Subject: top - level logo and business identit...     1     715\n",
              "23    Subject: your trusted source for prescription ...     1     294\n",
              "24    Subject: rely on us for your online prescripti...     1     350\n",
              "25    Subject: guzzle like a fountain  spur m rocks ...     1     993\n",
              "26    Subject: are you losing ? the answer would ama...     1     936\n",
              "27    Subject: hi  how to save o improper n your med...     1     466\n",
              "28    Subject: 25 mg did thhe trick  ho receivable w...     1     497\n",
              "29    Subject: save your money buy getting this thin...     1     446\n",
              "...                                                 ...   ...     ...\n",
              "1338  Subject: largest collection of porn mo \\ / ies...     1     602\n",
              "1339  Subject: failure notice  hi . this is the qmai...     1    1573\n",
              "1340  Subject: save your money buy getting this thin...     1     446\n",
              "1341  Subject: online tv deals 312  internet  exclus...     1     816\n",
              "1342  Subject: in the heart of your business !  corp...     1     931\n",
              "1343  Subject: capital hill gold - chgi - potential ...     1    8065\n",
              "1344  Subject: localized software , all languages av...     1     661\n",
              "1345  Subject: you want some outright sex - don ' t ...     1     331\n",
              "1346  Subject: no pills , no pumps - its the patch  ...     1     348\n",
              "1347  Subject: update information - verification req...     1    1275\n",
              "1348  Subject: hilarious prank call service  please ...     1     122\n",
              "1349  Subject: there  hello visioson @ hpp . za . ne...     1     879\n",
              "1350  Subject: re : wall street micro news report  h...     1    9278\n",
              "1351  Subject: more medz  how to save dhurry on your...     1     510\n",
              "1352  Subject: rape ! ! .  rape sex !  click here  y...     1     408\n",
              "1353  Subject: free sizzling ltc sales materials  lt...     1    1467\n",
              "1354  Subject: cash : $ 48463  dear homeowner , you ...     1     624\n",
              "1355  Subject: = ? gb 2312 ? q ? want _ to _ establi...     1    1260\n",
              "1356  Subject: strictly private .  gooday ,  with wa...     1    4920\n",
              "1357  Subject: all graphics software available , che...     1     976\n",
              "1358  Subject: important  42745  start your own adul...     1    1066\n",
              "1359  Subject: the government grants you $ 25 , 000 ...     1   17638\n",
              "1360  Subject: aawesome  want to know how to save ov...     1     405\n",
              "1361  Subject: avoid fake viagra get the real thing ...     1     224\n",
              "1362  Subject: perfect logo charset = koi 8 - r \" > ...     1     755\n",
              "1363  Subject: are you ready to get it ?  hello !  v...     1     347\n",
              "1364  Subject: would you like a $ 250 gas card ?  do...     1     188\n",
              "1365  Subject: immediate reply needed  dear sir ,  i...     1    3164\n",
              "1366  Subject: wanna see me get fisted ?  fist  bang...     1     734\n",
              "1367  Subject: hot stock info : drgv announces anoth...     1    9342\n",
              "\n",
              "[1368 rows x 3 columns]"
            ]
          },
          "metadata": {
            "tags": []
          },
          "execution_count": 18
        }
      ]
    },
    {
      "cell_type": "code",
      "metadata": {
        "id": "uH8lxJ-2v7u1",
        "colab_type": "code",
        "colab": {
          "base_uri": "https://localhost:8080/",
          "height": 286
        },
        "outputId": "650986ba-843c-45e7-dc7d-d96d9ef907b4"
      },
      "source": [
        "spam['length'].plot(bins=60, kind='hist') "
      ],
      "execution_count": 19,
      "outputs": [
        {
          "output_type": "execute_result",
          "data": {
            "text/plain": [
              "<matplotlib.axes._subplots.AxesSubplot at 0x7f05e2d01940>"
            ]
          },
          "metadata": {
            "tags": []
          },
          "execution_count": 19
        },
        {
          "output_type": "display_data",
          "data": {
            "image/png": "[encoded data removed]",
            "text/plain": [
              "<Figure size 432x288 with 1 Axes>"
            ]
          },
          "metadata": {
            "tags": []
          }
        }
      ]
    },
    {
      "cell_type": "code",
      "metadata": {
        "id": "N5iN1ttev7u5",
        "colab_type": "code",
        "colab": {
          "base_uri": "https://localhost:8080/",
          "height": 286
        },
        "outputId": "b18466ff-36c2-4c18-9951-898fa8a8477d"
      },
      "source": [
        "ham['length'].plot(bins=60, kind='hist') "
      ],
      "execution_count": 20,
      "outputs": [
        {
          "output_type": "execute_result",
          "data": {
            "text/plain": [
              "<matplotlib.axes._subplots.AxesSubplot at 0x7f05e04b26a0>"
            ]
          },
          "metadata": {
            "tags": []
          },
          "execution_count": 20
        },
        {
          "output_type": "display_data",
          "data": {
            "image/png": "[encoded data removed]",
            "text/plain": [
              "<Figure size 432x288 with 1 Axes>"
            ]
          },
          "metadata": {
            "tags": []
          }
        }
      ]
    },
    {
      "cell_type": "code",
      "metadata": {
        "id": "KC3hgXY_v7u-",
        "colab_type": "code",
        "colab": {
          "base_uri": "https://localhost:8080/",
          "height": 34
        },
        "outputId": "67b7b39e-0c2f-4472-80f3-ef1983b3f75c"
      },
      "source": [
        "print( 'Spam percentage =', (len(spam) / len(spam_df) )*100,\"%\")"
      ],
      "execution_count": 21,
      "outputs": [
        {
          "output_type": "stream",
          "text": [
            "Spam percentage = 23.88268156424581 %\n"
          ],
          "name": "stdout"
        }
      ]
    },
    {
      "cell_type": "code",
      "metadata": {
        "id": "l8cF3hMdv7vD",
        "colab_type": "code",
        "colab": {
          "base_uri": "https://localhost:8080/",
          "height": 34
        },
        "outputId": "ba42bfde-0d27-4c37-9fab-a3d2956d3c8c"
      },
      "source": [
        "print( 'Ham percentage =', (len(ham) / len(spam_df) )*100,\"%\")"
      ],
      "execution_count": 22,
      "outputs": [
        {
          "output_type": "stream",
          "text": [
            "Ham percentage = 76.11731843575419 %\n"
          ],
          "name": "stdout"
        }
      ]
    },
    {
      "cell_type": "code",
      "metadata": {
        "id": "FwohLm6Wv7vG",
        "colab_type": "code",
        "colab": {
          "base_uri": "https://localhost:8080/",
          "height": 300
        },
        "outputId": "02f835f9-7d56-4165-aaed-fe17634640f1"
      },
      "source": [
        "sns.countplot(spam_df['spam'], label = \"Count\") \n"
      ],
      "execution_count": 23,
      "outputs": [
        {
          "output_type": "execute_result",
          "data": {
            "text/plain": [
              "<matplotlib.axes._subplots.AxesSubplot at 0x7f05e0396400>"
            ]
          },
          "metadata": {
            "tags": []
          },
          "execution_count": 23
        },
        {
          "output_type": "display_data",
          "data": {
            "image/png": "[encoded data removed]",
            "text/plain": [
              "<Figure size 432x288 with 1 Axes>"
            ]
          },
          "metadata": {
            "tags": []
          }
        }
      ]
    },
    {
      "cell_type": "markdown",
      "metadata": {
        "id": "9zoiImLUv7vJ",
        "colab_type": "text"
      },
      "source": [
        "# STEP #3: CREATE TESTING AND TRAINING DATASET/DATA CLEANING"
      ]
    },
    {
      "cell_type": "markdown",
      "metadata": {
        "id": "e9ySnF9ev7vM",
        "colab_type": "text"
      },
      "source": [
        "# STEP 3.1 REMOVE PUNCTUATION"
      ]
    },
    {
      "cell_type": "code",
      "metadata": {
        "id": "T5wbE8Uav7vO",
        "colab_type": "code",
        "colab": {
          "base_uri": "https://localhost:8080/",
          "height": 34
        },
        "outputId": "8727b6cd-c2e8-4cf8-9927-682da5765645"
      },
      "source": [
        "import string\n",
        "string.punctuation"
      ],
      "execution_count": 24,
      "outputs": [
        {
          "output_type": "execute_result",
          "data": {
            "text/plain": [
              "'!\"#$%&\\'()*+,-./:;<=>?@[\\\\]^_`{|}~'"
            ]
          },
          "metadata": {
            "tags": []
          },
          "execution_count": 24
        }
      ]
    },
    {
      "cell_type": "code",
      "metadata": {
        "id": "fONujFazv7vR",
        "colab_type": "code",
        "colab": {}
      },
      "source": [
        "Test = 'Hello Mr. Future, I am so happy to be learning AI now!!'"
      ],
      "execution_count": 0,
      "outputs": []
    },
    {
      "cell_type": "code",
      "metadata": {
        "id": "6jRZdL9Av7vW",
        "colab_type": "code",
        "colab": {
          "base_uri": "https://localhost:8080/",
          "height": 884
        },
        "outputId": "7390ab7d-e15e-4e0a-fdf3-b5b247de6024"
      },
      "source": [
        "Test_punc_removed = [char for char in Test if char not in string.punctuation]\n",
        "Test_punc_removed"
      ],
      "execution_count": 26,
      "outputs": [
        {
          "output_type": "execute_result",
          "data": {
            "text/plain": [
              "['H',\n",
              " 'e',\n",
              " 'l',\n",
              " 'l',\n",
              " 'o',\n",
              " ' ',\n",
              " 'M',\n",
              " 'r',\n",
              " ' ',\n",
              " 'F',\n",
              " 'u',\n",
              " 't',\n",
              " 'u',\n",
              " 'r',\n",
              " 'e',\n",
              " ' ',\n",
              " 'I',\n",
              " ' ',\n",
              " 'a',\n",
              " 'm',\n",
              " ' ',\n",
              " 's',\n",
              " 'o',\n",
              " ' ',\n",
              " 'h',\n",
              " 'a',\n",
              " 'p',\n",
              " 'p',\n",
              " 'y',\n",
              " ' ',\n",
              " 't',\n",
              " 'o',\n",
              " ' ',\n",
              " 'b',\n",
              " 'e',\n",
              " ' ',\n",
              " 'l',\n",
              " 'e',\n",
              " 'a',\n",
              " 'r',\n",
              " 'n',\n",
              " 'i',\n",
              " 'n',\n",
              " 'g',\n",
              " ' ',\n",
              " 'A',\n",
              " 'I',\n",
              " ' ',\n",
              " 'n',\n",
              " 'o',\n",
              " 'w']"
            ]
          },
          "metadata": {
            "tags": []
          },
          "execution_count": 26
        }
      ]
    },
    {
      "cell_type": "code",
      "metadata": {
        "id": "2k6dF8cdv7va",
        "colab_type": "code",
        "colab": {
          "base_uri": "https://localhost:8080/",
          "height": 34
        },
        "outputId": "5b354b44-d8f2-46c6-b004-d96f63612657"
      },
      "source": [
        "# Join the characters again to form the string.\n",
        "Test_punc_removed_join = ''.join(Test_punc_removed)\n",
        "Test_punc_removed_join"
      ],
      "execution_count": 28,
      "outputs": [
        {
          "output_type": "execute_result",
          "data": {
            "text/plain": [
              "'Hello Mr Future I am so happy to be learning AI now'"
            ]
          },
          "metadata": {
            "tags": []
          },
          "execution_count": 28
        }
      ]
    },
    {
      "cell_type": "markdown",
      "metadata": {
        "id": "fX5hvuC_v7vd",
        "colab_type": "text"
      },
      "source": [
        "# STEP 3.2 REMOVE STOPWORDS"
      ]
    },
    {
      "cell_type": "code",
      "metadata": {
        "scrolled": true,
        "id": "lDfsjPjXv7vd",
        "colab_type": "code",
        "colab": {
          "base_uri": "https://localhost:8080/",
          "height": 1000
        },
        "outputId": "525fcd97-e040-4a64-ffe5-5ed7bf4dfb4a"
      },
      "source": [
        "# Download stopwords Package to execute this command\n",
        "import nltk\n",
        "nltk.download('stopwords')\n",
        "from nltk.corpus import stopwords\n",
        "stopwords.words('english')"
      ],
      "execution_count": 29,
      "outputs": [
        {
          "output_type": "stream",
          "text": [
            "[nltk_data] Downloading package stopwords to /root/nltk_data...\n",
            "[nltk_data]   Unzipping corpora/stopwords.zip.\n"
          ],
          "name": "stdout"
        },
        {
          "output_type": "execute_result",
          "data": {
            "text/plain": [
              "['i',\n",
              " 'me',\n",
              " 'my',\n",
              " 'myself',\n",
              " 'we',\n",
              " 'our',\n",
              " 'ours',\n",
              " 'ourselves',\n",
              " 'you',\n",
              " \"you're\",\n",
              " \"you've\",\n",
              " \"you'll\",\n",
              " \"you'd\",\n",
              " 'your',\n",
              " 'yours',\n",
              " 'yourself',\n",
              " 'yourselves',\n",
              " 'he',\n",
              " 'him',\n",
              " 'his',\n",
              " 'himself',\n",
              " 'she',\n",
              " \"she's\",\n",
              " 'her',\n",
              " 'hers',\n",
              " 'herself',\n",
              " 'it',\n",
              " \"it's\",\n",
              " 'its',\n",
              " 'itself',\n",
              " 'they',\n",
              " 'them',\n",
              " 'their',\n",
              " 'theirs',\n",
              " 'themselves',\n",
              " 'what',\n",
              " 'which',\n",
              " 'who',\n",
              " 'whom',\n",
              " 'this',\n",
              " 'that',\n",
              " \"that'll\",\n",
              " 'these',\n",
              " 'those',\n",
              " 'am',\n",
              " 'is',\n",
              " 'are',\n",
              " 'was',\n",
              " 'were',\n",
              " 'be',\n",
              " 'been',\n",
              " 'being',\n",
              " 'have',\n",
              " 'has',\n",
              " 'had',\n",
              " 'having',\n",
              " 'do',\n",
              " 'does',\n",
              " 'did',\n",
              " 'doing',\n",
              " 'a',\n",
              " 'an',\n",
              " 'the',\n",
              " 'and',\n",
              " 'but',\n",
              " 'if',\n",
              " 'or',\n",
              " 'because',\n",
              " 'as',\n",
              " 'until',\n",
              " 'while',\n",
              " 'of',\n",
              " 'at',\n",
              " 'by',\n",
              " 'for',\n",
              " 'with',\n",
              " 'about',\n",
              " 'against',\n",
              " 'between',\n",
              " 'into',\n",
              " 'through',\n",
              " 'during',\n",
              " 'before',\n",
              " 'after',\n",
              " 'above',\n",
              " 'below',\n",
              " 'to',\n",
              " 'from',\n",
              " 'up',\n",
              " 'down',\n",
              " 'in',\n",
              " 'out',\n",
              " 'on',\n",
              " 'off',\n",
              " 'over',\n",
              " 'under',\n",
              " 'again',\n",
              " 'further',\n",
              " 'then',\n",
              " 'once',\n",
              " 'here',\n",
              " 'there',\n",
              " 'when',\n",
              " 'where',\n",
              " 'why',\n",
              " 'how',\n",
              " 'all',\n",
              " 'any',\n",
              " 'both',\n",
              " 'each',\n",
              " 'few',\n",
              " 'more',\n",
              " 'most',\n",
              " 'other',\n",
              " 'some',\n",
              " 'such',\n",
              " 'no',\n",
              " 'nor',\n",
              " 'not',\n",
              " 'only',\n",
              " 'own',\n",
              " 'same',\n",
              " 'so',\n",
              " 'than',\n",
              " 'too',\n",
              " 'very',\n",
              " 's',\n",
              " 't',\n",
              " 'can',\n",
              " 'will',\n",
              " 'just',\n",
              " 'don',\n",
              " \"don't\",\n",
              " 'should',\n",
              " \"should've\",\n",
              " 'now',\n",
              " 'd',\n",
              " 'll',\n",
              " 'm',\n",
              " 'o',\n",
              " 're',\n",
              " 've',\n",
              " 'y',\n",
              " 'ain',\n",
              " 'aren',\n",
              " \"aren't\",\n",
              " 'couldn',\n",
              " \"couldn't\",\n",
              " 'didn',\n",
              " \"didn't\",\n",
              " 'doesn',\n",
              " \"doesn't\",\n",
              " 'hadn',\n",
              " \"hadn't\",\n",
              " 'hasn',\n",
              " \"hasn't\",\n",
              " 'haven',\n",
              " \"haven't\",\n",
              " 'isn',\n",
              " \"isn't\",\n",
              " 'ma',\n",
              " 'mightn',\n",
              " \"mightn't\",\n",
              " 'mustn',\n",
              " \"mustn't\",\n",
              " 'needn',\n",
              " \"needn't\",\n",
              " 'shan',\n",
              " \"shan't\",\n",
              " 'shouldn',\n",
              " \"shouldn't\",\n",
              " 'wasn',\n",
              " \"wasn't\",\n",
              " 'weren',\n",
              " \"weren't\",\n",
              " 'won',\n",
              " \"won't\",\n",
              " 'wouldn',\n",
              " \"wouldn't\"]"
            ]
          },
          "metadata": {
            "tags": []
          },
          "execution_count": 29
        }
      ]
    },
    {
      "cell_type": "code",
      "metadata": {
        "id": "bBxQC34kv7vi",
        "colab_type": "code",
        "colab": {
          "base_uri": "https://localhost:8080/",
          "height": 34
        },
        "outputId": "038188bb-e290-4885-8a84-9872f1764185"
      },
      "source": [
        "Test_punc_removed_join"
      ],
      "execution_count": 30,
      "outputs": [
        {
          "output_type": "execute_result",
          "data": {
            "text/plain": [
              "'Hello Mr Future I am so happy to be learning AI now'"
            ]
          },
          "metadata": {
            "tags": []
          },
          "execution_count": 30
        }
      ]
    },
    {
      "cell_type": "code",
      "metadata": {
        "id": "F5dtyiQov7vm",
        "colab_type": "code",
        "colab": {}
      },
      "source": [
        "Test_punc_removed_join_clean = [word for word in Test_punc_removed_join.split() if word.lower() not in stopwords.words('english')]"
      ],
      "execution_count": 0,
      "outputs": []
    },
    {
      "cell_type": "code",
      "metadata": {
        "id": "Ma3ejp3zv7vp",
        "colab_type": "code",
        "colab": {
          "base_uri": "https://localhost:8080/",
          "height": 34
        },
        "outputId": "5ca2a7da-7034-496e-fa85-5bca74d0fa34"
      },
      "source": [
        "Test_punc_removed_join_clean # Only important (no so common) words are left"
      ],
      "execution_count": 32,
      "outputs": [
        {
          "output_type": "execute_result",
          "data": {
            "text/plain": [
              "['Hello', 'Mr', 'Future', 'happy', 'learning', 'AI']"
            ]
          },
          "metadata": {
            "tags": []
          },
          "execution_count": 32
        }
      ]
    },
    {
      "cell_type": "markdown",
      "metadata": {
        "id": "M9-2fjrkv7vs",
        "colab_type": "text"
      },
      "source": [
        "# STEP 3.3 COUNT VECTORIZER EXAMPLE "
      ]
    },
    {
      "cell_type": "code",
      "metadata": {
        "id": "-jAF6_JJv7vt",
        "colab_type": "code",
        "colab": {}
      },
      "source": [
        "from sklearn.feature_extraction.text import CountVectorizer\n",
        "sample_data = ['This is the first document.','This document is the second document.','And this is the third one.','Is this the first document?']\n",
        "\n",
        "vectorizer = CountVectorizer()\n",
        "X = vectorizer.fit_transform(sample_data)"
      ],
      "execution_count": 0,
      "outputs": []
    },
    {
      "cell_type": "code",
      "metadata": {
        "id": "iCZjm307v7vw",
        "colab_type": "code",
        "colab": {
          "base_uri": "https://localhost:8080/",
          "height": 34
        },
        "outputId": "20eb4ec4-c5ad-411a-a0d7-6904759ab1b6"
      },
      "source": [
        "print(vectorizer.get_feature_names())"
      ],
      "execution_count": 35,
      "outputs": [
        {
          "output_type": "stream",
          "text": [
            "['and', 'document', 'first', 'is', 'one', 'second', 'the', 'third', 'this']\n"
          ],
          "name": "stdout"
        }
      ]
    },
    {
      "cell_type": "code",
      "metadata": {
        "id": "-VjlMvxjv7vz",
        "colab_type": "code",
        "colab": {
          "base_uri": "https://localhost:8080/",
          "height": 85
        },
        "outputId": "b0986e31-b32f-45a9-e558-7ce47a419356"
      },
      "source": [
        "print(X.toarray())  "
      ],
      "execution_count": 36,
      "outputs": [
        {
          "output_type": "stream",
          "text": [
            "[[0 1 1 1 0 0 1 0 1]\n",
            " [0 2 0 1 0 1 1 0 1]\n",
            " [1 0 0 1 1 0 1 1 1]\n",
            " [0 1 1 1 0 0 1 0 1]]\n"
          ],
          "name": "stdout"
        }
      ]
    },
    {
      "cell_type": "markdown",
      "metadata": {
        "id": "qvQkFzLkv7v1",
        "colab_type": "text"
      },
      "source": [
        "# APPLY THE PREVIOUS THREE PROCESSES TO OUR SPAM/HAM EXAMPLE"
      ]
    },
    {
      "cell_type": "code",
      "metadata": {
        "id": "rdRmoerEv7v2",
        "colab_type": "code",
        "colab": {}
      },
      "source": [
        "# Define a pipeline to clean up all the messages \n",
        "# The pipeline performs the following: (1) remove punctuation, (2) remove stopwords\n",
        "\n",
        "def message_cleaning(message):\n",
        "    Test_punc_removed = [char for char in message if char not in string.punctuation]\n",
        "    Test_punc_removed_join = ''.join(Test_punc_removed)\n",
        "    Test_punc_removed_join_clean = [word for word in Test_punc_removed_join.split() if word.lower() not in stopwords.words('english')]\n",
        "    return Test_punc_removed_join_clean"
      ],
      "execution_count": 0,
      "outputs": []
    },
    {
      "cell_type": "code",
      "metadata": {
        "id": "BI3V_f4jv7v5",
        "colab_type": "code",
        "colab": {}
      },
      "source": [
        "# Test the newly added function\n",
        "spam_df_clean = spam_df['text'].apply(message_cleaning)"
      ],
      "execution_count": 0,
      "outputs": []
    },
    {
      "cell_type": "code",
      "metadata": {
        "id": "9JaIdk8Rv7v7",
        "colab_type": "code",
        "colab": {
          "base_uri": "https://localhost:8080/",
          "height": 54
        },
        "outputId": "64f47da6-acbb-40c9-e087-a5c507fb9830"
      },
      "source": [
        "print(spam_df_clean[0])"
      ],
      "execution_count": 39,
      "outputs": [
        {
          "output_type": "stream",
          "text": [
            "['Subject', 'naturally', 'irresistible', 'corporate', 'identity', 'lt', 'really', 'hard', 'recollect', 'company', 'market', 'full', 'suqgestions', 'information', 'isoverwhelminq', 'good', 'catchy', 'logo', 'stylish', 'statlonery', 'outstanding', 'website', 'make', 'task', 'much', 'easier', 'promise', 'havinq', 'ordered', 'iogo', 'company', 'automaticaily', 'become', 'world', 'ieader', 'isguite', 'ciear', 'without', 'good', 'products', 'effective', 'business', 'organization', 'practicable', 'aim', 'hotat', 'nowadays', 'market', 'promise', 'marketing', 'efforts', 'become', 'much', 'effective', 'list', 'clear', 'benefits', 'creativeness', 'hand', 'made', 'original', 'logos', 'specially', 'done', 'reflect', 'distinctive', 'company', 'image', 'convenience', 'logo', 'stationery', 'provided', 'formats', 'easy', 'use', 'content', 'management', 'system', 'letsyou', 'change', 'website', 'content', 'even', 'structure', 'promptness', 'see', 'logo', 'drafts', 'within', 'three', 'business', 'days', 'affordability', 'marketing', 'break', 'make', 'gaps', 'budget', '100', 'satisfaction', 'guaranteed', 'provide', 'unlimited', 'amount', 'changes', 'extra', 'fees', 'surethat', 'love', 'result', 'collaboration', 'look', 'portfolio', 'interested']\n"
          ],
          "name": "stdout"
        }
      ]
    },
    {
      "cell_type": "code",
      "metadata": {
        "id": "5matxzcvv7v-",
        "colab_type": "code",
        "colab": {
          "base_uri": "https://localhost:8080/",
          "height": 54
        },
        "outputId": "d19b1315-1f59-48bb-9ce0-87abca413fae"
      },
      "source": [
        "print(spam_df['text'][0])"
      ],
      "execution_count": 40,
      "outputs": [
        {
          "output_type": "stream",
          "text": [
            "Subject: naturally irresistible your corporate identity  lt is really hard to recollect a company : the  market is full of suqgestions and the information isoverwhelminq ; but a good  catchy logo , stylish statlonery and outstanding website  will make the task much easier .  we do not promise that havinq ordered a iogo your  company will automaticaily become a world ieader : it isguite ciear that  without good products , effective business organization and practicable aim it  will be hotat nowadays market ; but we do promise that your marketing efforts  will become much more effective . here is the list of clear  benefits : creativeness : hand - made , original logos , specially done  to reflect your distinctive company image . convenience : logo and stationery  are provided in all formats ; easy - to - use content management system letsyou  change your website content and even its structure . promptness : you  will see logo drafts within three business days . affordability : your  marketing break - through shouldn ' t make gaps in your budget . 100 % satisfaction  guaranteed : we provide unlimited amount of changes with no extra fees for you to  be surethat you will love the result of this collaboration . have a look at our  portfolio _ _ _ _ _ _ _ _ _ _ _ _ _ _ _ _ _ _ _ _ _ _ _ _ _ _ _ _ _ _ _ _ _ _ _ _ _ _ _ _ _ _ _ _ _ _ _ _ _ _ _ _ not interested . . . _ _ _ _ _ _ _ _ _ _ _ _ _ _ _ _ _ _ _ _ _ _ _ _ _ _ _ _ _ _ _ _ _ _ _ _ _ _ _ _ _ _ _ _ _ _ _ _ _ _ _ _\n"
          ],
          "name": "stdout"
        }
      ]
    },
    {
      "cell_type": "markdown",
      "metadata": {
        "id": "PKlvjBhjv7wC",
        "colab_type": "text"
      },
      "source": [
        "# APPLY COUNT VECTORIZER TO OUR MESSAGES LIST"
      ]
    },
    {
      "cell_type": "code",
      "metadata": {
        "id": "cRO2TNbOv7wC",
        "colab_type": "code",
        "colab": {}
      },
      "source": [
        "from sklearn.feature_extraction.text import CountVectorizer\n",
        "# Define the cleaning pipeline we defined earlier\n",
        "vectorizer = CountVectorizer(analyzer = message_cleaning)\n",
        "spamham_countvectorizer = vectorizer.fit_transform(spam_df['text'])\n"
      ],
      "execution_count": 0,
      "outputs": []
    },
    {
      "cell_type": "code",
      "metadata": {
        "id": "1--ZcQQhv7wF",
        "colab_type": "code",
        "colab": {
          "base_uri": "https://localhost:8080/",
          "height": 54
        },
        "outputId": "6560e4bc-dbfb-4bbf-917e-794cd88c0cff"
      },
      "source": [
        "print(vectorizer.get_feature_names())\n"
      ],
      "execution_count": 42,
      "outputs": [
        {
          "output_type": "stream",
          "text": [
            "['\\x01', '\\x02', '\\x03', '\\x05', '\\x06', '\\x07', '\\x08', '\\x0f', '\\x10', '\\x12', '\\x14', '\\x15', '\\x19', '0', '00', '000', '0000', '000000', '00000000', '0000000000', '000000000003619', '000000000003991', '000000000003997', '000000000005168', '000000000005409', '000000000005411', '000000000005412', '000000000005413', '000000000005820', '000000000006238', '000000000006452', '000000000007494', '000000000007498', '000000000007876', '000000000010552', '000000000011185', '000000000012677', '000000000012734', '000000000012735', '000000000012736', '000000000012738', '000000000012741', '000000000012987', '000000000013085', '000000000013287', '000000000015384', '000000000015793', '000000000023619', '000000000024099', '000000000025307', '000000000025312', '000010220', '0000102317', '0000102374', '0000102789', '0000104281', '0000104282', '0000104486', '0000104631', '0000104730', '0000104776', '0000104778', '0000107043', '0000108729', '000066', '0001', '000166', '0002', '000202', '0003', '0004', '0005', '0006', '00076', '0009249480', '0009249481', '0009249504', '0009249505', '0009249506', '001', '0011', '0015', '00193', '002', '00225', '00235424', '002813', '0029', '003', '0031', '003399', '00343938', '004', '0044', '00453', '005', '0052', '0054', '0057', '006', '0061', '00623', '007', '0080', '00971', '01', '010', '0100', '01019', '0102', '0107', '01075', '0109', '011', '0110', '011000', '0115', '011601', '01210', '0125', '012501', '012601', '013', '014', '0141', '015', '01500', '016', '0160', '017', '0171', '017201846', '0181', '01867', '01880', '01890', '0190', '0191', '01928923', '02', '020', '0200', '020130', '0202', '0207', '0208', '021', '02138', '0214', '02142', '02155', '02163', '022', '02215', '0227000', '022900', '023', '023154', '025', '02539', '026', '0263', '028', '0291', '0295', '03', '030', '0300', '0305', '0308', '0309', '031', '0311', '0313', '0314', '0315', '032', '0329', '0330', '03302', '0335', '0342', '0348', '0351', '0357', '0361', '0363', '0367826', '03755', '039', '0390', '0396', '04', '040', '0400', '0404', '0408', '0413', '0417', '0421', '0423', '0424', '0428', '043', '0434', '0435', '0439', '044', '0447', '046', '0477', '048', '0489', '049', '05', '050', '0500', '0503778', '0504918', '050719125947', '051', '051102', '0521', '0521782325', '0526', '0529', '053', '054', '0541', '0543', '055', '0551', '0555', '0567', '0573', '0578', '0582', '0587', '058862', '0596', '06', '0600', '0602', '0603', '061', '0625', '063', '0634', '0636', '0643', '06484', '0651', '0653', '0664', '0667', '067', '0672', '068', '0681', '0688', '06902', '0693', '07', '070', '0700', '0702', '070300', '07047', '0706', '070600', '070700', '071', '0710', '071000', '07102', '071100', '0713', '071300', '071400', '071800', '072', '072000', '072100', '072500', '072600', '072700', '0728', '072800', '073', '073100', '0732', '0738', '0740', '0741', '075530', '075983628', '0765', '0768', '0774', '07747', '0775', '07828', '07971', '0799', '08', '0800', '0802', '08053', '08074200', '0815', '082', '0820', '083', '084', '0852', '086', '0881', '0886', '0889', '0893', '0898', '09', '090', '0900', '0906', '09075930', '0908', '091', '09176', '092', '0920', '0923', '0923182', '0924', '093', '0933', '0934', '09359978', '09359984', '09360007', '09360194', '09360200', '09360393', '09360462', '09360592', '09360701', '0943', '0961', '0977', '0985', '09886', '099', '0990', '0991', '0994', '0999', '1', '10', '100', '1000', '10000', '100000', '100038', '10005', '10006', '10007', '1001', '10012', '10017', '1002', '10022', '10024', '1003', '10030', '100309', '100348', '1004', '100467', '1005', '1009', '101', '1010', '10118', '10128', '1013', '1016', '101800', '1019', '102', '1020', '1022', '1022002', '1024', '1026', '102789', '102843', '103', '1030', '10300', '103058', '10320', '1033', '1034', '10341', '1035', '1038711', '104', '10408', '104281', '104282', '104486', '104546', '104776', '105', '1050', '105006', '10501', '105043', '1054', '105764', '105896', '106', '1063', '10640', '1068238', '1069', '107', '10700', '107043', '1071', '1075', '107780', '1079', '108', '1087', '109', '1092', '1093', '1095', '1097', '1099', '11', '110', '1100', '1105', '110520', '1106', '1109', '111', '1110', '11101', '11101024', '1111', '1112', '1115', '112', '1120', '1121770867', '11240', '1126', '113', '1132', '1139', '114', '1140', '1143', '1144', '1145', '1147', '1148', '1149', '114900', '115', '1152', '1153', '1155', '116', '1163', '11654', '116595', '117', '1175', '1179', '118', '11822', '1187', '1188', '119', '11956', '1196', '12', '120', '1200', '12000', '1201', '1203', '120415', '1206', '1207', '1208', '1209', '121', '1210', '1211', '1212', '1218', '122', '1223', '1227', '1229', '123', '1231', '1232', '1234', '123542', '1239', '12390', '124', '1243', '1244', '125', '12500', '1251', '1252', '125217', '125219', '125220', '125223', '1254', '126', '126041', '1262', '126432211', '1266', '126812', '1269', '127', '128', '1280', '129', '12973228', '1298', '1299', '13', '130', '1300', '13000', '1302', '13026', '1303', '1308', '131', '1311', '1313', '1314', '1317', '1319', '132', '1323', '1326', '133', '1330', '13317089', '1332', '13326', '1333395', '1333398', '133777', '1339', '134', '1341', '13417514', '1345218', '1346', '1347', '1348', '135', '1350', '136', '1360', '1362', '13662', '13681', '1369', '137', '13710', '1373', '138', '1380', '1382', '1383', '1385', '139', '14', '140', '1400', '1403', '14041', '140456', '14068', '14092', '141', '1411', '1412', '14123', '1413', '1414', '142', '1421', '14216', '1424', '1426', '142756', '143', '1438', '143974', '144', '1440', '1444', '145', '1450', '1451', '14515', '1453', '1457', '1459', '146', '1461', '1465', '1467', '147', '1470', '148', '1481', '1483', '1487', '148820', '149', '149285', '15', '150', '1500', '15000', '1507', '151', '1510', '1511', '15116', '15120', '1515', '15177', '1519', '152', '1521', '15213', '1523', '1524', '1525', '153', '1530', '1533', '1534', '1535', '154', '1540', '1543', '1545', '155', '15500', '156074', '1562', '156489', '1565', '157', '1572', '1575332211111', '1579580025', '158', '1580', '158545', '159', '16', '160', '1600', '16008', '161', '16102', '1615', '1618', '162', '1620', '162182', '1622', '1628', '163', '1631', '1635', '164', '1643', '1645', '165', '16500', '1654614', '1658999', '166', '1667', '167', '1672', '1676', '1678', '168', '1681', '16822', '1685', '169', '1692062', '1692093', '1697', '17', '170', '1700', '1701', '1704', '1708', '171', '1717', '172', '1720', '1722452', '173', '1730', '1735', '174', '1740', '1741', '175', '1753', '176', '17600', '1762', '17639', '1769', '177', '1776', '1777', '178', '179', '1790', '1796', '17996', '18', '180', '1800', '18048', '1807', '181', '1810', '1816', '182', '1823', '1825', '1827', '1829', '1830', '1836', '1839', '184', '18400', '1845', '1846', '1848025', '185', '18525', '1854', '185530', '185531', '1859', '186', '1860', '1862', '1864', '187', '1877', '1878', '1879', '188', '1880', '189', '1890', '1892', '1894', '189643322211', '1897', '19', '190', '1900', '1901', '1902', '1903', '1904', '1905', '1906', '1907', '1908', '1909', '191', '1910', '19103', '19104', '1911', '1912', '1913', '1914', '1915', '1916', '191694', '1917', '1918', '1919', '192', '1920', '1921', '1922', '1923', '1924', '1925', '1926', '1927', '1928', '1929', '193', '1930', '1931', '1932', '1933', '1934', '1935', '193557', '1936', '1937', '1938', '1939', '194', '1940', '1941', '1942', '19424', '1943', '1944', '1945', '1946', '1947', '1948', '1949', '195', '1950', '1951', '1952', '1953', '1954', '1955', '195546', '1956', '1957', '1958', '1959', '196', '1960', '1961', '1962', '1963', '1964', '196445', '1965', '1966', '1967', '19670120', '19673', '1968', '1969', '197', '1970', '1971', '1972', '1973', '1974', '1975', '1976', '1977', '1978', '1979', '1980', '1981', '1982', '1983', '1984', '1985', '1986', '1987', '1988', '1989', '199', '1990', '1991', '1992', '1993', '1994', '1995', '1996', '1997', '1998', '19980801', '19980802', '19980803', '1999', '2', '20', '200', '2000', '20000', '200000', '20000808', '20001', '2000208', '20004', '20006', '200081', '2001', '20010423', '20010427', '20010430', '20010504', '20016', '2002', '2003', '20032', '2004', '20046', '2005', '2005071819', '20052', '20055', '20058', '2006', '2007', '2009', '201', '2010', '20108', '2011', '20110550', '2012', '2013', '2016', '2018', '20190', '202', '2020', '2020269', '2023', '20257', '2026', '202803', '20284', '202885', '2029', '203', '20328', '2034', '2036', '2038', '204', '20410', '205', '2050', '2051', '20537', '20549', '206', '207', '207161', '20742', '2076', '208', '2085', '209', '2092', '2099', '21', '210', '2100', '2100805', '2103', '211', '2114', '2119', '212', '21204', '21231', '2125', '2129', '213', '2130', '2136', '21362', '21377', '214', '2144', '215', '2150', '2155', '215573', '2158', '216', '2161', '2163', '2169', '217', '2174', '2175', '218', '2181', '218135092134', '2184', '21846', '2185', '2187', '219', '2192', '21931', '2195', '21960', '21982', '22', '220', '220056020109', '22031', '22042', '2205', '2209', '221', '2214', '222', '2222', '2224', '2227', '222790264808428', '2228', '223', '22306', '22311', '22343', '2238', '224', '2241', '2243', '22494', '225', '2250', '2258', '226', '2260', '2262', '227', '2270', '22715', '2273', '2277', '228', '2282', '229', '2293', '2298', '23', '230', '2300', '230088', '2302', '23023834', '23031', '2306', '231', '2310', '231175433222211111111', '2312', '23123', '23133', '2316', '2319', '232', '23220', '2326653', '233', '2330', '234', '2340', '2344', '23463', '234875', '235', '2355', '2357', '236', '237', '2372', '238', '2385', '23875', '23887', '239', '2396', '2397', '2398', '24', '240', '2400', '2404', '2405', '241', '2415', '2416', '242', '2426', '243', '24344', '2438', '24393', '244', '24406', '2443308', '2447', '245', '246', '24632', '2466', '247', '2472', '24772', '248', '2480', '24815387', '24815476', '24815595', '24815602', '24815692', '24815823', '24815886', '24816188', '24817159', '24817172', '2485', '249', '2495', '24962', '2497', '25', '250', '2500', '2503', '25031', '251', '2516', '25177', '252', '2521', '2522', '2523', '253', '254', '2545', '2549', '255', '2554', '256', '2562', '2569', '2570', '2571', '25711', '2573', '2575', '2577', '257853', '258', '2581', '2585', '259', '2593', '2598', '2599', '26', '260', '2600', '260600', '261', '2615', '26173', '262', '2624', '2626', '2628', '26299', '263', '26307', '2631', '26342', '2636', '26371545', '264', '2642', '26429889', '2649', '265', '2659', '266', '267', '2678', '2679', '268', '2680', '2681', '269', '2695', '27', '270', '2700', '27000', '270063', '2701', '27087', '271', '2710', '27104', '27121', '271595', '271599', '271616', '271618', '271619', '271675', '271677', '271679', '271733', '271737', '271739', '271742', '271745', '271753', '271763', '271765', '271767', '271777', '2718295', '2722', '2728', '272972', '273', '2732', '27342', '2737', '274', '275', '2753', '27540', '276', '2761', '2768', '2771', '27724263169', '278', '278312', '2787', '279', '2794', '2799', '28', '280', '2800', '2802', '2804', '2806', '281', '2812', '282', '28217', '28287', '283', '2836', '284', '2840', '28403', '285', '28599', '286', '2861', '2868', '287', '288', '28830', '2888', '289', '28940', '2896', '29', '290', '291', '2910', '2911', '292', '2922', '29264', '2929', '293', '2930', '293053', '2935', '293622', '2938', '294', '29415', '295', '2950', '296', '2963', '2964', '2965', '29652', '2966', '2968', '297', '2970', '297055', '2971', '2975', '298', '2987', '299', '2990', '299070', '2995', '3', '30', '300', '3000', '30005', '300299717499832716', '3005', '301', '3011', '3013', '3014', '302', '3021', '3022', '3025', '303', '30309', '30314', '30322', '30329', '30332', '30349', '3036', '3037', '30395', '30396', '304', '3040', '30423', '30429', '3046', '304735', '305', '30516347', '30516488', '30516641', '30519723', '30519725', '3057', '306', '3062', '30649', '3069', '3073', '3079', '308', '3080', '3084', '30891', '309', '3092', '30936', '3094', '30968', '3098', '3098358', '31', '310', '3100', '3107', '3108', '3109', '311', '3110994415', '3113', '3118', '312', '3121', '31212', '3125', '31261', '313', '3130', '31301', '3131', '3132', '3135', '314', '31411', '315', '3152', '31545', '3156', '316', '3162', '31631', '31641', '31645', '317', '318', '3181', '3182', '3185', '31881', '319', '31914', '31935', '31939', '32', '320', '3200', '32004', '3201', '32053', '320719', '321', '3210', '3212', '3214', '322', '3224', '3227', '323', '32301', '32342055', '32357817', '3237', '3238', '3239', '324', '3240', '3242', '3243', '32430', '3247', '325', '3252', '3258', '326', '32611', '3264', '32663', '3267', '3268', '327', '3270', '3273', '3274', '32746', '3277', '3283', '329', '329090', '329091', '329488', '3297', '32974', '33', '330', '3302', '330206', '3304', '33077', '33092', '33098', '331', '3312635', '3313', '33130', '33135', '33145', '33155', '33175', '33181', '332', '3321', '3322', '3324', '3326', '3327', '3327373', '333', '3330', '33304', '33316', '3333', '33345', '33376', '334', '33406', '3341', '3341644', '3344', '33461428', '33467', '335', '3355', '33557', '33565', '336', '33620', '3364', '3370', '33710', '33756', '3377', '338', '3383', '33841', '339', '33906', '339063', '33914', '33919', '3393', '339638', '339701', '33995', '34', '340', '3400', '3401', '34073', '341', '3410', '3411', '3414', '3419', '342', '34229', '34238', '3425342', '3426', '34276', '342957', '343', '34305', '34310', '34327', '34346', '3441', '3442', '345', '3450', '34525', '34529', '3458', '346', '3463', '3464', '3466', '347', '34710', '34748', '34761', '34768', '34778', '34791', '348', '34804', '3483', '3487', '34876', '349', '3491', '35', '350', '3500', '3502', '3506', '3510', '35141', '35150', '35163', '3518', '352', '35202', '3521', '3522', '3524', '3527', '35275', '3528', '35290', '35299', '353', '3531', '3533', '3534', '35383', '354', '3541', '354235', '35435', '35459', '35485', '355', '3550', '3552', '35536', '35562', '356', '3568', '3569', '357', '3573', '3577', '358', '35800', '35806', '35810', '35814', '3583', '3585', '3589', '359', '3591', '35957', '3597', '35980', '36', '360', '3600', '361', '3614', '3617', '362', '3622', '36226', '36271', '3628', '36286', '36304', '36336', '3638', '36388', '3639', '3642', '364463', '365', '36500', '3651', '3652', '366', '3661', '36615', '36628', '36631', '3664', '3667', '367', '36726', '36763', '36777', '368', '3681', '36810', '3683', '3688', '36898', '369', '3694', '3695', '3696', '36993', '37', '370', '3700', '3701', '37039', '3705', '371', '3712', '3718', '3719001', '3719003', '3719004', '3719005', '3719006', '3719007', '3719008', '3719009', '3719010', '372', '3727', '37275', '37296', '3733', '37351', '37354', '37359', '3736', '374', '37408', '37462', '375', '3750', '3755', '376', '37632', '3767', '37685', '37698', '377', '3771', '37772', '37775', '379', '38', '380', '3800', '3808', '381', '3814', '3817', '38190336', '38190522', '38190577', '38191009', '38191017', '38191062', '38191228', '38191261', '3820', '383', '3831', '3836', '384', '3848', '385', '3850', '3853', '3858', '386', '3860', '3861', '387', '38711', '38798780', '388', '3888', '389', '3890', '3896', '3897', '39', '390', '39038', '39062', '39093', '391', '3910', '3914', '3918', '39189', '392', '39233', '3929', '393', '3930', '3939', '39390', '3943', '39435', '3944', '3945', '3949', '395', '3950', '39510', '39525', '39540', '396', '39635', '3964', '39665', '3968', '39685', '397', '39719', '39737', '39763', '398', '39804', '39806', '39866', '399', '3991', '39934', '3997', '39990', '4', '40', '400', '4000', '400250', '401', '401020003963', '401220', '401221', '4016', '4018', '402', '40245', '4026', '4027', '403', '403120', '4031476', '4038', '404', '4040', '4045', '405', '4052', '4055', '4057', '406', '4060', '407', '4073', '408', '409', '40901', '4095', '41', '410', '4100', '411', '4117', '4119', '412', '412144', '413', '4133', '4135', '4140', '4146', '415', '4156', '4157', '416', '417', '4176', '418', '4187', '4188', '419', '42', '420', '4200', '42000', '421', '4210', '42108', '4215', '4217', '4219', '422', '4220', '4224', '423', '4234', '4235', '4241492', '4249859609', '425', '426', '4262', '4263', '42745', '4275', '4277', '428', '4280', '4283', '429', '43', '430', '4302', '4305', '4308', '430928', '431', '4311', '4312', '4313', '4315', '43162', '431620', '43163', '43164', '43165', '432374', '433', '4332', '4334', '435', '4357', '436', '4364', '437', '438', '4380', '439', '4394', '44', '440', '4400', '4403', '4409', '441', '4415', '4416', '4417', '443', '4432', '4438', '444', '4440', '4444', '4445', '44561', '446', '447', '447092868687', '4473', '448453342783', '4486', '4487', '449', '4492', '45', '450', '4500', '4503', '4505', '4508', '451', '4514', '451971', '452', '45242', '453', '4535', '454', '4541', '4544', '4545', '45582', '456', '4563', '4567', '457', '4573', '45780030', '458', '4584', '4589', '4592', '4593', '45930', '46', '460', '4600', '4601', '46040110', '4611', '4612', '4623', '463', '4634', '4636', '4638', '464', '4650', '4651', '4653', '4665', '46679', '467', '4672', '4677', '4678', '468', '4687', '46939', '4699', '47', '470', '4701', '4702', '4703', '4704', '4705', '4706', '4707', '4708', '4709', '471', '4710', '4710587', '4711', '4712', '4713', '4714', '4715', '4715252', '4716', '4717', '4718', '4719', '472', '4720', '4721', '472179', '4722', '4723', '4724', '472401', '4725', '4727', '473', '4738', '4739', '474', '4740', '4741', '4742', '4743', '4744', '4745', '4746', '4746683', '4747', '4748', '475', '4750', '4752', '4753', '476', '4761', '4768', '477', '4772236', '4777', '478', '4787', '479', '4790', '48', '480', '4800', '4804', '4806', '4807', '4808', '4816', '482', '483', '4831', '4832', '484', '4841424152', '48463', '4856', '4858', '4869', '487', '4881', '489', '4891', '4895', '49', '490', '4900', '491', '4910', '4916', '492', '49227', '4927', '49297', '493', '494', '4948', '495', '496', '496185687', '497', '4970', '4971', '4975', '498', '499', '4996', '5', '50', '500', '5000', '50003', '5000838', '5001', '50011', '50028', '5003', '50049', '5005', '5007', '5008', '50088', '501', '5010', '5012', '5015', '501609', '501778', '5018', '502', '5021', '5023', '502373', '502876', '503', '5030', '50309', '5034', '50346', '50352', '50355', '504', '5049', '505', '5052', '5056', '506', '5060', '5062', '507', '50707', '5072', '5073', '5077', '507712', '508', '5081', '5083', '5086233', '5088', '5088018', '509', '5092', '51', '510', '5100', '51002180', '5101', '5103', '5104934', '5110', '5116', '5117', '511771', '512', '5128', '513', '514', '5140', '514849', '515', '516', '51647', '5166', '517', '5173', '51792087', '518', '5182', '5183', '5188', '5189', '519', '5193', '5194', '5198', '52', '520', '5200368', '5202', '5205', '520557', '52098236', '521', '5214', '522', '5220', '523', '5230', '524', '5243', '5246', '5247', '5248', '525', '5251', '5255', '526', '5260', '5262719', '5265', '527', '5271', '5272', '5278', '5279421', '528', '5282', '529', '5290', '53', '530', '5300', '531', '5317', '532', '53214', '5323', '53240', '5327', '534', '5342', '5347', '535', '5355', '5356', '536', '5362', '5365', '537', '5375', '5376', '5377', '5378', '538', '5383', '5384', '5385', '53860', '5388', '5389', '539', '5394', '5396', '5397', '5399', '54', '540', '5400', '5404', '54049', '54057', '541', '5411', '5415', '5418', '5419', '542', '5424', '5425', '5428', '544', '5440', '5441415', '54426', '545', '5454', '5455277', '5458', '546', '547', '54713', '5476', '547743', '548', '5484', '5485', '549', '54903', '5496', '5499', '55', '550', '5500', '5503', '55083', '551', '55162', '552', '5525', '553', '55304', '5531', '5532', '5536', '554', '555', '5554', '5555', '55552', '5570', '5571', '5580', '5585', '5589', '559', '56', '560', '5600', '560076', '5601', '560107', '5608', '561', '5614', '5615', '5617', '562', '5628', '5629', '563', '56318', '5633', '564', '5647', '56470', '565', '5650', '5656', '567', '5670', '5673', '5675', '5677', '567842', '568', '5680', '5685', '5688', '569', '57', '570', '57004', '5701', '5702', '5706', '571', '5710', '572', '5722', '5727', '5728', '573', '57339', '57389', '574', '574828', '574841545', '575', '57538', '5757', '5758', '57583', '576', '5761', '5762', '577', '5775', '5781', '57843', '579', '57919', '58', '580', '5800', '5806', '58064', '58083', '581', '5813', '58158', '58165', '58174', '582', '5825', '5830', '583092', '583192', '58322', '58369', '584', '585', '5853', '5862', '5863', '5864', '58654', '5869', '587', '58701', '58714', '588', '5882', '589', '58983', '59', '5908', '5912', '5914', '592', '5932', '5935', '5936', '59385', '594', '5941', '5945', '595', '59545', '5958', '5967', '597', '5973', '598', '5982', '5984', '5988', '5989', '59899', '599', '59909', '5997', '6', '60', '600', '6000', '6002', '6011', '6016', '60185', '60187', '602', '6022', '603', '6032', '604', '60439', '605', '60517', '60540', '60618', '60637', '607', '6070', '6072', '6073', '60763006', '608', '6081', '6087', '608831', '609', '6090', '61', '610', '6100', '6114', '6117', '612', '6123', '612666', '61296', '613', '6133', '614', '6140', '61432', '6145', '61463', '6148', '615', '616', '6165', '6167', '617', '6176', '618', '6185', '6188', '619', '61900', '62', '620', '6200', '6200600', '6207', '6209', '621', '622', '6222', '6223', '623', '624', '6242', '6245', '625', '6250', '626', '627', '6274', '6275', '628', '6283', '6286', '629', '62964', '6297', '63', '630', '6300', '6308', '6310', '6311', '6313168', '6316465', '6320', '6321', '6335', '6346', '6348495', '6354', '636', '6361', '6363', '6364', '6366', '6369', '637', '6371', '6374', '63765', '63778', '6380', '6388', '6397', '64', '640', '64000', '640107', '6413', '6416', '642', '6423', '6424', '6429', '6429856', '6433', '644', '6446', '6457', '646', '6460', '647', '64701565', '6477', '6484', '649', '6493', '6499', '65', '650', '650697', '650698', '650699', '6509', '651', '6513', '6519', '652', '6521', '6524', '6525', '6529', '653', '654', '6540595', '6544', '6547', '655', '656', '6560', '657', '6570', '658', '6584050', '6586', '6589', '659', '6592', '6595', '66', '660', '6600', '6601', '6609', '661', '6615', '663', '6633', '664', '6647', '665', '66503', '66552', '6658', '666', '6661', '666354', '6666', '6667', '667', '6671', '6674', '6675', '6676', '668', '6680', '6683', '6688', '669', '6692', '67', '670', '6701', '67081', '671', '6717', '672', '6724', '6726', '673', '674', '67446', '675', '6750', '6751', '6754', '67554', '676', '6761', '677', '6773', '6778', '678', '6785', '6788', '679', '6795104', '67967', '68', '680', '6804', '68050', '68060', '681', '68103', '68131', '6814', '682', '68202', '6824', '6826', '683', '6837', '684', '6848', '685', '6855', '686', '6861', '6864', '687', '6875257', '6883760', '6885', '689', '6891', '68912', '6892', '6893', '6897', '6899', '69', '690', '6906', '691', '692', '692295', '6923', '693', '6933', '6938', '6943', '694308', '6945', '695', '697', '6978', '698', '6985', '6986571', '699', '6990', '6993056', '6995', '6999', '7', '70', '700', '7001', '7002', '70058', '7009', '701', '70111', '702', '7020', '7025', '703', '704', '7040115431', '7041', '705', '7055', '7059', '70590202251232', '706', '707', '7072', '708', '70803', '7084', '709', '7094', '7099', '71', '710', '7100', '7105', '711', '71100', '7114068', '7114306', '7114833', '7117', '712', '7122', '713', '7130', '7131', '713248', '7136463011', '713838', '7138533848', '714', '7142', '7145', '715', '7152', '716', '7161', '7164', '7170', '7171', '7172', '7173', '718', '71819', '7183', '7185', '719', '7199', '72', '720', '720662', '721', '7211', '7212', '7217', '722', '7229', '723', '7230', '724', '725', '7252', '7257', '726', '7260', '7265', '7267', '727', '7273', '7282', '7283', '7286', '7288', '729', '7294', '73', '730', '7304', '7305', '731', '7313', '7315', '7317', '732', '7327', '733', '734', '735', '7352', '7358', '736', '7361', '7365', '7369', '737', '7371', '7378', '7381', '7385', '7386', '739', '7391', '7393', '74', '740', '7401', '7408', '741', '7411', '74112', '742', '74205', '74206', '7422', '7427', '743', '7435', '743692', '744', '74403', '7443', '74436558', '7446', '745', '746', '7460', '7462', '7466', '7467', '7469', '747', '7479', '748', '7484', '749', '7491', '749759', '7499', '75', '750', '7500', '75000', '75007', '751', '7517', '7519', '75201', '75205', '75219', '7525', '75261', '753', '7538', '7549', '7553', '7554', '7555', '756', '7562', '7568', '757', '7570', '75775', '7579', '758', '7583', '7585', '7588', '7589', '759', '7595', '7596', '76', '760', '7600', '7605', '7606', '76109', '7613', '762', '7626', '763', '765', '7657', '7668', '767', '7670', '7675', '7676', '76798', '768', '7682', '7696', '77', '770', '77002', '77005', '77006', '7701', '77010', '77025', '7704', '77042', '77056', '770594', '77077', '77094', '77098', '7712', '771661', '772', '77204', '7722', '77251', '77259', '773', '7731', '7733', '77381', '77387', '7740', '77478', '775', '7755', '7757', '77590', '776', '777', '7771', '7777', '7779', '778', '7780', '7783', '7785', '779', '78', '780', '7809', '781', '7811', '7817', '782', '7822', '78232', '783', '7833', '78351', '78361', '7847', '7853', '7857', '786', '787', '78705', '78711', '78712', '78720', '78731', '78746', '78751', '78752', '7877', '7889', '789', '7893', '7896', '79', '790', '7903518', '791', '7914', '7915', '7917', '7928', '793', '7930', '794', '7940', '795', '796', '7960', '7967', '797', '7975', '7979', '799', '7996', '7998', '7999', '8', '80', '800', '8000', '8001', '80021', '8003', '80047', '8006', '801', '8010', '80112', '802', '8020', '802258', '8023137978', '803', '8035', '8038', '804', '805', '8057', '806', '8066', '80686', '807', '8076', '8079', '8080', '8083', '8084', '8085', '809', '8090', '8091594', '8097', '81', '8100', '81018216102', '8102', '810348', '810810', '812', '8129', '813', '8136', '814', '8141', '8147', '8154', '816', '8163', '816554', '8167', '817', '81719', '8179', '818', '8180', '8186', '8189', '818932', '8199', '82', '820', '82023290', '82197', '822', '8222', '8227', '823', '823038069157', '8239856', '824', '825', '827', '828', '8286', '8287', '8288', '8289', '829', '83', '830', '8300', '830065', '831', '8311', '8318', '8319', '832', '8320', '8322', '8338', '8339082', '8342', '8350', '8352', '8357', '8361', '8366410', '837', '8377', '838', '838089', '8394', '84', '840', '8403', '840929', '841', '8416', '8417', '84221111000', '8424', '843', '8430', '8436', '8438', '845', '8456', '84590', '84604', '8466', '8467', '8468', '847', '8472', '8474', '8484', '849', '85', '850', '8500', '8511', '8516', '852', '8521', '853', '8539', '85396', '8545', '855', '8555', '856', '857', '8574', '858', '8582', '8588', '859', '8591', '8594030', '8595', '8599', '86', '860', '861', '862', '8624', '86256517', '86256525', '86256874', '8625689', '863', '864', '866', '8665', '8670', '8673', '868', '86813', '868131', '8687', '8690', '87', '870', '8701', '8704', '8706', '870879228701464', '871', '872', '8721', '8733', '8738', '874', '875', '87521812', '8756', '876', '8760', '8763', '877', '8776804806', '8777', '879', '87905', '87948774', '8795', '88', '880', '881', '882', '88216', '8821652098236', '8825', '8828', '883', '8830', '88310', '8834', '8836', '8838', '885', '8850', '88563580', '8859', '886', '8861', '8869', '887', '887413', '8876', '8877', '887960', '888', '8883', '8886', '8887', '889', '8892', '8895', '8896', '8897', '89', '890', '8900', '8903', '8909', '891', '89102', '8914', '892261', '8927', '893', '894', '8944318', '89451', '895', '8950', '8957', '8958', '8959', '896', '8960', '8963', '8969', '8975103', '898', '8980', '8981', '899', '8999', '9', '90', '900', '9000', '9001', '90012', '90012910', '9002', '90069', '9010', '9012', '90210', '9022360', '90230', '9029', '90301', '904', '9041', '9043', '905', '9059', '906', '9069', '907', '907595300', '908', '909', '91', '91001', '9106', '910946', '911', '9110', '91123', '9116', '912', '9122', '9123', '91237', '9128', '913', '91306', '914', '915', '915415', '916', '91663', '917', '91706', '9172', '9176', '918', '919', '919820501457', '919820640281', '92', '920', '9200', '92003', '92075', '921', '92109', '921245', '92201', '9223', '9229', '92298', '923', '9232', '9233', '924', '925', '92532', '9260', '92606', '92614', '92692', '927', '9273', '9283', '929', '9296', '93', '930', '9300', '9301', '931', '9318', '932', '9325599', '9326', '933', '934', '9340', '9341', '935', '9350', '9353', '9354', '9356', '93561', '9359', '936', '9361', '93610', '93612', '9364', '937', '938', '9387', '939', '939089', '939134', '93914', '94', '940', '9401', '94022', '94041', '94043', '9407', '941', '94107', '94111', '9416', '9419', '942', '9421000601', '9421000700', '9421020500', '943', '94305', '94306', '9438', '944', '945', '94515085', '94550', '94568', '9458', '946', '9460', '9463', '9469', '947', '94705', '94710', '94720', '9476', '9479', '948', '949', '9491', '9498132241', '949944', '95', '950', '95021', '951', '9510', '9511003117', '95113', '95125', '9515', '9517', '952', '95259', '953', '9531', '954', '9548', '955', '9551', '9554', '9558', '95615221', '9567', '957', '95833', '9584', '9595', '96', '960', '9600', '9603', '9609', '961', '9610', '9611', '9617', '962', '9624', '9628', '963', '964', '9642', '9645', '965', '9652', '9654', '96584', '9666', '9669', '967', '9677', '968', '9681', '96814', '9683', '969', '96939', '9695', '9698', '97', '970', '9700', '9709050', '971', '9712', '9719', '972', '97201', '9726', '9727', '973', '9730', '97305', '97306', '9731', '9737', '974', '9740', '97403', '9741', '97438', '9748', '975', '9750', '97501', '9758', '976', '9767', '977', '9779', '978', '978309', '979', '9791', '9796', '98', '9800', '98004', '9804', '981', '98111', '9813', '9819', '98195', '982', '9820', '98201', '98210', '98216', '983', '9830', '9835', '984', '984503', '98506', '986', '9864', '9867', '987', '9870', '9871', '988', '9880', '9883', '9885', '9886', '9888', '989', '99', '990', '9900', '9902', '991', '9910', '991815', '992002', '9930', '9934', '994', '9948', '995', '9953', '996', '9960', '9966', '997', '9970', '9975', '9978', '998', '9983', '9986', '9987', '999', '9991', '9997', '9999', 'Subject', 'aa', 'aaa', 'aaaenerfax', 'aadedeji', 'aagrawal', 'aal', 'aaldous', 'aaliyah', 'aall', 'aanalysis', 'aaron', 'aawesome', 'ab', 'aba', 'abacha', 'abacus', 'abahy', 'abaixo', 'abandon', 'abandoned', 'abandonment', 'abargain', 'abarr', 'abattoir', 'abb', 'abbas', 'abbestellen', 'abbott', 'abbreviated', 'abbreviation', 'abc', 'abcsearch', 'abdalla', 'abdallat', 'abdelnour', 'abdul', 'abdulla', 'abdullah', 'abeis', 'abel', 'abello', 'abels', 'aber', 'abernathy', 'abetted', 'abeyance', 'abf', 'abhay', 'abide', 'abidjan', 'abiiity', 'abilene', 'abilities', 'ability', 'abit', 'abitibi', 'abklaeren', 'abl', 'able', 'abler', 'abliged', 'ablx', 'ably', 'abn', 'abnegate', 'abnormal', 'abnormality', 'aboard', 'abolish', 'abondantly', 'abook', 'aboriginal', 'abormalities', 'abort', 'abortive', 'abouts', 'aboutthis', 'aboutus', 'aboutvenita', 'aboveground', 'abovenet', 'abovetelefax', 'abqewvbgf', 'abr', 'abraham', 'abramov', 'abramowicz', 'abrams', 'abrasive', 'abreast', 'abreo', 'abridged', 'abroad', 'abs', 'abscissa', 'absconded', 'absence', 'absense', 'absent', 'absolute', 'absolutely', 'absolutes', 'absolve', 'absolved', 'absorb', 'absorbing', 'absorbowac', 'absorbs', 'absorption', 'absoutely', 'abspielt', 'abstained', 'abstract', 'abstractive', 'abstracts', 'abstruse', 'absultely', 'absurd', 'abu', 'abuja', 'abundance', 'abundancegroup', 'abundant', 'abundantly', 'abuse', 'abused', 'abusive', 'abutler', 'aby', 'abyssinia', 'ac', 'acacia', 'academe', 'academia', 'academic', 'academically', 'academicians', 'academics', 'academy', 'acadia', 'acadrep', 'acc', 'accelerate', 'accelerated', 'accelerating', 'acceleration', 'accellerate', 'accent', 'accentuates', 'accenture', 'accept', 'acceptability', 'acceptable', 'acceptance', 'accepted', 'accepting', 'accepts', 'acces', 'accesing', 'acceso', 'accesos', 'access', 'accessed', 'accessenergy', 'accesses', 'accessibility', 'accessible', 'accessing', 'accessories', 'accident', 'accidentally', 'accidents', 'acclaimed', 'acclivity', 'accommodate', 'accommodates', 'accommodating', 'accommodation', 'accommodations', 'accomodate', 'accomodated', 'accomodates', 'accomodating', 'accomodation', 'accomodations', 'accomodative', 'accompanied', 'accompanies', 'accompanist', 'accompany', 'accompanying', 'accomplish', 'accomplished', 'accomplishemnts', 'accomplishing', 'accomplishment', 'accomplishments', 'accord', 'accordance', 'according', 'accordingly', 'account', 'accountability', 'accountable', 'accountant', 'accountants', 'accounted', 'accountif', 'accounting', 'accounton', 'accounts', 'accreditation', 'accredited', 'accrual', 'accruals', 'accrue', 'accrued', 'accruing', 'acct', 'accumuiation', 'accumulate', 'accumulated', 'accumulating', 'accumulation', 'accumulations', 'accuracy', 'accurate', 'accurately', 'accusation', 'accuse', 'accused', 'accustomed', 'accuweather', 'accuwx', 'ace', 'acelrate', 'acepta', 'acetylene', 'aceuticai', 'ach', 'aches', 'achievable', 'achieve', 'achieved', 'achievement', 'achievements', 'achieves', 'achieving', 'achy', 'acid', 'acidic', 'acima', 'acitivities', 'ack', 'acknowledge', 'acknowledged', 'acknowledgement', 'acknowledgements', 'acknowledges', 'acknowledging', 'acl', 'aco', 'acoh', 'acoplamentos', 'acpw', 'acquaint', 'acquaintance', 'acquainted', 'acquiescence', 'acquire', 'acquired', 'acquires', 'acquiring', 'acquisition', 'acquisitions', 'acre', 'acres', 'acrimony', 'acrobat', 'acronyms', 'across', 'acrylic', 'act', 'acted', 'acting', 'actinic', 'action', 'actions', 'activate', 'activated', 'activation', 'active', 'actively', 'activex', 'activities', 'activity', 'acts', 'actua', 'actual', 'actuality', 'actuallising', 'actually', 'actuallyreverses', 'actuals', 'actuarial', 'actuaries', 'actuary', 'actuators', 'acucmulated', 'acumen', 'acutal', 'acute', 'acxiom', 'acy', 'ad', 'ada', 'adage', 'adam', 'adamant', 'adamantly', 'adambob', 'adamik', 'adams', 'adapt', 'adapted', 'adapter', 'adapters', 'adapting', 'adaptive', 'adapts', 'adare', 'adauction', 'adclick', 'add', 'added', 'addendum', 'addicted', 'addictive', 'addin', 'adding', 'addiontionally', 'addition', 'additiona', 'additionai', 'additional', 'additionaliy', 'additionally', 'additionnal', 'additions', 'additive', 'additivity', 'additonal', 'addr', 'addres', 'address', 'addressdatabases', 'addressed', 'addressee', 'addressees', 'addresses', 'addressess', 'addressgood', 'addressing', 'addressl', 'addressmake', 'adds', 'addtion', 'adducing', 'ade', 'adedamola', 'adedeji', 'adel', 'adelaide', 'aden', 'adenauera', 'adenda', 'adenovector', 'adept', 'adequacy', 'adequate', 'adequately', 'adewale', 'adeyinka', 'adgas', 'adhadwal', 'adhar', 'adhere', 'adhered', 'adherence', 'adheres', 'adhering', 'adhesive', 'adhesives', 'adib', 'adicciones', 'adii', 'adina', 'adinfo', 'ading', 'adjacent', 'adjected', 'adjesting', 'adjohnso', 'adjourn', 'adjournment', 'adjourns', 'adjunct', 'adjuntos', 'adjust', 'adjustable', 'adjusted', 'adjusting', 'adjustment', 'adjustments', 'adjusts', 'adjutancy', 'adler', 'adm', 'admerchant', 'admin', 'adminder', 'administer', 'administered', 'administering', 'administers', 'administration', 'administrations', 'administrative', 'administratively', 'administrator', 'administrators', 'adminitrative', 'admins', 'adminscript', 'adminsitrative', 'adminstrative', 'admirably', 'admiral', 'admiration', 'admire', 'admired', 'admissible', 'admission', 'admissions', 'admit', 'admits', 'admittance', 'admitted', 'admix', 'admixture', 'admonition', 'adnan', 'adnoc', 'ado', 'adobe', 'adobechoose', 'adolescent', 'adolescentes', 'adolfo', 'adonna', 'adopt', 'adopted', 'adopting', 'adoption', 'adopts', 'adoration', 'adore', 'adovor', 'adp', 'adposition', 'adqueen', 'adreporting', 'adres', 'adress', 'adresse', 'adresses', 'adrian', 'adriana', 'adrianbold', 'adrianne', 'adrrf', 'ads', 'adshwe', 'adsini', 'adsl', 'aduit', 'adult', 'adultpaysites', 'adults', 'adultwebmasters', 'adupont', 'adv', 'advance', 'advanced', 'advancement', 'advances', 'advancing', 'advancve', 'advantage', 'advantageous', 'advantages', 'advantaqes', 'advent', 'adventure', 'adventurous', 'adverse', 'adversity', 'advertise', 'advertised', 'advertisement', 'advertisements', 'advertiser', 'advertisers', 'advertisersplash', 'advertising', 'advertizing', 'advice', 'advicer', 'advisable', 'advise', 'advised', 'advisement', 'adviser', 'advisers', 'advises', 'advising', 'advisor', 'advisors', 'advisory', 'advocacy', 'advocate', 'advocates', 'advocating', 'ae', 'aeasterby', 'aeecl', 'aegis', 'aeopublishing', 'aep', 'aer', 'aeremenko', 'aerify', 'aero', 'aerofoam', 'aerofoammetals', 'aeron', 'aeronautic', 'aeronautical', 'aeronavigation', 'aerons', 'aerospace', 'aerpac', 'aesop', 'aesp', 'af', 'afa', 'afaoaf', 'afast', 'afc', 'afdt', 'affair', 'affaire', 'affaires', 'affairs', 'affect', 'affected', 'affecteusement', 'affecting', 'affective', 'affects', 'affid', 'affidavit', 'affidavits', 'affiiiate', 'affiiiated', 'affiliate', 'affiliated', 'affiliates', 'affiliation', 'affiliations', 'affinity', 'affirmative', 'affirmed', 'affix', 'afflatus', 'afflicted', 'afflictions', 'affluence', 'affluent', 'afforable', 'afford', 'affordability', 'affordable', 'affordabowl', 'afforded', 'affords', 'afft', 'afire', 'afoot', 'aford', 'afore', 'aforementioned', 'afpe', 'afraid', 'afree', 'africa', 'african', 'africans', 'aft', 'afteading', 'aftermath', 'afternoon', 'afternoondc', 'afternoons', 'afterthought', 'afterward', 'afterwards', 'ag', 'aga', 'againstyear', 'agarwal', 'agarwalla', 'agarwallah', 'agato', 'agc', 'agdesteen', 'age', 'aged', 'agencies', 'agency', 'agenda', 'agendal', 'agendas', 'agent', 'agents', 'agentur', 'agerhardt', 'ages', 'agg', 'aggrandisement', 'aggregate', 'aggregated', 'aggregates', 'aggregating', 'aggregation', 'aggregator', 'aggressive', 'aggressively', 'aggressor', 'aghh', 'agileconcepts', 'agility', 'agin', 'aging', 'agitate', 'aglife', 'agnes', 'agnihotri', 'agnomen', 'ago', 'agowe', 'agradecer', 'agrawal', 'agree', 'agreeable', 'agreed', 'agreeing', 'agreelment', 'agreemeent', 'agreement', 'agreements', 'agrees', 'agressively', 'agresti', 'agri', 'agricaltural', 'agricultural', 'agriculture', 'agriculturists', 'agrocom', 'aguardando', 'aguardo', 'aguilar', 'agus', 'ah', 'ahad', 'ahamer', 'ahc', 'ahead', 'aherns', 'ahi', 'ahmad', 'ahmedabad', 'ahn', 'ahora', 'ahotsexycouple', 'ai', 'aiberta', 'aibums', 'aicohoi', 'aicohol', 'aid', 'aida', 'aidan', 'aide', 'aided', 'aider', 'aides', 'aids', 'aiesec', 'aieseec', 'aig', 'aihf', 'aii', 'aiias', 'aiignment', 'aiity', 'ail', 'aileen', 'ailiance', 'ailin', 'ailing', 'ailn', 'ailowing', 'ailures', 'aim', 'aima', 'aime', 'aimed', 'aimeedodson', 'aimfunds', 'aiming', 'aimone', 'aims', 'aine', 'ainsi', 'ainsley', 'aiong', 'air', 'airam', 'airbill', 'airbus', 'aircraft', 'aircrafts', 'aiready', 'aireal', 'aired', 'aires', 'airfaire', 'airfare', 'airfares', 'airgas', 'airing', 'airline', 'airlines', 'airliquide', 'airplane', 'airport', 'airports', 'airshed', 'airway', 'airworthiness', 'aisa', 'aisaac', 'aisha', 'aishling', 'aisle', 'aiso', 'ait', 'aithough', 'aitken', 'aiuminum', 'aiways', 'aix', 'aj', 'ajaokuta', 'ajay', 'ajello', 'aji', 'ajimenez', 'ajit', 'ajnam', 'ajo', 'ajudar', 'ak', 'aka', 'akaike', 'akamai', 'akdwyer', 'aked', 'akhave', 'akin', 'aklamann', 'akllp', 'aknowledging', 'akron', 'aktualnie', 'al', 'alabama', 'alabi', 'alaca', 'alacak', 'alacarteresearch', 'alain', 'alaina', 'alamo', 'alamonsoff', 'alamos', 'alan', 'alang', 'alarm', 'alarmas', 'alarms', 'alaska', 'alaskan', 'alaw', 'albanis', 'albeit', 'albert', 'alberta', 'alberto', 'albertson', 'albion', 'albo', 'albrecht', 'album', 'albums', 'alcantara', 'alcar', 'alcoa', 'alcohoi', 'alcohol', 'alda', 'alden', 'alder', 'alderman', 'aldous', 'ale', 'alea', 'alec', 'alegria', 'alejandra', 'alek', 'aleksander', 'aleksandra', 'alert', 'alerted', 'alerts', 'alev', 'alex', 'alexana', 'alexander', 'alexandria', 'alexey', 'alexios', 'alexis', 'alexmann', 'aley', 'alff', 'alfonso', 'alford', 'alfred', 'alfredo', 'algebra', 'algeria', 'algorithm', 'algorithmic', 'algorithmical', 'algorithmics', 'algorithmist', 'algorithms', 'alhaji', 'alhamd', 'ali', 'alias', 'alibi', 'alice', 'aliceposta', 'alicia', 'aliens', 'alight', 'align', 'alignment', 'alike', 'alimentation', 'alimony', 'aliow', 'aliows', 'aliphatic', 'alisa', 'alison', 'alittle', 'alive', 'alkalimetry', 'alkaline', 'alkalinity', 'alkhayat', 'alkiem', 'alla', 'allah', 'allan', 'allario', 'allay', 'allayannis', 'allayed', 'alldo', 'allegation', 'allegations', 'alleged', 'allegheny', 'alleging', 'allegoric', 'allen', 'allens', 'allerdings', 'allergies', 'alleviate', 'alleviations', 'alliance', 'allianceexpressl', 'alliances', 'alliant', 'allianz', 'alliece', 'allied', 'allison', 'alll', 'allmerica', 'allocate', 'allocated', 'allocating', 'allocation', 'allocations', 'allocution', 'allotted', 'allow', 'allowance', 'allowances', 'allowed', 'allowing', 'allows', 'alloy', 'allright', 'allstates', 'allude', 'alluded', 'alluding', 'allure', 'allusion', 'allusions', 'alluvium', 'ally', 'allyannis', 'alm', 'alma', 'almalarnzda', 'almaty', 'almazan', 'almelo', 'almighty', 'almost', 'alms', 'alnaca', 'aloe', 'alon', 'alone', 'along', 'alongside', 'alongwith', 'alonso', 'alot', 'alp', 'alpan', 'alpbach', 'alpbacher', 'alpha', 'alphabet', 'alphabetical', 'alphabetically', 'alphanumeric', 'alpharetta', 'already', 'alright', 'als', 'alsd', 'also', 'alst', 'alstom', 'alstrom', 'alt', 'alta', 'altadena', 'altair', 'altamont', 'altar', 'altemus', 'alter', 'altera', 'alteration', 'alterations', 'altercation', 'altered', 'alterman', 'alternate', 'alternately', 'alternative', 'alternatively', 'alternatives', 'alternativetry', 'alternatywne', 'alters', 'althea', 'although', 'althought', 'althrough', 'alto', 'altogether', 'altos', 'altosmgmt', 'altr', 'altra', 'altranet', 'altruist', 'altura', 'alu', 'aluguel', 'alum', 'aluminium', 'aluminum', 'alumni', 'alumnis', 'alumnus', 'alums', 'alvarado', 'alvarez', 'alvaro', 'alvin', 'always', 'alwyas', 'alynch', 'alyse', 'alyson', 'alysonfisher', 'alyssa', 'ama', 'amable', 'amadeus', 'amanah', 'amanda', 'amandam', 'amander', 'amarger', 'amarillo', 'amateur', 'amateurpetite', 'amateurs', 'amateursmut', 'amavisd', 'amaze', 'amazed', 'amazement', 'amaziing', 'amazing', 'amazingg', 'amazingly', 'amazon', 'ambani', 'ambassador', 'ambidextrous', 'ambiente', 'ambiguous', 'ambition', 'ambitions', 'ambitious', 'ambler', 'ambroshia', 'ambrosia', 'amc', 'amd', 'amedeo', 'amenable', 'amend', 'amended', 'amendements', 'amending', 'amendment', 'amendments', 'amends', 'amenworld', 'amer', 'amerada', 'ameren', 'america', 'american', 'americancentury', 'americanism', 'americans', 'americantvandfilm', 'americas', 'ameriflash', 'amerig', 'ameryki', 'ames', 'ametz', 'amex', 'amh', 'amherst', 'amicable', 'amicably', 'amicaliz', 'amid', 'amidst', 'amifs', 'amin', 'amir', 'amiry', 'amis', 'amit', 'amitava', 'amitavas', 'amititava', 'ammonia', 'ammunition', 'amnesty', 'amnis', 'amnm', 'amoco', 'amoine', 'among', 'amongst', 'amongthe', 'amonq', 'amonqthe', 'amos', 'amostra', 'amoung', 'amount', 'amounted', 'amounting', 'amounts', 'amountwithin', 'amour', 'amouth', 'amp', 'amphorae', 'ampl', 'ample', 'ampleamateurs', 'amplifying', 'amply', 'ampoule', 'amputate', 'amputation', 'amr', 'amram', 'amro', 'amrresearch', 'ams', 'amson', 'amsterdam', 'amston', 'amt', 'amtrak', 'amul', 'amurtagh', 'amuse', 'amusement', 'amusing', 'amy', 'amyb', 'amyn', 'ana', 'anabolic', 'anabolics', 'anad', 'anadarko', 'anadian', 'anagrafica', 'anal', 'anala', 'analects', 'analiza', 'analizy', 'analog', 'analogous', 'analogy', 'analyse', 'analysed', 'analyses', 'analysing', 'analysis', 'analysists', 'analyst', 'analystical', 'analysts', 'analytic', 'analytica', 'analytical', 'analytics', 'analyze', 'analyzed', 'analyzer', 'analyzes', 'analyzing', 'analzing', 'anamorphic', 'ananda', 'anastasia', 'anatomy', 'anaylst', 'anbei', 'ancestry', 'anchor', 'ancient', 'ancillary', 'andere', 'andersen', 'anderson', 'andersontop', 'andersson', 'andes', 'andesite', 'andmanyother', 'andmuch', 'andordered', 'andpercentages', 'andpossibly', 'andpricing', 'andras', 'andre', 'andrea', 'andreas', 'andrei', 'andres', 'andrew', 'andrews', 'andriole', 'andromache', 'andromeda', 'andrzej', 'andrzeju', 'ands', 'andscape', 'andso', 'andthere', 'andy', 'andyour', 'anecdotal', 'anecdotally', 'anecdotes', 'anecdotic', 'anemoscope', 'aneurisms', 'aneurysm', 'anew', 'anewloan', 'anfg', 'angeies', 'angel', 'angela', 'angeles', 'angelfire', 'angelic', 'angelica', 'angelides', 'angelika', 'angelina', 'angelova', 'angels', 'angelsonoccasion', 'anger', 'angibt', 'angie', 'angielski', 'angielskiej', 'angielskim', 'angielsku', 'angier', 'angle', 'anglelides', 'anglers', 'angles', 'anglistics', 'anglo', 'anglophobia', 'angola', 'angry', 'angstrom', 'anguel', 'anguiano', 'angus', 'anh', 'anheuser', 'anhui', 'aniem', 'anil', 'animal', 'animals', 'animate', 'animated', 'animation', 'animations', 'animosity', 'anita', 'anitha', 'anjam', 'ankara', 'anketi', 'anketin', 'ankle', 'ankunft', 'anl', 'anlysis', 'anlytical', 'ann', 'anna', 'annapurna', 'anne', 'annealing', 'annehmen', 'annemarie', 'annette', 'annexes', 'annexures', 'annie', 'anniversaries', 'anniversary', 'anniversay', 'annmarie', 'annoucement', 'announ', 'announce', 'announced', 'announcement', 'announcements', 'announcerev', 'announces', 'announcing', 'announded', 'annoyance', 'annoying', 'annoys', 'annual', 'annualised', 'annualized', 'annually', 'annuities', 'annuity', 'annulary', 'annum', 'annunziata', 'ano', 'anode', 'anodrol', 'anomalies', 'anomaly', 'anonymity', 'anonymous', 'anonymously', 'anoop', 'anorthic', 'anos', 'another', 'anotherbatch', 'anotther', 'anoush', 'anrdrea', 'anselm', 'ansguman', 'anshuman', 'ansonsten', 'answer', 'answered', 'answering', 'answers', 'answertree', 'answing', 'ant', 'antaeus', 'antagonism', 'antarctic', 'ante', 'anteilsverwaltung', 'antenna', 'antes', 'anther', 'anthony', 'anthropoid', 'anthropology', 'anti', 'anticipate', 'anticipated', 'anticipates', 'anticipating', 'anticipation', 'anticipitory', 'anticlimax', 'anticompetitive', 'antigo', 'antil', 'antilbkk', 'antiperspirant', 'antique', 'antiques', 'antisanctions', 'antitank', 'antitrust', 'antivirus', 'antivirusffff', 'antly', 'anto', 'antonella', 'antonio', 'antonioacm', 'antonioantonio', 'antonioantoniomc', 'antoniobdantas', 'antoniop', 'antoniopilurzo', 'antunes', 'anunauthorized', 'anurag', 'anvasetc', 'anvil', 'anw', 'anway', 'anxious', 'anxiously', 'anybody', 'anyhgh', 'anyhow', 'anymore', 'anyone', 'anything', 'anythingforyou', 'anytime', 'anyway', 'anyways', 'anywhere', 'anz', 'ao', 'aobeb', 'aoberg', 'aof', 'aofarachain', 'aol', 'aomori', 'aonp', 'aoq', 'ap', 'apa', 'apache', 'apachi', 'aparently', 'aparna', 'apart', 'apartheid', 'aparticular', 'apartment', 'apartments', 'apartner', 'apc', 'aperture', 'apex', 'apfa', 'aph', 'aphrodite', 'api', 'apiculture', 'apk', 'apl', 'aplan', 'apo', 'apodaca', 'apodal', 'apollo', 'apologetic', 'apologies', 'apologise', 'apologize', 'apologized', 'apology', 'apophthegm', 'apostrophe', 'app', 'appa', 'appalling', 'appallingly', 'apparantly', 'apparel', 'apparent', 'apparently', 'appeal', 'appealing', 'appeals', 'appear', 'appearance', 'appeared', 'appearing', 'appears', 'appearson', 'appease', 'appeasement', 'appel', 'appelant', 'append', 'appendage', 'appended', 'appendices', 'appendix', 'appetite', 'appiication', 'appiications', 'applause', 'apple', 'apples', 'applet', 'applets', 'appliances', 'applicability', 'applicable', 'applicant', 'applicants', 'applicatiions', 'application', 'applications', 'appliction', 'applied', 'applies', 'apply', 'applying', 'appoint', 'appointed', 'appointing', 'appointment', 'appointments', 'appolized', 'appologize', 'apportioned', 'appraisal', 'appraise', 'appreacited', 'apprecaite', 'appreciate', 'appreciated', 'appreciates', 'appreciating', 'appreciation', 'appreciative', 'apprehensive', 'apprently', 'appriciate', 'apprised', 'approach', 'approached', 'approaches', 'approaching', 'appropriate', 'appropriated', 'appropriately', 'appropriations', 'approva', 'approval', 'approvals', 'approvalsbefore', 'approve', 'approved', 'approver', 'approvers', 'approves', 'approving', 'approx', 'approximate', 'approximately', 'approximation', 'approximations', 'apps', 'appt', 'appts', 'apr', 'aprati', 'apreciate', 'apri', 'april', 'aprilol', 'aproached', 'aprol', 'aproved', 'aprox', 'aproximately', 'aps', 'apt', 'aptw', 'apv', 'apw', 'apx', 'aquarius', 'aqueous', 'aqui', 'aquifers', 'aquiiino', 'aquila', 'aquilino', 'aquire', 'aquisitions', 'aquistion', 'ar', 'arab', 'arabenl', 'arabia', 'arabian', 'aracelishammond', 'aragos', 'aram', 'arango', 'arap', 'aratrma', 'arb', 'arbeiten', 'arbitrage', 'arbitraged', 'arbitrary', 'arbitration', 'arbitrators', 'arbor', 'arboretum', 'arcado', 'arch', 'archaic', 'archer', 'archie', 'archimedean', 'archipelago', 'architect', 'architectonic', 'architects', 'architecture', 'architectures', 'archival', 'archive', 'archived', 'archives', 'archivos', 'arcos', 'arcserve', 'arcturus', 'arcuate', 'arcy', 'ardeil', 'ardina', 'ardith', 'arduous', 'area', 'areas', 'aredit', 'arefieva', 'arefresh', 'arellano', 'arena', 'arenas', 'arfsten', 'arge', 'argent', 'argentiferous', 'argentina', 'argentine', 'argest', 'argonne', 'arguably', 'argue', 'argued', 'arguement', 'argues', 'arguijo', 'arguing', 'argument', 'arguments', 'arial', 'arie', 'arijit', 'aril', 'arimax', 'arise', 'arisen', 'arises', 'arising', 'arisman', 'arismanshonikon', 'arithmetician', 'aritrage', 'arizona', 'ark', 'arkansas', 'arlene', 'arm', 'armaceuticai', 'armaceutical', 'armada', 'armand', 'armandina', 'armani', 'armed', 'armellino', 'armful', 'armillaria', 'arming', 'armonline', 'arms', 'armshop', 'armstrong', 'armstrongflag', 'army', 'armzmail', 'armzonline', 'arnell', 'arneson', 'arnold', 'aro', 'aroberts', 'aromatics', 'aron', 'aronowitz', 'arora', 'arose', 'around', 'arpa', 'arps', 'arr', 'arrang', 'arrange', 'arranged', 'arrangement', 'arrangements', 'arranger', 'arrangers', 'arranges', 'arranging', 'arrangments', 'array', 'arrears', 'arrest', 'arrested', 'arrival', 'arrive', 'arrived', 'arrives', 'arriving', 'arrogance', 'arrogant', 'arrogate', 'arround', 'arrow', 'arrows', 'arrowy', 'arroyo', 'ars', 'arsenal', 'arshak', 'arsine', 'arsystem', 'art', 'arteaga', 'arterial', 'arthur', 'arthurandersen', 'artichoke', 'article', 'articles', 'articulate', 'articulated', 'artificial', 'artificiality', 'artificially', 'artisan', 'artist', 'artists', 'artments', 'arts', 'artwork', 'aruba', 'arun', 'arundel', 'arvel', 'arvind', 'asa', 'asahi', 'asap', 'ascended', 'ascending', 'ascensional', 'ascertain', 'ascertaining', 'ascii', 'ascribe', 'ascription', 'asdi', 'aseveru', 'asgard', 'ashby', 'ashe', 'ashes', 'ashish', 'ashktorab', 'ashlar', 'ashlee', 'ashleesimon', 'ashley', 'ashleybaxter', 'ashman', 'ashmore', 'ashok', 'ashton', 'asia', 'asian', 'asians', 'asiarisk', 'aside', 'asilberman', 'asistant', 'ask', 'asked', 'asking', 'asks', 'aslant', 'asm', 'asnsprd', 'aso', 'asociate', 'asoke', 'asonishment', 'asp', 'aspect', 'aspects', 'aspijk', 'aspindustry', 'aspire', 'aspiring', 'asps', 'aspx', 'assassin', 'assassinat', 'assassinated', 'assassination', 'assassins', 'assay', 'assayed', 'assaying', 'assays', 'assemble', 'assembled', 'assembling', 'assembly', 'assemblyman', 'assented', 'asserted', 'asserts', 'asses', 'assesment', 'assess', 'assessed', 'assesses', 'assessing', 'assessment', 'assessments', 'asset', 'assets', 'asside', 'assigment', 'assign', 'assigned', 'assigning', 'assignment', 'assignments', 'assigns', 'assim', 'assimilating', 'assingments', 'assist', 'assistance', 'assistances', 'assistanship', 'assistant', 'assistants', 'assistantship', 'assistantships', 'assisting', 'assists', 'assn', 'assoc', 'assocated', 'assocham', 'associate', 'associated', 'associates', 'associating', 'association', 'associations', 'associtates', 'assorted', 'assortment', 'asst', 'assume', 'assumed', 'assumes', 'assuming', 'assumption', 'assumptions', 'assunto', 'assurance', 'assurances', 'assure', 'assured', 'assuredly', 'assures', 'assuring', 'ast', 'astarte', 'astartetours', 'astaude', 'asterik', 'asterman', 'asthe', 'astm', 'astonished', 'astonishment', 'astounding', 'astraea', 'astragalus', 'astramowicz', 'astramowicza', 'astramowiczem', 'astrid', 'astride', 'astro', 'astrology', 'astronauts', 'astrophysicists', 'astrophysics', 'astros', 'astute', 'asus', 'asylum', 'asymmetric', 'atari', 'atc', 'atchison', 'atel', 'atencin', 'atenderemos', 'ateno', 'aterations', 'atft', 'athas', 'atheist', 'athenaeum', 'athlete', 'athletes', 'athletic', 'ati', 'atility', 'ation', 'atisfied', 'ativan', 'atlancie', 'atlanta', 'atlantic', 'atlanticasp', 'atlas', 'atleast', 'atlons', 'atm', 'atmos', 'atmosphere', 'atmospheres', 'atmospheric', 'atms', 'atocweddings', 'atom', 'atomic', 'atomicity', 'atomique', 'atonement', 'atrium', 'atrocious', 'atrocity', 'ats', 'atss', 'att', 'attach', 'attache', 'attached', 'attachement', 'attachemnts', 'attaching', 'attachment', 'attachments', 'attack', 'attacked', 'attackers', 'attacking', 'attacks', 'attacment', 'attacted', 'attain', 'attainder', 'attained', 'attament', 'attempt', 'attempted', 'attempting', 'attempts', 'attemptstargeting', 'attend', 'attendance', 'attendants', 'attended', 'attendee', 'attendees', 'attendence', 'attending', 'attends', 'attent', 'attention', 'attenuate', 'attic', 'attics', 'attire', 'attitude', 'attitudes', 'attl', 'attn', 'atto', 'attorney', 'attorneys', 'attract', 'attracted', 'attracting', 'attractions', 'attractive', 'attractiveness', 'attribute', 'attributed', 'attributes', 'attribution', 'atwater', 'atwood', 'atwww', 'atyt', 'au', 'auc', 'auch', 'aucoin', 'auction', 'auctioned', 'auctioneer', 'auctioning', 'auctions', 'aucun', 'aud', 'audibility', 'audience', 'audiences', 'audio', 'audiotape', 'audiovisual', 'audiovox', 'audit', 'auditable', 'audited', 'auditing', 'audition', 'auditor', 'auditorium', 'auditors', 'audits', 'auf', 'aug', 'augment', 'augmentative', 'augmented', 'augural', 'august', 'augusta', 'aul', 'aulds', 'auli', 'aunt', 'aurais', 'aural', 'aurez', 'aurora', 'aury', 'aus', 'ausgenommen', 'auspices', 'aussi', 'aussie', 'aust', 'austerity', 'austin', 'austingrp', 'australasia', 'australia', 'australian', 'australianenergy', 'austria', 'austrian', 'authentic', 'authenticate', 'authenticated', 'authentication', 'authenticity', 'author', 'authored', 'authoring', 'authorisation', 'authorise', 'authorised', 'authorises', 'authorising', 'authoritative', 'authorities', 'authoritive', 'authority', 'authorization', 'authorizations', 'authorize', 'authorized', 'authorizes', 'authorizing', 'authors', 'authrored', 'autience', 'autier', 'auto', 'autocar', 'autoconverted', 'autocorrelated', 'autocorrelation', 'autocratic', 'autolearn', 'automail', 'automata', 'automate', 'automated', 'automatic', 'automaticaiiy', 'automaticaily', 'automaticaliy', 'automatically', 'automation', 'automatisch', 'automobile', 'automobiles', 'automotive', 'autonomous', 'autonomy', 'autor', 'autorcorrelated', 'autoregressive', 'autoreply', 'autoresponders', 'autorisee', 'autorizacin', 'autoroute', 'autoworker', 'autrey', 'autumn', 'aux', 'auxiliary', 'av', 'ava', 'avacor', 'avaiable', 'avaiiabie', 'avaiiable', 'avail', 'availabale', 'availabel', 'availabie', 'availabilities', 'availability', 'available', 'availablee', 'availablility', 'availbale', 'availible', 'avalability', 'avant', 'ave', 'avec', 'avenue', 'avenues', 'average', 'averaged', 'averages', 'averaging', 'averred', 'averse', 'avert', 'avertir', 'avery', 'avez', 'avfs', 'avg', 'avi', 'aviation', 'aviationmr', 'avici', 'avid', 'aving', 'aviod', 'avionics', 'avirtualshopper', 'aviso', 'avistaenergy', 'avistar', 'avister', 'avn', 'avocet', 'avoid', 'avoided', 'avoiding', 'avoids', 'avonmore', 'avontuurtje', 'avr', 'avs', 'avscanned', 'await', 'awaited', 'awaiting', 'awakening', 'award', 'awarded', 'awarding', 'awards', 'aware', 'awareness', 'awash', 'away', 'aways', 'awe', 'awenda', 'awesome', 'awfc', 'awful', 'awhile', 'awkward', 'awodni', 'awoken', 'awolowo', 'awry', 'aws', 'ax', 'axantil', 'axe', 'axelrod', 'axew', 'axiom', 'axis', 'axl', 'ay', 'ayala', 'ayers', 'ayez', 'aylor', 'aysu', 'az', 'azcple', 'azerbaijan', 'aziz', 'azmin', 'azminab', 'azuix', 'azure', 'azurix', 'azusa', 'b', 'ba', 'baa', 'baal', 'baarlar', 'babbar', 'babbitt', 'babe', 'babes', 'babie', 'babies', 'babson', 'baby', 'babyhom', 'babylom', 'babysit', 'bacalau', 'bacchanal', 'bacchic', 'bachand', 'bachar', 'bachelier', 'bachelors', 'bacillus', 'back', 'backatcha', 'backbone', 'backcode', 'backdown', 'backdrop', 'backed', 'backend', 'backfiller', 'background', 'backgrounds', 'backhaul', 'backing', 'backlash', 'backlog', 'backo', 'backoffice', 'backorder', 'backpack', 'backroom', 'backs', 'backtest', 'backtesting', 'backtrack', 'backup', 'backupmail', 'backups', 'backward', 'backwardated', 'backwardation', 'backwards', 'baco', 'bacon', 'bacton', 'bad', 'baddest', 'badedamola', 'badeer', 'badge', 'badly', 'badpain', 'badri', 'badum', 'badura', 'baez', 'baffled', 'bag', 'baggage', 'bagger', 'baggerly', 'bagha', 'bagley', 'bags', 'bahama', 'bahamas', 'baht', 'bai', 'baichun', 'bail', 'bailey', 'bailiwick', 'bailly', 'bailout', 'baint', 'bait', 'baja', 'bajarang', 'bakar', 'baked', 'baker', 'bakeries', 'bakersfield', 'bakken', 'bakr', 'bakry', 'bal', 'balaganu', 'balakrishnan', 'balance', 'balanced', 'balancing', 'balasaheb', 'balasubramanian', 'balcerowiczem', 'baldick', 'baldock', 'baldwin', 'balkis', 'balko', 'ball', 'balla', 'ballance', 'ballers', 'balloon', 'ballot', 'balloting', 'ballroom', 'balmat', 'baltes', 'baltic', 'baltimore', 'baltz', 'bama', 'bambi', 'bambos', 'bammel', 'ban', 'banc', 'bancware', 'band', 'bandaid', 'bandar', 'bandeaux', 'banded', 'bandh', 'bandini', 'bandit', 'bands', 'bandwidth', 'bandwidths', 'bandyopadhyay', 'baneberry', 'banerjea', 'banerjee', 'bang', 'bangalore', 'bangkok', 'bangles', 'bangs', 'bani', 'banian', 'bank', 'banked', 'banken', 'banker', 'bankers', 'bankgirolotto', 'banking', 'bankowe', 'bankructwa', 'bankrupt', 'bankruptcies', 'bankruptcy', 'banks', 'bannantine', 'banned', 'banner', 'bannerco', 'bannerghatta', 'banners', 'bannersgomlm', 'banque', 'banquet', 'bansal', 'bantus', 'bapat', 'bar', 'barabara', 'baran', 'baraniuk', 'barb', 'barbados', 'barbara', 'barbarian', 'barbaric', 'barbarous', 'barbecue', 'barbeque', 'barber', 'barbera', 'barbituric', 'barcelona', 'barcharts', 'barclays', 'bard', 'bardfield', 'bardic', 'bardziej', 'bardzo', 'bare', 'barebacked', 'barefi', 'barely', 'barend', 'bares', 'baresark', 'barfield', 'bargain', 'bargains', 'barkchis', 'barker', 'barkley', 'barkpit', 'barnard', 'barnes', 'barnett', 'barney', 'barnstormer', 'baroda', 'barone', 'barr', 'barraged', 'barrantes', 'barrel', 'barrels', 'barrett', 'barrier', 'barriers', 'barring', 'barrister', 'barron', 'barrow', 'barry', 'barryd', 'bars', 'barschkis', 'bartarya', 'barter', 'barth', 'bartlett', 'bartley', 'baruch', 'basak', 'base', 'baseball', 'based', 'basel', 'baselabbas', 'baseline', 'baseload', 'basement', 'bases', 'basetel', 'bash', 'basher', 'bashful', 'bashing', 'basic', 'basically', 'basics', 'basin', 'basins', 'basis', 'basisnw', 'basket', 'baskets', 'basle', 'bass', 'bassal', 'bassalh', 'bassally', 'bassalo', 'bassel', 'bassis', 'bassler', 'bassmaster', 'bassw', 'bastante', 'bastian', 'bastide', 'basu', 'bat', 'batata', 'batch', 'batchelder', 'bates', 'bath', 'bathymetry', 'batistich', 'batizados', 'batman', 'baton', 'batt', 'battaglia', 'batter', 'batteries', 'battery', 'battie', 'batting', 'battisti', 'battle', 'battlezone', 'bau', 'bauer', 'baughman', 'bault', 'bauru', 'bavurmay', 'baxter', 'bay', 'bayarea', 'bayelsa', 'bayi', 'bayley', 'baylor', 'bayne', 'bayou', 'bayview', 'baza', 'bb', 'bbalert', 'bbb', 'bbc', 'bbl', 'bblop', 'bbls', 'bbo', 'bbok', 'bbtec', 'bburn', 'bc', 'bcahal', 'bcc', 'bce', 'bcf', 'bchan', 'bci', 'bcqqf', 'bcx', 'bd', 'bdavis', 'bdf', 'bdo', 'bdol', 'bdt', 'bea', 'beach', 'beacon', 'beacons', 'beam', 'bean', 'beans', 'bear', 'bearberry', 'bearing', 'bearish', 'bears', 'beasley', 'beast', 'beat', 'beaten', 'beating', 'beatrice', 'beatris', 'beatriz', 'beatrizbass', 'beats', 'beaty', 'beau', 'beaucoup', 'beaudoin', 'beaumont', 'beauties', 'beautiful', 'beautifully', 'beauty', 'beaver', 'bebf', 'bec', 'became', 'becauseof', 'bechler', 'bechtel', 'beck', 'becker', 'beckley', 'beckman', 'beckmancoulter', 'becky', 'beco', 'become', 'becomes', 'becoming', 'becton', 'becuase', 'bed', 'beda', 'bedazzle', 'bede', 'bedfast', 'bedingfield', 'bedroom', 'bedrooms', 'beds', 'bedtime', 'bedzie', 'bedziemy', 'bedziesz', 'bee', 'beef', 'beemer', 'beena', 'beenthere', 'beep', 'beer', 'beeston', 'befor', 'beforehand', 'beforejuly', 'beg', 'began', 'beggin', 'begging', 'begin', 'begining', 'beginners', 'beginning', 'begins', 'begun', 'behalf', 'behappy', 'behave', 'behaved', 'behaves', 'behavior', 'behavioral', 'behaviors', 'behaviour', 'behaviours', 'behemoths', 'behest', 'behind', 'bei', 'beiden', 'beiiefs', 'beiieve', 'beiieves', 'beijing', 'beijng', 'beim', 'beings', 'beinteresting', 'beinterrupted', 'beirte', 'bekeng', 'bekkers', 'bekmank', 'belated', 'belching', 'belco', 'belden', 'beldin', 'beleive', 'belgium', 'belgrade', 'belico', 'belief', 'beliefs', 'belies', 'believ', 'believe', 'believed', 'believer', 'believes', 'believing', 'belirsizliin', 'belive', 'belkin', 'bell', 'bellard', 'bellinghausen', 'bellini', 'bello', 'bellow', 'bellsouth', 'bellsouthips', 'bellum', 'bellwether', 'belong', 'belonging', 'belongings', 'belongs', 'beloved', 'beloveth', 'belsha', 'belt', 'beltway', 'belvieu', 'ben', 'benachrichtigung', 'benachrichtung', 'bench', 'benchmark', 'benchmarking', 'benchmarks', 'bend', 'bending', 'beneath', 'benedict', 'benedictinen', 'benedikt', 'benefactors', 'beneficiaily', 'beneficial', 'beneficially', 'beneficiaries', 'beneficiary', 'benefit', 'benefited', 'benefiting', 'benefits', 'benefitsnow', 'benelux', 'beneteau', 'benevides', 'beneville', 'benfield', 'bengalee', 'bengt', 'benifits', 'benin', 'benington', 'benisse', 'benitez', 'benjamin', 'benke', 'benna', 'bennett', 'benno', 'benoetigt', 'benq', 'benson', 'bent', 'benthien', 'benton', 'benz', 'benzene', 'benzenecurves', 'bepermanently', 'beprocessed', 'beprompt', 'ber', 'berate', 'berberian', 'bereave', 'bereavement', 'bereikt', 'beresford', 'bergbau', 'bergen', 'berger', 'berggren', 'bergkvist', 'bergseiker', 'bergsieker', 'berhane', 'bericht', 'berkeland', 'berkeley', 'berkely', 'berkowitz', 'berlin', 'berlioz', 'berman', 'bermittlung', 'bermoothes', 'bermuda', 'bermudan', 'bermudian', 'bern', 'bernadine', 'bernard', 'bernardina', 'bernardmcarthy', 'bernardo', 'berney', 'bernie', 'bernstein', 'berrien', 'berry', 'berryman', 'bersani', 'bert', 'bertha', 'bertil', 'bertram', 'bertrone', 'bes', 'beside', 'besides', 'beskrowni', 'besoin', 'bessik', 'best', 'bestard', 'bestddeals', 'beste', 'besten', 'bestimmte', 'bestoffer', 'bestow', 'bestowed', 'bestquality', 'bestselling', 'bet', 'beta', 'betancourt', 'beter', 'beth', 'bethel', 'bethlehem', 'bethune', 'bethurem', 'betray', 'betrayed', 'betrothal', 'bets', 'betsy', 'bette', 'better', 'betterof', 'betting', 'bettter', 'betty', 'betweem', 'betweeneb', 'betwork', 'betzer', 'bev', 'beverage', 'beverly', 'bevstarl', 'beware', 'bewilderment', 'bexp', 'bey', 'beyer', 'beyond', 'beyonfd', 'beyrer', 'bezanis', 'bezowe', 'bezugnehmend', 'bf', 'bfad', 'bfl', 'bflassociates', 'bh', 'bhadra', 'bhadravati', 'bhala', 'bhalachandra', 'bhalia', 'bhalla', 'bhallat', 'bhandara', 'bharati', 'bhatnagar', 'bhavna', 'bhi', 'bholcomb', 'bhp', 'bhushan', 'bi', 'biagini', 'bialki', 'bianco', 'biank', 'biannual', 'bias', 'biased', 'biases', 'bib', 'bibi', 'bibianna', 'bibiliography', 'bible', 'bibliographical', 'bibliophile', 'bic', 'bich', 'bickerstaff', 'bickett', 'bid', 'bidder', 'bidders', 'bidding', 'bidirectional', 'bids', 'biehl', 'bieinawski', 'bielecki', 'biemer', 'bien', 'big', 'bigaaron', 'bigalow', 'bigelow', 'bigfoot', 'bigger', 'biggerstaff', 'biggest', 'bigotry', 'bigprofithomebiz', 'bigs', 'bij', 'bijoya', 'bike', 'bilateral', 'bilgilendirmemiz', 'bilgin', 'biliana', 'bilinear', 'bill', 'billard', 'billed', 'billi', 'billie', 'billing', 'billingl', 'billings', 'billion', 'billions', 'billot', 'billow', 'bills', 'billy', 'bimonthly', 'bin', 'binary', 'binay', 'bind', 'binder', 'binders', 'binding', 'binge', 'binghamton', 'binkley', 'binney', 'binomial', 'bio', 'biochemist', 'biochemistry', 'biocomputing', 'biografia', 'biographer', 'biographical', 'biographies', 'biography', 'biological', 'biology', 'biomedical', 'biometric', 'bionics', 'biophysics', 'bioprojects', 'biorac', 'biorhythm', 'biorhythms', 'bios', 'biotech', 'biotechnology', 'bir', 'birches', 'bird', 'birdsbecca', 'birka', 'birmingham', 'birth', 'birthday', 'bis', 'biscayne', 'bishop', 'bison', 'bissonnet', 'bist', 'bisztyga', 'bit', 'bite', 'biting', 'bitmap', 'bitran', 'bits', 'bitter', 'bitterly', 'biura', 'biurka', 'biz', 'bizarre', 'bize', 'biznesem', 'biztalk', 'bjarne', 'bjefladghikm', 'bjk', 'bjorn', 'bjp', 'bkaufma', 'bl', 'blabf', 'blach', 'blachman', 'black', 'blackaby', 'blackboard', 'blackbroad', 'blacked', 'blackened', 'blackface', 'blackj', 'blackjack', 'blackleg', 'blacklines', 'blacklist', 'blacklisted', 'blackmail', 'blackman', 'blackout', 'blackouts', 'blackrock', 'blacks', 'blade', 'blades', 'blahnik', 'blair', 'blaise', 'blake', 'blakej', 'blakey', 'blame', 'blaming', 'blanchard', 'blanche', 'blanco', 'bland', 'blank', 'blankenship', 'blanket', 'blanklet', 'blanks', 'blanton', 'blaspheme', 'blast', 'blaster', 'blasts', 'blatant', 'blay', 'blaze', 'blb', 'bldg', 'bleak', 'bledow', 'blee', 'blend', 'blended', 'blending', 'blends', 'blesie', 'bless', 'blessed', 'blessings', 'blew', 'bligh', 'blight', 'blind', 'blinded', 'blindly', 'blink', 'blinov', 'bliss', 'blister', 'blitz', 'blizzards', 'blk', 'block', 'blockade', 'blockbuster', 'blocked', 'blocker', 'blocking', 'blocks', 'blocksx', 'blodget', 'blomqvist', 'blond', 'blondes', 'blood', 'bloodshed', 'bloody', 'bloom', 'bloomberg', 'bloomer', 'bloor', 'blot', 'bloussant', 'blow', 'blowdamovie', 'blown', 'blows', 'bloxz', 'blue', 'bluebill', 'bluebird', 'bluecom', 'blueprint', 'bluetooth', 'bluff', 'blunt', 'blurred', 'blush', 'blushfool', 'blutwurst', 'bluze', 'blvd', 'blxenpedteczmwome', 'blytheville', 'bm', 'bma', 'bmadesign', 'bmbll', 'bmierts', 'bmlm', 'bmratch', 'bmw', 'bn', 'bner', 'bnfique', 'bnp', 'bnpparibas', 'bo', 'boar', 'board', 'boarding', 'boardroom', 'boards', 'boasts', 'boat', 'boaters', 'boatman', 'boatmen', 'boatu', 'boatyard', 'bob', 'bobbie', 'bobby', 'bobbye', 'bobcat', 'bobrow', 'bobrowski', 'bobrowskiresume', 'boc', 'boca', 'bocconi', 'bod', 'bodas', 'bodies', 'bodiless', 'bodily', 'bodnar', 'bodweek', 'body', 'bodyguards', 'bodyshape', 'boeing', 'boettcher', 'bog', 'bogdan', 'boggie', 'boggs', 'bogies', 'bogle', 'bogus', 'bohn', 'bohsg', 'boil', 'boiled', 'boilerplate', 'boilers', 'boiling', 'boise', 'bol', 'boland', 'bold', 'boldly', 'bole', 'boling', 'bolivia', 'bolken', 'bolkiah', 'bollerslev', 'bollinger', 'bolos', 'bolster', 'bolton', 'bomb', 'bombarded', 'bombastic', 'bombay', 'bombed', 'bombing', 'bombs', 'bona', 'bonanza', 'bond', 'bondar', 'bonded', 'bondholders', 'bondman', 'bonds', 'bonduelle', 'bone', 'bonefide', 'bones', 'bonet', 'bonfire', 'bong', 'bonita', 'bonjour', 'bonn', 'bonnard', 'bonneau', 'bonner', 'bonneville', 'bonnie', 'bonny', 'bons', 'bonsall', 'bonus', 'bonusdex', 'bonuses', 'boo', 'boogie', 'book', 'bookcase', 'booked', 'booking', 'bookings', 'booklet', 'booklets', 'bookmark', 'bookmarks', 'bookout', 'books', 'bookshop', 'bookstore', 'bookstores', 'boom', 'booming', 'boomvang', 'boon', 'boost', 'boosted', 'booster', 'boosters', 'boosts', 'booth', 'boots', 'bootstrapped', 'bootstrapping', 'boplicity', 'border', 'borders', 'bore', 'bored', 'borenstein', 'borgman', 'boring', 'boris', 'born', 'borne', 'borneo', 'bornfruit', 'borourk', 'borrow', 'borrowed', 'borrowers', 'borrowing', 'bortolloti', 'bos', 'bosien', 'boss', 'bosse', 'bosses', 'boston', 'botanist', 'botany', 'botchlett', 'bote', 'botello', 'bothe', 'bother', 'bothered', 'bothering', 'bothers', 'bothwell', 'botox', 'botoxforless', 'botswana', 'bottle', 'bottled', 'bottleneck', 'bottlenecks', 'bottles', 'bottom', 'bottomfeeding', 'bottomley', 'bottomof', 'bou', 'bouchaud', 'bouchouev', 'boudreau', 'boudreaux', 'bought', 'bouillion', 'boulder', 'boulton', 'boumdary', 'bounce', 'bounced', 'bouncehost', 'bouncing', 'bound', 'boundaries', 'boundary', 'bounday', 'bounded', 'bounds', 'bouquet', 'bourahla', 'bourke', 'bourque', 'bourse', 'bow', 'bowed', 'bowen', 'bower', 'bowers', 'bowes', 'bowguns', 'bowie', 'bowl', 'bowlegged', 'bowling', 'bowne', 'bows', 'box', 'boxcar', 'boxed', 'boxes', 'boxing', 'boy', 'boyd', 'boyer', 'boyffriend', 'boyfriend', 'boyish', 'boyle', 'boys', 'boyt', 'bp', 'bpa', 'bpc', 'bpd', 'bpf', 'bpl', 'bpserver', 'bqhx', 'br', 'bra', 'bracelet', 'bracket', 'brackett', 'brackish', 'brad', 'braddock', 'braden', 'bradford', 'bradley', 'bradstreet', 'brady', 'braek', 'brag', 'bragg', 'bragging', 'braided', 'brain', 'brainchild', 'brainer', 'brainful', 'brainpower', 'brains', 'brainstorm', 'brainstorming', 'brake', 'brakes', 'brakujaca', 'brakuje', 'braly', 'bramlet', 'bramlett', 'bran', 'branch', 'branchcomb', 'branches', 'brand', 'branded', 'brandfass', 'branding', 'brandli', 'brandnames', 'brando', 'brandon', 'brands', 'brandywine', 'brash', 'brashier', 'brasileiros', 'brasilia', 'brasseaux', 'bratby', 'braun', 'brav', 'brava', 'brave', 'braveheart', 'bravo', 'bray', 'brazen', 'brazil', 'brazilian', 'brazos', 'brazpow', 'brcm', 'breach', 'breached', 'breaching', 'bread', 'breadth', 'break', 'breakaway', 'breakdown', 'breaker', 'breakers', 'breakeven', 'breakfast', 'breakfasts', 'breakfree', 'breaking', 'breakneck', 'breakout', 'breakpoint', 'breaks', 'breakthrough', 'breakthroughhuge', 'breakthroughrepair', 'breakthroughs', 'breakthroughyou', 'breakthru', 'breakup', 'breaky', 'breanne', 'breast', 'breasted', 'breasts', 'breath', 'breathing', 'breathitt', 'breathtaking', 'breckenridge', 'breed', 'breeder', 'breen', 'breese', 'breeze', 'brefore', 'breguets', 'breifing', 'breineck', 'brelsford', 'bremen', 'bremtun', 'brenda', 'brendan', 'brennan', 'brennans', 'brent', 'bresil', 'breslau', 'bressenden', 'bret', 'brett', 'brevet', 'brevity', 'brewis', 'brgds', 'brian', 'brianneholden', 'briar', 'briarpark', 'briarwood', 'bribing', 'brick', 'bricks', 'brides', 'bridge', 'bridgeline', 'bridgeport', 'bridges', 'bridgestation', 'bridget', 'bridging', 'brief', 'briefcase', 'briefed', 'briefing', 'briefings', 'briefix', 'briefly', 'briefs', 'brien', 'brietilings', 'briggs', 'brigham', 'bright', 'brighten', 'brightest', 'brightmore', 'brightness', 'brilliant', 'brindle', 'brine', 'bring', 'bringen', 'bringibg', 'bringing', 'brings', 'bringstogether', 'bringyour', 'brink', 'brinksmanship', 'brinq', 'briseadh', 'brisk', 'briskey', 'bristow', 'britain', 'britannica', 'british', 'britney', 'britta', 'brittab', 'brittain', 'britten', 'britton', 'brittonk', 'bro', 'broad', 'broadband', 'broadcast', 'broadcasters', 'broadcasting', 'broadcom', 'broaden', 'broadening', 'broader', 'broadest', 'broadfoot', 'broadie', 'broadly', 'broadness', 'broadview', 'broadway', 'brobeck', 'broch', 'brochure', 'brochures', 'brocket', 'brockett', 'broderick', 'broiling', 'broin', 'broke', 'broken', 'broker', 'brokerage', 'brokering', 'brokers', 'brompton', 'bronagh', 'bronchiolar', 'brongniart', 'bronks', 'bronx', 'bronze', 'brook', 'brooke', 'brooklyn', 'brooks', 'brooksdisanto', 'broomcorn', 'broomfield', 'bros', 'broschure', 'broschyr', 'brother', 'brotherffffae', 'brotherhood', 'brotherly', 'brothers', 'brought', 'broussard', 'brovvse', 'browder', 'brown', 'brownbag', 'browne', 'browner', 'brownian', 'browning', 'brownish', 'brownlee', 'brownsville', 'browse', 'browser', 'browsers', 'browsing', 'brr', 'bruce', 'bruckert', 'bruges', 'brulinski', 'brunch', 'brunei', 'bruner', 'bruno', 'brush', 'brushed', 'brussel', 'brussels', 'brutally', 'brute', 'bruzzese', 'bryan', 'bryans', 'bryant', 'bryce', 'bryson', 'brysonpa', 'bs', 'bsad', 'bse', 'bses', 'bshay', 'bspecto', 'btamail', 'bti', 'btiner', 'btrieve', 'btu', 'btw', 'bu', 'bubble', 'bubbles', 'buchanan', 'bucharest', 'buchas', 'buck', 'bucket', 'bucketing', 'buckets', 'buckingham', 'buckle', 'buckram', 'bucks', 'budd', 'buddhism', 'buddies', 'buddy', 'budget', 'budgeted', 'budgets', 'budow', 'buds', 'budzetu', 'buechnerwww', 'buehler', 'buenos', 'buerkle', 'buffalo', 'buffer', 'buffers', 'buffet', 'buffett', 'bug', 'bugged', 'bugging', 'bugler', 'bugs', 'bugtraq', 'buiider', 'buiiding', 'buik', 'buil', 'build', 'builder', 'builders', 'building', 'buildinga', 'buildings', 'buildinq', 'builds', 'builetin', 'built', 'buiness', 'buinesses', 'buisness', 'buitron', 'bul', 'bulbs', 'bulgaria', 'bulid', 'bulk', 'bulkexpert', 'bulkovshteyn', 'bulkpower', 'bull', 'bullard', 'bulldozer', 'bullet', 'bulleted', 'bulletin', 'bulletins', 'bulletpoints', 'bulletproof', 'bullets', 'bullish', 'bullitl', 'bullrich', 'bulunduumuz', 'bump', 'bumper', 'bumping', 'bumps', 'bun', 'bunch', 'bundchen', 'bundle', 'bundled', 'bundles', 'bundling', 'bundu', 'bunker', 'bunkum', 'bunn', 'bunt', 'buon', 'buoyancy', 'buoyant', 'buoyed', 'buoys', 'burchett', 'burden', 'burdening', 'bureau', 'bureaucrat', 'bureaucrats', 'bureaus', 'burford', 'burg', 'burgeoning', 'burger', 'burgher', 'burglars', 'burglary', 'burgos', 'burgundy', 'buri', 'buried', 'buring', 'burk', 'burke', 'burkhart', 'burleson', 'burlington', 'burn', 'burned', 'burner', 'burners', 'burnertip', 'burnett', 'burning', 'burnished', 'burns', 'burnt', 'burroughs', 'burry', 'bursary', 'burson', 'burst', 'bursts', 'burt', 'burton', 'bus', 'busch', 'bush', 'bushnell', 'busi', 'busier', 'busiest', 'busines', 'business', 'businessabetter', 'businesses', 'businessline', 'businessman', 'businessmen', 'businessopps', 'businessstandard', 'businesstoday', 'businessweek', 'busorgdes', 'buss', 'busse', 'bussell', 'bust', 'busy', 'busybeing', 'butane', 'butchering', 'butene', 'butler', 'butn', 'butte', 'butter', 'butterfly', 'buttermilk', 'button', 'buttons', 'butts', 'buty', 'buy', 'buyback', 'buybacks', 'buychepmeds', 'buyer', 'buyers', 'buying', 'buynxlc', 'buyonlinrmeds', 'buyorbt', 'buys', 'buzz', 'buzzing', 'buzzword', 'bv', 'bvax', 'bvlb', 'bvlgaries', 'bvlgary', 'bw', 'bwilliamsl', 'bwl', 'bwood', 'bxjqlhgh', 'bxr', 'byargeon', 'byars', 'bybb', 'bybtb', 'byc', 'bycountries', 'bye', 'byk', 'byl', 'bylaby', 'bylem', 'byles', 'bylismy', 'bylo', 'byloby', 'bym', 'bypass', 'bypassable', 'bypasses', 'bypath', 'byrdshot', 'bys', 'bysmy', 'bytes', 'bytestream', 'byway', 'byword', 'byzantine', 'bz', 'bzu', 'c', 'ca', 'cab', 'cabaret', 'cabbage', 'cabc', 'cabin', 'cabinet', 'cabinets', 'cable', 'cablefilter', 'cables', 'cablesl', 'cablevision', 'cabling', 'caboose', 'cabrera', 'cabrillo', 'cabriole', 'cabs', 'cacao', 'cacciatore', 'caching', 'cackle', 'cactus', 'cadastrado', 'cadaver', 'cadaverous', 'cadena', 'cadent', 'cadger', 'cadmium', 'cae', 'caesar', 'caf', 'cafes', 'cafeteria', 'cagan', 'cage', 'cagr', 'caicuiated', 'caida', 'caiiber', 'caiif', 'cairn', 'caiso', 'cajun', 'cake', 'cakes', 'cal', 'calabrese', 'calaluna', 'calaway', 'calc', 'calcalte', 'calcing', 'calcuation', 'calcuiated', 'calculate', 'calculated', 'calculates', 'calculatiion', 'calculating', 'calculation', 'calculational', 'calculations', 'calculator', 'calculus', 'caldera', 'calego', 'calej', 'calendar', 'calendarlive', 'calendars', 'calender', 'calgary', 'calger', 'calhoun', 'caliber', 'calibrate', 'calibrated', 'calibration', 'calibrations', 'calif', 'california', 'californians', 'californias', 'californii', 'calipers', 'calis', 'caliso', 'calistoga', 'call', 'callable', 'callahan', 'callanan', 'calle', 'called', 'callers', 'callibration', 'calling', 'calliope', 'callmeadeyinka', 'calls', 'callthis', 'calm', 'calmatige', 'calme', 'calmer', 'calmly', 'calomel', 'caloric', 'calorie', 'calories', 'calpine', 'calpx', 'calro', 'calspreadopt', 'caltech', 'caltex', 'calub', 'calucate', 'calumniatory', 'calves', 'caly', 'cam', 'camacho', 'camaraderie', 'camarillo', 'camarografo', 'cambridge', 'came', 'camera', 'cameraman', 'cameras', 'cameron', 'camilla', 'camille', 'camino', 'caminus', 'camjuly', 'camminus', 'camoglu', 'camoglum', 'camouflaged', 'camp', 'campaign', 'campaigners', 'campaigning', 'campaigns', 'campbell', 'campbellriggs', 'campers', 'camping', 'campo', 'camporeale', 'campos', 'campsite', 'campus', 'campuses', 'cams', 'camscape', 'cana', 'canada', 'canadian', 'canal', 'canaletto', 'canaveral', 'cance', 'cancel', 'canceled', 'canceling', 'cancellable', 'cancellation', 'cancelled', 'cancelling', 'cancer', 'candace', 'candatites', 'candiates', 'candice', 'candid', 'candidacy', 'candidate', 'candidates', 'candidly', 'candied', 'canditate', 'candle', 'candlecharts', 'candlestick', 'candy', 'canfibre', 'canfield', 'canister', 'canna', 'canned', 'cannibalism', 'cannon', 'cannot', 'cannotrelease', 'canoga', 'canon', 'canonization', 'cans', 'canst', 'cantekin', 'cantilevered', 'cantrell', 'canvass', 'canvassing', 'canyon', 'cao', 'cap', 'capa', 'capabilities', 'capability', 'capable', 'capacities', 'capacity', 'capel', 'capers', 'capestany', 'capita', 'capitaiize', 'capital', 'capitalists', 'capitalization', 'capitalizations', 'capitalize', 'capitalizes', 'capitalspreads', 'capitated', 'capitializing', 'capitol', 'caplan', 'capm', 'capped', 'cappelli', 'capping', 'caps', 'capstone', 'capstonefinancial', 'capsule', 'capsules', 'captain', 'captech', 'caption', 'captioned', 'captive', 'captives', 'capture', 'captured', 'captures', 'capturing', 'capybara', 'car', 'cara', 'caramail', 'caranti', 'carberry', 'carbonara', 'carbonate', 'carbonic', 'carbonize', 'carcinogenesis', 'carcter', 'card', 'cardholder', 'cardholders', 'cardiac', 'cardmembers', 'cards', 'cardsoreduce', 'care', 'cared', 'career', 'careerbuilder', 'careers', 'carefui', 'careful', 'carefully', 'carelessly', 'cares', 'carey', 'cargill', 'cargo', 'cargoes', 'cargos', 'caribbean', 'carl', 'carla', 'carle', 'carlhans', 'carli', 'carlo', 'carlos', 'carlson', 'carlton', 'carmella', 'carmen', 'carmichael', 'carminative', 'carmona', 'carnegie', 'carneige', 'carnes', 'carnet', 'carney', 'carol', 'carolan', 'carole', 'carolina', 'caroline', 'carolyn', 'carpenter', 'carpet', 'carpetbagger', 'carpool', 'carr', 'carrabba', 'carraige', 'carranza', 'carreer', 'carriage', 'carriages', 'carrick', 'carrie', 'carried', 'carrier', 'carriers', 'carries', 'carrington', 'carrizo', 'carroll', 'carrot', 'carrozzo', 'carry', 'carrying', 'carryover', 'cars', 'carson', 'cart', 'carte', 'cartels', 'carter', 'carthaigh', 'cartier', 'cartiers', 'cartilage', 'cartons', 'cartoon', 'cartridge', 'cartridges', 'carty', 'caruso', 'carve', 'carved', 'carven', 'carvey', 'cas', 'casamentos', 'casari', 'case', 'cased', 'cases', 'casewriting', 'caseybille', 'caseyville', 'cash', 'cashflow', 'cashflows', 'cashiers', 'cashin', 'cashing', 'cashion', 'cashman', 'cashpromotions', 'casino', 'casinos', 'casket', 'caso', 'casos', 'caspian', 'cass', 'cassandra', 'cassel', 'cassette', 'cassettes', 'cassia', 'cassim', 'cassino', 'cast', 'casta', 'castagnola', 'castaneda', 'caster', 'castillo', 'castle', 'castleman', 'castlereagh', 'castletown', 'castro', 'casts', 'casual', 'casualty', 'casuistical', 'casy', 'cat', 'catagnola', 'catalog', 'catalogers', 'catalogs', 'catalogue', 'catalogues', 'cataloguing', 'catalysis', 'catalyst', 'catalytic', 'catanese', 'catastrophe', 'catastrophes', 'catastrophic', 'catastrophical', 'catawba', 'catch', 'catches', 'catching', 'catchy', 'categoric', 'categorical', 'categorically', 'categories', 'categorized', 'category', 'catenae', 'cater', 'catered', 'catering', 'caters', 'cates', 'catex', 'cathedra', 'catherine', 'cathey', 'cathodic', 'catholic', 'cathy', 'catlons', 'cato', 'catriona', 'catskill', 'cattiesinc', 'cattigan', 'cattle', 'cattlepen', 'catv', 'caucasian', 'caucasus', 'caucus', 'caucuses', 'caudill', 'caudle', 'caught', 'causation', 'cause', 'caused', 'causes', 'causey', 'causing', 'caution', 'cautionary', 'cautioned', 'cautious', 'cautiously', 'caveat', 'caveats', 'cavei', 'caveman', 'cavendish', 'cavern', 'caverns', 'caviar', 'cayley', 'cayman', 'caymen', 'cazalet', 'cb', 'cba', 'cbc', 'cbe', 'cbidding', 'cbn', 'cbos', 'cbot', 'cbs', 'cbsbcol', 'cbxsales', 'cbyi', 'cc', 'ccc', 'ccd', 'cce', 'ccessfull', 'ccgarcia', 'ccgt', 'ccheap', 'cchilde', 'cchoose', 'ccisol', 'ccj', 'cck', 'ccnmatthews', 'ccode', 'cconsta', 'ccprod', 'cctv', 'cctvcameras', 'cd', 'cdc', 'cdd', 'cdffff', 'cdgt', 'cdigo', 'cdlfnvprj', 'cdma', 'cdnow', 'cdrom', 'cds', 'cdsnet', 'cdsstrat', 'cdsusa', 'cdt', 'cdtc', 'cdtd', 'cdz', 'cdzynarodowych', 'ce', 'cea', 'ceasar', 'cease', 'ceased', 'ceases', 'ceba', 'cec', 'cecil', 'cecilia', 'cecilybaxter', 'cecks', 'ced', 'cedar', 'cedents', 'cedex', 'cedkao', 'cedric', 'cee', 'cefer', 'cefi', 'ceiling', 'ceilings', 'cel', 'celebrate', 'celebrates', 'celebrating', 'celebration', 'celebrities', 'celebrity', 'celebs', 'celebst', 'celeste', 'cell', 'cellarage', 'celle', 'cellphone', 'cells', 'cellular', 'cellulite', 'cellulose', 'celsius', 'cement', 'cemfi', 'cems', 'cene', 'cenesp', 'censorship', 'census', 'cent', 'centbanks', 'centennial', 'center', 'centered', 'centerpiece', 'centerport', 'centers', 'centigram', 'centr', 'central', 'centralized', 'centralizes', 'centralizing', 'centrally', 'centralreal', 'centre', 'centres', 'centric', 'centro', 'centrum', 'cents', 'century', 'ceo', 'ceol', 'ceos', 'cera', 'ceramic', 'ceramium', 'ceraweek', 'ceremonious', 'ceremony', 'cerezo', 'cerin', 'cerise', 'cerisoli', 'cerium', 'cern', 'cert', 'certain', 'certainly', 'certainty', 'certainy', 'certificate', 'certificated', 'certificates', 'certification', 'certified', 'certifies', 'certify', 'ceruleancrank', 'cervine', 'ces', 'ceska', 'ceske', 'cessation', 'cessfull', 'cest', 'cet', 'cethr', 'ceu', 'cevaplarnn', 'cevaplayanlarn', 'cevitamic', 'ceyhan', 'cf', 'cfa', 'cfarrell', 'cfb', 'cfe', 'cfgl', 'cfillye', 'cflowd', 'cfm', 'cfo', 'cfomagazineaprol', 'cfos', 'cfpcisseo', 'cg', 'cgarci', 'cgi', 'cgkao', 'cgp', 'cgpl', 'ch', 'chad', 'chaff', 'chaffee', 'chages', 'chahal', 'chaim', 'chain', 'chains', 'chainsaw', 'chair', 'chaired', 'chairing', 'chairman', 'chairperson', 'chairs', 'chalcedony', 'chalk', 'chalked', 'challa', 'challanges', 'challege', 'challenge', 'challenged', 'challenger', 'challenges', 'challenging', 'challis', 'chalomumbai', 'chamber', 'chamberl', 'chamberlin', 'chambers', 'chameleon', 'chamfer', 'champ', 'champagne', 'champion', 'championing', 'championship', 'chan', 'chance', 'chanceof', 'chances', 'chandrapur', 'chandy', 'chaney', 'chaneys', 'chang', 'change', 'changed', 'changeit', 'changes', 'changing', 'channel', 'channeling', 'channels', 'chanqes', 'chanson', 'chantell', 'chantelle', 'chantelleart', 'chantellehawaii', 'chantico', 'chanukah', 'chaos', 'chap', 'chapman', 'chapter', 'chapters', 'chapterwise', 'chara', 'character', 'characterise', 'characterised', 'characterising', 'characteristic', 'characteristics', 'characterize', 'characterized', 'characterizing', 'characters', 'charbonneau', 'charg', 'charge', 'charged', 'charger', 'chargers', 'charges', 'charging', 'charitable', 'charities', 'charity', 'charla', 'charlene', 'charles', 'charleston', 'charlie', 'charlotte', 'charm', 'charnelhouse', 'charset', 'chart', 'charter', 'chartered', 'chartering', 'charters', 'charting', 'charts', 'charvel', 'chase', 'chasing', 'chastain', 'chastisement', 'chat', 'chateaux', 'chatham', 'chatrooms', 'chatted', 'chatterhead', 'chatting', 'chattingilisten', 'chauffeur', 'chaun', 'chauvet', 'chauvinists', 'chavan', 'chavez', 'chavira', 'chaxel', 'chca', 'chcaras', 'chcia', 'chcial', 'chcialby', 'chcialbym', 'chcialem', 'chcieli', 'chcieliby', 'chcielibysmy', 'chcielismy', 'cheannach', 'cheap', 'cheaper', 'cheapest', 'cheaply', 'cheappesst', 'cheat', 'cheating', 'check', 'checkbook', 'checked', 'checker', 'checking', 'checklist', 'checklists', 'checkour', 'checks', 'checkup', 'cheerful', 'cheerleaders', 'cheers', 'cheese', 'chef', 'cheisler', 'chekhlov', 'cheking', 'chello', 'chelloo', 'chelmsford', 'chelmsord', 'chelsea', 'chem', 'chemat', 'chemic', 'chemica', 'chemical', 'chemically', 'chemicals', 'chemist', 'chemistry', 'chemotherapy', 'chen', 'cheney', 'cheng', 'chenvinc', 'cheque', 'cheques', 'cheri', 'cherian', 'cherish', 'chernick', 'chernist', 'cherri', 'cherries', 'cherry', 'cherub', 'cherubic', 'cheryl', 'cherylene', 'chesapeake', 'chessa', 'chessplayer', 'chester', 'chestnut', 'chettiar', 'chevron', 'chevy', 'chew', 'chewer', 'chey', 'cheyenne', 'chgi', 'chheep', 'chhfb', 'chi', 'chiasmus', 'chibbard', 'chicago', 'chicagowill', 'chick', 'chicken', 'chickens', 'chicks', 'chidambaram', 'chiding', 'chief', 'chiefly', 'chieftain', 'chigger', 'chikina', 'chil', 'child', 'childcare', 'childers', 'childhood', 'children', 'childs', 'chile', 'chili', 'chilkha', 'chilkina', 'chill', 'chillers', 'chime', 'chimney', 'chin', 'china', 'chinatown', 'chinawtc', 'chinese', 'ching', 'chinowee', 'chip', 'chipboard', 'chips', 'chiristian', 'chisel', 'chismar', 'chistie', 'chitterlings', 'chivers', 'chix', 'chiyoda', 'chloride', 'chlorophyll', 'chlorous', 'chms', 'chnage', 'cho', 'choate', 'chocolate', 'chodzi', 'choi', 'choice', 'choices', 'choilein', 'choir', 'choise', 'cholesky', 'cholesterol', 'chome', 'chonawee', 'chonaweecv', 'chonowee', 'choose', 'choosefrom', 'chooses', 'choosing', 'choosy', 'chopard', 'chopeiro', 'chopping', 'chorally', 'chore', 'chores', 'chorn', 'chorus', 'chose', 'chosen', 'chow', 'chowchilla', 'chr', 'chris', 'chrisman', 'chrismas', 'chrispernoud', 'chriss', 'chrissy', 'christ', 'christa', 'christain', 'christendom', 'christi', 'christian', 'christiana', 'christie', 'christin', 'christina', 'christine', 'christmas', 'christodoulou', 'christopher', 'christos', 'christy', 'chrome', 'chromic', 'chromolithograph', 'chronic', 'chronicle', 'chronicles', 'chrono', 'chronography', 'chronological', 'chtremel', 'chu', 'chuanli', 'chubb', 'chuchu', 'chuck', 'chunck', 'chung', 'chunk', 'chuo', 'church', 'churchwoman', 'churchyard', 'churn', 'churrasco', 'churrasqueiro', 'chwil', 'chwili', 'chyba', 'ci', 'ciac', 'ciaiis', 'ciails', 'cialis', 'cialls', 'ciao', 'ciassica', 'ciassical', 'cibc', 'cicchetti', 'cick', 'cicruclate', 'cics', 'cid', 'cidmail', 'cie', 'ciear', 'ciebie', 'ciekaw', 'ciencnega', 'cieplo', 'cieri', 'ciesze', 'cif', 'cigarette', 'cigarettes', 'cigarettez', 'cigars', 'cigna', 'cigs', 'ciick', 'cij', 'cilck', 'cilia', 'cilindros', 'cilliers', 'cilndros', 'ciminelli', 'cincinnati', 'cinderella', 'cindy', 'cinema', 'cinemax', 'cinergy', 'cio', 'cios', 'ciose', 'ciphers', 'cir', 'circa', 'circle', 'circles', 'circlet', 'circling', 'circuiation', 'circuit', 'circuits', 'circular', 'circulate', 'circulated', 'circulating', 'circulation', 'circumlocutory', 'circumnavigator', 'circumstance', 'circumstances', 'circumstantial', 'circumvent', 'circus', 'cis', 'cisco', 'ciscon', 'cisekldej', 'cisneros', 'cisse', 'citadel', 'citation', 'cite', 'cited', 'cites', 'citi', 'citibank', 'citicorp', 'cities', 'citigroup', 'citing', 'citizen', 'citizens', 'citizenship', 'citizenshow', 'citizenspower', 'citori', 'citron', 'citrus', 'city', 'cityga', 'citywhizkid', 'civel', 'civic', 'civil', 'civilian', 'civilization', 'civilized', 'cix', 'cjinbaek', 'cjmandola', 'cjt', 'cjwr', 'ck', 'ckcrews', 'ckmattingly', 'ckornreich', 'ckq', 'cks', 'cl', 'cla', 'clacton', 'claffy', 'claim', 'claimed', 'claiming', 'claims', 'clair', 'claire', 'clairta', 'clamdscan', 'clamorous', 'clamps', 'clamscan', 'clamuko', 'clan', 'clancy', 'cland', 'clandry', 'clapboard', 'clapp', 'clara', 'clare', 'claref', 'claremont', 'clarence', 'clarification', 'clarifications', 'clarified', 'clarifies', 'clarify', 'clarifying', 'claris', 'clarissa', 'claritin', 'clarity', 'clark', 'clarke', 'clash', 'class', 'classed', 'classes', 'classic', 'classica', 'classical', 'classics', 'classification', 'classified', 'classify', 'classmate', 'classmates', 'classroom', 'classrooms', 'classypeopleitems', 'claude', 'claudette', 'claudia', 'claudio', 'clause', 'clauses', 'clausura', 'clauura', 'clay', 'clays', 'clayton', 'clc', 'clck', 'clcl', 'clean', 'cleancut', 'cleaned', 'cleaner', 'cleaning', 'cleansing', 'cleansweepffff', 'cleanup', 'clear', 'clearance', 'clearances', 'clearcase', 'cleared', 'clearer', 'clearifications', 'clearing', 'clearly', 'clears', 'clearwater', 'cleary', 'clemens', 'clement', 'clements', 'clemmie', 'clemmons', 'clerical', 'clerk', 'clerkly', 'clerks', 'cleveland', 'clevenger', 'clever', 'clewlow', 'clf', 'click', 'clickathome', 'clicking', 'clickpaper', 'clicks', 'clickthrus', 'client', 'clientele', 'clients', 'cliff', 'clifford', 'clik', 'climactic', 'climate', 'climates', 'climatic', 'climax', 'climb', 'climbed', 'clinching', 'cline', 'cling', 'clinical', 'clinics', 'clint', 'clinton', 'clip', 'clippings', 'clips', 'clipscomb', 'clique', 'cliverm', 'clks', 'clo', 'cloaca', 'cloak', 'clob', 'clock', 'clocks', 'clockwork', 'clog', 'clogs', 'clones', 'clonus', 'close', 'closed', 'closely', 'closeness', 'closer', 'closers', 'closes', 'closest', 'closet', 'closing', 'closure', 'closures', 'clothed', 'clothes', 'clothesman', 'clothing', 'clothingplus', 'cloud', 'cloudhaven', 'clovell', 'clovis', 'clowes', 'cloy', 'club', 'clubbing', 'clubs', 'clue', 'clust', 'cluster', 'clusterhost', 'clustering', 'clusters', 'clutches', 'cm', 'cma', 'cmaln', 'cmd', 'cme', 'cmidura', 'cmiller', 'cmkenyon', 'cmlucas', 'cmmrcl', 'cmo', 'cmos', 'cmps', 'cms', 'cmt', 'cmu', 'cmx', 'cmzcqj', 'cn', 'cndavis', 'cnet', 'cnf', 'cng', 'cnl', 'cnn', 'cnnest', 'cntr', 'co', 'coach', 'coaches', 'coachhouse', 'coaching', 'coachmen', 'coadjutor', 'coair', 'coal', 'coalesce', 'coalite', 'coalition', 'coaltransconferences', 'coarse', 'coast', 'coastal', 'coastand', 'coastline', 'coasts', 'coastso', 'coat', 'coated', 'coatee', 'coating', 'coatings', 'coats', 'coauthors', 'cob', 'cobalt', 'cobaltl', 'cobaltnetworks', 'cobank', 'cobb', 'cobble', 'cobol', 'cobra', 'coburn', 'coc', 'coca', 'cock', 'cockadoodledoo', 'cockcrow', 'cockpit', 'cocks', 'cocktail', 'cocktails', 'cocoa', 'cocw', 'code', 'coded', 'coder', 'coders', 'codes', 'codicil', 'coding', 'cody', 'coe', 'coeds', 'coefficients', 'cofcl', 'coference', 'coffe', 'coffee', 'coffeehouse', 'coffer', 'coffers', 'coffey', 'coffman', 'cofounder', 'cogen', 'cogenerators', 'cogentrix', 'cognitive', 'cognizable', 'cognizant', 'coheir', 'cohen', 'coherent', 'cohort', 'cohrs', 'coiffeur', 'coil', 'coin', 'coincide', 'coincided', 'coincident', 'coincidental', 'coincidentally', 'coincides', 'coins', 'coinvest', 'coinvested', 'coiony', 'coiorado', 'coitianta', 'coiumbia', 'coker', 'cokes', 'col', 'cola', 'colarusso', 'cold', 'colder', 'coldfusion', 'coldhardening', 'colditz', 'cole', 'colecaroline', 'colegio', 'coleman', 'colgin', 'coli', 'coliform', 'colin', 'collaborate', 'collaborated', 'collaborating', 'collaboration', 'collaborations', 'collaborative', 'collaborators', 'collapse', 'collapsing', 'collar', 'collars', 'collate', 'collated', 'collateral', 'collateralized', 'collating', 'colleague', 'colleaguehigh', 'colleagues', 'collect', 'collected', 'collectible', 'collectibles', 'collecting', 'collection', 'collectionis', 'collections', 'collective', 'collectively', 'collector', 'collectors', 'collectorsinternet', 'collects', 'colleen', 'college', 'colleges', 'collegiality', 'collegiate', 'collegue', 'collegues', 'collett', 'collie', 'collier', 'collins', 'collision', 'collition', 'colllagen', 'collonges', 'colloquialism', 'colloquium', 'colloton', 'collusion', 'colm', 'colo', 'colombia', 'colon', 'colonised', 'colonnade', 'colony', 'color', 'colorado', 'coloration', 'colored', 'colorful', 'colors', 'colossal', 'colour', 'colourblind', 'colum', 'columbe', 'columbia', 'columbian', 'columbo', 'columbus', 'colume', 'column', 'columns', 'colville', 'colwell', 'colza', 'com', 'combat', 'combating', 'combatted', 'combination', 'combinations', 'combinatorial', 'combinded', 'combine', 'combined', 'combines', 'combining', 'combo', 'combustion', 'comcalib', 'comcast', 'comcopyright', 'comdata', 'comdave', 'comdavid', 'come', 'comeback', 'comed', 'comedies', 'comes', 'comet', 'comex', 'comfort', 'comfortable', 'comfortably', 'comforting', 'comforts', 'comfy', 'comhuman', 'comhuone', 'comi', 'comical', 'comif', 'coming', 'comingupthebest', 'comits', 'coml', 'comleted', 'comm', 'command', 'commandant', 'commandment', 'commands', 'commcenter', 'comme', 'commence', 'commenced', 'commencement', 'commencing', 'commended', 'commensurate', 'comment', 'commentaries', 'commentary', 'commentaryto', 'commented', 'commenting', 'comments', 'commerce', 'commerciaiization', 'commercial', 'commercialise', 'commercialization', 'commercialize', 'commercialized', 'commercializing', 'commercially', 'commerical', 'comming', 'commiserative', 'commision', 'commisison', 'commissariat', 'commission', 'commissionaire', 'commissioned', 'commissioner', 'commissioners', 'commissioning', 'commissions', 'commit', 'commiting', 'commitment', 'commitments', 'committal', 'committe', 'committed', 'committee', 'committees', 'committing', 'committment', 'committments', 'commodities', 'commodity', 'common', 'commonly', 'commonwealth', 'commoodity', 'comms', 'commsco', 'commtomm', 'communcate', 'communcicating', 'communicast', 'communicate', 'communicated', 'communicates', 'communicating', 'communication', 'communications', 'communicative', 'communicator', 'communigate', 'communique', 'communist', 'communities', 'community', 'commute', 'commuting', 'como', 'comor', 'comp', 'compact', 'companies', 'companion', 'companionway', 'company', 'companys', 'compaq', 'comparable', 'comparably', 'comparative', 'compare', 'compared', 'compareproducts', 'compares', 'comparing', 'comparison', 'comparisons', 'compass', 'compassbnk', 'compassion', 'compatability', 'compatibility', 'compatible', 'compatriots', 'compe', 'compean', 'compel', 'compelled', 'compelling', 'compensate', 'compensated', 'compensatedeight', 'compensating', 'compensation', 'compensatory', 'compenstation', 'compete', 'competence', 'competencies', 'competency', 'competent', 'competetion', 'competetor', 'competing', 'competition', 'competitive', 'competitively', 'competitiveness', 'competitor', 'competitors', 'compiete', 'compieted', 'compieteness', 'compiiance', 'compilation', 'compile', 'compiled', 'compiling', 'compl', 'complacent', 'complain', 'complained', 'complaining', 'complaint', 'complaints', 'complement', 'complementary', 'complements', 'completa', 'complete', 'completed', 'completeing', 'completeley', 'completely', 'completeness', 'completes', 'completethe', 'completetly', 'completing', 'completion', 'completo', 'complex', 'complexes', 'complexities', 'complexity', 'compliance', 'compliant', 'complicate', 'complicated', 'complicating', 'complication', 'complications', 'complientif', 'complies', 'compliment', 'complimentary', 'compliments', 'comply', 'complying', 'component', 'componentry', 'components', 'comporium', 'compos', 'compose', 'composed', 'composition', 'composure', 'compound', 'compounded', 'compounding', 'comprador', 'comprehend', 'comprehensible', 'comprehensive', 'comprehensively', 'compress', 'compressed', 'compressible', 'compression', 'compressor', 'compressors', 'compris', 'comprise', 'comprised', 'comprises', 'comprising', 'compromise', 'compromised', 'compromising', 'compromiso', 'comptroller', 'compulsory', 'compusa', 'compusep', 'compuserve', 'computable', 'computation', 'computational', 'computations', 'compute', 'computed', 'computer', 'computerized', 'computers', 'computerworld', 'computing', 'comrades', 'comrcio', 'comtex', 'comthis', 'comto', 'comvisit', 'comwe', 'con', 'conangelo', 'concealed', 'concealing', 'concede', 'conceded', 'conceit', 'conceivable', 'conceivably', 'conceive', 'conceived', 'concentrate', 'concentrated', 'concentrates', 'concentrating', 'concentration', 'concentrations', 'concept', 'conception', 'concepts', 'conceptual', 'conceptualizes', 'conceptually', 'concering', 'concern', 'concerned', 'concerning', 'concerns', 'concert', 'concerted', 'concerts', 'concessi', 'concession', 'concessions', 'concetta', 'conchoid', 'conchy', 'concierge', 'conciliation', 'concisely', 'conciuded', 'conciusion', 'concklin', 'conclu', 'conclude', 'concluded', 'concludes', 'concluding', 'conclusion', 'conclusions', 'conclusionsl', 'concord', 'concrescence', 'concrete', 'conctate', 'concur', 'concurence', 'concurred', 'concurrence', 'concurrent', 'concurrently', 'condemn', 'condemnate', 'condemnation', 'condemned', 'condensate', 'condensed', 'condenser', 'condition', 'conditional', 'conditionality', 'conditioned', 'conditioner', 'conditioners', 'conditions', 'condo', 'condominiums', 'condoms', 'condone', 'condos', 'conduct', 'conducted', 'conducting', 'conduction', 'conducts', 'conduit', 'cone', 'conectiv', 'coned', 'conedenergy', 'conedison', 'conedsolutions', 'conentrate', 'coner', 'coneway', 'conf', 'confannjuly', 'confe', 'confeccionamos', 'confectionery', 'confer', 'conferee', 'conferenc', 'conference', 'conferences', 'conferencetimes', 'conferencing', 'conferencji', 'confererence', 'conferm', 'confernce', 'confernece', 'conferred', 'confessedly', 'confi', 'confiance', 'confid', 'confidant', 'confide', 'confiden', 'confidence', 'confidences', 'confidencial', 'confidencialidad', 'confident', 'confidenti', 'confidentia', 'confidentiai', 'confidentiaii', 'confidentiaiit', 'confidentiaiity', 'confidential', 'confidentiality', 'confidentially', 'confidentiel', 'confience', 'configurable', 'configuration', 'configurations', 'configure', 'configured', 'confiict', 'confiicted', 'confimed', 'confines', 'confirm', 'confirmacion', 'confirmation', 'confirmations', 'confirmed', 'confirming', 'confirms', 'confirmyour', 'confiscate', 'confiscated', 'conflict', 'conflicted', 'conflicting', 'conflicts', 'confluence', 'confluent', 'conform', 'conformed', 'conforming', 'conforms', 'confound', 'confrim', 'confront', 'confrontation', 'confrontational', 'confronted', 'confucius', 'confuse', 'confused', 'confusing', 'confusion', 'confusions', 'confuting', 'congest', 'congested', 'congestion', 'congiomerates', 'conglomerate', 'conglomerates', 'congo', 'congou', 'congratgulations', 'congrats', 'congratualtions', 'congratulate', 'congratulating', 'congratulations', 'congress', 'congressional', 'congressmen', 'congresswomen', 'congruence', 'conjecture', 'conjectured', 'conjoint', 'conjuction', 'conjunction', 'conjunctive', 'conjuncture', 'conjunto', 'conl', 'conn', 'connallyatalanta', 'connect', 'connected', 'connecticut', 'connecting', 'connection', 'connections', 'connectivity', 'connects', 'connell', 'connelly', 'conner', 'connery', 'connie', 'conning', 'connoisseur', 'connolly', 'connor', 'conoco', 'conquest', 'conrad', 'conrail', 'conroe', 'conrols', 'cons', 'conscience', 'conscious', 'consciousness', 'consecutive', 'consegnato', 'consensus', 'consent', 'conseqently', 'consequence', 'consequences', 'consequent', 'consequently', 'conservation', 'conservative', 'conservatives', 'conservativethat', 'conservator', 'conserve', 'conset', 'consider', 'considerable', 'considerably', 'considerate', 'consideration', 'considerations', 'considered', 'considering', 'considers', 'consideyellow', 'consign', 'consignment', 'consignments', 'consist', 'consisted', 'consistence', 'consistency', 'consistent', 'consistentency', 'consistentiy', 'consistently', 'consisting', 'consists', 'consolation', 'console', 'consolidate', 'consolidated', 'consolidating', 'consolidation', 'consolidationhome', 'consonance', 'consortia', 'consortium', 'conspiracies', 'conspiracy', 'conspire', 'conspired', 'constance', 'constancias', 'constancy', 'constant', 'constantine', 'constantinides', 'constantly', 'constants', 'constellation', 'constituencies', 'constituency', 'constituent', 'constituents', 'constitute', 'constituted', 'constitutes', 'constitution', 'constitutional', 'constitutionality', 'constrained', 'constraint', 'constraints', 'constrants', 'constringent', 'construct', 'constructed', 'constructing', 'construction', 'constructive', 'construe', 'construed', 'constucting', 'consul', 'consular', 'consulate', 'consult', 'consulta', 'consultancies', 'consultancy', 'consultant', 'consultantion', 'consultants', 'consultatants', 'consultation', 'consultations', 'consultative', 'consulte', 'consulted', 'consulting', 'consumable', 'consumed', 'consumer', 'consumerprotection', 'consumers', 'consumes', 'consuming', 'consumption', 'cont', 'contace', 'contact', 'contactable', 'contactar', 'contacted', 'contacting', 'contacts', 'contactyour', 'contagion', 'contagious', 'contain', 'contained', 'container', 'containers', 'containing', 'containment', 'contains', 'contaminants', 'contato', 'contctenos', 'contemplate', 'contemplated', 'contemplates', 'contemplating', 'contemporaneous', 'contemporary', 'contended', 'contender', 'contener', 'content', 'contented', 'contention', 'contentions', 'contentious', 'contents', 'contenu', 'contest', 'contestants', 'context', 'contient', 'contiguity', 'contiguous', 'continent', 'continental', 'continents', 'contingencies', 'contingency', 'contingent', 'continguity', 'continous', 'continously', 'continual', 'continually', 'continuant', 'continuation', 'continue', 'continued', 'continuer', 'continues', 'continuing', 'continuity', 'continuo', 'continuous', 'continuously', 'continuum', 'contm', 'contol', 'contort', 'contraband', 'contraceptive', 'contracrs', 'contract', 'contracted', 'contracting', 'contraction', 'contractor', 'contractors', 'contracts', 'contractual', 'contractually', 'contradiction', 'contradictory', 'contraindication', 'contraints', 'contraption', 'contrary', 'contrast', 'contratao', 'contrbute', 'contribute', 'contributed', 'contributer', 'contributes', 'contributeto', 'contributing', 'contribution', 'contributions', 'contributionsto', 'contributor', 'contributors', 'contrived', 'contro', 'control', 'controleer', 'controlled', 'controller', 'controllers', 'controlling', 'controls', 'controversia', 'controversial', 'controversially', 'controversies', 'controversy', 'controvery', 'contstraints', 'contuse', 'conus', 'conv', 'convection', 'convective', 'convene', 'convened', 'convenes', 'convenience', 'conveniences', 'convenient', 'conveniently', 'convention', 'conventional', 'conventions', 'converge', 'converged', 'convergence', 'converges', 'converging', 'conversation', 'conversational', 'conversations', 'converse', 'conversely', 'conversion', 'conversions', 'converstion', 'convert', 'converted', 'converter', 'converters', 'convertible', 'converting', 'converts', 'convery', 'convex', 'convey', 'conveyance', 'conveyed', 'conveying', 'conveys', 'conviction', 'convictions', 'convience', 'convienience', 'convince', 'convinced', 'convincing', 'convinient', 'convive', 'convolution', 'conway', 'conzelmann', 'coo', 'cooi', 'cook', 'cookie', 'cookies', 'cooking', 'cool', 'coolers', 'coolie', 'cooling', 'coolly', 'cooney', 'coop', 'cooper', 'cooperate', 'cooperating', 'cooperation', 'cooperative', 'coopers', 'coops', 'coopvita', 'coord', 'coordially', 'coordianted', 'coordinacion', 'coordinate', 'coordinated', 'coordinates', 'coordinating', 'coordination', 'coordinator', 'coordinators', 'coover', 'cop', 'copan', 'copayment', 'cope', 'copeiro', 'copeland', 'copia', 'copied', 'copier', 'copiers', 'copies', 'copious', 'coppead', 'copper', 'copthall', 'copulas', 'copy', 'copycat', 'copydvd', 'copydvdnow', 'copying', 'copyright', 'copyrights', 'copywrite', 'cor', 'coral', 'coralreef', 'coram', 'corba', 'corbally', 'corbel', 'corbett', 'corbitt', 'cord', 'cordate', 'cordes', 'cordial', 'cordiality', 'cordially', 'cordinating', 'cordless', 'core', 'corei', 'corel', 'corestaff', 'corey', 'corgy', 'corka', 'corley', 'corman', 'corn', 'cornel', 'cornelia', 'cornell', 'corner', 'cornerstone', 'cornett', 'corney', 'cornfield', 'cornfloor', 'corny', 'coronach', 'coronal', 'corp', 'corpc', 'corpcustserv', 'corpjobsl', 'corpoffice', 'corpora', 'corporal', 'corporate', 'corporatemetrics', 'corporates', 'corporation', 'corporations', 'corpus', 'corr', 'corral', 'correct', 'corrected', 'correcting', 'correction', 'corrections', 'corrective', 'correctly', 'correctness', 'correctrion', 'correio', 'correl', 'correlate', 'correlated', 'correlates', 'correlation', 'correlational', 'correlations', 'corrente', 'correo', 'correspond', 'correspondant', 'corresponded', 'correspondence', 'correspondences', 'correspondent', 'corresponding', 'corresponds', 'corrigan', 'corroborate', 'corroborating', 'corrupt', 'corrupted', 'corrupting', 'corruption', 'corsages', 'cortes', 'corteselli', 'cortraunt', 'coruscate', 'corvette', 'corvis', 'corwin', 'cory', 'coryphee', 'corzine', 'cos', 'coscia', 'cose', 'cosider', 'cosimo', 'cosmetic', 'cosmetics', 'cosmopolitan', 'cosntraint', 'cost', 'costa', 'costal', 'costantino', 'costcentre', 'costco', 'costilla', 'costing', 'costless', 'costly', 'costs', 'cosy', 'cote', 'cothran', 'cotillon', 'cotizacin', 'cotonou', 'cotton', 'couch', 'coughed', 'couid', 'could', 'couldnt', 'coulter', 'coun', 'council', 'councils', 'counsel', 'counseling', 'counselors', 'count', 'countdown', 'counted', 'counter', 'counterbalance', 'counterblow', 'counterexampes', 'counterintuitive', 'countermine', 'counterpart', 'counterparties', 'counterparts', 'counterparty', 'countertops', 'counting', 'countless', 'countri', 'countries', 'country', 'counts', 'county', 'coup', 'couple', 'coupled', 'couples', 'coupon', 'coupons', 'coups', 'courage', 'courant', 'courdney', 'courier', 'cournerstone', 'cournot', 'course', 'courses', 'coursesoffers', 'coursework', 'courson', 'court', 'courtesy', 'courtney', 'courts', 'courtyard', 'cousin', 'cousino', 'couterparties', 'couterparty', 'covalent', 'covar', 'covariance', 'covariances', 'covent', 'coventry', 'cover', 'coverage', 'coverages', 'covered', 'covering', 'covers', 'covert', 'coveted', 'coving', 'cow', 'cowan', 'cowards', 'cowboy', 'cowboys', 'cowhide', 'coworker', 'coworkers', 'cowper', 'cowpox', 'cows', 'cowt', 'cox', 'coxr', 'cozen', 'cozinheiro', 'cp', 'cpa', 'cpamo', 'cpanel', 'cpaoli', 'cpc', 'cpe', 'cpi', 'cpillc', 'cplex', 'cpm', 'cpo', 'cpproved', 'cpt', 'cpu', 'cpuc', 'cpug', 'cpuld', 'cpunks', 'cpus', 'cr', 'crabs', 'crack', 'crackapo', 'cracked', 'cracking', 'cracks', 'cradle', 'craft', 'crafted', 'craftsmanship', 'craig', 'crain', 'crammed', 'crandall', 'crandell', 'crane', 'cranfield', 'cranky', 'crap', 'crash', 'crashed', 'cratch', 'crave', 'craven', 'craving', 'cravings', 'craw', 'crawfish', 'crawl', 'crawling', 'cray', 'crayons', 'craziest', 'crazy', 'cream', 'creams', 'create', 'created', 'creates', 'creating', 'creatinq', 'creation', 'creative', 'creatively', 'creativeness', 'creativity', 'creator', 'creators', 'creatorstoll', 'credentials', 'credibility', 'credible', 'credibly', 'credit', 'creditdotcom', 'credited', 'crediting', 'creditmag', 'creditmanager', 'creditmetrics', 'creditor', 'creditors', 'creditportfolio', 'creditrisk', 'credits', 'credittrading', 'creditworthiness', 'credulity', 'creed', 'creek', 'cref', 'crenelated', 'crenshaw', 'crenshawwrote', 'creole', 'creoleart', 'crept', 'crepuscular', 'crescent', 'crescentcon', 'crescents', 'crespo', 'cress', 'crested', 'crete', 'creutzfeld', 'crevier', 'crew', 'crewman', 'crewmen', 'crews', 'cribriform', 'cricial', 'cried', 'criepi', 'cries', 'crighton', 'crilly', 'crime', 'crimes', 'criminal', 'criminals', 'cringle', 'cripple', 'cripples', 'cris', 'crises', 'crisis', 'crisp', 'criss', 'crissy', 'cristina', 'cristobal', 'criteria', 'criterion', 'criterious', 'critic', 'critica', 'critical', 'critically', 'criticised', 'criticism', 'criticized', 'critics', 'critiques', 'crm', 'croatia', 'crocodile', 'croe', 'crofton', 'crohn', 'crook', 'crooks', 'croon', 'crop', 'cropcast', 'cropped', 'crore', 'crores', 'cross', 'crossed', 'crossfade', 'crossholdings', 'crossing', 'crossly', 'crossover', 'crossroads', 'crothers', 'crouse', 'crow', 'crowd', 'crowded', 'crowder', 'crowell', 'crown', 'crowne', 'crowning', 'crowsley', 'crri', 'crucial', 'crude', 'crudeapo', 'crudes', 'cruel', 'cruelty', 'cruise', 'cruises', 'crum', 'crumb', 'crunch', 'crushing', 'cruver', 'cruz', 'cry', 'crying', 'cryogenic', 'cryptic', 'cryptography', 'cryssie', 'crystal', 'crzo', 'cs', 'csc', 'cschwab', 'cseiple', 'csfb', 'cshirley', 'csibe', 'csice', 'csikos', 'csli', 'csmitnick', 'csmt', 'csoo', 'cspro', 'css', 'csse', 'cst', 'csv', 'ct', 'ctaee', 'ctc', 'cte', 'ctfg', 'ctfgs', 'ctg', 'cthomso', 'ctl', 'cto', 'ctricol', 'ctrl', 'cts', 'ctsm', 'ctwedick', 'cu', 'cualesquiera', 'cube', 'cubic', 'cuboid', 'cuccia', 'cucn', 'cuellar', 'cuff', 'cuiaba', 'cuiba', 'cuique', 'cuisine', 'cul', 'culley', 'culminating', 'culmination', 'culp', 'culpability', 'culprits', 'cultivable', 'cultivate', 'cultivated', 'cultivating', 'cultivation', 'cultivations', 'cultivator', 'cultural', 'culture', 'cultured', 'cultures', 'culver', 'cum', 'cumberland', 'cumbersome', 'cumg', 'cummings', 'cummins', 'cummulative', 'cumshot', 'cumshots', 'cumulate', 'cumulative', 'cunningham', 'cuny', 'cup', 'cupboard', 'cupertino', 'cups', 'cur', 'curatives', 'curb', 'curbstone', 'cure', 'curent', 'cures', 'curiosity', 'curious', 'curiously', 'curley', 'curr', 'curran', 'currect', 'currencies', 'currency', 'current', 'currentiy', 'currently', 'currents', 'currentsupport', 'curricular', 'curriculum', 'curry', 'curse', 'curso', 'curt', 'curtailed', 'curtain', 'curtin', 'curtis', 'curto', 'curve', 'curved', 'curves', 'curvet', 'curveture', 'cus', 'cusack', 'cushing', 'cushion', 'cushions', 'cusip', 'cusom', 'cussioncontent', 'cust', 'custo', 'custodian', 'custody', 'custom', 'customary', 'custome', 'customer', 'customerco', 'customers', 'customerservice', 'customerss', 'customerswho', 'customhouse', 'customised', 'customizable', 'customize', 'customized', 'customs', 'custsvc', 'cut', 'cutback', 'cute', 'cutey', 'cutglass', 'cuties', 'cutoff', 'cutomers', 'cuts', 'cutsforth', 'cutting', 'cuus', 'cv', 'cvanos', 'cvbobrowski', 'cvph', 'cvrkamat', 'cvs', 'cwd', 'cwfqt', 'cwilliams', 'cwomack', 'cws', 'cwtc', 'cwtd', 'cx', 'cxl', 'cxml', 'cy', 'cyanic', 'cyber', 'cyberbuilding', 'cybernoon', 'cyberopps', 'cybersonic', 'cybersource', 'cyberspace', 'cybersstore', 'cyberverse', 'cyberwatch', 'cyberzone', 'cycle', 'cycles', 'cyclical', 'cycling', 'cyclone', 'cyclones', 'cyclorama', 'cydukzeiqjcs', 'cyennpicahgf', 'cygnifi', 'cylunj', 'cyne', 'cynet', 'cynicism', 'cynthia', 'cypherpunks', 'cypress', 'cyprus', 'cyrus', 'cystic', 'cyuh', 'cyz', 'cz', 'czarne', 'czas', 'czasu', 'czasy', 'czech', 'czego', 'czek', 'czeki', 'czekiem', 'czekow', 'czerwcu', 'czesc', 'czlonkiem', 'czlonkow', 'czlowiekiem', 'czsu', 'czwartek', 'czwartku', 'czy', 'czyli', 'czym', 'czytac', 'czytaj', 'da', 'daao', 'dabei', 'dabhol', 'dac', 'daco', 'dad', 'daemon', 'daetz', 'daffin', 'dagger', 'daggers', 'dagogo', 'dagohevoa', 'daha', 'dahir', 'dahl', 'dahomey', 'dai', 'daigle', 'daigonosed', 'daiiy', 'dailies', 'daily', 'dailypioneer', 'dailyupdate', 'dairy', 'daishowa', 'daithi', 'daj', 'dakar', 'dakota', 'dakrummen', 'dalal', 'dalat', 'dale', 'dalecka', 'daler', 'dalia', 'dallas', 'dallman', 'dallmann', 'dalton', 'damage', 'damaged', 'damages', 'damaging', 'dame', 'damhsa', 'damian', 'damians', 'damit', 'dammon', 'damned', 'damon', 'dampen', 'damsel', 'dan', 'dana', 'danapointharbor', 'dance', 'danced', 'dancing', 'danders', 'dandy', 'daneil', 'danger', 'dangerous', 'dangers', 'danie', 'daniel', 'danielle', 'danielson', 'danilochkina', 'danilov', 'dank', 'danka', 'dankbar', 'danmark', 'dann', 'danner', 'danny', 'dannysullivan', 'dans', 'dante', 'danusia', 'danya', 'daoine', 'daos', 'darbar', 'darden', 'dare', 'darell', 'daria', 'daricha', 'darin', 'dark', 'darkwing', 'darla', 'darlene', 'darling', 'darlington', 'darmowe', 'darn', 'daron', 'darowizne', 'darrah', 'darralyn', 'darrel', 'darrell', 'darren', 'darryl', 'darten', 'darth', 'dartmouth', 'darussalam', 'darveaux', 'daryl', 'darzustellen', 'das', 'dasgupta', 'dash', 'dashed', 'dasovich', 'dass', 'dastard', 'dasyuan', 'dat', 'data', 'database', 'databases', 'databeacon', 'datacontentsl', 'datamate', 'datanet', 'datapaid', 'datapest', 'datapwr', 'dataset', 'datasets', 'datastreams', 'date', 'dateall', 'dated', 'datedbrentcrude', 'dateline', 'daten', 'datenanforderungen', 'datenfrequenz', 'datenquelle', 'datensatz', 'dates', 'dating', 'datingidaily', 'datren', 'daugherty', 'daughter', 'daughters', 'daunting', 'dauphine', 'dautel', 'dave', 'daveike', 'davenport', 'david', 'davidbarbour', 'davidp', 'davids', 'davidson', 'davies', 'davila', 'davina', 'davis', 'daw', 'dawac', 'dawn', 'dawnej', 'dawno', 'dawson', 'day', 'dayal', 'dayangd', 'dayao', 'dayne', 'days', 'dayservice', 'daysturnkey', 'daytime', 'daytona', 'dayvault', 'dayzers', 'dayzerslotterij', 'dazzle', 'db', 'dba', 'dbadura', 'dbdbkewi', 'dbillot', 'dbs', 'dbzmail', 'dc', 'dcallanan', 'dchang', 'dchew', 'dcid', 'dcmy', 'dcorrig', 'dd', 'dda', 'ddcd', 'ddd', 'ddeleon', 'ddenbina', 'ddominic', 'ddr', 'ddsep', 'de', 'dea', 'deactivated', 'dead', 'deadend', 'deadline', 'deadlines', 'deadlock', 'deadpanpolitics', 'deai', 'deakin', 'deal', 'dealbench', 'dealer', 'dealers', 'dealership', 'dealerships', 'dealing', 'dealings', 'dealmaker', 'deals', 'dealsuwant', 'dealt', 'dean', 'deangelo', 'deanna', 'dear', 'dearborn', 'death', 'deathridge', 'deaths', 'deb', 'debacle', 'debatable', 'debate', 'debated', 'debbie', 'debian', 'debility', 'debit', 'deboel', 'deborah', 'debra', 'debrief', 'debt', 'debtor', 'debtors', 'debts', 'debug', 'debugged', 'debugging', 'debut', 'debute', 'debuted', 'debutes', 'dec', 'deca', 'decadal', 'decade', 'decades', 'decal', 'decals', 'decapitation', 'decarlo', 'decatherms', 'decay', 'decays', 'deceased', 'decem', 'december', 'decemberl', 'decenniad', 'decent', 'decentralized', 'deceptive', 'dechow', 'dechundra', 'decide', 'decided', 'decidedly', 'decides', 'deciding', 'deciine', 'deciphering', 'decision', 'decisions', 'decisive', 'decison', 'deck', 'declaration', 'declarations', 'declaratory', 'declare', 'declared', 'decleared', 'decline', 'declined', 'declines', 'declining', 'decmber', 'decnet', 'decnop', 'deco', 'decommissioned', 'decommissioning', 'decompile', 'decompose', 'decomposing', 'decomposition', 'deconstructing', 'decook', 'decorate', 'decoration', 'decorations', 'decorator', 'decouple', 'decoupled', 'decoy', 'decpr', 'decrease', 'decreased', 'decreases', 'decreasing', 'decree', 'decrement', 'decyzje', 'dedicate', 'dedicated', 'dedication', 'dediocinto', 'deducted', 'deductible', 'deductionhome', 'deductions', 'dee', 'deed', 'deeds', 'deeff', 'deejaymail', 'deem', 'deemed', 'deep', 'deepa', 'deepak', 'deepen', 'deepened', 'deeper', 'deepest', 'deeplook', 'deeply', 'deepscan', 'deepti', 'deepwater', 'deer', 'dees', 'def', 'default', 'defaultable', 'defaulted', 'defaulter', 'defaulters', 'defaulting', 'defaults', 'defeat', 'defeatist', 'defective', 'defectors', 'defence', 'defend', 'defendable', 'defended', 'defending', 'defense', 'defensively', 'defer', 'deference', 'deferral', 'deferred', 'defferal', 'deffner', 'deficiency', 'deficit', 'deficits', 'defiled', 'definate', 'definately', 'definatly', 'define', 'defined', 'defines', 'definetly', 'defining', 'definining', 'definite', 'definitely', 'definition', 'definitions', 'definitive', 'deflect', 'deform', 'deformed', 'defs', 'defunct', 'defuse', 'degenerate', 'degenerative', 'degeorge', 'degeyter', 'degiacic', 'degiacinto', 'degiancinto', 'degradation', 'degrade', 'degradedly', 'degree', 'degrees', 'dehydrated', 'deiiver', 'deiivery', 'dein', 'deirde', 'deirdre', 'deja', 'deject', 'del', 'delacey', 'delafosse', 'delagate', 'delage', 'delainey', 'delainy', 'delanco', 'delaney', 'delany', 'delaware', 'delay', 'delayed', 'delaying', 'delays', 'delbaen', 'delegaci', 'delegate', 'delegated', 'delegates', 'delegation', 'deleon', 'delete', 'deleted', 'deleterious', 'deletes', 'deleting', 'deletion', 'deletions', 'delgado', 'delhi', 'deliberate', 'deliberately', 'deliberation', 'deliberations', 'deliberative', 'delicate', 'deliever', 'delighted', 'delightful', 'delinquency', 'deliquescence', 'deliver', 'deliverability', 'deliverable', 'deliverables', 'delivered', 'deliveries', 'delivering', 'delivers', 'delivery', 'deliverycurveshift', 'deliveryyou', 'dell', 'dellaca', 'delmar', 'delmarva', 'deloitte', 'delores', 'delphi', 'delta', 'deltas', 'deluxe', 'delved', 'dely', 'demand', 'demanded', 'demanding', 'demands', 'demarc', 'demarcate', 'demarcation', 'demars', 'dembo', 'dementi', 'dementia', 'demers', 'demianen', 'demianenko', 'demiranda', 'demise', 'demo', 'democrat', 'democratic', 'democrats', 'demographic', 'demolished', 'demon', 'demonica', 'demonstrably', 'demonstrate', 'demonstrated', 'demonstrates', 'demonstration', 'demonstrations', 'demonstrative', 'demoralizing', 'demos', 'demottnow', 'demurrage', 'den', 'denae', 'dendriform', 'deng', 'dengie', 'denham', 'denial', 'denied', 'denies', 'denigrate', 'denim', 'denis', 'denise', 'denison', 'denken', 'denki', 'denmark', 'denn', 'denne', 'denning', 'dennis', 'denoising', 'denominated', 'denomination', 'denryoku', 'dense', 'density', 'densley', 'dentada', 'dental', 'dented', 'dentiaiity', 'denticular', 'dentist', 'denton', 'denver', 'deny', 'denying', 'deon', 'deoxyribonucleic', 'deparrtmental', 'depart', 'departing', 'department', 'departmental', 'departmentebay', 'departmenthttp', 'departmentpaypal', 'departments', 'departs', 'departure', 'depelchin', 'depend', 'dependable', 'dependant', 'dependence', 'dependencies', 'dependent', 'dependiing', 'depending', 'depends', 'depenendent', 'depicted', 'depicting', 'depicts', 'depleted', 'depletions', 'deplore', 'deploy', 'deployed', 'deploying', 'deployment', 'deployments', 'deportee', 'deposit', 'deposite', 'deposited', 'depositing', 'depositional', 'deposits', 'depot', 'deprecatory', 'depreciable', 'depreciated', 'depreciation', 'depressants', 'depressed', 'depression', 'deprive', 'dept', 'depth', 'depto', 'depts', 'depute', 'deputy', 'der', 'derail', 'derby', 'derbyshire', 'derecho', 'derecskey', 'deregulate', 'deregulated', 'deregulation', 'derek', 'derick', 'dering', 'derision', 'deriv', 'derivation', 'derivations', 'derivative', 'derivatives', 'derivativesweek', 'derive', 'derived', 'derives', 'deriving', 'derivitives', 'derivs', 'derman', 'dernehl', 'derogation', 'derogations', 'deroin', 'derr', 'derrick', 'derring', 'ders', 'dervin', 'des', 'desai', 'desanti', 'descale', 'describe', 'described', 'describes', 'describing', 'description', 'descriptions', 'descriptive', 'descriptors', 'desde', 'deseasoned', 'desejar', 'deseje', 'desenho', 'desert', 'deserted', 'deserve', 'deserved', 'deserves', 'deserving', 'deshalb', 'deshi', 'deshmukh', 'design', 'designate', 'designated', 'designating', 'designation', 'designations', 'designed', 'designer', 'designers', 'designing', 'designs', 'desiqn', 'desiqner', 'desirability', 'desirable', 'desire', 'desired', 'desires', 'desiring', 'desist', 'desk', 'deskin', 'deskpro', 'desks', 'desktop', 'desktops', 'desleigh', 'desoto', 'despain', 'desparate', 'desparately', 'despatch', 'desperado', 'desperate', 'desperately', 'desperation', 'despise', 'despite', 'despoil', 'dessert', 'destabilisation', 'destabilize', 'destia', 'destinataire', 'destinatari', 'destinatario', 'destination', 'destinations', 'destined', 'destiny', 'destitution', 'destroy', 'destroyed', 'destroying', 'destruction', 'destructive', 'destructor', 'desultory', 'detach', 'detail', 'detailed', 'detailing', 'details', 'detailsto', 'detect', 'detectable', 'detected', 'detecting', 'detection', 'detective', 'detention', 'deter', 'deteriorate', 'deteriorated', 'deteriorating', 'deterioration', 'determinant', 'determinants', 'determination', 'determine', 'determined', 'determines', 'determining', 'deterministic', 'deternime', 'deterrence', 'deterrents', 'detiveaux', 'detlef', 'detmering', 'detract', 'detrimental', 'detroit', 'detroitedison', 'deus', 'deutche', 'deutsche', 'deutschen', 'deux', 'dev', 'devali', 'devalued', 'devastating', 'devcon', 'deveiop', 'deveioper', 'deveiopers', 'deveioping', 'deveiopment', 'develoment', 'develop', 'developed', 'developer', 'developers', 'developing', 'developingand', 'development', 'developmental', 'developments', 'develops', 'devem', 'deviant', 'deviate', 'deviation', 'deviations', 'device', 'devices', 'devil', 'devildom', 'devine', 'devise', 'devised', 'devising', 'devisor', 'devitalize', 'devoid', 'devote', 'devoted', 'devotes', 'devoting', 'devries', 'dewar', 'dexter', 'dexterity', 'dey', 'dezember', 'df', 'dfmc', 'dfsll', 'dfvht', 'dfw', 'dg', 'dgourpxc', 'dgriffin', 'dgweir', 'dh', 'dhabi', 'dhabol', 'dhadwal', 'dhamhsa', 'dhanda', 'dhar', 'dhfeo', 'dhjommto', 'dhl', 'dhlthdhiosca', 'dhruv', 'dhurrie', 'dhurry', 'dhy', 'di', 'diabetes', 'diabetic', 'diagnose', 'diagnosed', 'diagnosis', 'diagnostic', 'diagnostics', 'diagonally', 'diagram', 'diagrammatic', 'diagramming', 'diagrams', 'dial', 'dialect', 'dialing', 'dialling', 'dialog', 'dialogue', 'dials', 'dialup', 'diameter', 'diamond', 'diamonds', 'diana', 'diane', 'dianne', 'diaper', 'diapers', 'diarchy', 'diary', 'diatonic', 'diaz', 'diazge', 'dice', 'dich', 'dicha', 'diciaccio', 'dick', 'dickcissel', 'dickerson', 'dickson', 'dictate', 'dictated', 'dictates', 'dictatorship', 'dictionary', 'dicuss', 'dicussion', 'didier', 'didrik', 'die', 'diebold', 'died', 'diego', 'dieldrin', 'dienst', 'dierctor', 'diers', 'dies', 'diese', 'diesel', 'diesen', 'diet', 'dietary', 'diethylstilbestrol', 'dieting', 'dietrich', 'diets', 'dietspecials', 'dietz', 'dietzman', 'dieu', 'diff', 'differ', 'differed', 'difference', 'differences', 'different', 'differential', 'differentials', 'differentiate', 'differentiated', 'differentiation', 'differently', 'differing', 'differs', 'difficult', 'difficulties', 'difficulty', 'diffserv', 'diffswap', 'diffusion', 'diffusions', 'difinitive', 'difserv', 'dig', 'digest', 'digested', 'digging', 'dighton', 'digimedia', 'digit', 'digital', 'digitals', 'digits', 'dignitaries', 'dignity', 'digraph', 'diiigence', 'dik', 'dikeman', 'dikkate', 'dilapidated', 'dilative', 'dilatory', 'dilemma', 'dilemmas', 'dileriz', 'diligence', 'diligent', 'dill', 'dillard', 'dillingham', 'diluted', 'dilution', 'dime', 'dimension', 'dimensional', 'dimensionality', 'dimensions', 'dimichele', 'diminishing', 'dimitri', 'dimly', 'dimorphous', 'dimply', 'din', 'dincerler', 'dindaeng', 'dine', 'diner', 'diners', 'ding', 'dining', 'dinner', 'dinners', 'dinos', 'diodes', 'diomedes', 'dion', 'dioun', 'dip', 'dipak', 'dipl', 'diploma', 'diplomacy', 'diplomas', 'diplomatic', 'diplomatically', 'dipoles', 'diprose', 'diptych', 'dir', 'dirchrts', 'dire', 'direcionais', 'direcpc', 'direct', 'directcustserve', 'directed', 'directeur', 'directing', 'direction', 'directional', 'directions', 'directive', 'directives', 'directiy', 'directly', 'directons', 'director', 'directorate', 'directories', 'directors', 'directory', 'directs', 'direcway', 'dirige', 'dirigido', 'dirk', 'dirt', 'dirty', 'dirtyhippo', 'dis', 'disabilities', 'disability', 'disable', 'disabled', 'disadvantage', 'disadvantaged', 'disadvantages', 'disagree', 'disagreed', 'disappear', 'disappearance', 'disappeared', 'disappears', 'disappoint', 'disappointed', 'disappointing', 'disappointment', 'disapprove', 'disarrange', 'disarray', 'disaster', 'disasterrelief', 'disasters', 'disastrous', 'disbanded', 'disbar', 'disbatching', 'disburse', 'disbursement', 'disbursements', 'disc', 'discard', 'discarded', 'discern', 'discerning', 'discharge', 'dischargee', 'dischel', 'discioses', 'discipine', 'disciplinary', 'discipline', 'disciplined', 'disciplines', 'disciplining', 'disclaimer', 'disclaimers', 'disclose', 'disclosed', 'discloses', 'disclosing', 'disclosure', 'disclosures', 'discomfit', 'discomforts', 'disconnect', 'disconnected', 'disconnectedl', 'disconnection', 'disconnections', 'disconnects', 'disconsolate', 'discontinuance', 'discontinue', 'discontinued', 'discontinueing', 'discontinuities', 'discontinuity', 'discostu', 'discount', 'discounted', 'discountenance', 'discounting', 'discounts', 'discourage', 'discouraged', 'discouragement', 'discouraging', 'discover', 'discovered', 'discoveries', 'discovering', 'discovery', 'discreet', 'discreetlist', 'discreetly', 'discrepancies', 'discrepancy', 'discrete', 'discretion', 'discretionary', 'discretionaryaccrual', 'discretization', 'discretize', 'discretized', 'discriminate', 'discriminates', 'discriminating', 'discriminatory', 'discs', 'discus', 'discuss', 'discussant', 'discussed', 'discusses', 'discussing', 'discussion', 'discussions', 'disease', 'diseases', 'diseconomies', 'disfiguration', 'disfunction', 'disg', 'disgrace', 'disgruntled', 'disgusted', 'dish', 'dishcloth', 'dishes', 'dishing', 'disincentives', 'disinclination', 'disinclined', 'disincorporate', 'disinformation', 'disintegration', 'disinterested', 'disk', 'diskette', 'disks', 'disliked', 'dislodge', 'dismantling', 'dismay', 'dismissed', 'dismissing', 'disneau', 'disney', 'disorder', 'disorderly', 'disorders', 'disparage', 'disparaging', 'disparate', 'dispatc', 'dispatch', 'dispatched', 'dispatches', 'dispensation', 'dispense', 'dispensed', 'dispensing', 'dispersed', 'dispersion', 'displace', 'displaced', 'displacement', 'displacing', 'display', 'displayed', 'displaying', 'displays', 'disponbile', 'disposable', 'disposal', 'dispose', 'disposed', 'disposing', 'disposition', 'dispositions', 'dispute', 'disputed', 'disputes', 'disputing', 'disqualification', 'disqualified', 'disquietude', 'disregard', 'disregarding', 'disrespect', 'disrespected', 'disrespectful', 'disrespects', 'disrupt', 'disrupted', 'disrupting', 'disruption', 'disruptions', 'disruptive', 'diss', 'dissatisfied', 'dissect', 'disseminate', 'disseminated', 'disseminating', 'dissemination', 'dissent', 'dissenting', 'dissert', 'dissertation', 'dissociable', 'dissociating', 'dissolve', 'dissuaded', 'dissyllable', 'dist', 'distance', 'distances', 'distant', 'distent', 'distillate', 'distinct', 'distinction', 'distinctionsemienw', 'distinctive', 'distinctively', 'distinctiveness', 'distinctmartin', 'distinguish', 'distinguished', 'distinguishing', 'distland', 'distloop', 'distltmich', 'distmatu', 'distmetkarmetkar', 'distmora', 'distort', 'distortion', 'distorts', 'distracted', 'distracting', 'distractions', 'distress', 'distressed', 'distribucin', 'distributary', 'distribute', 'distributed', 'distributing', 'distribution', 'distributional', 'distributions', 'distributor', 'distributors', 'district', 'districts', 'distriutions', 'distrust', 'disturb', 'disturbance', 'disturbed', 'disturnal', 'disussion', 'dit', 'dithering', 'div', 'divelbiss', 'diverge', 'divergent', 'diverse', 'diversification', 'diversified', 'diversify', 'diversifying', 'diversion', 'diversionary', 'diversity', 'diverso', 'diverted', 'diverting', 'divestiture', 'divide', 'divided', 'dividend', 'dividends', 'divides', 'dividing', 'divine', 'division', 'divisions', 'divorce', 'divorced', 'divulge', 'dixie', 'dixon', 'djcustomclips', 'djf', 'djia', 'djiasm', 'djinteractive', 'djnr', 'djray', 'djw', 'dk', 'dkbi', 'dl', 'dla', 'dlatego', 'dlcations', 'dlcatlons', 'dlelivery', 'dll', 'dlls', 'dlos', 'dlugim', 'dlugo', 'dm', 'dmasulla', 'dmaxwel', 'dmelo', 'dmfcc', 'dmiami', 'dmitri', 'dmitry', 'dmoriniere', 'dmshushhb', 'dmt', 'dmtf', 'dn', 'dna', 'dnb', 'dneminin', 'dni', 'dnia', 'dniach', 'dniem', 'dns', 'dnsix', 'dnslive', 'dnsolpaypal', 'dnya', 'dnyorsunuz', 'dnyoruz', 'doable', 'doan', 'doble', 'dobler', 'dobra', 'dobry', 'dobrze', 'doc', 'doces', 'docieraly', 'docket', 'dockets', 'docking', 'docs', 'doctor', 'doctoral', 'doctorate', 'doctored', 'doctors', 'doctrines', 'document', 'documentary', 'documentation', 'documented', 'documenting', 'documents', 'dod', 'dodatkowe', 'dodatkowych', 'dodge', 'dodson', 'doe', 'doesmatter', 'doesnot', 'doesnt', 'dofinansowac', 'dofinansowania', 'dog', 'doggett', 'doggone', 'dogs', 'doherty', 'doilars', 'doit', 'doj', 'dokona', 'dokonac', 'doktora', 'doktorze', 'dol', 'dolalrs', 'dolan', 'dolar', 'dolaysyla', 'doldan', 'doliars', 'doliver', 'doll', 'dollar', 'dollarisation', 'dollars', 'dollie', 'dolls', 'dolly', 'dolo', 'dolores', 'dolph', 'dom', 'domain', 'domains', 'domainsforeveryone', 'dome', 'domenstrates', 'domes', 'domestic', 'domestically', 'domesticated', 'domiciles', 'dominant', 'dominate', 'dominated', 'dominating', 'domination', 'dominic', 'dominical', 'dominio', 'dominion', 'domino', 'dominos', 'domonoskie', 'domwebl', 'dona', 'donahue', 'donaji', 'donald', 'donated', 'donation', 'donations', 'done', 'doniosla', 'donkey', 'donl', 'donlevy', 'donna', 'donnamartos', 'donnell', 'donnelly', 'donner', 'donnie', 'donnis', 'donoho', 'donor', 'donot', 'donotemail', 'donovan', 'dont', 'donuts', 'doo', 'doomed', 'door', 'doors', 'doorstep', 'doorway', 'doped', 'dopieli', 'dorado', 'dorathy', 'dorcas', 'doreen', 'dorie', 'doring', 'doris', 'dorking', 'dorm', 'dorn', 'dorothy', 'dors', 'dorsey', 'dorshire', 'dos', 'dosage', 'dose', 'doshier', 'dossier', 'dosta', 'dostac', 'dostal', 'doszedl', 'doszla', 'dot', 'dotlopez', 'dotrzec', 'dotted', 'dottie', 'dotyczacych', 'dotyczy', 'doubiing', 'double', 'doubleclick', 'doubled', 'doubletree', 'doubling', 'doublure', 'doubt', 'doubtful', 'doubtless', 'doubts', 'doucet', 'doug', 'dough', 'douglas', 'douglass', 'douthwaite', 'dove', 'dow', 'dowell', 'dowjones', 'dowlnoad', 'dowlnoadable', 'downey', 'downgrade', 'downgrades', 'downioad', 'downline', 'download', 'downloadable', 'downloaded', 'downloader', 'downloading', 'downloads', 'downplayed', 'downs', 'downside', 'downsize', 'downsizing', 'downstairs', 'downstream', 'downtown', 'downturn', 'downward', 'dowser', 'doyle', 'dozen', 'dozens', 'doznajemy', 'dp', 'dpalumbo', 'dpc', 'dpenses', 'dpi', 'dpj', 'dpl', 'dporter', 'dpos', 'dprs', 'dpt', 'dpts', 'dpwpr', 'dr', 'draft', 'drafted', 'drafting', 'draftl', 'drafts', 'drag', 'dragana', 'dragged', 'dragging', 'drago', 'dragon', 'dragonventure', 'drags', 'dragstore', 'drained', 'draining', 'drake', 'dram', 'drama', 'dramatic', 'dramatically', 'dramatization', 'drapeau', 'draper', 'drastic', 'drastically', 'draw', 'drawdown', 'drawdowns', 'drawer', 'drawers', 'drawing', 'drawn', 'draws', 'drazga', 'drc', 'dreaded', 'dreadnought', 'dream', 'dreamed', 'dreamers', 'dreaming', 'dreams', 'dreamwaver', 'dreamweaver', 'dreamworks', 'dreck', 'drena', 'drench', 'dresner', 'dress', 'dresses', 'dressings', 'drew', 'drexel', 'dreyfus', 'drgv', 'dri', 'drib', 'dribbled', 'dribbling', 'dries', 'drift', 'driftage', 'driftless', 'driiled', 'driiling', 'drilied', 'driliing', 'drill', 'drilled', 'drilling', 'drink', 'drinkers', 'drinking', 'drinks', 'drivatives', 'drive', 'driven', 'driver', 'drivers', 'drives', 'driveway', 'driving', 'drivres', 'drodze', 'droga', 'drogi', 'droichead', 'droll', 'drop', 'dropbox', 'dropout', 'dropped', 'dropping', 'drops', 'dropship', 'drought', 'drouth', 'drove', 'droves', 'drowned', 'drowsy', 'drs', 'drudgeryearthmove', 'drug', 'drugi', 'drugie', 'drugs', 'drum', 'drummond', 'drums', 'drury', 'drwdfrba', 'dry', 'ds', 'dsa', 'dsays', 'dservl', 'dsi', 'dsilva', 'dsl', 'dsm', 'dsouza', 'dsp', 'dspelley', 'dstowers', 'dt', 'dtallam', 'dtbradshaw', 'dte', 'dtel', 'dtf', 'dth', 'dthe', 'dti', 'du', 'dual', 'duane', 'dubai', 'dubaicrude', 'dubbed', 'dubia', 'dubious', 'dublin', 'duchnicki', 'duddy', 'dude', 'due', 'duel', 'duely', 'duenner', 'dues', 'duet', 'duffee', 'duffer', 'duffie', 'dugout', 'duhon', 'duit', 'duke', 'dull', 'duluth', 'duly', 'duman', 'dumb', 'dumbowe', 'dummified', 'dummy', 'dumont', 'dump', 'dumping', 'dun', 'dunbar', 'duncan', 'dundalk', 'dunegan', 'dunford', 'dunham', 'dunkirk', 'dunlevie', 'dunn', 'dunnaway', 'dunnett', 'dunphy', 'duns', 'dunyagazetesi', 'duo', 'duperreault', 'dupery', 'duplexing', 'duplicatable', 'duplicate', 'duplicated', 'duplicating', 'duplication', 'dupont', 'dupre', 'dupred', 'dupree', 'durability', 'durable', 'duracell', 'duran', 'durant', 'durante', 'durasoft', 'durasoftcorp', 'duration', 'durations', 'durbin', 'duree', 'durex', 'durgin', 'durham', 'dushinske', 'dust', 'dusted', 'dusty', 'dutch', 'dutiable', 'duties', 'dutt', 'dutta', 'dutton', 'duty', 'duudd', 'duval', 'duvall', 'duzo', 'dvd', 'dvdcopyxp', 'dvds', 'dvdxxxvideo', 'dveok', 'dvertisers', 'dvi', 'dvitrel', 'dvr', 'dw', 'dwa', 'dwalkup', 'dwell', 'dwide', 'dwight', 'dwivedi', 'dwr', 'dx', 'dxndeueqjdzo', 'dy', 'dyar', 'dybowski', 'dye', 'dyer', 'dygresji', 'dying', 'dyk', 'dyke', 'dylan', 'dynamic', 'dynamically', 'dynamics', 'dynasolve', 'dynegy', 'dynegydirect', 'dynemic', 'dynergy', 'dyplomow', 'dyplomowa', 'dyplomowe', 'dyplpmowa', 'dyroff', 'dysfunction', 'dyskusje', 'dyson', 'dysplasia', 'dz', 'dzcv', 'dzerba', 'dzial', 'dzialan', 'dzialaniom', 'dzie', 'dzieki', 'dziekuje', 'dzien', 'dzierniku', 'dziesiejszy', 'dziewczyn', 'dzisiejszego', 'dzonline', 'e', 'ea', 'eachfor', 'eachof', 'eading', 'eads', 'eaf', 'eafrank', 'eager', 'eagerly', 'eagle', 'ealier', 'ealiest', 'eam', 'eapo', 'ear', 'earing', 'eariy', 'earl', 'earle', 'earlier', 'earliest', 'early', 'earmark', 'earmarked', 'earn', 'earnbigmoney', 'earned', 'earner', 'earners', 'earnest', 'earnestly', 'earning', 'earnings', 'earns', 'ears', 'earth', 'earthlink', 'earthquake', 'earthsat', 'earthward', 'earthworks', 'eas', 'ease', 'eased', 'eases', 'easiely', 'easier', 'easiest', 'easiiy', 'easily', 'easing', 'easo', 'east', 'easter', 'eastern', 'eastland', 'eastman', 'eastus', 'eastward', 'easy', 'easyadpost', 'easymoney', 'easyonline', 'eat', 'eaten', 'eatherton', 'eaton', 'eaving', 'eazel', 'eb', 'ebaughm', 'ebay', 'eberkeley', 'ebit', 'ebitda', 'ebl', 'ebook', 'ebooklet', 'ebooks', 'ebrochure', 'ebs', 'ebst', 'ebt', 'ebusiness', 'ebut', 'ec', 'ecar', 'ece', 'ecently', 'ecf', 'ech', 'echelon', 'echo', 'echoed', 'echoes', 'echoing', 'echols', 'eci', 'eciipse', 'eckao', 'eckels', 'eckerd', 'eckerson', 'eclipse', 'ecm', 'ecmwf', 'ecn', 'ecns', 'ecnz', 'eco', 'ecoelectrica', 'ecol', 'ecole', 'ecological', 'ecom', 'ecommerce', 'ecommercetimes', 'ecomog', 'ecompany', 'econ', 'econo', 'econometric', 'econometricians', 'econometrics', 'economic', 'economical', 'economically', 'economics', 'economictimes', 'economies', 'economist', 'economists', 'econommize', 'economy', 'econophysics', 'ecopetrol', 'ecord', 'ecosym', 'ecpc', 'ecpected', 'ecplaza', 'ecpm', 'ecrackapo', 'ecrit', 'ecs', 'ecsis', 'ect', 'ecth', 'ecthou', 'ectlon', 'ects', 'ecuador', 'ecumenical', 'ed', 'eda', 'edad', 'edata', 'eddh', 'eddying', 'edentate', 'eder', 'edf', 'edfs', 'edgar', 'edgartown', 'edge', 'edger', 'edges', 'edgewater', 'edghansen', 'edgworth', 'edgy', 'edi', 'ediately', 'edible', 'edic', 'edie', 'edision', 'edison', 'edit', 'edited', 'edith', 'editing', 'edition', 'editions', 'edito', 'editor', 'editorial', 'editors', 'edits', 'edlcations', 'edlcatlons', 'edmonds', 'edmund', 'edna', 'ednao', 'edras', 'eds', 'edson', 'edsono', 'edt', 'edu', 'eduardo', 'educate', 'educated', 'educating', 'education', 'educational', 'educations', 'educator', 'educators', 'eduhttp', 'edv', 'edward', 'edwards', 'edweber', 'edwin', 'edycja', 'edycji', 'edyleland', 'ee', 'eea', 'eecc', 'eecs', 'eed', 'eedu', 'eeghenstraat', 'eei', 'eeks', 'eel', 'een', 'eeos', 'eep', 'ees', 'eeshelp', 'eestest', 'eet', 'eetim', 'eew', 'ef', 'efa', 'efc', 'efellows', 'eff', 'effciently', 'effdate', 'effeciency', 'effect', 'effected', 'effective', 'effectiveiy', 'effectively', 'effectiveness', 'effects', 'effectuate', 'effectuation', 'effem', 'efficacy', 'efficently', 'efficiencies', 'efficiency', 'efficient', 'efficiently', 'effor', 'effort', 'effortlessly', 'efforts', 'effot', 'effulgence', 'efi', 'efl', 'efland', 'efm', 'efo', 'efs', 'eg', 'ega', 'egal', 'ege', 'egep', 'egf', 'eggleston', 'eggs', 'eglobal', 'egm', 'egmar', 'egmcontent', 'egmfundy', 'ego', 'egoistic', 'egret', 'egs', 'egsprod', 'egypt', 'egypthttp', 'egyptian', 'egzemplarz', 'egzemplarze', 'ehicles', 'ehprsawv', 'ehronline', 'ehud', 'ei', 'eia', 'eiae', 'eickenroht', 'eiements', 'eig', 'eigentlich', 'eigenvalue', 'eigenvalues', 'eight', 'eighteen', 'eighth', 'eighties', 'eighty', 'eile', 'eileen', 'eilis', 'eim', 'ein', 'eine', 'einem', 'einer', 'einstein', 'einsteinian', 'einvestments', 'eipl', 'eircom', 'eis', 'eisel', 'eiseman', 'eiten', 'eitf', 'either', 'eiu', 'eixo', 'eixos', 'ejaculate', 'ejaculation', 'eject', 'ejoh', 'ejv', 'ejwludroy', 'ejym', 'ekao', 'eke', 'ekg', 'eklavya', 'ekonomicznych', 'ekonomik', 'ekrapels', 'el', 'elaborate', 'elaborates', 'elaborating', 'elahi', 'elaine', 'elana', 'elastic', 'elasticities', 'elasticity', 'elation', 'elba', 'elbertson', 'elbows', 'elc', 'elctricity', 'elderly', 'eldest', 'elec', 'elect', 'elected', 'electing', 'election', 'elections', 'elective', 'electrabel', 'electrabell', 'electraparners', 'electric', 'electrica', 'electrical', 'electrically', 'electricite', 'electricities', 'electricity', 'electrics', 'electricty', 'electricxity', 'electrification', 'electrify', 'electrnico', 'electromagnetic', 'electron', 'electronic', 'electronicall', 'electronically', 'electronics', 'elegance', 'elegant', 'elegantly', 'elegiac', 'elektro', 'elektrocieplownie', 'elektronicznie', 'elektronik', 'elektrowni', 'element', 'elemental', 'elementary', 'elements', 'elena', 'eleusinian', 'elevao', 'elevated', 'elevation', 'elevator', 'elevators', 'eleven', 'elf', 'elfman', 'eli', 'eliable', 'elicit', 'eliciting', 'eligibility', 'eligible', 'eliminar', 'eliminate', 'eliminated', 'eliminates', 'eliminating', 'elimination', 'eliminations', 'elisabeth', 'elite', 'eliz', 'elizabeth', 'elizabethherring', 'elizabethmorrell', 'elk', 'elkins', 'elko', 'ella', 'ellacoya', 'elledge', 'ellen', 'ellenberger', 'ellent', 'elliot', 'elliott', 'ellipse', 'elliptical', 'elm', 'elo', 'eloise', 'elol', 'elora', 'elp', 'elrod', 'els', 'elsa', 'elsb', 'elsbp', 'else', 'elsewhere', 'elsie', 'elspeth', 'elucidating', 'eluding', 'elusive', 'eluxmedia', 'elvin', 'elvira', 'elvis', 'ely', 'elyse', 'em', 'ema', 'emai', 'email', 'emailaddresses', 'emailcentre', 'emaildata', 'emailed', 'emailing', 'emailings', 'emailowa', 'emails', 'emailsbuilt', 'emanating', 'emancipate', 'emanuel', 'emarketer', 'emarketplace', 'emba', 'embanet', 'embarasing', 'embarassed', 'embark', 'embarked', 'embarking', 'embarrass', 'embarrassed', 'embarrassing', 'embarrassment', 'embassy', 'embed', 'embedded', 'embedder', 'embellish', 'embody', 'embodying', 'emboss', 'embossed', 'embrace', 'embraced', 'embracing', 'emc', 'emcgoldrick', 'emchombo', 'emeet', 'emeeting', 'emerald', 'emerge', 'emerged', 'emergence', 'emergencies', 'emergency', 'emerges', 'emerging', 'emeritus', 'emerson', 'emertech', 'emerton', 'emery', 'emessaging', 'emf', 'emgmt', 'emi', 'emile', 'emilio', 'emily', 'eminent', 'emirates', 'emiratestenders', 'emisji', 'emission', 'emissions', 'emit', 'emitted', 'emkt', 'emm', 'emma', 'emmanuel', 'emmis', 'emmissions', 'emnet', 'emory', 'emosl', 'emotion', 'emotional', 'emotions', 'emover', 'emp', 'empf', 'emphases', 'emphasis', 'emphasise', 'emphasised', 'emphasising', 'emphasize', 'emphasized', 'emphasizes', 'emphasizing', 'emphatically', 'emphysema', 'empilhadeira', 'empilhadeiras', 'empioyee', 'empioyees', 'empire', 'empirical', 'empirically', 'employ', 'employed', 'employee', 'employees', 'employement', 'employer', 'employers', 'employing', 'employment', 'employs', 'empower', 'empowered', 'empowering', 'empowerment', 'empowers', 'empresa', 'empresariamento', 'emptor', 'empts', 'empty', 'emrs', 'emss', 'emulation', 'emv', 'emwnloqlqdk', 'emy', 'en', 'ena', 'enabie', 'enable', 'enabled', 'enables', 'enabling', 'enacted', 'enacting', 'enactment', 'enajobs', 'enajobsl', 'enamel', 'enaresearch', 'enbank', 'encap', 'encephalitis', 'enchantress', 'enclose', 'enclosed', 'enclosing', 'enclosure', 'enclosures', 'encode', 'encoding', 'encom', 'encomendas', 'encompasses', 'encompassing', 'encorp', 'encorporates', 'encotech', 'encounter', 'encountered', 'encountering', 'encounters', 'encourage', 'encouraged', 'encouragement', 'encourages', 'encouraging', 'encrypt', 'encrypted', 'encrypter', 'encryption', 'encrypts', 'end', 'endangered', 'endeavor', 'endeavors', 'endeavour', 'ended', 'ending', 'endings', 'endless', 'endlogo', 'endocrine', 'endogenously', 'endorse', 'endorsed', 'endorsement', 'endorsements', 'endowed', 'endowment', 'endowments', 'ends', 'endure', 'enduring', 'ene', 'enefit', 'enehou', 'enel', 'enemies', 'enemy', 'enerdata', 'enerfax', 'energ', 'energetic', 'energetycznymi', 'energetyka', 'energi', 'energie', 'energies', 'energii', 'energizer', 'energy', 'energycast', 'energydesk', 'energyevents', 'energyinfosource', 'energyinstitute', 'energyinstitution', 'energyleader', 'energynewslive', 'energysymposium', 'energywriter', 'enermetrix', 'enerprise', 'enertel', 'enery', 'enerygy', 'enet', 'enfants', 'enforce', 'enforced', 'enforcement', 'enforcing', 'eng', 'engage', 'engaged', 'engageenergy', 'engagement', 'engagements', 'engages', 'engaging', 'engags', 'engeldorf', 'engelska', 'engg', 'engin', 'engine', 'engineer', 'engineered', 'engineering', 'engineers', 'enginehouse', 'enginelistings', 'enginering', 'engines', 'england', 'engler', 'englewood', 'englisch', 'english', 'engoal', 'engr', 'engrave', 'engraves', 'engrenagem', 'engrenagens', 'engrossed', 'engy', 'enhance', 'enhanced', 'enhancement', 'enhancements', 'enhancers', 'enhancersdirect', 'enhances', 'enhancing', 'eni', 'enjoing', 'enjoy', 'enjoyable', 'enjoybestones', 'enjoydays', 'enjoyed', 'enjoying', 'enjoymedia', 'enjoyment', 'enjoys', 'enl', 'enlarge', 'enlargement', 'enlighten', 'enlightened', 'enlightening', 'enlisting', 'ennron', 'enoc', 'enormous', 'enorn', 'enough', 'enouqh', 'enovate', 'enpep', 'enpipe', 'enpower', 'enqines', 'enquire', 'enquires', 'enquiries', 'enquiry', 'enr', 'enraged', 'enriching', 'enrichment', 'enrico', 'enro', 'enroll', 'enrolled', 'enrolling', 'enrollment', 'enrolment', 'enron', 'enronanywhere', 'enronassistance', 'enroncast', 'enroncredit', 'enrondirectfinace', 'enrondirectfinance', 'enroninternal', 'enroninterview', 'enronl', 'enrononline', 'enrononlinetm', 'enronoptions', 'enronproposal', 'enrons', 'enront', 'enrontraining', 'enronxgate', 'enroot', 'ens', 'ensemble', 'ensembles', 'enside', 'ensilage', 'enskilda', 'enso', 'ensor', 'ensoul', 'ensurance', 'ensure', 'ensured', 'ensures', 'ensuring', 'entail', 'entailed', 'entailing', 'entails', 'entalhados', 'entente', 'enter', 'entered', 'entergy', 'entering', 'enterprise', 'enterprises', 'enterprising', 'enters', 'entertain', 'entertained', 'entertaining', 'entertainment', 'enthofer', 'enthralling', 'enthusiasim', 'enthusiasm', 'enthusiastic', 'enthusiastically', 'enthusuastic', 'entiaiity', 'entidad', 'entiltled', 'entire', 'entirely', 'entireshow', 'entirety', 'entit', 'entities', 'entitle', 'entitled', 'entitlement', 'entitlements', 'entitles', 'entity', 'ento', 'entouch', 'entrance', 'entrant', 'entrants', 'entrapraneurship', 'entre', 'entrega', 'entrenched', 'entrepeneurship', 'entrepreneur', 'entrepreneurial', 'entrepreneurs', 'entrepreneurship', 'entreprenuer', 'entreprenuership', 'entres', 'entries', 'entrust', 'entrusts', 'entry', 'env', 'envan', 'envelope', 'envelopes', 'envelops', 'enviado', 'envie', 'envied', 'envifi', 'envious', 'enviroline', 'environment', 'environmental', 'environmentally', 'environments', 'envisage', 'envisaged', 'envision', 'envy', 'enw', 'enymex', 'enzi', 'eob', 'eocene', 'eod', 'eog', 'eogi', 'eol', 'eom', 'eorna', 'eos', 'eott', 'ep', 'epa', 'epao', 'epc', 'epcurvepaper', 'epenergy', 'epetroleum', 'epg', 'ephedra', 'ephross', 'epidemic', 'epilogue', 'epis', 'episcopate', 'episode', 'episodes', 'eplanning', 'epmi', 'epo', 'epoch', 'epowered', 'epoxies', 'epr', 'epri', 'eprm', 'eprmconf', 'eprocurement', 'eprofile', 'eps', 'epsc', 'epso', 'epson', 'epstein', 'ept', 'eq', 'eqn', 'equa', 'equal', 'equality', 'equaliy', 'equally', 'equals', 'equates', 'equating', 'equation', 'equations', 'equatorial', 'equilibrium', 'equipamento', 'equipamentos', 'equipment', 'equipments', 'equipose', 'equipped', 'equitability', 'equitable', 'equities', 'equity', 'equivalence', 'equivalent', 'equivalently', 'equivalents', 'equivelant', 'er', 'era', 'erac', 'eradicate', 'erase', 'eraser', 'erate', 'erbeaten', 'ercot', 'erd', 'erecent', 'erect', 'erected', 'erectile', 'erection', 'erectionhealthier', 'erections', 'ereksononline', 'erequest', 'erequests', 'eresume', 'erevede', 'erevesinde', 'erfahrung', 'erfuellen', 'erg', 'erglib', 'ergnote', 'ergonomic', 'ergonomics', 'erhalten', 'erhc', 'eric', 'erica', 'ericsson', 'erienw', 'erik', 'erikpruyt', 'eriksson', 'erin', 'erip', 'erisk', 'erisks', 'erl', 'erland', 'erlebe', 'ermes', 'ermeyecei', 'erms', 'ernesto', 'ernet', 'ernie', 'ernst', 'ero', 'erol', 'eron', 'eronn', 'erotic', 'erp', 'err', 'errands', 'errant', 'erratic', 'erred', 'erreichbar', 'erring', 'erroneous', 'error', 'errors', 'errrection', 'errrectlon', 'ers', 'erskine', 'erste', 'erstellte', 'erupted', 'erwin', 'es', 'esa', 'esai', 'esaibos', 'esatclear', 'esaulle', 'esaurito', 'esca', 'escalante', 'escalate', 'escalated', 'escalates', 'escalation', 'escalations', 'escalators', 'escamilla', 'escape', 'escaped', 'escher', 'esclarecimento', 'escondido', 'escorted', 'escrito', 'escrow', 'esd', 'esearch', 'esecure', 'eseimoku', 'esemeralda', 'esenjay', 'eservice', 'eshed', 'eshop', 'esi', 'esimator', 'esle', 'eslick', 'eslon', 'esmark', 'esmtp', 'esmtpa', 'esnj', 'esnva', 'esol', 'esop', 'esophageal', 'esoteric', 'esource', 'esoy', 'esp', 'espeak', 'especia', 'especiaily', 'especial', 'especialiy', 'especially', 'espeed', 'espehaug', 'esperas', 'espionage', 'espoeiur', 'espreadapo', 'espreadaso', 'espresso', 'esq', 'ess', 'essay', 'essec', 'essence', 'essenceandcore', 'essentia', 'essential', 'essentially', 'essentials', 'essex', 'essfull', 'esso', 'est', 'estabiished', 'estabilish', 'estabilished', 'estabilishing', 'establish', 'established', 'establishes', 'establishing', 'establishment', 'establishments', 'estados', 'estamos', 'estate', 'estates', 'este', 'esteem', 'esteemed', 'esther', 'estimada', 'estimaing', 'estimate', 'estimated', 'estimates', 'estimating', 'estimation', 'estimations', 'esto', 'estockquest', 'estonia', 'estrada', 'estranged', 'estrems', 'estutenwsl', 'estwith', 'esupply', 'et', 'eta', 'etapie', 'etc', 'etcheverry', 'etd', 'etei', 'eternal', 'etes', 'eth', 'ethan', 'ethane', 'ethanol', 'ethel', 'ethernet', 'ethic', 'ethical', 'ethics', 'ethink', 'ethiopia', 'ethylene', 'etin', 'eting', 'etkileyebilecek', 'etkt', 'eto', 'etol', 'etre', 'etringer', 'etrm', 'ets', 'etsweb', 'etter', 'etv', 'eu', 'eubanks', 'eudora', 'eudoramail', 'eugene', 'eugenio', 'eula', 'eunet', 'euphonical', 'eurasia', 'eureka', 'eurekahedge', 'eurmoneyplc', 'euro', 'eurobonds', 'eurocash', 'eurolds', 'euromoney', 'euromoneyplc', 'europe', 'european', 'europhysics', 'europie', 'euros', 'eurpow', 'euuivo', 'eva', 'evacuate', 'evacuation', 'evaiuate', 'eval', 'evals', 'evaluate', 'evaluated', 'evaluates', 'evaluating', 'evaluation', 'evaluations', 'evaluator', 'evalutation', 'evan', 'evanece', 'evans', 'evantage', 'evantagenow', 'evaporate', 'evaporated', 'eve', 'evel', 'evelynlb', 'even', 'evening', 'evenings', 'evenly', 'evenpoint', 'event', 'eventhough', 'eventhougth', 'eventos', 'eventrecord', 'events', 'eventual', 'eventually', 'eventuate', 'ever', 'everett', 'everette', 'evergreen', 'everthything', 'every', 'everybody', 'everyday', 'everyhting', 'everyman', 'everyone', 'everything', 'everywhere', 'evi', 'evidence', 'evidenced', 'evident', 'evidently', 'eviews', 'evil', 'evils', 'evisp', 'evl', 'evolution', 'evolve', 'evolved', 'evolving', 'evryone', 'evt', 'ew', 'ewa', 'ewc', 'ewe', 'ewells', 'ewentualny', 'ewfc', 'eworld', 'ewrm', 'ews', 'ex', 'exacerbate', 'exacerbated', 'exact', 'exactiy', 'exactly', 'exactseek', 'exaggerates', 'exaltation', 'exam', 'examination', 'examinations', 'examine', 'examined', 'examines', 'examining', 'exampies', 'example', 'examples', 'exams', 'exanimate', 'exc', 'exceed', 'exceedance', 'exceeded', 'exceeding', 'exceedingly', 'exceedings', 'exceeds', 'excel', 'excell', 'excelled', 'excelleent', 'excellen', 'excellence', 'excellent', 'excellents', 'excelllent', 'excelon', 'excels', 'except', 'excepting', 'exception', 'exceptiona', 'exceptional', 'exceptionally', 'exceptions', 'excercise', 'excerpt', 'excerpted', 'excerptfrom', 'excerpts', 'excess', 'excessive', 'excessively', 'exchange', 'exchanged', 'exchanges', 'exchanging', 'exchequer', 'excisable', 'excitation', 'excite', 'excited', 'excitement', 'excitements', 'excites', 'exciting', 'exclude', 'excluded', 'excluding', 'exclusion', 'exclusions', 'exclusivamente', 'exclusive', 'exclusively', 'exclusiverewards', 'exclusivity', 'excretion', 'excursions', 'excuse', 'excuteables', 'exe', 'exec', 'execpc', 'execs', 'executable', 'executables', 'execute', 'executed', 'executing', 'execution', 'executions', 'executive', 'executives', 'executon', 'executor', 'executors', 'exed', 'exegesis', 'exelon', 'exeloncorp', 'exemplar', 'exemplary', 'exempt', 'exempted', 'exemption', 'exemptions', 'exercise', 'exercised', 'exercises', 'exercising', 'exhale', 'exhausted', 'exhaustive', 'exhibit', 'exhibiting', 'exhibition', 'exhibitions', 'exhibitor', 'exhibitors', 'exhibits', 'exigencies', 'exigeons', 'exile', 'exim', 'exisiting', 'exist', 'existed', 'existence', 'existent', 'existing', 'exists', 'exit', 'exited', 'exiting', 'exl', 'exmaple', 'exmar', 'exoc', 'exoctic', 'exorbitant', 'exordium', 'exotic', 'exotica', 'exotical', 'exoticarw', 'exotics', 'exoticswap', 'exp', 'expand', 'expanded', 'expanding', 'expandinq', 'expands', 'expansion', 'expansions', 'expansive', 'expat', 'expatriate', 'expatriates', 'expe', 'expect', 'expectation', 'expectations', 'expected', 'expecting', 'expects', 'expediency', 'expedite', 'expedited', 'expediteur', 'expediting', 'expedition', 'expeditions', 'expeditious', 'expences', 'expended', 'expending', 'expenditure', 'expenditures', 'expense', 'expensed', 'expenses', 'expensive', 'expereince', 'experian', 'experiece', 'experience', 'experienced', 'experiences', 'experiencethe', 'experiencing', 'experiment', 'experimental', 'experimentation', 'experimented', 'experimenting', 'experiments', 'expert', 'expertfinder', 'expertise', 'experts', 'expexp', 'expiode', 'expioration', 'expiored', 'expiorers', 'expiosion', 'expiosive', 'expiration', 'expire', 'expired', 'expires', 'expiring', 'expiry', 'explain', 'explaination', 'explainatory', 'explained', 'explaining', 'explains', 'explanation', 'explanations', 'explanatory', 'explicit', 'explicitly', 'explode', 'explodes', 'exploding', 'exploit', 'exploitation', 'exploited', 'exploiting', 'exploits', 'exploration', 'exploratory', 'explore', 'explored', 'explorer', 'explorers', 'explores', 'exploring', 'explosion', 'explosive', 'expo', 'exponent', 'exponential', 'exponentially', 'exponentials', 'export', 'exportable', 'exported', 'exporting', 'exports', 'expose', 'exposed', 'exposes', 'exposing', 'exposition', 'exposure', 'exposures', 'expound', 'express', 'expressead', 'expresseae', 'expressed', 'expresses', 'expressing', 'expression', 'expressions', 'expressly', 'expressway', 'expresway', 'exprire', 'expropriates', 'expsoure', 'exquisite', 'exsiccation', 'ext', 'extant', 'extend', 'extended', 'extending', 'extends', 'extensible', 'extension', 'extensions', 'extensive', 'extensively', 'extent', 'exterior', 'exterminate', 'external', 'externalities', 'externally', 'extn', 'extra', 'extraa', 'extract', 'extracted', 'extractible', 'extracting', 'extraction', 'extractor', 'extracts', 'extracurricular', 'extranet', 'extraordinarily', 'extraordinary', 'extrapolation', 'extravaganza', 'extreamly', 'extreme', 'extremekanal', 'extremely', 'extremes', 'extremists', 'extrinsic', 'extroversion', 'extrude', 'extrusion', 'exxon', 'exxonmobil', 'ey', 'eydeland', 'eye', 'eyeball', 'eyeballs', 'eyed', 'eyes', 'eyewash', 'eyewater', 'eyo', 'ezequiel', 'ezine', 'ezsx', 'f', 'fa', 'faades', 'faarakxavoxcadetxjpir', 'fab', 'fabaclbo', 'fabless', 'fabozzi', 'fabricamos', 'fabricante', 'fabricao', 'fabrication', 'fabricio', 'fabulous', 'face', 'faced', 'faces', 'faceted', 'facets', 'facials', 'facie', 'faciiities', 'faciiity', 'facilitate', 'facilitated', 'facilitates', 'facilitating', 'facilitator', 'facilitators', 'facilitie', 'facilities', 'facility', 'facillities', 'facilties', 'facing', 'faclities', 'facsimile', 'fact', 'factoid', 'factor', 'factored', 'factories', 'factors', 'factory', 'facts', 'factsheet', 'factua', 'factual', 'faculteit', 'faculties', 'faculty', 'fad', 'fades', 'fadil', 'fadzilah', 'fafxo', 'faherty', 'fail', 'failed', 'failing', 'fails', 'failure', 'failures', 'fain', 'fair', 'faire', 'fairfax', 'fairgrounds', 'fairley', 'fairly', 'fairmont', 'fairs', 'fairy', 'fait', 'faith', 'faithfully', 'faiths', 'faiz', 'faizs', 'fake', 'fakeoutdoorsman', 'faking', 'faksowe', 'fakture', 'fakty', 'fal', 'falcon', 'faldyn', 'faliure', 'falkenstein', 'fall', 'fallback', 'fallen', 'fallers', 'falling', 'fallon', 'fallout', 'fallow', 'falls', 'false', 'faltinsen', 'fam', 'fame', 'famed', 'famiiiar', 'familar', 'familiar', 'familiarity', 'familiarize', 'familiarizing', 'familien', 'families', 'family', 'familys', 'famous', 'famously', 'famtriptravel', 'fan', 'fanciful', 'fancy', 'fang', 'fannie', 'fannin', 'fanny', 'fans', 'fantasies', 'fantastic', 'fantasy', 'faoi', 'fap', 'faq', 'far', 'farber', 'fare', 'fares', 'farewell', 'fargo', 'farhad', 'farhan', 'farhangi', 'fariba', 'farid', 'farina', 'faris', 'farm', 'farmer', 'farmers', 'farming', 'farmland', 'farms', 'farney', 'farnsworth', 'farooqi', 'farouk', 'farrell', 'farris', 'farshad', 'farther', 'farthest', 'farzad', 'fas', 'fasb', 'fasbl', 'fascia', 'fascinated', 'fascinating', 'fascism', 'fashion', 'fashioned', 'fasi', 'fasl', 'fast', 'fastband', 'fastclus', 'fasten', 'faster', 'fastest', 'fastlane', 'fastow', 'fastrefi', 'fastweb', 'fastwebsnet', 'fat', 'fatal', 'fatally', 'fate', 'father', 'fathers', 'fati', 'fatidical', 'fatigue', 'fatima', 'fault', 'faulted', 'faults', 'faulty', 'faust', 'fav', 'faveur', 'favor', 'favorabie', 'favorable', 'favorably', 'favored', 'favoring', 'favorite', 'favors', 'favour', 'favourable', 'favourably', 'favoured', 'favourite', 'favours', 'fawcett', 'fax', 'faxed', 'faxes', 'faxing', 'fayad', 'fazekas', 'fazemos', 'fazendas', 'fazer', 'fazie', 'fbblop', 'fbcfbdl', 'fbdxq', 'fbfb', 'fbi', 'fc', 'fca', 'fcc', 'fcel', 'fcflaw', 'fcia', 'fcke', 'fcp', 'fcpa', 'fd', 'fda', 'fdi', 'fdiebold', 'fdl', 'fe', 'fea', 'feagan', 'fear', 'feared', 'fearful', 'fearless', 'fears', 'feas', 'feasibility', 'feasible', 'feasiblity', 'feast', 'feat', 'feather', 'feathered', 'feature', 'featured', 'features', 'featuress', 'featuring', 'feb', 'febl', 'february', 'febuary', 'fed', 'federal', 'federalization', 'federalizes', 'federally', 'federation', 'federer', 'federico', 'fedex', 'feds', 'fee', 'feed', 'feedback', 'feedbacks', 'feedds', 'feeder', 'feedlots', 'feeds', 'feedstock', 'feel', 'feelers', 'feeling', 'feelings', 'feels', 'feerick', 'fees', 'feet', 'fef', 'fehlgeschlagen', 'feiipaaguilar', 'feiras', 'feitag', 'feldman', 'felecia', 'felefli', 'felicia', 'felicitation', 'felipe', 'felix', 'fell', 'fellers', 'felletter', 'felloe', 'fellow', 'fellows', 'fellowship', 'felt', 'female', 'femi', 'fen', 'fence', 'fend', 'feng', 'fennebresque', 'ferc', 'fercfilingsol', 'fercmidwest', 'fercnortheast', 'fergus', 'ferguson', 'ferikson', 'ferlic', 'fern', 'fernando', 'fernley', 'ferrell', 'ferrer', 'ferret', 'ferson', 'ferst', 'fertile', 'fertility', 'fertilizer', 'fertilizers', 'fest', 'festa', 'festival', 'festive', 'festivities', 'festow', 'fetch', 'fetish', 'fetishes', 'fetra', 'fetter', 'fettuccine', 'feu', 'feudality', 'feverfew', 'fewer', 'fewness', 'ff', 'ffa', 'ffd', 'ffff', 'ffffa', 'ffl', 'ffm', 'ffoulkes', 'ffuncoc', 'ffuncop', 'ffvols', 'fg', 'fgc', 'fgetman', 'fgh', 'fgn', 'fgrid', 'fgt', 'fgtpril', 'fguinn', 'fhayden', 'fhiontarlann', 'fhir', 'fhmhair', 'fi', 'fiala', 'fiasco', 'fiat', 'fiber', 'fiberglass', 'fiberglassgarbage', 'fiberoptic', 'fibre', 'fibrechannel', 'fice', 'fictitious', 'fide', 'fidelity', 'fidentiaiity', 'fidget', 'fidir', 'fidlit', 'fiducial', 'fied', 'field', 'fielding', 'fields', 'fierce', 'fiercely', 'fiexibie', 'fiexible', 'fifo', 'fifteen', 'fifth', 'fifths', 'fifties', 'fifty', 'fig', 'fight', 'fighter', 'fighting', 'figueroa', 'figues', 'figure', 'figured', 'figures', 'figuring', 'fiiings', 'fiiling', 'fiim', 'fil', 'filadelfii', 'filament', 'file', 'filed', 'fileletter', 'filename', 'fileopen', 'fileplan', 'files', 'filet', 'filiform', 'filiing', 'filing', 'filings', 'fill', 'fille', 'filled', 'filling', 'fillmore', 'film', 'filmed', 'filming', 'films', 'filter', 'filtering', 'filters', 'filtersppv', 'filth', 'filthy', 'filtration', 'fin', 'fina', 'finacing', 'finacne', 'final', 'finalisation', 'finalise', 'finalised', 'finalising', 'finalist', 'finalists', 'finalization', 'finalize', 'finalized', 'finalizes', 'finalizing', 'finallonly', 'finally', 'finals', 'finanasowa', 'finance', 'financeconference', 'financed', 'financejones', 'financel', 'finances', 'financetrainer', 'financewise', 'financia', 'financial', 'financialexpress', 'financialfreedom', 'financially', 'financials', 'financier', 'financing', 'financings', 'finanicial', 'finans', 'finansowa', 'finansowania', 'finansowe', 'finansowej', 'finansowo', 'finansowym', 'finanzierung', 'finanzsymposium', 'finch', 'fincher', 'find', 'finder', 'finders', 'findest', 'findgoodstuffhere', 'finding', 'findings', 'finds', 'findyour', 'fine', 'fines', 'finest', 'finger', 'fingers', 'fingertips', 'finish', 'finished', 'finishes', 'finishing', 'finite', 'finkelstein', 'finkenstaedt', 'finley', 'finmath', 'finmathmail', 'finnally', 'finnels', 'finnley', 'finrad', 'fiona', 'fiow', 'fipb', 'fire', 'fired', 'firefighting', 'firenze', 'fireproof', 'firewall', 'firewalls', 'firing', 'firkin', 'firm', 'firma', 'firmami', 'firmed', 'firmer', 'firmie', 'firming', 'firmly', 'firmness', 'firms', 'firmy', 'first', 'firstcall', 'firstly', 'firstpetlife', 'firstworld', 'fis', 'fiscal', 'fischer', 'fiscus', 'fish', 'fishbowl', 'fisher', 'fishermen', 'fishing', 'fist', 'fisted', 'fisticuff', 'fisting', 'fit', 'fitness', 'fito', 'fits', 'fitted', 'fitting', 'fitzgerald', 'fitzgibbon', 'fitzpatrick', 'fitzroy', 'fitzsimmons', 'five', 'fives', 'fix', 'fixa', 'fixed', 'fixer', 'fixes', 'fixing', 'fixture', 'fixtures', 'fizycznej', 'fjt', 'fkarbar', 'fl', 'fla', 'flaccid', 'flag', 'flagged', 'flags', 'flagship', 'flaky', 'flamer', 'flames', 'flaming', 'flammable', 'flanges', 'flanigan', 'flash', 'flashing', 'flashlight', 'flashlights', 'flashmail', 'flashnet', 'flasket', 'flat', 'flatiron', 'flatpanel', 'flatter', 'flatting', 'flaunt', 'flavel', 'flavor', 'flawed', 'flaws', 'flcg', 'flection', 'fledged', 'flee', 'fleeks', 'fleenor', 'fleet', 'fleetboston', 'fleming', 'flesh', 'fleshings', 'fletcher', 'flew', 'flexability', 'flexdex', 'flexibie', 'flexibility', 'flexible', 'flexile', 'flexmode', 'flfo', 'flhdzgxo', 'flierguy', 'flight', 'flights', 'fling', 'flinstones', 'flip', 'flirting', 'flnd', 'float', 'floated', 'floaters', 'floating', 'flonetwork', 'flood', 'flooded', 'floodgate', 'floor', 'floored', 'floors', 'flopped', 'floppies', 'floppy', 'floral', 'florence', 'florentina', 'flores', 'florestal', 'florida', 'flounder', 'floundering', 'flouting', 'flow', 'flowed', 'flower', 'flowerist', 'flowerists', 'flowers', 'flowing', 'flows', 'floyd', 'flu', 'fluctuation', 'fluctuations', 'fluent', 'fluid', 'flung', 'fluorogenic', 'flurry', 'flus', 'flush', 'flutters', 'fly', 'flyer', 'flyers', 'flying', 'fm', 'fma', 'fmas', 'fmc', 'fmcs', 'fmginy', 'fml', 'fmo', 'fmrc', 'fms', 'fmto', 'fn', 'fname', 'fo', 'foam', 'foamed', 'foamer', 'fob', 'focal', 'focus', 'focused', 'focuses', 'focusing', 'focussed', 'focusses', 'focussing', 'fodname', 'foe', 'foellmer', 'foes', 'foid', 'foil', 'foilowing', 'foint', 'foir', 'fold', 'folder', 'folders', 'foley', 'folgende', 'foliow', 'folklore', 'folks', 'follow', 'followed', 'followers', 'following', 'followings', 'follows', 'followup', 'folow', 'folowing', 'fon', 'fondren', 'font', 'fontaine', 'fontcolor', 'food', 'foodchain', 'foods', 'fool', 'fooled', 'foolish', 'fools', 'foorever', 'foot', 'footage', 'football', 'footballs', 'footer', 'foothill', 'footnote', 'footnotes', 'footprint', 'foounder', 'foppery', 'forbearance', 'forbes', 'forbid', 'forbidden', 'forbye', 'forc', 'force', 'forced', 'forcenergy', 'forces', 'forcing', 'ford', 'fordmattagent', 'forecast', 'forecasted', 'forecaster', 'forecasters', 'forecasting', 'forecasts', 'foreclosed', 'foreclosure', 'forefront', 'foregoing', 'forehead', 'foreighn', 'foreign', 'foreigner', 'foreigners', 'foreignremittance', 'foreknow', 'foremost', 'forensics', 'foresaw', 'foresee', 'foreseeabie', 'foreseeable', 'foreshown', 'forest', 'forests', 'forestweb', 'forever', 'foreward', 'forex', 'forexdaytrading', 'forfast', 'forfeit', 'forfeited', 'forge', 'forged', 'forget', 'forgetting', 'forgive', 'forgot', 'forgotten', 'forgotton', 'foriegner', 'forit', 'fork', 'forking', 'form', 'forma', 'formal', 'formalise', 'formalities', 'formality', 'formalize', 'formalized', 'formally', 'formalnie', 'formaly', 'formarlities', 'formas', 'format', 'formation', 'formative', 'formats', 'formatted', 'formatting', 'formed', 'former', 'formerly', 'forming', 'formipping', 'formly', 'formosa', 'forms', 'formula', 'formulae', 'formulas', 'formulate', 'formulated', 'formulates', 'formulating', 'formulation', 'fornaio', 'forney', 'fornow', 'fororganizing', 'forpc', 'forreport', 'forrest', 'forrester', 'forsaken', 'forsaw', 'forster', 'forsyth', 'fort', 'forth', 'forthcoming', 'forthright', 'fortify', 'fortitude', 'fortnight', 'fortnightly', 'fortran', 'fortress', 'fortuitous', 'fortum', 'fortunate', 'fortunately', 'fortune', 'fortuneless', 'fortunes', 'forty', 'forum', 'forumdiscussion', 'forumforenergy', 'forums', 'forward', 'forwarded', 'forwarder', 'forwarding', 'forwardlooking', 'forwardoelpreise', 'forwards', 'forycki', 'foryourself', 'foss', 'fossil', 'fossum', 'foster', 'fostering', 'foti', 'fotos', 'foulston', 'found', 'foundation', 'foundations', 'founded', 'founder', 'founders', 'founding', 'foundmy', 'foundry', 'foundrynet', 'fountain', 'four', 'fournais', 'fours', 'fourteen', 'fourten', 'fourth', 'foust', 'fow', 'foward', 'fowarded', 'fowler', 'fox', 'foxes', 'foxpro', 'foyer', 'fp', 'fpa', 'fpexmail', 'fpl', 'fplo', 'fqian', 'fr', 'fra', 'fractals', 'fraction', 'fractionator', 'fractions', 'fragmented', 'fragrance', 'frame', 'framemaker', 'frames', 'framework', 'frameworks', 'framingham', 'framo', 'fran', 'franca', 'france', 'frances', 'francfort', 'franchise', 'franchises', 'francis', 'francisco', 'francois', 'frank', 'frankfurt', 'frankie', 'franklin', 'frankly', 'frankmullers', 'franks', 'fransisco', 'frantic', 'frantzeskakis', 'franz', 'franzen', 'fraser', 'fraternity', 'fraud', 'frauds', 'fraudulent', 'fraudulently', 'frayed', 'frayre', 'frayser', 'frazier', 'frbny', 'frbnyrmagl', 'fre', 'freah', 'freak', 'freckles', 'fred', 'freddie', 'fredericka', 'fredericks', 'fredrik', 'free', 'freebie', 'freebsd', 'freed', 'freedom', 'freee', 'freehostchina', 'freeing', 'freeky', 'freelance', 'freelancereventos', 'freeler', 'freelinksnetwork', 'freelotto', 'freely', 'freemail', 'freeman', 'freemason', 'freemlmleads', 'freenet', 'freenix', 'freepage', 'freepdf', 'freepicklotto', 'freeq', 'freer', 'frees', 'freese', 'freeserve', 'freeservers', 'freest', 'freestone', 'freetown', 'freeware', 'freeway', 'freeways', 'freexmovies', 'freeze', 'freezers', 'freezes', 'freezing', 'freight', 'freighted', 'freighting', 'freightliners', 'freightmart', 'freio', 'freiss', 'fremont', 'french', 'frenchman', 'frenzy', 'frequencies', 'frequency', 'frequent', 'frequently', 'fresh', 'freshest', 'frevert', 'freyre', 'fri', 'fricker', 'friction', 'frictions', 'friday', 'fridays', 'fridl', 'friedberg', 'friedman', 'friend', 'friendless', 'friendly', 'friends', 'friendship', 'fries', 'friess', 'frightening', 'frihart', 'friko', 'frills', 'frios', 'fritador', 'fritch', 'frito', 'fritz', 'fro', 'froehl', 'froehls', 'froggyhost', 'fromdomain', 'fromexperienced', 'fromlucas', 'fromproven', 'fromthe', 'froncie', 'front', 'frontend', 'frontier', 'frontpage', 'frontpagesignup', 'fronts', 'froth', 'froward', 'frowsy', 'frozen', 'frre', 'fructiferous', 'fruehauf', 'fruit', 'fruitful', 'fruitfully', 'fruitless', 'fruits', 'fruity', 'frusco', 'frustrated', 'frustrates', 'frustrating', 'frustration', 'fs', 'fsa', 'fsd', 'fsddatasvc', 'fsi', 'fso', 'fss', 'fstress', 'fsu', 'fsyftn', 'ft', 'ftc', 'ftenergy', 'ftexpat', 'ftmba', 'ftp', 'ftr', 'ftremovals', 'ftrs', 'ftth', 'fu', 'fuck', 'fucked', 'fucking', 'fudan', 'fuddy', 'fue', 'fueis', 'fuel', 'fuelcell', 'fueled', 'fuelled', 'fuels', 'fuer', 'fugel', 'fuii', 'fuil', 'fuily', 'fujita', 'fujitsu', 'fukaya', 'fukuoka', 'fulfill', 'fulfilled', 'fulfilling', 'fulfilment', 'fulghieri', 'fulghum', 'fulgurite', 'fuli', 'fuliy', 'full', 'fuller', 'fullerton', 'fullest', 'fulltime', 'fully', 'fulton', 'fulvous', 'fumbling', 'fumigate', 'fun', 'function', 'functional', 'functionalities', 'functionality', 'functionally', 'functioning', 'functions', 'fund', 'fundacja', 'fundament', 'fundamental', 'fundamentally', 'fundamentals', 'fundametals', 'funded', 'funding', 'fundings', 'fundraiser', 'fundraising', 'funds', 'fundusz', 'fundwatch', 'funeral', 'fungible', 'funk', 'funkcji', 'funkhouser', 'funnel', 'funny', 'fuqua', 'furches', 'furey', 'furfur', 'furhter', 'furiosity', 'furnish', 'furnished', 'furnishing', 'furnishings', 'furniture', 'furtherance', 'furthermore', 'furthest', 'furtive', 'fuse', 'fusible', 'fusion', 'fustigate', 'futher', 'futhermore', 'futue', 'future', 'futures', 'fuure', 'fuzzy', 'fvaodpdof', 'fw', 'fwd', 'fwis', 'fx', 'fxaro', 'fxc', 'fxw', 'fyi', 'g', 'ga', 'gaa', 'gaao', 'gaap', 'gabion', 'gabriel', 'gacia', 'gaconniehttp', 'gadchiroli', 'gadd', 'gaddis', 'gadgets', 'gads', 'gaffney', 'gaffneya', 'gage', 'gagliardi', 'gagnoa', 'gahn', 'gail', 'gain', 'gained', 'gaines', 'gainesville', 'gainfully', 'gaining', 'gains', 'gainsaid', 'gainsville', 'gairid', 'gal', 'gala', 'galactic', 'galagher', 'gale', 'gallagher', 'gallatin', 'galleon', 'galleria', 'gallery', 'galley', 'gallipot', 'gallon', 'gallstones', 'gallup', 'galoot', 'galore', 'gals', 'galvan', 'galvanize', 'galvanized', 'galvanizing', 'galveston', 'gambar', 'gamble', 'gambler', 'gambles', 'gambling', 'gamblinng', 'gambrell', 'game', 'gameplan', 'games', 'gaming', 'gamlng', 'gamma', 'gammal', 'gammar', 'gammas', 'ganapathy', 'gandhi', 'gandy', 'gang', 'ganguzza', 'ganjoo', 'gap', 'gapping', 'gappy', 'gaps', 'garage', 'garanti', 'garbage', 'garban', 'garch', 'garcia', 'garden', 'gardena', 'gardening', 'gardens', 'gardner', 'gareth', 'garfield', 'garimella', 'garland', 'garlington', 'garman', 'garment', 'garner', 'garnet', 'garnishments', 'garon', 'garp', 'garpnyl', 'garps', 'garrett', 'garry', 'gartner', 'garven', 'garvin', 'gary', 'garza', 'gas', 'gasdat', 'gasdia', 'gases', 'gaskill', 'gasohol', 'gasoline', 'gastronomist', 'gate', 'gatech', 'gatekeeper', 'gates', 'gateway', 'gather', 'gathered', 'gathering', 'gathers', 'gatiganti', 'gatwick', 'gau', 'gauche', 'gaudette', 'gauge', 'gauged', 'gauherint', 'gauleiter', 'gaur', 'gaurav', 'gautam', 'gave', 'gavin', 'gay', 'gaylard', 'gayle', 'gaylord', 'gaza', 'gaze', 'gazelles', 'gazetes', 'gazetesi', 'gazogene', 'gb', 'gbij', 'gbm', 'gbmdc', 'gbp', 'gbr', 'gburrows', 'gc', 'gcm', 'gco', 'gcos', 'gcs', 'gd', 'gda', 'gdanska', 'gdansku', 'gdarrah', 'gdcts', 'gdfx', 'gdi', 'gdol', 'gdp', 'gdt', 'gdvi', 'gdy', 'gdyby', 'gdzie', 'ge', 'gea', 'geadresseerde', 'gear', 'geared', 'gearing', 'gebe', 'gebeten', 'gebhardt', 'gebruik', 'gee', 'geehrter', 'geek', 'geez', 'gefilmt', 'gegenscheinhttp', 'gegevens', 'gehle', 'geholfen', 'geil', 'geile', 'geilen', 'gek', 'gelimeler', 'gelling', 'gem', 'geman', 'gemanix', 'gemmill', 'gems', 'gemstones', 'gemunu', 'gen', 'genauer', 'genco', 'gencos', 'gender', 'gendermail', 'gene', 'genera', 'general', 'generalist', 'generalization', 'generalizations', 'generalize', 'generalized', 'generally', 'generalnie', 'generals', 'generate', 'generated', 'generatefrom', 'generates', 'generating', 'generation', 'generations', 'generator', 'generators', 'generatrices', 'generic', 'generically', 'generics', 'generous', 'generously', 'genes', 'genesys', 'genethera', 'genetic', 'genetics', 'genetrans', 'geneva', 'geni', 'genieand', 'genius', 'genome', 'genset', 'gensets', 'gentilini', 'gentle', 'gentleman', 'gentlemen', 'gentleness', 'gentlepeople', 'gently', 'gents', 'genuine', 'genuineloghome', 'genuinely', 'genuineness', 'geo', 'geochemical', 'geoff', 'geoffrey', 'geoge', 'geographic', 'geographical', 'geographically', 'geographies', 'geography', 'geoi', 'geolocation', 'geological', 'geologist', 'geologists', 'geologize', 'geology', 'geometric', 'geometrical', 'geophysical', 'geophysicist', 'geophysicists', 'geophysics', 'georganne', 'george', 'georgeanne', 'georgel', 'georgetown', 'georgettalowe', 'georgewbush', 'georgi', 'georgia', 'georgian', 'geoscience', 'geosciences', 'geplant', 'ger', 'gerade', 'geral', 'gerald', 'geraldine', 'gerard', 'gerber', 'gerd', 'gerekli', 'gerektiini', 'gerhart', 'gerling', 'german', 'germani', 'germany', 'gern', 'geror', 'gerratt', 'gerri', 'gerrity', 'gerry', 'gershenson', 'gerson', 'gessner', 'gestation', 'gestellt', 'gestossen', 'get', 'getmethru', 'getresponse', 'gets', 'getting', 'geturdear', 'geynille', 'geysers', 'gf', 'gfn', 'gget', 'ggfp', 'ggts', 'ggtsstock', 'ggulen', 'ggv', 'gh', 'ghallam', 'ghb', 'gher', 'ghiai', 'ghodsian', 'ghose', 'ghosei', 'ghosh', 'ghoshr', 'ghost', 'ghostffff', 'ghuidhir', 'ghw', 'ghz', 'giadistayior', 'giancola', 'giannini', 'giant', 'giants', 'gibner', 'gibson', 'giddap', 'gielda', 'gif', 'gift', 'gifts', 'gig', 'giga', 'gigabit', 'gigabyte', 'gigabytes', 'gigantic', 'gigas', 'gigawatts', 'giggle', 'gil', 'gilbert', 'gilchrist', 'gilda', 'gilian', 'gill', 'gillan', 'gillespie', 'gilley', 'gillian', 'gillis', 'gilson', 'gilt', 'gilts', 'gimble', 'gimg', 'gimlet', 'gimmicks', 'gina', 'ginge', 'ginger', 'gingery', 'giniat', 'ginnery', 'ginny', 'ginty', 'gioba', 'giobal', 'giovannani', 'giovanni', 'giovannini', 'girish', 'girl', 'girlfriend', 'girls', 'giro', 'giroloterij', 'gis', 'gisele', 'giselle', 'gisol', 'giuseppe', 'giv', 'give', 'given', 'gives', 'giving', 'gji', 'gjohnson', 'gk', 'gkoepke', 'gkoppmal', 'gl', 'glaas', 'glacier', 'glad', 'gladly', 'glance', 'gland', 'glaring', 'glas', 'glasglow', 'glass', 'glasserman', 'glasses', 'glassford', 'glaucoma', 'glaxosmithkline', 'glazed', 'gle', 'gleaned', 'gleason', 'glen', 'glenbrook', 'glencore', 'glenn', 'glenshaw', 'glimmer', 'glimpse', 'glisan', 'glitch', 'glitches', 'gljackson', 'glkh', 'globa', 'global', 'globalcloud', 'globalfailure', 'globalhosting', 'globalization', 'globally', 'globalproducts', 'globals', 'globe', 'globo', 'gloomy', 'gloria', 'glorified', 'glory', 'gloss', 'glossaries', 'glossary', 'glossitis', 'glovechangeful', 'glover', 'gloves', 'glow', 'glowing', 'glowlineensured', 'glowna', 'glownej', 'glownie', 'glownym', 'glue', 'glued', 'glut', 'glynn', 'gm', 'gma', 'gmac', 'gmacrfc', 'gmasson', 'gmat', 'gmbh', 'gmbl', 'gmcclel', 'gmii', 'gmm', 'gmommy', 'gms', 'gmt', 'gnapi', 'gnaws', 'gnconnelly', 'gnderebilirsiniz', 'gnler', 'gnome', 'gnu', 'go', 'goa', 'goais', 'goal', 'goals', 'gobackffffae', 'gobel', 'gobi', 'god', 'godbold', 'godbole', 'goddaughter', 'goddess', 'goddesses', 'godel', 'godfather', 'gods', 'godzin', 'godzinie', 'godziny', 'goebel', 'goering', 'goes', 'goethe', 'goetzman', 'goetzmann', 'gofree', 'goggin', 'gogo', 'gohn', 'goi', 'goiive', 'going', 'goizueta', 'gold', 'goldberg', 'golden', 'goldengraphix', 'goldfield', 'goldfinch', 'goldleads', 'goldman', 'goldmine', 'goldschen', 'goldsmith', 'goldstein', 'golebiowscy', 'golf', 'golfers', 'golive', 'golnaraghi', 'golnarghi', 'golowich', 'gom', 'gomez', 'gondia', 'gone', 'goneforgood', 'goneness', 'gonna', 'gontarek', 'gonzales', 'gonzalez', 'good', 'gooday', 'goodburn', 'goodbye', 'goodd', 'goode', 'goodmorning', 'goodness', 'goodpasture', 'goods', 'goodss', 'goofed', 'goofy', 'google', 'goood', 'gopalakrishnan', 'gopalan', 'gopop', 'gorach', 'gordian', 'gordianresume', 'gordon', 'gorgeous', 'gorman', 'gormanab', 'gorny', 'gorrichategui', 'gorsuch', 'gorte', 'gory', 'gosci', 'gosh', 'gosling', 'gossamer', 'gossett', 'gossips', 'got', 'goto', 'gotten', 'gottsponer', 'gou', 'goughary', 'gouging', 'gould', 'goup', 'gov', 'govern', 'governance', 'governing', 'government', 'governmental', 'governments', 'governor', 'governors', 'goveror', 'govt', 'gpa', 'gpcm', 'gperkes', 'gpg', 'gpgfin', 'gpi', 'gpndq', 'gps', 'gr', 'graand', 'grab', 'grabadora', 'grabbed', 'grabbing', 'grabs', 'grabstald', 'grace', 'gracie', 'gracious', 'graciously', 'graco', 'grad', 'grade', 'graded', 'graders', 'grades', 'grading', 'grads', 'gradu', 'gradual', 'gradually', 'graduate', 'graduated', 'graduates', 'graduating', 'graduation', 'grady', 'grafex', 'grafics', 'graham', 'grain', 'grains', 'grammar', 'gran', 'grand', 'grandchildren', 'granddaughter', 'grande', 'grandfather', 'grandfathered', 'grandkids', 'grandmother', 'grandpa', 'grandparents', 'grandson', 'grandsons', 'grange', 'grannan', 'grannys', 'grant', 'granted', 'granting', 'grants', 'granularity', 'granule', 'grapevine', 'graph', 'graphic', 'graphical', 'graphically', 'graphics', 'graphing', 'graphix', 'graphs', 'grasp', 'grass', 'grassroots', 'grat', 'grata', 'grateful', 'gratefully', 'gratefulness', 'gratification', 'gratis', 'gratitude', 'grauer', 'grave', 'gravity', 'gravy', 'gray', 'grayish', 'grazyna', 'grazyno', 'grdk', 'gre', 'greasy', 'great', 'greater', 'greatest', 'greatestprices', 'greatful', 'greatitemsweblines', 'greatly', 'greatness', 'greats', 'greatt', 'greeat', 'greece', 'greed', 'greedy', 'greedyand', 'greek', 'greeks', 'greeley', 'green', 'greenbacks', 'greene', 'greener', 'greenery', 'greenhill', 'greenish', 'greenland', 'greenlee', 'greenplace', 'greensboro', 'greenspan', 'greentech', 'greenway', 'greenwich', 'greenzer', 'greet', 'greeted', 'greeter', 'greeters', 'greeting', 'greetings', 'greg', 'gregg', 'gregor', 'gregory', 'greif', 'greig', 'greiter', 'grep', 'gretan', 'grew', 'grey', 'grib', 'grid', 'grids', 'griebling', 'grieblings', 'grief', 'griffin', 'griffith', 'griggs', 'grigorov', 'grigsby', 'grill', 'grille', 'grilled', 'grimaldi', 'grimes', 'grimm', 'grindery', 'grip', 'gripsack', 'grisham', 'grissom', 'gritty', 'grlerine', 'grlerinizi', 'grm', 'grms', 'groceries', 'groceteria', 'grodek', 'groenfeld', 'groenfeldt', 'gromb', 'grooming', 'groomsman', 'gros', 'groscrand', 'groseclose', 'gross', 'grosse', 'grosvenor', 'groter', 'groth', 'groucho', 'ground', 'grounds', 'groundsel', 'groundwork', 'groung', 'group', 'groupe', 'grouped', 'groups', 'grove', 'groves', 'grow', 'growing', 'growl', 'grown', 'grownups', 'grows', 'growth', 'growthmarkets', 'growths', 'growthwrinkle', 'grudging', 'grueling', 'gruesse', 'grullon', 'grumble', 'grumbled', 'grumbledto', 'grumman', 'grummet', 'grumulaitis', 'grundyism', 'grunts', 'grupe', 'gruppen', 'grutzmacher', 'grwhit', 'grypa', 'gryphon', 'grypie', 'grzegorz', 'gs', 'gsa', 'gsb', 'gsheble', 'gsia', 'gss', 'gssgeomatics', 'gst', 'gt', 'gtalumni', 'gtha', 'gto', 'gtts', 'gu', 'guadalupe', 'guadette', 'guage', 'guaiity', 'gualy', 'guam', 'guangdong', 'guangzhou', 'guarantee', 'guaranteed', 'guarantees', 'guaranty', 'guard', 'guarded', 'guardia', 'guardian', 'guarding', 'guardsman', 'guarntees', 'guarranttee', 'guatemalan', 'guay', 'gude', 'gudgeon', 'gudgets', 'guenter', 'guerra', 'guerrero', 'guerriero', 'guerrilla', 'guess', 'guessing', 'guest', 'guestbook', 'guests', 'guggenheim', 'guhagar', 'gui', 'guidance', 'guide', 'guided', 'guideline', 'guidelines', 'guidepost', 'guides', 'guidlines', 'guido', 'guidroz', 'guidry', 'guild', 'guilfoyle', 'guillermo', 'guilliams', 'guilt', 'guilty', 'guis', 'guiseppe', 'gujarat', 'gulati', 'gulf', 'gullibility', 'gulyassy', 'gun', 'gunaratne', 'gunfleet', 'gunnery', 'gunning', 'gunnison', 'guns', 'gunslinger', 'gunther', 'guo', 'guoding', 'guofeng', 'gupta', 'guru', 'gurunath', 'gurus', 'gus', 'gusmer', 'gustafson', 'gustavo', 'gustavop', 'gusto', 'gut', 'guthrie', 'gutierrez', 'guts', 'guttural', 'guy', 'guycarp', 'guys', 'guzzle', 'gvj', 'gw', 'gwarada', 'gwaukesha', 'gwen', 'gwh', 'gwih', 'gwihgwih', 'gwillard', 'gwilym', 'gwit', 'gwpqu', 'gwu', 'gwyn', 'gwynn', 'gx', 'gym', 'gymnasium', 'gyqk', 'gywn', 'gzo', 'h', 'ha', 'haa', 'haag', 'haakan', 'haakon', 'haal', 'haano', 'haas', 'haben', 'habiba', 'habit', 'habits', 'hachen', 'hack', 'hacker', 'hackers', 'hacking', 'haddow', 'hadley', 'hae', 'haedicke', 'haemophilia', 'haffez', 'haga', 'hagar', 'hagelman', 'hagelmann', 'hagen', 'hagerty', 'haggerty', 'haggety', 'haggle', 'hagler', 'hague', 'haha', 'hahn', 'hahnl', 'hai', 'haigh', 'hailson', 'hain', 'hair', 'haircut', 'haircuts', 'hairmagic', 'hairmagicinfo', 'haiti', 'hakeem', 'hal', 'halal', 'halalmortgages', 'halbert', 'halejulie', 'hales', 'half', 'haliburton', 'halich', 'hall', 'hallam', 'hallermann', 'halliburton', 'hallon', 'halloween', 'halls', 'halluin', 'hallway', 'halpin', 'halt', 'halting', 'halved', 'halving', 'ham', 'hamachi', 'hamburg', 'hamd', 'hamel', 'hamid', 'hamilton', 'hamlin', 'hammar', 'hammars', 'hammel', 'hammer', 'hammers', 'hammerscale', 'hammond', 'hampered', 'hampering', 'hampshire', 'hampton', 'hamza', 'hancock', 'hand', 'handball', 'handbill', 'handbook', 'handcuffed', 'handed', 'handful', 'handheld', 'handicaps', 'handier', 'handing', 'handle', 'handled', 'handler', 'handles', 'handling', 'handlowa', 'handlowej', 'handlu', 'handout', 'handouts', 'handover', 'hands', 'handset', 'handsfree', 'handshake', 'handsome', 'handspring', 'handwritten', 'handy', 'haney', 'hang', 'hangar', 'hangi', 'hanging', 'hangout', 'hangzhou', 'hank', 'hankamer', 'hanks', 'hanley', 'hanna', 'hannah', 'hannes', 'hanno', 'hannon', 'hanover', 'hans', 'hansen', 'hansford', 'hanslip', 'hanukkah', 'hanweck', 'hao', 'happen', 'happend', 'happened', 'happening', 'happenings', 'happens', 'happiest', 'happily', 'happiness', 'happpens', 'happy', 'har', 'hara', 'haralson', 'harare', 'harassed', 'harassing', 'harassment', 'harbir', 'harbor', 'harbour', 'harcourt', 'hard', 'hardback', 'hardcopies', 'hardcopy', 'hardcore', 'hardeep', 'hardeman', 'harden', 'hardening', 'harder', 'harderr', 'hardihood', 'hardly', 'hardship', 'hardware', 'hardy', 'hare', 'harewood', 'hargrave', 'hari', 'haricotbean', 'harish', 'hark', 'harker', 'harkness', 'harley', 'harm', 'harmaceutical', 'harmazmail', 'harmful', 'harmless', 'harmonization', 'harmonizing', 'harmonline', 'harmshop', 'harnest', 'harold', 'harora', 'harper', 'harperl', 'harrelson', 'harrington', 'harris', 'harrison', 'harry', 'harryvinstons', 'harsh', 'harshly', 'harshness', 'harsimran', 'harslet', 'hart', 'hartfield', 'hartland', 'hartney', 'harvard', 'harvardreit', 'harvest', 'harvesting', 'harvests', 'harvey', 'haryana', 'hasan', 'hasappeared', 'hasenjager', 'hash', 'hashana', 'haskett', 'hass', 'hassanal', 'hassle', 'hassles', 'hassling', 'haste', 'hasten', 'hastings', 'hasty', 'hat', 'hatched', 'hatches', 'hate', 'hatem', 'hates', 'hatfield', 'hath', 'hatred', 'hats', 'hauch', 'haug', 'haughton', 'haughty', 'haul', 'hauled', 'haunted', 'haunting', 'haunts', 'hauser', 'hautnah', 'hav', 'havard', 'havemore', 'havens', 'havent', 'havertown', 'havetherefore', 'havinq', 'hawaii', 'hawk', 'hawke', 'hawkins', 'hawley', 'hawthorn', 'hay', 'haycock', 'hayden', 'hayes', 'haymarket', 'haynes', 'hayrick', 'hayride', 'hayslett', 'hayworth', 'hazard', 'hazardous', 'hazards', 'hazare', 'hazel', 'hazira', 'hazlewood', 'hbburnham', 'hbcbk', 'hbo', 'hbr', 'hbrett', 'hbs', 'hbsp', 'hc', 'hcdc', 'hcj', 'hcm', 'hd', 'hdaf', 'hdafs', 'hdd', 'hdds', 'hdfc', 'hea', 'head', 'headaches', 'headand', 'headcheese', 'headcount', 'headed', 'header', 'headers', 'headforemost', 'headhunter', 'headhunters', 'heading', 'headings', 'headline', 'headlines', 'headquartered', 'headquarters', 'headquartes', 'heads', 'headstone', 'headway', 'heaithy', 'healing', 'health', 'healthcare', 'healthen', 'healthier', 'healthnet', 'healthnetworks', 'healthy', 'heap', 'heaps', 'hear', 'heard', 'hearing', 'hearings', 'hearning', 'hears', 'heart', 'heartburn', 'heartedly', 'heartfelt', 'heartland', 'hearts', 'heartsick', 'heartwarmer', 'heartwarmers', 'heartwarming', 'heat', 'heath', 'heather', 'heathman', 'heating', 'heatt', 'heaven', 'heavenly', 'heavier', 'heavily', 'heavy', 'heavyweight', 'hebert', 'hebt', 'hec', 'hecate', 'hecht', 'heck', 'heckerman', 'hectare', 'hectic', 'hector', 'hed', 'hedge', 'hedgeable', 'hedged', 'hedgehog', 'hedgeing', 'hedger', 'hedgers', 'hedges', 'hedging', 'heding', 'hedland', 'hedstrom', 'heeded', 'heeft', 'heels', 'heeralal', 'hefei', 'heffron', 'hefty', 'hegenberger', 'heging', 'heidi', 'heighten', 'heightened', 'heights', 'heinous', 'heip', 'heir', 'heirs', 'heis', 'heisler', 'heisse', 'heissesten', 'heizenrader', 'hejka', 'helaas', 'held', 'helen', 'helfrich', 'heliacal', 'helian', 'helicopter', 'helina', 'helinakarimu', 'heliograph', 'heliosgroup', 'hell', 'helland', 'heller', 'hellmann', 'hello', 'helm', 'helms', 'helo', 'help', 'helpdesk', 'helped', 'helpers', 'helpful', 'helping', 'helps', 'helpyou', 'helsinki', 'helter', 'helton', 'helvetica', 'helyette', 'hematology', 'hemishere', 'hemisphere', 'hemispherical', 'hemmm', 'hemorrhoid', 'hemostatic', 'henahan', 'hence', 'henceforth', 'henderson', 'hendon', 'hendricks', 'hendrickson', 'henley', 'hennessey', 'hennessy', 'henri', 'henrici', 'henry', 'henrycash', 'henryhub', 'hensel', 'hensley', 'henwood', 'heo', 'heogh', 'hepa', 'hepburn', 'herald', 'heralded', 'herasimchuk', 'herbal', 'herbalist', 'herber', 'herbert', 'hercules', 'herding', 'herds', 'hereadv', 'hereafter', 'hereand', 'hereby', 'herefor', 'herein', 'hereinabove', 'hereinafter', 'herem', 'hereof', 'hereone', 'heres', 'hereto', 'heretofore', 'herewith', 'hereyou', 'herhangi', 'heritage', 'herman', 'hermanek', 'hermann', 'hermans', 'herminia', 'hernandez', 'herndon', 'hernia', 'herod', 'heroes', 'heroine', 'herpes', 'herr', 'herring', 'herrn', 'hershkovitz', 'hertzberg', 'herzlichen', 'hes', 'hesi', 'hesinet', 'hesitant', 'hesitate', 'hesitating', 'hesitation', 'hesitiation', 'hess', 'hestitate', 'het', 'heterogeneous', 'heterogenous', 'hethorne', 'hetzel', 'heu', 'heuers', 'heur', 'heuristic', 'heuristically', 'heutiges', 'heward', 'hewitt', 'hewlett', 'hex', 'hey', 'heya', 'heyday', 'hfd', 'hg', 'hgh', 'hghl', 'hgin', 'hh', 'hi', 'hiatal', 'hib', 'hicago', 'hickerson', 'hickey', 'hickman', 'hickok', 'hicks', 'hickson', 'hidalgo', 'hidden', 'hide', 'hiding', 'hidrulico', 'hidrulicos', 'hidy', 'hiedy', 'hien', 'hier', 'hierarchy', 'hiezenrader', 'hig', 'higgle', 'high', 'highcholesterin', 'higher', 'highest', 'highiy', 'highland', 'highlighed', 'highlight', 'highlighted', 'highlighting', 'highlights', 'highly', 'highperformance', 'highprice', 'highrise', 'highrollers', 'highs', 'highway', 'highways', 'hiim', 'hijacked', 'hike', 'hikers', 'hikes', 'hilarious', 'hilary', 'hilgert', 'hill', 'hillard', 'hillary', 'hillh', 'hillier', 'hillings', 'hillis', 'hills', 'hilton', 'himachal', 'himalayas', 'hime', 'hin', 'hindered', 'hinderences', 'hindering', 'hindmost', 'hindu', 'hindubusinessline', 'hindustan', 'hinges', 'hingoran', 'hingorani', 'hinse', 'hint', 'hintergrund', 'hints', 'hiperlan', 'hippie', 'hipping', 'hire', 'hired', 'hires', 'hiring', 'hirko', 'hirl', 'hirschman', 'hisamitsu', 'hisd', 'hispanic', 'histogram', 'historian', 'historic', 'historica', 'historical', 'historically', 'historicals', 'history', 'hit', 'hitachi', 'hitch', 'hitchcock', 'hitfsopxj', 'hits', 'hitter', 'hitters', 'hitting', 'hivol', 'hiya', 'hj', 'hjlzc', 'hjm', 'hk', 'hl', 'hlb', 'hlk', 'hllf', 'hloy', 'hlpplng', 'hmad', 'hmason', 'hmo', 'hmos', 'hms', 'hmuprzd', 'hnatraj', 'hng', 'hngs', 'hnmorris', 'hnwis', 'ho', 'hoarding', 'hoarse', 'hoax', 'hoaxes', 'hobbies', 'hobby', 'hoc', 'hochmuth', 'hochschild', 'hocus', 'hod', 'hodapp', 'hodges', 'hodgeson', 'hodgson', 'hoecker', 'hoeffelman', 'hoegh', 'hoffman', 'hogan', 'hogarth', 'hohe', 'hoid', 'hoiding', 'holcomb', 'hold', 'holden', 'holder', 'holders', 'holding', 'holdings', 'holds', 'holdup', 'hole', 'holes', 'holiday', 'holidays', 'holland', 'holli', 'hollow', 'holloway', 'hollweck', 'holly', 'hollyk', 'hollywood', 'holmbury', 'holmes', 'holocaust', 'holographic', 'holst', 'holster', 'holsters', 'holsworth', 'holt', 'holub', 'holyoke', 'holzer', 'homan', 'home', 'homefastcash', 'homegenous', 'homeiand', 'homeitry', 'homel', 'homeland', 'homeless', 'homemade', 'homeowner', 'homeowners', 'homeownership', 'homepage', 'homer', 'homes', 'homesite', 'homestead', 'homework', 'homme', 'homogeneous', 'homophone', 'hon', 'honbank', 'honda', 'hone', 'honered', 'honest', 'honestly', 'honesty', 'honey', 'honeycutt', 'honeys', 'hong', 'honolulu', 'honor', 'honorable', 'honorary', 'honored', 'honoring', 'honorowym', 'honors', 'honour', 'honoured', 'honours', 'hood', 'hoof', 'hoog', 'hook', 'hooked', 'hooking', 'hooray', 'hoosier', 'hoot', 'hoover', 'hop', 'hope', 'hoped', 'hopeful', 'hopefully', 'hopeless', 'hopelessly', 'hopelessness', 'hopes', 'hoping', 'hopkins', 'hopley', 'hopoallergenic', 'hopper', 'hops', 'hora', 'horas', 'horatiul', 'horbal', 'hord', 'horizon', 'horizons', 'horizontal', 'hormonal', 'hormone', 'hormones', 'horn', 'hornbuckle', 'horning', 'horns', 'horny', 'horoscope', 'horoscopes', 'horowitz', 'horrible', 'horrified', 'horror', 'hors', 'horse', 'horses', 'horseshoe', 'horst', 'horton', 'hosanna', 'hose', 'hosed', 'hoshino', 'hospital', 'hospitality', 'hospitals', 'hossain', 'host', 'hosted', 'hostess', 'hostile', 'hosting', 'hosts', 'hosty', 'hot', 'hotat', 'hotel', 'hotels', 'hotelu', 'hotfix', 'hotline', 'hotlines', 'hotlink', 'hotmail', 'hotresponders', 'hotte', 'hottest', 'hotties', 'hottt', 'hou', 'hour', 'hourhelp', 'hourly', 'hours', 'house', 'housed', 'household', 'households', 'housekeepers', 'houses', 'housewares', 'housing', 'houston', 'houstonas', 'houstoncellular', 'houstonenergy', 'houstoneneryg', 'houstonian', 'houstonstreet', 'houstonu', 'houten', 'hovered', 'hovv', 'howard', 'howardagent', 'howardlin', 'howards', 'howdy', 'howe', 'howell', 'howenstine', 'however', 'howit', 'howling', 'hows', 'howy', 'hp', 'hpl', 'hpp', 'hpshum', 'hq', 'hqpress', 'hr', 'hrach', 'hrbhnau', 'href', 'hrgovcic', 'hrgvocic', 'hritage', 'hrl', 'hrnoc', 'hronline', 'hrs', 'hrservice', 'hrvoje', 'hrweb', 'hsa', 'hsanusi', 'hsb', 'hsbc', 'hsbcib', 'hsdl', 'hse', 'hsfo', 'hsu', 'htdig', 'hte', 'htm', 'html', 'htsearch', 'http', 'httpd', 'https', 'htttp', 'hu', 'huafeng', 'huaguang', 'huan', 'huang', 'hub', 'huber', 'hubert', 'hubs', 'hudler', 'hudson', 'hudsonw', 'hue', 'huffman', 'hug', 'huge', 'hugely', 'hugevirtuousitems', 'hughes', 'hughston', 'hugo', 'hugs', 'huh', 'huie', 'huldenberg', 'hulkjr', 'hull', 'hullo', 'hum', 'humair', 'human', 'humancode', 'humanitarian', 'humanity', 'humankind', 'humans', 'humble', 'humbly', 'humboldt', 'humbolt', 'humbug', 'humect', 'humidity', 'humidor', 'humiliate', 'humilit', 'humility', 'humming', 'humor', 'humour', 'hump', 'humphrey', 'humphreys', 'humphries', 'humps', 'hund', 'hundred', 'hundreds', 'hundredweight', 'hundrends', 'hundsturm', 'huneault', 'huneke', 'hung', 'hungary', 'hunger', 'hungriest', 'hungry', 'hunker', 'hunt', 'huntco', 'hunter', 'hunters', 'hunting', 'huntington', 'huntley', 'huntsville', 'hurdles', 'hurdling', 'hurley', 'hurredly', 'hurricane', 'hurricanes', 'hurried', 'hurry', 'hurst', 'hurt', 'hurting', 'hurts', 'hurwitz', 'husband', 'husbands', 'hush', 'hussein', 'hustles', 'huston', 'hutchinson', 'hutchison', 'hutting', 'huzzah', 'hvince', 'hvli', 'hvu', 'hvubl', 'hwang', 'hwd', 'hwjw', 'hwy', 'hxgi', 'hyatt', 'hybeammaill', 'hybrid', 'hyde', 'hyderabad', 'hydrargyrum', 'hydrate', 'hydrates', 'hydraulic', 'hydro', 'hydrocarbon', 'hydrocarbons', 'hydroderm', 'hydroelectric', 'hydrogen', 'hydrological', 'hydrology', 'hyndman', 'hype', 'hyper', 'hyperconfident', 'hypercube', 'hyperlinked', 'hyperlinks', 'hypersmart', 'hypertension', 'hypnosis', 'hypnosisdownloads', 'hypnotic', 'hypocrisy', 'hypodermic', 'hypothesis', 'hypothetical', 'hyssop', 'hyster', 'hyundai', 'hywwzzlzd', 'hz', 'ia', 'iab', 'iaee', 'iaes', 'iafe', 'iah', 'iahr', 'iaiity', 'iain', 'iakwe', 'iam', 'ian', 'iancv', 'ianguage', 'ianguaqe', 'ianquage', 'ianquaqe', 'iar', 'iasa', 'iastate', 'iasts', 'ib', 'ibarra', 'ibasco', 'ibidem', 'ibm', 'ibrahim', 'ibrk', 'ibrkntol', 'ibuyit', 'ibuyitpayables', 'ic', 'icann', 'icap', 'icaplan', 'icbi', 'iccas', 'iccrea', 'ice', 'iceberg', 'iceblink', 'icelandic', 'icensed', 'icensing', 'icf', 'icfconsulting', 'ich', 'ichan', 'ichi', 'ici', 'icon', 'iconference', 'iconferences', 'icons', 'icop', 'icq', 'icum', 'icy', 'icyigloo', 'icynene', 'id', 'ida', 'idahi', 'idaho', 'idbi', 'idc', 'ide', 'idea', 'ideaglobal', 'ideal', 'idealen', 'idealerweise', 'idealism', 'idealistic', 'ideally', 'ideals', 'ideas', 'idee', 'identiaiity', 'identical', 'identifiable', 'identification', 'identified', 'identifiers', 'identifies', 'identifiy', 'identify', 'identifying', 'identities', 'identity', 'identyczne', 'ideology', 'idf', 'idg', 'idiosyncracies', 'idiot', 'idl', 'idle', 'idled', 'idleness', 'idp', 'ids', 'idus', 'idxo', 'idzie', 'ie', 'ieac', 'ieader', 'ieading', 'ieee', 'ieg', 'iegsearch', 'ieor', 'iers', 'ies', 'ieta', 'ietf', 'ifa', 'ifhe', 'ifinally', 'ifo', 'ightning', 'ignacio', 'ignites', 'igniting', 'ignominious', 'ignor', 'ignorance', 'ignorant', 'ignore', 'ignored', 'ignores', 'ignoring', 'ihad', 'ihatetowork', 'ihii', 'ihnen', 'ihr', 'ihre', 'ihren', 'ihrig', 'ihtml', 'ihud', 'ii', 'iid', 'iif', 'iii', 'iiia', 'iiic', 'iiiion', 'iiion', 'iiism', 'iiiustrator', 'iijournals', 'iike', 'iilustrator', 'iimb', 'iin', 'iinde', 'iine', 'iinet', 'iinews', 'iion', 'iipower', 'iir', 'iirltd', 'iisted', 'iisues', 'iity', 'ijara', 'ijn', 'ike', 'ikenberry', 'iker', 'ikon', 'il', 'ila', 'ilan', 'ilcampo', 'ileft', 'ilene', 'iles', 'iletmeniz', 'ili', 'ilia', 'ilit', 'iliustrator', 'ill', 'illegal', 'illegally', 'illicit', 'illicts', 'illinois', 'illiquid', 'illiquidity', 'illness', 'illuminate', 'illuminating', 'illumination', 'illusion', 'illusions', 'illustrate', 'illustrated', 'illustrates', 'illustrating', 'illustration', 'illustrations', 'illustrative', 'illustrator', 'ilog', 'iloveyou', 'ilug', 'ily', 'im', 'image', 'imaged', 'imageo', 'imageready', 'images', 'imaginable', 'imaginary', 'imagination', 'imaginations', 'imaginative', 'imaginatively', 'imagine', 'imagined', 'imaging', 'imaknee', 'imam', 'imaqe', 'imbalance', 'imbalances', 'imbed', 'imbroglio', 'imburse', 'imcas', 'imccracken', 'imceanotes', 'imco', 'imelda', 'imf', 'imgctr', 'imieniu', 'imit', 'imitated', 'imited', 'iml', 'imm', 'immaterial', 'immeasurable', 'immediate', 'immediateiy', 'immediately', 'immediatement', 'immense', 'immensely', 'immersed', 'immersion', 'immigrant', 'immigrating', 'immigration', 'imminent', 'immortal', 'immunology', 'immunotherapy', 'immutable', 'imo', 'imokawa', 'impact', 'impacted', 'impacts', 'impaired', 'impairedriskterm', 'impanel', 'impart', 'impartation', 'imparti', 'impartial', 'impasse', 'impassivity', 'impede', 'impediment', 'impediments', 'impeding', 'impendence', 'impending', 'imperatival', 'imperative', 'imperfect', 'imperial', 'imperil', 'impersonators', 'impetuous', 'impetus', 'implant', 'implausible', 'implemantion', 'implement', 'implementation', 'implementations', 'implemented', 'implementing', 'implements', 'implications', 'implicit', 'implicitly', 'implied', 'implies', 'implore', 'implored', 'implosion', 'imply', 'implying', 'imporatant', 'import', 'importados', 'importance', 'important', 'importantly', 'imported', 'importer', 'importers', 'imports', 'importunity', 'impose', 'imposed', 'imposing', 'imposition', 'impossible', 'impotence', 'impoverishment', 'impractical', 'impregnated', 'impresed', 'impress', 'impressed', 'impression', 'impressions', 'impressive', 'imprezy', 'imprisonment', 'improbable', 'impromptu', 'improper', 'improperly', 'impropriety', 'improve', 'improved', 'improvement', 'improvementopaint', 'improvements', 'improvementsecond', 'improves', 'improving', 'improvments', 'impugnable', 'impulse', 'impulses', 'imputed', 'imputting', 'ims', 'imsbiz', 'imsl', 'imt', 'ina', 'inability', 'inabilty', 'inaccessible', 'inaccuracies', 'inactive', 'inadequate', 'inadvertently', 'inadvisability', 'inamorata', 'inanimate', 'inappropriate', 'inat', 'inattendance', 'inaugural', 'inaugurate', 'inauguration', 'inauspicious', 'inb', 'inbox', 'inboxes', 'inc', 'incaceration', 'incapability', 'incease', 'incent', 'incentive', 'incentives', 'incentivize', 'incentre', 'inception', 'inch', 'incharge', 'inches', 'incident', 'incidental', 'incidentally', 'incidents', 'inciude', 'inciudes', 'inciuding', 'inciudinq', 'incl', 'incline', 'inclined', 'includ', 'include', 'included', 'includes', 'including', 'includinq', 'inclusion', 'inclusive', 'incluyendo', 'income', 'incoming', 'incommodious', 'incomparable', 'incompass', 'incomplete', 'incon', 'inconsistencies', 'inconsistency', 'inconsistent', 'inconstant', 'inconvenience', 'inconvenienced', 'inconvenient', 'inconvience', 'inconvienence', 'inconvinence', 'incoporating', 'incorporate', 'incorporated', 'incorporates', 'incorporating', 'incorporation', 'incorrect', 'incorrectly', 'increase', 'increased', 'increasee', 'increases', 'increasing', 'increasingly', 'incredible', 'incredibly', 'incredimail', 'increment', 'incremental', 'incrementally', 'increments', 'incubated', 'incubator', 'incubatory', 'incumbent', 'incumbents', 'incumplimiento', 'incur', 'incurability', 'incure', 'incured', 'incurred', 'incurring', 'incurve', 'ind', 'indebted', 'indecision', 'indecisive', 'indeed', 'indefensibility', 'indefinitely', 'indefinitly', 'indented', 'indentified', 'independant', 'independence', 'independent', 'independently', 'independents', 'indepth', 'indesign', 'indesiqn', 'indestructible', 'index', 'indexable', 'indexed', 'indexes', 'indexexpress', 'indexswap', 'indexyear', 'india', 'indian', 'indiana', 'indianapolis', 'indians', 'indicate', 'indicated', 'indicates', 'indicateyour', 'indicating', 'indication', 'indications', 'indicative', 'indicator', 'indicators', 'indices', 'indicies', 'indictment', 'indictments', 'indifference', 'indigenous', 'indigestion', 'indigo', 'indio', 'indira', 'indirect', 'indirectly', 'indispensable', 'indispensible', 'indisposition', 'individual', 'individualized', 'individually', 'individuals', 'individualshavegreatly', 'indivisible', 'indonesia', 'indoor', 'indstria', 'induce', 'induced', 'inducement', 'induction', 'indulge', 'indulgence', 'industrial', 'industrialist', 'industrials', 'industries', 'industry', 'industryindustry', 'industrys', 'indywidualna', 'ine', 'ineffective', 'ineffectual', 'inefficiencies', 'inefficiency', 'inefficient', 'inefficiently', 'inelastic', 'inelegant', 'inequality', 'inertia', 'ines', 'inesquecvel', 'iness', 'inesses', 'inet', 'ineternet', 'inetu', 'inevitable', 'inevitably', 'inexpensive', 'inexpensively', 'inexperienced', 'inexpiable', 'inexplicable', 'inexplicit', 'inexpressive', 'inextricably', 'infact', 'infallible', 'infancy', 'infante', 'infect', 'infected', 'infection', 'infectious', 'infer', 'inference', 'inferior', 'inferno', 'infestation', 'infinite', 'infinitesimal', 'infinitives', 'infinitum', 'infinity', 'infirm', 'infirmities', 'infiuentia', 'inflate', 'inflated', 'inflation', 'inflexible', 'inflict', 'inflow', 'inflows', 'influence', 'influenced', 'influences', 'influencing', 'influent', 'influentia', 'influential', 'info', 'infobases', 'infocast', 'infocastinc', 'infocentral', 'infocom', 'infoedge', 'infoeurope', 'infomration', 'infonet', 'inforamtion', 'inform', 'informacin', 'informacje', 'informaion', 'informal', 'informally', 'informatical', 'informatii', 'information', 'informational', 'informationon', 'informations', 'informationthank', 'informationto', 'informationweek', 'informative', 'informed', 'informer', 'informing', 'informix', 'informs', 'informuje', 'inforrmation', 'infosel', 'infosys', 'infoweb', 'infoworld', 'infragard', 'infrastructure', 'infrequent', 'infrequently', 'infringement', 'infro', 'infrol', 'infuriating', 'ing', 'ingenious', 'ingersoll', 'inglewood', 'inglis', 'ingraham', 'ingrained', 'ingram', 'ingredient', 'ingredients', 'ingrid', 'ings', 'inhabit', 'inhabitants', 'inhabited', 'inhaled', 'inherent', 'inherently', 'inheritance', 'inherited', 'inheritor', 'inhouse', 'iniative', 'inir', 'initia', 'initial', 'initialing', 'initialization', 'initially', 'initials', 'initiate', 'initiated', 'initiates', 'initiating', 'initiation', 'initiative', 'initiatives', 'inj', 'inject', 'injected', 'injecting', 'injection', 'injections', 'injure', 'injured', 'injury', 'injustice', 'ink', 'inkjet', 'inkjets', 'inl', 'inland', 'inline', 'inln', 'inman', 'inn', 'innatpenn', 'inne', 'inner', 'innocence', 'innocent', 'innogy', 'innovate', 'innovation', 'innovations', 'innovative', 'innovator', 'innumerable', 'inny', 'innych', 'innymi', 'ino', 'inoculated', 'inordinate', 'inornate', 'inparallel', 'input', 'inputs', 'inputted', 'inquery', 'inquestion', 'inquire', 'inquired', 'inquires', 'inquiries', 'inquiring', 'inquiry', 'inquitude', 'inreport', 'inroads', 'ins', 'insane', 'insanity', 'insbuyer', 'inscrita', 'insead', 'insect', 'insecure', 'insecurity', 'insert', 'inserted', 'inserting', 'inside', 'insider', 'insiders', 'insight', 'insightful', 'insightfull', 'insights', 'insist', 'insisted', 'insists', 'insitution', 'inspected', 'inspection', 'inspections', 'inspector', 'inspectors', 'inspiration', 'inspirational', 'inspire', 'inspired', 'inspires', 'inspiring', 'inspissate', 'inst', 'insta', 'install', 'installation', 'installations', 'installed', 'installer', 'installing', 'installment', 'installments', 'installs', 'instance', 'instances', 'instant', 'instantaneous', 'instantanious', 'instantly', 'instate', 'instead', 'instigated', 'instigator', 'instinct', 'instincts', 'instinet', 'institute', 'instituted', 'institutes', 'instituting', 'institution', 'institutional', 'institutions', 'institvte', 'instrinsic', 'instruct', 'instructed', 'instruction', 'instructional', 'instructions', 'instructive', 'instructor', 'instructora', 'instructors', 'instrument', 'instrumental', 'instrumentation', 'instrumented', 'instrumenting', 'instrumentow', 'instruments', 'instytucjami', 'instytucji', 'instytucjonalnie', 'insubstantial', 'insudtry', 'insufficient', 'insulate', 'insulated', 'insulation', 'insulations', 'insulted', 'insuperable', 'insurance', 'insuranceiq', 'insurancemail', 'insure', 'insured', 'insurer', 'insurers', 'insuring', 'insurmountable', 'insurrectional', 'insync', 'int', 'intact', 'intake', 'intangible', 'inte', 'intec', 'intech', 'inteersted', 'integer', 'integracion', 'integral', 'integrat', 'integrate', 'integrated', 'integrates', 'integrating', 'integration', 'integrator', 'integrity', 'integritysm', 'intel', 'intellctual', 'intellectual', 'intelligence', 'intelligencepress', 'intelligent', 'intelligently', 'intend', 'intended', 'intends', 'intendto', 'intense', 'intensely', 'intensified', 'intensifies', 'intensity', 'intensive', 'intensively', 'intent', 'intented', 'intention', 'intentionally', 'intentions', 'intents', 'inter', 'interaccess', 'interact', 'interacting', 'interaction', 'interactions', 'interactive', 'interactively', 'interacts', 'interallied', 'interbusiness', 'intercepted', 'intercession', 'interchangable', 'interchange', 'interco', 'intercom', 'intercommunication', 'intercompany', 'interconnect', 'interconnected', 'interconnecting', 'interconnection', 'interconnections', 'interconnector', 'interconnectors', 'interconnects', 'intercontinental', 'intercooled', 'intercourse', 'interdecadal', 'interdisciplinary', 'interel', 'intererted', 'interest', 'interestcredit', 'intereste', 'interested', 'interestedin', 'interesting', 'interestingly', 'interests', 'interface', 'interfaced', 'interfaces', 'interfacing', 'interfere', 'interference', 'interferes', 'interferometry', 'interflora', 'intergrity', 'interim', 'interior', 'interlocken', 'intermediahosting', 'intermediary', 'intermediate', 'intermediation', 'intermittently', 'intermodal', 'intern', 'internal', 'internally', 'internationa', 'international', 'internationalist', 'internationally', 'internationalpromo', 'internecie', 'internet', 'internetcds', 'internetowej', 'internetpharmacy', 'internets', 'internetweek', 'interning', 'interns', 'internship', 'internships', 'interoffice', 'interoperability', 'interpenetrate', 'interpersonal', 'interpolated', 'interpolating', 'interpolation', 'interpret', 'interpretation', 'interpretations', 'interpretative', 'interpreted', 'interpreting', 'interregional', 'interrupt', 'interrupted', 'interrupter', 'interruptible', 'interruption', 'interruptions', 'interscan', 'intersection', 'interstate', 'interstore', 'intertemporal', 'intertrust', 'interval', 'intervals', 'intervene', 'intervening', 'intervention', 'interventures', 'intervew', 'interview', 'interviewed', 'interviewee', 'interviewees', 'interviewer', 'interviewers', 'interviewing', 'interviews', 'interviewsemerging', 'intestate', 'intestinal', 'inteviews', 'intial', 'intimate', 'intimated', 'intimately', 'intimation', 'intimidate', 'intimidated', 'intitial', 'intl', 'intmail', 'intoxicate', 'intoxicated', 'intra', 'intracompany', 'intractability', 'intraday', 'intramonth', 'intranet', 'intraocular', 'intrest', 'intrests', 'intricacies', 'intricate', 'intriguant', 'intrigue', 'intrigued', 'intriguing', 'intrinsic', 'intro', 'introduce', 'introduced', 'introducedford', 'introduces', 'introducing', 'introduction', 'introductions', 'introductory', 'introo', 'intructed', 'intrude', 'intruder', 'intruding', 'intruments', 'intrusion', 'intuition', 'intuitive', 'intuitively', 'inv', 'invade', 'invaded', 'invalid', 'invalidated', 'invaluable', 'invasion', 'invasive', 'invent', 'invented', 'invention', 'inventor', 'inventories', 'inventory', 'invents', 'inventure', 'inverse', 'invesco', 'invest', 'invested', 'investigate', 'investigated', 'investigates', 'investigating', 'investigation', 'investigations', 'investigative', 'investigator', 'investigators', 'investigatory', 'investing', 'investinme', 'investment', 'investments', 'investor', 'investors', 'invests', 'invisibie', 'invisible', 'invitation', 'invitational', 'invitations', 'invite', 'invited', 'invitee', 'invitees', 'invites', 'inviting', 'invocation', 'invoice', 'invoiced', 'invoices', 'invoicing', 'invoive', 'invoived', 'invoke', 'invoked', 'invokes', 'invoking', 'involcvement', 'involuntary', 'involute', 'involve', 'involved', 'involvement', 'involvements', 'involves', 'involving', 'invstment', 'inw', 'inwestycjami', 'inwiefern', 'inwind', 'inwove', 'inzestspiele', 'inzynieria', 'inzynierie', 'inzynierii', 'io', 'ioaxint', 'ioc', 'iod', 'ioe', 'iogo', 'iogos', 'iol', 'iom', 'ion', 'iona', 'ionescu', 'ionfinity', 'ionqing', 'ions', 'ionsa', 'iook', 'ioqo', 'ioqos', 'iorefi', 'iorio', 'iost', 'iot', 'iota', 'iove', 'ioverview', 'iowa', 'ip', 'ipado', 'ipaper', 'ipaq', 'ipbfl', 'ipc', 'ipcre', 'ipe', 'iperf', 'ipl', 'iplanet', 'ipmlgbit', 'ipn', 'ipo', 'ipodesktop', 'ipp', 'ippm', 'ipps', 'ips', 'ipsec', 'iptv', 'ipv', 'iq', 'iqbal', 'iqccjypkiducrbiixmqcuncw', 'iqpc', 'iquids', 'ir', 'ira', 'irakleion', 'iran', 'iraq', 'iraqi', 'iras', 'irbxij', 'ircinconline', 'ire', 'ireand', 'ireceive', 'ireland', 'ireq', 'irina', 'iris', 'irish', 'irismmack', 'irm', 'irma', 'iro', 'iron', 'ironed', 'ironfall', 'ironic', 'ironmail', 'irons', 'irr', 'irrationally', 'irrelevant', 'irreplaceable', 'irresistible', 'irrespective', 'irreversible', 'irrevocable', 'irritant', 'irritate', 'irs', 'irvine', 'irving', 'irwindale', 'isa', 'isaac', 'isaacson', 'isales', 'isb', 'isbn', 'isc', 'isd', 'isda', 'isdn', 'ise', 'isero', 'isfor', 'isguaranteed', 'isguite', 'ish', 'isherwood', 'isi', 'isl', 'islamic', 'island', 'islands', 'isle', 'ismail', 'isnbank', 'isnt', 'iso', 'isolate', 'isolates', 'isolation', 'isos', 'isosceles', 'isoverwheiming', 'isoverwheiminq', 'isoverwhelming', 'isoverwhelminq', 'isp', 'ispat', 'isps', 'isquite', 'israel', 'israeli', 'israni', 'isranir', 'iss', 'ission', 'issler', 'isssues', 'issuance', 'issue', 'issued', 'issuer', 'issuers', 'issues', 'issuing', 'issures', 'ist', 'istote', 'isuzu', 'isv', 'isva', 'iswl', 'isye', 'ita', 'italia', 'italian', 'italiano', 'italics', 'italy', 'itc', 'itcentral', 'itch', 'itdg', 'item', 'itemized', 'itemizing', 'items', 'itens', 'iter', 'iterate', 'iteration', 'iterations', 'itfound', 'ith', 'itineraries', 'itinerary', 'itm', 'ito', 'itoma', 'itp', 'itresults', 'itseif', 'itshigh', 'itt', 'ittie', 'itu', 'ity', 'iu', 'iv', 'iva', 'ivan', 'ivaysmanbiosketch', 'ive', 'ivoire', 'ivonne', 'ivory', 'ivr', 'ivy', 'iw', 'iwantout', 'iwill', 'iwon', 'ix', 'iylo', 'iyoc', 'iztari', 'izx', 'izzo', 'j', 'ja', 'jaafar', 'jabber', 'jablonia', 'jacek', 'jacf', 'jacindamaddox', 'jack', 'jacket', 'jackets', 'jackie', 'jackson', 'jackup', 'jackups', 'jacob', 'jacobellis', 'jacobs', 'jacobsen', 'jacobson', 'jacobus', 'jacoby', 'jacque', 'jacqueline', 'jacquelyn', 'jacquelyne', 'jacques', 'jadzi', 'jae', 'jaeger', 'jaegerlecoultre', 'jaesoo', 'jaffier', 'jafry', 'jagernauth', 'jaguar', 'jahren', 'jaideep', 'jail', 'jailbird', 'jaime', 'jaipal', 'jaiprakash', 'jaison', 'jak', 'jakas', 'jakbys', 'jake', 'jaki', 'jakie', 'jakies', 'jakim', 'jakis', 'jako', 'jakubik', 'jamaica', 'jamal', 'jambi', 'jameika', 'james', 'jameslett', 'jameson', 'jamestown', 'jamie', 'jamieson', 'jamme', 'jammu', 'jams', 'jan', 'jana', 'janamon', 'janata', 'jane', 'janeiro', 'janell', 'janelle', 'janet', 'janette', 'janice', 'janie', 'janine', 'janis', 'janousek', 'janovsky', 'january', 'januray', 'japan', 'japanease', 'japanese', 'jar', 'jared', 'jarek', 'jargonize', 'jarka', 'jarkiem', 'jarod', 'jarosz', 'jarradh', 'jarrow', 'jarvis', 'jason', 'jasononline', 'jauntily', 'java', 'javaid', 'javasoftwareneeds', 'javier', 'jaxw', 'jay', 'jayant', 'jayasuriya', 'jayde', 'jayshree', 'jazz', 'jbandctaylor', 'jbig', 'jblantonjr', 'jbm', 'jbouill', 'jbtfcz', 'jbuss', 'jc', 'jcaruso', 'jcashin', 'jcc', 'jcd', 'jclevenger', 'jcyk', 'jd', 'jdahl', 'jdaly', 'jdbc', 'je', 'jealous', 'jealousies', 'jean', 'jeanblanc', 'jeanette', 'jeanie', 'jeanne', 'jeannette', 'jeans', 'jeapordizing', 'jebong', 'ject', 'jed', 'jeden', 'jederzeit', 'jedi', 'jedna', 'jednak', 'jednej', 'jedoch', 'jedyna', 'jedyne', 'jeeps', 'jeet', 'jeezy', 'jefa', 'jeff', 'jefferid', 'jefferis', 'jefferson', 'jeffersondarcy', 'jeffery', 'jeffrey', 'jeffs', 'jefri', 'jegadees', 'jegadeesh', 'jeganathan', 'jego', 'jej', 'jem', 'jen', 'jenkins', 'jenkintown', 'jenna', 'jennamaxx', 'jenni', 'jennifer', 'jennings', 'jenny', 'jennyv', 'jens', 'jensen', 'jeopardising', 'jeopardize', 'jeopardized', 'jeopardizing', 'jeopardy', 'jeramy', 'jere', 'jeremie', 'jeremy', 'jerk', 'jermakyan', 'jernigan', 'jerold', 'jerry', 'jersey', 'jerseys', 'jerzy', 'jerzym', 'jeska', 'jesli', 'jess', 'jessamine', 'jesse', 'jessica', 'jessie', 'jest', 'jestem', 'jester', 'jestesmy', 'jesus', 'jeszcze', 'jet', 'jetlow', 'jett', 'jettke', 'jetzt', 'jevic', 'jewel', 'jewelry', 'jewels', 'jewish', 'jez', 'jezdzic', 'jezeli', 'jf', 'jferrer', 'jfk', 'jfleming', 'jflesher', 'jgarven', 'jgm', 'jgreene', 'jgs', 'jgsfss', 'jgsm', 'jgsmnews', 'jh', 'jhall', 'jhanley', 'jhartzel', 'jhenders', 'jhherbert', 'jhickman', 'jhrc', 'jhrsn', 'jhu', 'jhund', 'jhuwash', 'ji', 'jia', 'jie', 'jif', 'jigsaw', 'jill', 'jim', 'jimenez', 'jimenezcrespo', 'jimmie', 'jimmy', 'jims', 'jin', 'jinbaek', 'jingle', 'jingming', 'jinsung', 'jintendra', 'jipped', 'jisao', 'jitendra', 'jiz', 'jjw', 'jk', 'jkalbach', 'jkiani', 'jkinnem', 'jkm', 'jkrishn', 'jl', 'jlawler', 'jlej', 'jlew', 'jlieskov', 'jlpnymex', 'jlvo', 'jm', 'jmartinbiosketch', 'jmason', 'jmccauley', 'jmeserve', 'jmrha', 'jmyan', 'jng', 'jnorden', 'jo', 'joan', 'joana', 'joanie', 'joann', 'joanna', 'joanne', 'joannie', 'joao', 'joaquin', 'job', 'jobgalleries', 'jobgalleriescom', 'jobmaster', 'jobops', 'jobs', 'jobslog', 'jochenfechtel', 'jod', 'jodi', 'jodie', 'jody', 'jodyanddavid', 'jodyin', 'jodytotally', 'joe', 'joel', 'joelpittet', 'joeoti', 'joerg', 'jog', 'jogging', 'johan', 'johannesburg', 'johanns', 'johansen', 'johanson', 'john', 'johnathan', 'johncox', 'johne', 'johnl', 'johnna', 'johnne', 'johnny', 'johns', 'johnsen', 'johnsie', 'johnson', 'johnston', 'johnstown', 'join', 'joined', 'joing', 'joining', 'joins', 'joint', 'jointly', 'joists', 'joke', 'joked', 'jokes', 'joking', 'jolla', 'jolly', 'jolyon', 'jomsom', 'jon', 'jonalan', 'jonathan', 'jonathanwylie', 'jonathon', 'jone', 'jones', 'jonesgsm', 'jonestown', 'joni', 'jordan', 'jorg', 'jorge', 'jorgev', 'jorian', 'jorion', 'jornada', 'josas', 'jose', 'josef', 'josefine', 'joseph', 'josey', 'josh', 'joshi', 'joshua', 'jot', 'jouney', 'jour', 'journal', 'journalese', 'journalist', 'journalists', 'journals', 'journey', 'jours', 'jouy', 'joverdy', 'joy', 'joya', 'joyce', 'joycemeyer', 'joyfully', 'joyner', 'joys', 'jozef', 'jozsef', 'jp', 'jpbresume', 'jpdoggett', 'jpecher', 'jpeg', 'jpg', 'jpicazo', 'jpl', 'jpmorgan', 'jpt', 'jr', 'jrcoastal', 'jrgbm', 'js', 'jsandiford', 'jseade', 'jsf', 'jshankm', 'jshaw', 'jshorter', 'jshu', 'jsmith', 'jsov', 'jsp', 'jstanton', 'jstephenson', 'jstrans', 'jt', 'jtf', 'jthomason', 'jturco', 'ju', 'juan', 'juanita', 'judds', 'jude', 'juden', 'judge', 'judged', 'judgement', 'judgements', 'judges', 'judging', 'judgment', 'judgments', 'judicata', 'judicial', 'judiciary', 'judith', 'judy', 'juerg', 'juggins', 'juice', 'juiceman', 'juices', 'juicy', 'juiy', 'jul', 'jules', 'julho', 'juli', 'julia', 'julian', 'juliana', 'julie', 'julies', 'julio', 'julius', 'juliusz', 'july', 'jumbo', 'jump', 'jumped', 'jumper', 'jumping', 'jumpl', 'jumps', 'jumpsociety', 'jumpstart', 'jumpstarted', 'jumpy', 'jun', 'juncan', 'juncture', 'june', 'junel', 'jungen', 'jungle', 'junho', 'junichi', 'junior', 'juniper', 'junk', 'junol', 'junqueira', 'juracie', 'jurgen', 'jurisdiction', 'jurisdictional', 'jurisdictions', 'jury', 'justice', 'justifiable', 'justification', 'justifications', 'justificative', 'justified', 'justify', 'justifying', 'justin', 'justness', 'justt', 'jutro', 'juvenil', 'juz', 'jv', 'jvidal', 'jxkk', 'jybwgyay', 'jze', 'jzmqakpko', 'k', 'ka', 'kaao', 'kaazqchn', 'kabagg', 'kaballa', 'kabel', 'kabila', 'kacal', 'kacee', 'kafus', 'kaggwa', 'kahanek', 'kahl', 'kahn', 'kahuna', 'kaiiafox', 'kakani', 'kal', 'kalbach', 'kale', 'kalifornii', 'kallas', 'kallipoleos', 'kalman', 'kalmans', 'kalotay', 'kalu', 'kam', 'kamainski', 'kamat', 'kamela', 'kamich', 'kamienie', 'kaminiski', 'kaminksi', 'kaminsik', 'kaminski', 'kaminsky', 'kamuoyunu', 'kan', 'kananaskis', 'kang', 'kano', 'kanpur', 'kansas', 'kanz', 'kao', 'kaparkheda', 'kaplan', 'kapoor', 'kapsaml', 'kara', 'karathanos', 'karbarz', 'karen', 'karenina', 'karesava', 'kari', 'karie', 'karim', 'karimi', 'karimu', 'karin', 'karine', 'karl', 'karla', 'karmaa', 'karnataka', 'karolina', 'karolyi', 'karta', 'karthik', 'karush', 'kasereke', 'kashe', 'kashiwamura', 'kashmir', 'kasm', 'kasper', 'kasravi', 'kass', 'kassis', 'kasturi', 'katamail', 'kate', 'katek', 'katharina', 'katherine', 'katheryn', 'kathie', 'kathleen', 'kathol', 'kathryn', 'kathy', 'katja', 'katya', 'katyal', 'katz', 'kaufman', 'kaul', 'kaveljyowkto', 'kawe', 'kay', 'kaya', 'kayieen', 'kayla', 'kaymassmanlobb', 'kazakhstan', 'kazdy', 'kazibwe', 'kazuko', 'kb', 'kbps', 'kbrn', 'kbrte', 'kbv', 'kc', 'kcal', 'kcc', 'kcdunnagan', 'kcompea', 'kde', 'kdotv', 'ke', 'kean', 'kearns', 'keasterby', 'ked', 'kedem', 'keefe', 'keegan', 'keeley', 'keen', 'keenan', 'keene', 'keeney', 'keenly', 'keep', 'keepers', 'keeping', 'keeps', 'keepsake', 'keeter', 'keifer', 'keilty', 'keiron', 'keiser', 'keith', 'kejriwal', 'keleman', 'kelemen', 'keller', 'kelley', 'kellie', 'kellog', 'kellogg', 'kelly', 'kelsey', 'kemal', 'kemallor', 'kemen', 'kemm', 'kemp', 'ken', 'kendall', 'kendrick', 'kenethmckenzie', 'kenia', 'kenkyuujou', 'kennedy', 'kenneth', 'kenny', 'keno', 'kent', 'kenton', 'kentucky', 'kentum', 'kenya', 'kenyon', 'keohane', 'kept', 'ker', 'kerch', 'kern', 'kernel', 'kerosene', 'kerr', 'kerri', 'kerridge', 'kerrigan', 'kerry', 'kerryn', 'kertz', 'kesiminin', 'kessler', 'ketchup', 'ketra', 'ketter', 'kettler', 'kevin', 'kevinxu', 'key', 'keyboard', 'keyboards', 'keyed', 'keynes', 'keynote', 'keynoted', 'keypad', 'keys', 'keyspan', 'keystone', 'keystroke', 'keyword', 'keywords', 'kf', 'kfegdwwverzd', 'kg', 'kgme', 'khairuddin', 'khairuddinbmjaafar', 'khalifa', 'khamchan', 'khandelwal', 'khanh', 'khanna', 'khcnb', 'khleif', 'khlolodnyi', 'khoja', 'khokher', 'kholodnyi', 'khopper', 'khou', 'khozem', 'khzal', 'kianim', 'kiatsupaibul', 'kibble', 'kick', 'kicked', 'kicker', 'kickers', 'kicking', 'kickoff', 'kicks', 'kid', 'kidd', 'kidding', 'kidman', 'kidneys', 'kids', 'kidwarmer', 'kidwarmers', 'kiedy', 'kiedys', 'kiefner', 'kierlanczyk', 'kilchrist', 'kilgore', 'kilims', 'kilkakrotnie', 'kilkoma', 'kilku', 'kill', 'killed', 'killen', 'killer', 'killing', 'kills', 'kilometer', 'kilometers', 'kilometre', 'kilometres', 'kilowatt', 'kilowatts', 'kilpatrick', 'kim', 'kimberlain', 'kimberly', 'kime', 'kimich', 'kimlikleri', 'kimmorrell', 'kin', 'kind', 'kinda', 'kindall', 'kindly', 'kindness', 'kinds', 'king', 'kingair', 'kingdom', 'kingerski', 'kings', 'kingsgate', 'kingsley', 'kingston', 'kinja', 'kink', 'kinko', 'kinky', 'kinneman', 'kiosk', 'kiosks', 'kip', 'kirby', 'kirit', 'kirk', 'kirkbridebuildings', 'kirkpatrick', 'kirstee', 'kirsteee', 'kirsten', 'kirsty', 'kishkill', 'kisses', 'kissimmee', 'kistler', 'kit', 'kitchen', 'kitchener', 'kite', 'kitlelere', 'kits', 'kittel', 'kitten', 'kj', 'kk', 'kkempl', 'kkindal', 'kklynszb', 'kl', 'klaiber', 'klasyfikacje', 'klaus', 'klein', 'kleindorfer', 'klifford', 'klik', 'kline', 'klopot', 'kluczowa', 'klussmann', 'klystron', 'km', 'kma', 'kmart', 'kmccoy', 'kmg', 'kmi', 'kmicorp', 'kmoore', 'kmow', 'kmv', 'knavery', 'knee', 'knell', 'knepshield', 'knetzger', 'knew', 'knife', 'knight', 'knights', 'knirel', 'kno', 'knoblauh', 'knobs', 'knock', 'knocked', 'knocking', 'knockoff', 'knocks', 'knop', 'knopick', 'knopke', 'knossos', 'knot', 'knots', 'knott', 'knovv', 'know', 'knoweledge', 'knowing', 'knowledgable', 'knowledge', 'knowledgeable', 'known', 'knows', 'knudsen', 'koch', 'kochind', 'kock', 'kodachrome', 'kodak', 'kodjo', 'koenig', 'koening', 'koennten', 'koepke', 'koffice', 'koh', 'kohli', 'kohnstamm', 'koi', 'kokas', 'kokenge', 'kolb', 'kolega', 'kolegami', 'kolegi', 'kolegow', 'kolinsky', 'kollaros', 'kolle', 'kolorowe', 'kolosvary', 'komitecie', 'komitetow', 'komplikacje', 'komputera', 'komv', 'koncepji', 'koncowej', 'koncu', 'konczyla', 'kondo', 'kong', 'kongolo', 'kongresowej', 'konkan', 'konkret', 'konrada', 'konstantin', 'konsultingowej', 'kontakt', 'kontaktow', 'kontaktowy', 'konto', 'kontraktu', 'konuda', 'konusunda', 'koo', 'koogler', 'kop', 'kopie', 'kopper', 'korbelik', 'korea', 'kori', 'korioth', 'korn', 'kornreich', 'korpi', 'kors', 'korshun', 'kory', 'kosecki', 'kostya', 'koszta', 'kosztow', 'koszty', 'kothari', 'kotubumi', 'kour', 'koures', 'kouri', 'kow', 'kowloon', 'kp', 'kpaakaula', 'kparkhil', 'kpmg', 'kpn', 'kpqew', 'kprc', 'kprice', 'kq', 'kr', 'krabicka', 'krajan', 'kraju', 'krakoski', 'krapels', 'kraske', 'kraszewski', 'krausz', 'krautz', 'krebs', 'kredytowa', 'krell', 'kremp', 'krichardson', 'krishan', 'krishna', 'krishnar', 'krishnarao', 'krishnaswamy', 'krisna', 'krisnar', 'krista', 'kristal', 'kristen', 'kristi', 'kristian', 'kristin', 'kristina', 'kristy', 'kroad', 'krogmeier', 'krokhmal', 'krol', 'kroll', 'kromer', 'kronman', 'krugman', 'krull', 'krumviede', 'krzysztof', 'ks', 'ksdk', 'ksg', 'ksgwww', 'ksiazka', 'ksiazke', 'ksiazki', 'ksiegarni', 'kskinner', 'kt', 'kto', 'ktora', 'ktore', 'ktorego', 'ktory', 'ktorym', 'ktorzy', 'ktracsy', 'ktt', 'kturley', 'ku', 'kuala', 'kuber', 'kuc', 'kudin', 'kudos', 'kuehl', 'kuerzerer', 'kuhvzhfdm', 'kukkonen', 'kulatilaka', 'kulczyk', 'kulick', 'kulkarni', 'kumar', 'kumaramangalam', 'kumin', 'kungfu', 'kunreuth', 'kunreuther', 'kunruether', 'kuo', 'kupic', 'kuppuswamy', 'kure', 'kurnreuther', 'kurt', 'kurth', 'kurtosis', 'kuwait', 'kuwaiti', 'kuykendall', 'kvbgi', 'kvmdoor', 'kw', 'kwanzaa', 'kwasniewski', 'kwasniewskiego', 'kwehner', 'kwgre', 'kwh', 'kwi', 'kwietnia', 'kwk', 'kwmorris', 'kwota', 'kwote', 'kwoty', 'kwright', 'kwx', 'kxxjn', 'ky', 'kyl', 'kyle', 'kyoto', 'kyran', 'kyriakos', 'kyubaek', 'kz', 'kzl', 'kzll', 'kzxgvamvlenkvnmo', 'l', 'la', 'laaol', 'laast', 'laayawrw', 'lab', 'labbe', 'labeis', 'label', 'labeled', 'labeling', 'labelled', 'labels', 'labhart', 'labiate', 'labile', 'labor', 'laboratories', 'laboratory', 'labour', 'labourist', 'labovitz', 'labs', 'lac', 'lacalli', 'lace', 'lacima', 'lacimagroup', 'lack', 'lacked', 'lackey', 'lacking', 'lacks', 'laconic', 'lacrecia', 'lacteal', 'ladder', 'ladies', 'ladish', 'ladonna', 'lady', 'ladybug', 'lae', 'laesst', 'lafave', 'lafayette', 'lag', 'lagerstrom', 'lagged', 'lagos', 'lagrange', 'lagrasta', 'lags', 'laguna', 'lahmeyer', 'laid', 'laidlaw', 'lain', 'laine', 'laing', 'lair', 'laird', 'laity', 'lake', 'lakes', 'lakh', 'lal', 'lalji', 'lallani', 'lamar', 'lamas', 'lamb', 'lambdas', 'lambino', 'lamella', 'lamented', 'lamonsoff', 'lamont', 'lamotte', 'lamp', 'lampholder', 'lan', 'lana', 'lancaster', 'lance', 'lancer', 'land', 'landau', 'lande', 'landed', 'landesbank', 'landing', 'landinghere', 'landlord', 'landman', 'landmark', 'lando', 'landrieu', 'landry', 'lands', 'landscape', 'lane', 'lanejb', 'lanesborough', 'lanette', 'langeland', 'langfield', 'langston', 'language', 'languages', 'languaqe', 'languish', 'lanier', 'lanquage', 'lanquaqe', 'lans', 'lansquenet', 'lanterns', 'lap', 'lapa', 'laps', 'laptop', 'laptops', 'lara', 'large', 'largely', 'larger', 'largest', 'largestitemssuper', 'larnold', 'larrissa', 'larry', 'larsen', 'larson', 'las', 'lasalle', 'lasdon', 'laser', 'laserclass', 'laserjet', 'lasher', 'lassen', 'lasseter', 'lassle', 'last', 'lasted', 'lastest', 'lasting', 'lastly', 'lastmansitting', 'lastmonthsprl', 'lasts', 'lat', 'latam', 'late', 'lately', 'latency', 'lateness', 'later', 'lateral', 'lateri', 'latershe', 'latest', 'latex', 'latha', 'latham', 'latimes', 'latin', 'latina', 'latinas', 'latitude', 'latour', 'latrisha', 'latter', 'lattices', 'lattre', 'latur', 'latvia', 'latwiej', 'latwo', 'laud', 'laude', 'lauderdale', 'laugh', 'laughed', 'laugher', 'laughing', 'laughs', 'laughter', 'launch', 'launched', 'launches', 'launching', 'laundering', 'laundry', 'laura', 'lauraiee', 'lauralee', 'laureate', 'lauren', 'laurent', 'lauri', 'laurice', 'laurie', 'lauritsen', 'laval', 'lavarato', 'lavergne', 'lavorato', 'lavoro', 'lavras', 'law', 'lawera', 'lawful', 'lawl', 'lawless', 'lawn', 'lawrence', 'lawrenceagent', 'lawrenceburg', 'lawrencelrtnmt', 'laws', 'lawson', 'lawsuit', 'lawsuits', 'lawyer', 'lawyers', 'lax', 'laxity', 'lay', 'layer', 'layers', 'laying', 'layla', 'layman', 'laymen', 'laynie', 'layoffs', 'layout', 'lays', 'layton', 'laziest', 'lazy', 'lb', 'lbck', 'lbcunningham', 'lbn', 'lbs', 'lburke', 'lc', 'lcd', 'lces', 'lcg', 'lcl', 'lcra', 'lctn', 'lcunningham', 'lczbj', 'ld', 'ldap', 'ldc', 'ldeathridge', 'ldupje', 'ldupmn', 'ldupmy', 'ldupna', 'ldupnn', 'ldupnr', 'ldupou', 'lduppc', 'lduppd', 'lduppz', 'ldupqo', 'ldupsa', 'ldwi', 'ldwide', 'le', 'lea', 'leach', 'lead', 'leader', 'leaders', 'leadership', 'leadersx', 'leading', 'leads', 'leadsman', 'leaflet', 'league', 'leagues', 'leahy', 'leaing', 'leak', 'leakage', 'leakages', 'leake', 'leaked', 'leaks', 'lean', 'leanas', 'leandro', 'leaning', 'leann', 'leap', 'leaping', 'leaps', 'learn', 'learned', 'learner', 'learning', 'learningl', 'learnt', 'leary', 'lease', 'leaseholder', 'leaseholders', 'leases', 'leasing', 'least', 'leath', 'leather', 'leave', 'leaves', 'leaving', 'lebeau', 'leboe', 'lebroc', 'lece', 'lecie', 'leclaire', 'lecoq', 'lecoultre', 'lectern', 'lecture', 'lecturer', 'lectures', 'led', 'ledbetter', 'lederington', 'ledge', 'ledieskeys', 'lediesnight', 'ledis', 'lee', 'lees', 'leesa', 'leeway', 'leewells', 'leff', 'left', 'leftists', 'leftwing', 'leg', 'lega', 'legal', 'legalisation', 'legality', 'legally', 'legalonline', 'leganes', 'legato', 'legendary', 'legible', 'legislation', 'legislations', 'legislative', 'legislator', 'legislators', 'legislature', 'legitimacy', 'legitimate', 'legitimately', 'legs', 'lehman', 'lehmiller', 'lehoczky', 'lehr', 'lehrstuhl', 'lei', 'leibert', 'leida', 'leisure', 'leland', 'lelia', 'lelland', 'lemma', 'lemme', 'lemmons', 'len', 'lenard', 'lend', 'lender', 'lenders', 'lenderscan', 'lenderscompete', 'lending', 'lendingxid', 'lends', 'length', 'lengthen', 'lengthens', 'lengthy', 'leniency', 'lenine', 'lenity', 'lenny', 'lenos', 'lens', 'lenticular', 'leo', 'leola', 'leomics', 'leon', 'leonard', 'leone', 'leopoldowaiton', 'lepisto', 'leppard', 'leppards', 'lerea', 'leroy', 'lert', 'les', 'lesbian', 'leschber', 'lesley', 'leslie', 'lesotho', 'less', 'lessar', 'lessard', 'lessen', 'lessening', 'lessl', 'lesson', 'lessons', 'lester', 'leszek', 'let', 'leta', 'leticia', 'lets', 'letsyou', 'lett', 'letter', 'letterhead', 'letterman', 'letters', 'letting', 'lettish', 'lettres', 'letzte', 'leuthwaite', 'lev', 'levallois', 'leve', 'level', 'levels', 'levelx', 'levent', 'leventhal', 'lever', 'leverage', 'leveraged', 'leverages', 'leveraging', 'leveren', 'levesque', 'levi', 'levied', 'levine', 'levinson', 'leviticus', 'levitra', 'levitt', 'levltrra', 'levy', 'lew', 'lewchuk', 'lewelling', 'lewis', 'lewiston', 'leworthy', 'lewthwaite', 'lex', 'lexical', 'lexmark', 'ley', 'lezaku', 'lezbo', 'lezbonet', 'lezen', 'lf', 'lfw', 'lg', 'lgbyte', 'lgg', 'lghz', 'lginiz', 'lgw', 'lhowenstine', 'lhtdma', 'li', 'liabilities', 'liability', 'liable', 'liaise', 'liaison', 'liaisons', 'liam', 'liamidi', 'lian', 'liane', 'liasion', 'lib', 'libarary', 'libbing', 'libel', 'liberal', 'liberalisation', 'liberality', 'liberalization', 'liberalize', 'liberalized', 'libero', 'libert', 'libertine', 'liberty', 'libido', 'libidoduration', 'libor', 'libpcap', 'librarian', 'libraries', 'library', 'libretto', 'lic', 'licence', 'licences', 'licenciada', 'licencing', 'license', 'licensed', 'licensee', 'licensees', 'licenses', 'licensing', 'lickin', 'licon', 'liczymy', 'lidia', 'lido', 'lie', 'liebert', 'lied', 'lieferung', 'liege', 'lien', 'liens', 'lies', 'lieskovsky', 'lieu', 'lieutenant', 'life', 'lifebelt', 'lifejacket', 'lifelong', 'lifesize', 'lifespan', 'lifestyie', 'lifestyle', 'lifetime', 'lifetrak', 'liffe', 'lifo', 'lift', 'lifted', 'lifters', 'lifting', 'lifts', 'light', 'lighterage', 'lightest', 'lighthouse', 'lighting', 'lightly', 'lightning', 'lights', 'lightsaber', 'lightsourceonline', 'liie', 'liion', 'liitle', 'liiustrator', 'like', 'liked', 'likee', 'likelihood', 'likely', 'likes', 'likewise', 'liking', 'liles', 'lilia', 'lillian', 'lilustrator', 'lily', 'lim', 'lima', 'limbo', 'limbs', 'limeharbour', 'limelight', 'limerick', 'limiet', 'limit', 'limitation', 'limitations', 'limited', 'limiting', 'limitless', 'limits', 'limo', 'limperis', 'limps', 'lin', 'lincks', 'lincoin', 'lincoln', 'linda', 'lindacucme', 'lindberg', 'linde', 'linder', 'lindholm', 'lindsay', 'lindsey', 'lindy', 'line', 'lineand', 'linear', 'linearly', 'lined', 'liners', 'lines', 'linesmen', 'lineup', 'ling', 'lingerie', 'lingja', 'lingnan', 'lingo', 'linha', 'link', 'linkage', 'linked', 'linking', 'links', 'linn', 'linnell', 'linoleum', 'lins', 'lintner', 'linton', 'linux', 'linuxnews', 'linxiao', 'lio', 'lion', 'lioness', 'lip', 'lipinski', 'lipotropic', 'lippman', 'lipscomb', 'lipshutz', 'liquefied', 'liquid', 'liquidate', 'liquidation', 'liquidators', 'liquide', 'liquidity', 'liquids', 'liquitity', 'lira', 'lire', 'lirf', 'lirtzman', 'lisa', 'liscie', 'lisk', 'liskovets', 'list', 'listagem', 'listbot', 'listed', 'listen', 'listener', 'listeners', 'listening', 'listinfo', 'listing', 'listings', 'listmanager', 'listmaster', 'listo', 'listopadzie', 'lists', 'listserv', 'listservs', 'listsoffers', 'listsorsoftware', 'lisve', 'lit', 'litany', 'liter', 'literally', 'literate', 'literature', 'lithesome', 'lithium', 'lithuania', 'litigation', 'litt', 'littie', 'little', 'littlefield', 'littlethat', 'littleton', 'litton', 'liu', 'livable', 'live', 'livecams', 'lived', 'livegraphics', 'liveline', 'livelink', 'liver', 'liveried', 'livermore', 'livery', 'lives', 'livestock', 'living', 'livingillusion', 'liwe', 'lixiao', 'liz', 'liza', 'lizbeth', 'lizzie', 'ljacque', 'ljegana', 'ljm', 'ljminvestments', 'lk', 'lkao', 'llaji', 'llc', 'llcensed', 'lliana', 'lliustrator', 'lllustrator', 'llm', 'llmkul', 'lloyd', 'llp', 'lmay', 'lme', 'lmhz', 'lmonth', 'lmp', 'lmps', 'lmt', 'ln', 'lnasdaq', 'lndesign', 'lndesiqn', 'lng', 'lngaphtha', 'lni', 'lnintol', 'lnternet', 'lo', 'load', 'loaded', 'loading', 'loadings', 'loads', 'loan', 'loaner', 'loans', 'loansrefinancedebt', 'loath', 'lobby', 'lobbying', 'locaies', 'local', 'localbloke', 'localdomain', 'locales', 'localhost', 'localized', 'locally', 'locals', 'locate', 'located', 'locates', 'locating', 'location', 'locational', 'locations', 'lochnessclansman', 'lock', 'locke', 'locked', 'lockheed', 'locking', 'lockouts', 'locks', 'locksman', 'lockwood', 'locust', 'lode', 'lodge', 'lodged', 'lodging', 'loehr', 'loft', 'loftier', 'loftiness', 'log', 'logan', 'logged', 'logging', 'logic', 'logical', 'logician', 'login', 'logistical', 'logistically', 'logistics', 'logit', 'lognormal', 'logo', 'logodentity', 'logon', 'logos', 'logs', 'logxxxx', 'lohman', 'lohrenz', 'lohse', 'loi', 'loibl', 'loike', 'lois', 'lok', 'lokalnego', 'lokalnych', 'lokay', 'lokmail', 'lola', 'lolczyk', 'loleary', 'lolp', 'lolurfgyy', 'lon', 'london', 'londrina', 'londynie', 'londynu', 'lone', 'lonely', 'long', 'longer', 'longest', 'longevity', 'longexecsum', 'longfellow', 'longhorn', 'longish', 'longman', 'longname', 'longoria', 'longrun', 'longs', 'longstanding', 'longterm', 'longz', 'loni', 'look', 'lookback', 'lookbacks', 'looked', 'looking', 'lookln', 'looklng', 'lookman', 'lookout', 'looks', 'looksmart', 'lookup', 'lookyoungnow', 'loom', 'looming', 'loop', 'loophole', 'loopholes', 'loops', 'loose', 'looseany', 'loosener', 'loosing', 'looted', 'looting', 'lopez', 'loqo', 'loqodentity', 'loqos', 'loquat', 'lorac', 'loracservices', 'loraforexmanaged', 'loraiee', 'lord', 'lorderedsetsfeature', 'loren', 'lorena', 'lorene', 'lorenz', 'loretha', 'loretta', 'lori', 'lorie', 'lorio', 'lorna', 'lorraine', 'lorrian', 'lorrie', 'lorriep', 'los', 'lose', 'loser', 'losers', 'loses', 'loseweight', 'loseweightfast', 'losing', 'loss', 'losses', 'lost', 'lot', 'loterij', 'loth', 'lothar', 'lotniczej', 'lots', 'lotsonet', 'lott', 'lotteries', 'lottery', 'lotting', 'lotto', 'lotu', 'lotus', 'lou', 'loudly', 'loughrid', 'loughridge', 'louie', 'louis', 'louise', 'louisiana', 'louisina', 'louisius', 'louisville', 'lounge', 'lounghrid', 'lousiana', 'love', 'loved', 'lovell', 'lovely', 'lover', 'lovers', 'loves', 'lovesick', 'lovett', 'loving', 'lovv', 'lovvprice', 'lovvprices', 'low', 'lowell', 'lower', 'lowercase', 'lowered', 'lowering', 'lowes', 'lowest', 'lowprices', 'lowry', 'lows', 'loya', 'loyal', 'loyalty', 'loyd', 'lp', 'lpg', 'lpharr', 'lpm', 'lpmqkubnnlwnhhi', 'lppc', 'lpplng', 'lpremium', 'lpx', 'lq', 'lqo', 'lqol', 'lrc', 'lres', 'lrg', 'lrmm', 'ls', 'lsiah', 'lsl', 'lsls', 'lsm', 'lsoft', 'lst', 'lsu', 'lt', 'ltc', 'ltci', 'ltcm', 'ltd', 'lti', 'ltl', 'lu', 'luain', 'lub', 'lubbock', 'lubowski', 'lubricant', 'lucaballiano', 'lucas', 'luce', 'lucent', 'lucia', 'lucid', 'lucie', 'lucio', 'luck', 'luckily', 'lucky', 'lucrative', 'lucy', 'ludmila', 'ludmilla', 'ludmilo', 'ludzi', 'luehrman', 'lug', 'luginbill', 'luigi', 'luigical', 'luimn', 'luis', 'luitgard', 'luke', 'luken', 'lukewarm', 'luma', 'lumber', 'luminator', 'luminous', 'lump', 'lumpiness', 'lumping', 'lumps', 'lumpur', 'luna', 'lunch', 'lunched', 'luncheon', 'luncheons', 'lunches', 'lunching', 'lunchtime', 'lund', 'lundquist', 'lundstrom', 'lung', 'lungs', 'luong', 'lupe', 'lupita', 'luptowitsch', 'lure', 'lurks', 'lussv', 'lutego', 'luther', 'lutheran', 'luthra', 'luty', 'luv', 'lux', 'luxmail', 'luxuries', 'luxurious', 'luxury', 'lv', 'lvl', 'lvswinjqgxlx', 'lwd', 'lwf', 'lwl', 'lx', 'lxa', 'ly', 'lybrand', 'lycos', 'lycoshop', 'lyczak', 'lydecker', 'lydia', 'lyell', 'lyelle', 'lyette', 'lying', 'lyn', 'lynch', 'lynchburg', 'lynda', 'lyndsey', 'lynn', 'lynna', 'lynne', 'lynnette', 'lyons', 'lyou', 'lyr', 'lyris', 'lzevaw', 'lzsy', 'maac', 'maam', 'maan', 'mabo', 'mac', 'macau', 'macdonald', 'maceuticai', 'macgregor', 'machado', 'macheke', 'machiavellian', 'machina', 'machinations', 'machince', 'machine', 'machinery', 'machines', 'macho', 'macintosh', 'mack', 'mackay', 'mackey', 'maclean', 'macmillan', 'macmilli', 'macminn', 'macminnr', 'macro', 'macrocosm', 'macroeconomic', 'macroeconomist', 'macromedia', 'macros', 'macuspana', 'macy', 'mad', 'madam', 'madan', 'madde', 'maddox', 'made', 'madeline', 'madeof', 'madero', 'madhav', 'madhup', 'madhur', 'madhya', 'madison', 'madman', 'madness', 'madonna', 'madrid', 'madsen', 'mae', 'maen', 'maffett', 'magazine', 'magazines', 'magdalena', 'magdalenefranks', 'magdalinweiss', 'magee', 'magenta', 'mages', 'maggie', 'maggot', 'magic', 'magical', 'magically', 'magnanimous', 'magne', 'magnet', 'magnetic', 'magnetron', 'magnetslip', 'magnificent', 'magnified', 'magnifier', 'magnitude', 'magnum', 'magnus', 'maha', 'mahaffey', 'mahal', 'mahanti', 'maharashtra', 'maharasthra', 'maharastra', 'maharshtra', 'mahendra', 'mahesh', 'maheshram', 'mahmood', 'mahmoud', 'mahogany', 'mahoney', 'mai', 'maid', 'maier', 'maiiing', 'maiiings', 'mail', 'maila', 'mailadressen', 'mailat', 'mailb', 'mailbag', 'mailbericht', 'mailbox', 'mailboxes', 'mailcity', 'mailcomesandgoes', 'maildir', 'maildoc', 'maildom', 'maildrop', 'mailed', 'mailer', 'mailfolder', 'mailhost', 'mailid', 'mailin', 'mailing', 'mailingreceives', 'mailings', 'maill', 'maillist', 'maillot', 'mailman', 'mailo', 'mailolb', 'mailowy', 'mailpound', 'mails', 'mailseach', 'mailslegally', 'mailsorder', 'mailsthey', 'mailstop', 'mailsurf', 'mailto', 'mailwisconsin', 'main', 'maine', 'mainenance', 'mainframe', 'mainframes', 'mainly', 'mainoemstore', 'mains', 'mainstream', 'maintain', 'maintained', 'maintainer', 'maintaining', 'maintains', 'maintenace', 'maintenance', 'maintenant', 'mainway', 'mainzer', 'maior', 'mais', 'maisonette', 'maja', 'majesty', 'majeure', 'major', 'majordomo', 'majoring', 'majority', 'majors', 'majury', 'mak', 'make', 'makefile', 'makeover', 'makepretty', 'maker', 'makers', 'makes', 'maket', 'makeup', 'makevc', 'making', 'makingrevision', 'makkai', 'makovich', 'maksimovic', 'mal', 'mala', 'malacca', 'maladministration', 'malaise', 'malarial', 'malaysia', 'malcolm', 'malcom', 'male', 'males', 'malfunctions', 'malibu', 'malicious', 'malin', 'malina', 'malinovski', 'mall', 'mallam', 'mallamyusuf', 'mallik', 'mallikd', 'malnutrition', 'maloney', 'malory', 'malowney', 'malus', 'malwe', 'mam', 'mamma', 'mammoth', 'mamy', 'man', 'manabu', 'manadate', 'manage', 'manageabie', 'manageable', 'managed', 'management', 'managements', 'managementupdate', 'managemnet', 'managenet', 'manager', 'managerial', 'managerlpc', 'managers', 'manages', 'managing', 'managment', 'manarin', 'mand', 'mandalas', 'mandamus', 'mandan', 'mandarin', 'mandate', 'mandated', 'mandatory', 'mandeep', 'mandible', 'mandis', 'mandy', 'maness', 'maneuver', 'maneuvering', 'maneuvers', 'manfred', 'mang', 'mangels', 'mangement', 'mangers', 'mangin', 'mangles', 'manhatan', 'manhattan', 'manhood', 'mani', 'manie', 'manier', 'manifestation', 'manifestations', 'manifesting', 'manifesto', 'manifold', 'manifolds', 'manipulated', 'manipulating', 'manipulation', 'manipulations', 'manipulative', 'manis', 'manju', 'mankind', 'manlove', 'mann', 'manned', 'mannequin', 'manner', 'mannered', 'mannerist', 'manners', 'mannheim', 'manning', 'mannually', 'manoeuvre', 'manohar', 'manoj', 'manoth', 'manpower', 'manrique', 'mansell', 'mansfeld', 'mansfield', 'mansion', 'mansley', 'mantra', 'mantralaya', 'mantua', 'manual', 'manually', 'manuals', 'manuel', 'manuelokol', 'manufacture', 'manufactured', 'manufacturer', 'manufacturers', 'manufactures', 'manufacturing', 'manuscript', 'manx', 'many', 'manytimes', 'manzoor', 'map', 'mapdrawing', 'maple', 'mapped', 'mapping', 'mappings', 'maps', 'mar', 'mara', 'maragos', 'marathon', 'marauder', 'marc', 'marca', 'marcello', 'marcelo', 'march', 'marches', 'marchesi', 'marchfirst', 'marcia', 'marciewarren', 'marcil', 'marcinkowski', 'marco', 'marcom', 'marcos', 'marcotitzer', 'marcus', 'marcusevansch', 'mardanov', 'marechal', 'maredia', 'marek', 'maret', 'marfurt', 'marg', 'margaret', 'margarette', 'marge', 'margie', 'margin', 'marginal', 'marginally', 'margins', 'margot', 'margret', 'marhtadowns', 'mari', 'maria', 'mariadacosta', 'mariah', 'mariam', 'marian', 'marianne', 'mariano', 'maricar', 'marie', 'marilyn', 'marimon', 'marine', 'mariner', 'marinov', 'mario', 'maritime', 'mark', 'marke', 'marked', 'markedly', 'markenweine', 'marker', 'markers', 'market', 'marketability', 'marketable', 'marketcredit', 'marketed', 'marketeer', 'marketer', 'marketers', 'marketing', 'marketingpractices', 'marketinq', 'marketmakers', 'marketplace', 'marketplaces', 'marketpoint', 'marketpointinc', 'markets', 'marketspray', 'markey', 'markham', 'marking', 'markings', 'markov', 'markovian', 'marks', 'markswv', 'markus', 'markw', 'markwart', 'marla', 'marlene', 'marlow', 'marlton', 'marnie', 'maronge', 'marosi', 'marquardt', 'marquez', 'marquis', 'marred', 'marriage', 'married', 'marriott', 'marron', 'marrow', 'marry', 'marrying', 'mars', 'marsden', 'marsh', 'marsha', 'marshal', 'marshall', 'marshweb', 'marsteller', 'mart', 'marta', 'marter', 'martha', 'martial', 'martin', 'martina', 'martinez', 'martingale', 'martinj', 'martos', 'marty', 'martyrs', 'marubeni', 'maruti', 'marvell', 'marvelous', 'marvin', 'marx', 'mary', 'maryam', 'maryland', 'marysi', 'marzec', 'mas', 'masayuki', 'masha', 'mashed', 'mask', 'masked', 'mason', 'masonry', 'masood', 'mass', 'massachusetts', 'massachvsetts', 'massage', 'massand', 'massege', 'masses', 'massey', 'massive', 'masson', 'massong', 'master', 'masterbolan', 'mastercard', 'masterdisc', 'masterdisk', 'mastered', 'masterly', 'masters', 'masulla', 'masuyuki', 'masz', 'mat', 'mataya', 'match', 'matchavariani', 'matched', 'matches', 'matching', 'matchless', 'matchlock', 'mate', 'matematyczno', 'matematycznych', 'mateog', 'mater', 'materia', 'materiaily', 'materiais', 'material', 'materialise', 'materialiy', 'materialize', 'materially', 'materialow', 'materials', 'mates', 'math', 'mathching', 'mathematic', 'mathematica', 'mathematical', 'mathematically', 'mathematicians', 'mathematics', 'mathew', 'mathewes', 'mathews', 'mathis', 'maths', 'mathsmatics', 'mathworks', 'matis', 'matlab', 'matrices', 'matrix', 'matronly', 'matsumoto', 'matt', 'matter', 'matters', 'matthew', 'matthews', 'matthias', 'mattos', 'mature', 'matured', 'matures', 'maturing', 'maturities', 'maturity', 'maubev', 'maue', 'maui', 'maureen', 'maurenn', 'maurer', 'mauricio', 'maurine', 'mauritius', 'maurizio', 'mausoleum', 'maven', 'max', 'maxdaffy', 'maxdisc', 'maxed', 'maxim', 'maximal', 'maximing', 'maximise', 'maximization', 'maximize', 'maximizes', 'maximizing', 'maximum', 'maximums', 'maxine', 'maxmusclesf', 'maxwell', 'may', 'maya', 'maybe', 'mayer', 'mayerbrown', 'mayes', 'mayeux', 'mayfield', 'maynard', 'mayo', 'mayol', 'mayor', 'mayorder', 'mays', 'maze', 'mazowiecka', 'mb', 'mba', 'mbao', 'mbas', 'mbd', 'mbeki', 'mbertozzi', 'mbol', 'mbothwell', 'mbox', 'mbradle', 'mbs', 'mbyte', 'mc', 'mcadams', 'mcallen', 'mcandrews', 'mcarthy', 'mcashan', 'mcbride', 'mccaffrey', 'mccarran', 'mccarroll', 'mccarthy', 'mccartney', 'mccarty', 'mccauley', 'mcclain', 'mcclellan', 'mcclendon', 'mcclure', 'mccoll', 'mccombs', 'mcconnell', 'mccoppin', 'mccormack', 'mccormick', 'mccoy', 'mccracken', 'mccreary', 'mccrory', 'mccullough', 'mccumber', 'mccurley', 'mccutcheon', 'mcd', 'mcdermott', 'mcdonald', 'mcdonnell', 'mcdougall', 'mcelroy', 'mcevoy', 'mcewen', 'mcf', 'mcfarland', 'mcgarret', 'mcgee', 'mcginnis', 'mcgoldrick', 'mcgowan', 'mcgrath', 'mcgraw', 'mcgreevy', 'mcgregor', 'mchineries', 'mchugh', 'mci', 'mcintyre', 'mcisner', 'mckean', 'mckeel', 'mckeever', 'mckendree', 'mckey', 'mckillop', 'mckinney', 'mckinsey', 'mckinseyquarterly', 'mckone', 'mclaughlin', 'mcle', 'mcleish', 'mcleod', 'mcleroy', 'mclib', 'mcm', 'mcmahen', 'mcmahon', 'mcmichael', 'mcmoran', 'mcmullen', 'mcmullew', 'mcnabb', 'mcnamara', 'mcnealy', 'mcnear', 'mcneilly', 'mcrew', 'mcrobb', 'mcrosno', 'mcs', 'mcsherry', 'mcskjfirglkckubuvfiwwp', 'mcurran', 'mcvey', 'mcvicker', 'mcyntire', 'md', 'mda', 'mdaemon', 'mdalia', 'mdanderson', 'mdaya', 'mdc', 'mdesanto', 'mdggzemyestsr', 'mdioun', 'mdiq', 'mdqw', 'mds', 'mdu', 'meachim', 'mead', 'meador', 'meadows', 'meal', 'meals', 'meam', 'mean', 'meandering', 'meaning', 'meaningful', 'meaningfully', 'meaningless', 'means', 'meant', 'meantime', 'meanwhile', 'meara', 'mearian', 'meas', 'measc', 'meastman', 'measurable', 'measurably', 'measure', 'measured', 'measurement', 'measurements', 'measures', 'measuring', 'meatballs', 'meble', 'mec', 'mechanic', 'mechanical', 'mechanically', 'mechanics', 'mechanism', 'mechanisms', 'mechelle', 'meclcher', 'mecole', 'mecze', 'med', 'medco', 'medford', 'media', 'mediacast', 'mediagroup', 'median', 'mediante', 'mediaone', 'medias', 'mediatransport', 'medicaid', 'medical', 'medicaments', 'medicare', 'medication', 'medications', 'medicine', 'medicines', 'medieval', 'medio', 'meditate', 'meditation', 'mediterranean', 'medium', 'medl', 'medlc', 'medlca', 'medlcations', 'medlcatlons', 'medley', 'meds', 'medsrealcheap', 'medycyne', 'medycznej', 'medz', 'medzo', 'medzon', 'medzone', 'medzonl', 'medzonli', 'medzonlin', 'medzonline', 'medzz', 'mee', 'meeet', 'meehan', 'meeks', 'meera', 'meerdere', 'meet', 'meeti', 'meetin', 'meeting', 'meetings', 'meets', 'meetyour', 'meg', 'mega', 'megabucks', 'megabytes', 'megan', 'megaplex', 'megasite', 'megastore', 'megawatt', 'megawatts', 'megga', 'megger', 'meghan', 'megs', 'mehendale', 'mehrer', 'mehta', 'meia', 'meier', 'meijer', 'meilli', 'meine', 'meinen', 'meiner', 'meivin', 'mel', 'melamine', 'melanie', 'melbourne', 'melcher', 'melded', 'melding', 'melendez', 'melendrez', 'melia', 'melinchon', 'melinda', 'melinite', 'melissa', 'mellacheruvu', 'mellifluous', 'mellon', 'melly', 'melman', 'melodick', 'melodramatic', 'melt', 'meltdown', 'melville', 'melynda', 'mem', 'member', 'members', 'membership', 'memberships', 'meme', 'memo', 'memorabilia', 'memorable', 'memorandum', 'memorial', 'memories', 'memory', 'memoryimproved', 'memos', 'mems', 'men', 'mencionados', 'mendanha', 'mendiola', 'mendoza', 'mends', 'menlo', 'menores', 'mens', 'mensaje', 'menscare', 'ment', 'mental', 'mentality', 'mentally', 'mentee', 'mention', 'mentioned', 'mentioning', 'mentions', 'mentor', 'mentoring', 'mentors', 'ments', 'menu', 'menus', 'mepe', 'mepg', 'mepr', 'mer', 'merat', 'mercaldo', 'mercantile', 'mercedes', 'merchandise', 'merchandising', 'merchant', 'merchanting', 'merchants', 'merci', 'merciful', 'merciless', 'merck', 'mercur', 'mercury', 'mercy', 'mere', 'meredith', 'merely', 'merge', 'merged', 'merger', 'mergers', 'merging', 'meridia', 'meridien', 'merit', 'meritorious', 'merits', 'meriwether', 'merl', 'merldll', 'merlin', 'merlon', 'merrell', 'merrelyn', 'merrie', 'merrill', 'merriss', 'merritt', 'merry', 'mers', 'merten', 'merton', 'meryl', 'merytoryczna', 'mes', 'mesa', 'mesage', 'meserve', 'mesh', 'mesoscale', 'mesquita', 'mess', 'message', 'messagelabs', 'messages', 'messaggio', 'messaging', 'messenger', 'messengers', 'messers', 'messiah', 'messieurs', 'messroom', 'messsage', 'messy', 'met', 'meta', 'metabolism', 'metairie', 'metais', 'metal', 'metalgesselschaft', 'metall', 'metallgesellschaft', 'metallic', 'metals', 'metaphor', 'metaphysical', 'metarouter', 'metasomatism', 'metayer', 'metcalf', 'metcast', 'meteor', 'meteoric', 'meteorlogy', 'meteorograph', 'meteorological', 'meteorologist', 'meteorologists', 'meteorology', 'meteors', 'meter', 'metering', 'meters', 'metgas', 'methane', 'methanol', 'method', 'methodist', 'methodolgies', 'methodologies', 'methodology', 'methodoology', 'methods', 'meticulous', 'metioned', 'metlife', 'metod', 'metode', 'metody', 'metres', 'metric', 'metrick', 'metrics', 'metro', 'metromediaenergy', 'metropitan', 'metropolitan', 'metropolitana', 'metts', 'metz', 'metzler', 'mewhen', 'mexican', 'mexicanos', 'mexicans', 'mexico', 'meyer', 'meyers', 'meyn', 'meza', 'mf', 'mfg', 'mfn', 'mfr', 'mfrgroup', 'mg', 'mga', 'mgillis', 'mgimble', 'mgltd', 'mgm', 'mgmcc', 'mgmt', 'mgplc', 'mgposw', 'mgr', 'mgrn', 'mgt', 'mgusa', 'mh', 'mhb', 'mhejka', 'mhenahan', 'mhhs', 'mhla', 'mhotmailbc', 'mhuang', 'mhz', 'mi', 'mia', 'miaghkaia', 'mial', 'miami', 'mianowicie', 'micahel', 'mich', 'michael', 'michaelthimmig', 'michal', 'micheel', 'michel', 'michele', 'michell', 'michelle', 'michigan', 'michol', 'michot', 'mickey', 'micro', 'microbiology', 'microcap', 'microelectronics', 'microfilm', 'micron', 'microphone', 'microportable', 'microscopic', 'microsoft', 'microsoftchoose', 'microstructure', 'microsystems', 'microturbine', 'mid', 'midcap', 'midday', 'middle', 'middleman', 'middlemen', 'middlesboro', 'midget', 'midland', 'midnight', 'midsize', 'midst', 'midstream', 'midterm', 'midtown', 'midway', 'midwest', 'midyear', 'midzynarodowych', 'mieco', 'miedzy', 'miejsca', 'miejscach', 'miejsce', 'miertschin', 'mieszanka', 'mieszkam', 'mieszkanie', 'might', 'mighty', 'mignon', 'migraine', 'migrate', 'migrated', 'migrating', 'migration', 'miguel', 'mihalik', 'mihura', 'mii', 'miiii', 'miiiion', 'miiiions', 'miilion', 'miilions', 'mija', 'mikael', 'mike', 'mikebid', 'mikebundu', 'mikhail', 'mikkelson', 'miktex', 'mil', 'milam', 'milan', 'mild', 'mildly', 'mile', 'mileage', 'milenia', 'miles', 'milestone', 'milestones', 'milici', 'miliio', 'miliion', 'miliions', 'militar', 'military', 'mill', 'millenium', 'millennium', 'miller', 'millican', 'millie', 'million', 'millionaire', 'millionaires', 'millions', 'millionsof', 'millman', 'mills', 'millstone', 'millwright', 'milnthorp', 'milton', 'milwaukee', 'mily', 'mime', 'mimeole', 'mimesweeper', 'mimetrack', 'mimics', 'mimo', 'min', 'mina', 'minal', 'minas', 'mind', 'minddata', 'minded', 'minder', 'mindley', 'minds', 'mindset', 'mindspring', 'mine', 'minefield', 'minelo', 'mineral', 'mineralization', 'minerals', 'mines', 'ming', 'mingcheng', 'mini', 'miniaturization', 'minick', 'minimal', 'minimising', 'minimization', 'minimize', 'minimizing', 'minimum', 'minimums', 'mining', 'minister', 'ministers', 'ministries', 'ministry', 'mink', 'minkowski', 'minnesota', 'minolta', 'minor', 'minority', 'mins', 'minsk', 'minstrelsy', 'mint', 'minto', 'mintz', 'minunte', 'minus', 'minusy', 'minute', 'minutes', 'mip', 'mir', 'miracle', 'miracles', 'miraculous', 'miraculously', 'miramonte', 'miranda', 'mirant', 'mire', 'mired', 'mirella', 'miriam', 'mirian', 'mirman', 'mirror', 'mis', 'misappropriate', 'misapropriations', 'misc', 'miscalculation', 'miscellaneous', 'mischke', 'miscommunication', 'misconceive', 'misdeclaration', 'misdeem', 'miserable', 'misery', 'misfortunes', 'misha', 'misieading', 'misinformation', 'misiniz', 'misinterpret', 'mislaid', 'misleading', 'mismanagement', 'mismo', 'misnamed', 'misnumbered', 'miso', 'misplaced', 'misplacement', 'mispricing', 'misrepresent', 'misrepresentation', 'misrepresented', 'miss', 'missed', 'misses', 'missing', 'mission', 'mississippi', 'missouri', 'missout', 'missy', 'mistake', 'mistaken', 'mistakes', 'misti', 'mistransmission', 'mistrust', 'misty', 'misunderstanding', 'misunderstood', 'misuse', 'misused', 'misusing', 'mit', 'mitch', 'mitchell', 'miteinander', 'mithani', 'miti', 'mitigate', 'mitigated', 'mitigating', 'mitigation', 'mitigations', 'mitnick', 'mitra', 'mitro', 'mitsubishi', 'mittals', 'mittimus', 'mittwaldmedien', 'miutes', 'mix', 'mixed', 'mixer', 'mixing', 'mixon', 'mixture', 'mizzle', 'mjaafar', 'mjermakl', 'mjirartt', 'mkierlanczyk', 'ml', 'mlay', 'mle', 'mlm', 'mlmam', 'mlp', 'mls', 'mm', 'mmaddox', 'mmathews', 'mmbtu', 'mmbtus', 'mmc', 'mmcf', 'mme', 'mmedz', 'mmfoss', 'mmg', 'mmjx', 'mmkn', 'mmm', 'mmmmm', 'mmore', 'mmpta', 'mmumford', 'mn', 'mnash', 'mnd', 'mnie', 'mniebruegge', 'mo', 'moaned', 'moaning', 'mob', 'mobil', 'mobile', 'mobiles', 'mobility', 'mobilize', 'mobilizes', 'mobishop', 'mobutu', 'mock', 'modal', 'modalities', 'moddeling', 'mode', 'model', 'modeled', 'modeler', 'modeli', 'modeling', 'modelingproject', 'modella', 'modelled', 'modeller', 'modelling', 'modelng', 'models', 'modelso', 'modelvar', 'modem', 'moderate', 'moderated', 'moderately', 'moderates', 'moderating', 'moderation', 'moderator', 'modern', 'modernisation', 'modernization', 'modernize', 'modernized', 'modes', 'modest', 'modesty', 'modificaitons', 'modification', 'modifications', 'modified', 'modifing', 'modify', 'modifying', 'mods', 'modular', 'modulation', 'module', 'modules', 'modus', 'moffett', 'mofongo', 'mog', 'mogal', 'moge', 'mogl', 'moglaby', 'moglbys', 'moglem', 'mogli', 'mogliby', 'mohammed', 'mohan', 'mohn', 'mohsin', 'moi', 'moich', 'moim', 'moines', 'moira', 'moisture', 'moj', 'moja', 'moje', 'mojego', 'mojej', 'moko', 'mold', 'molded', 'molding', 'molecular', 'molecularly', 'molecule', 'mollie', 'molly', 'molten', 'mom', 'moment', 'momento', 'moments', 'momentum', 'moms', 'mon', 'monaco', 'monatlich', 'moncrieff', 'monday', 'mondays', 'mondello', 'mone', 'monet', 'monetary', 'monetezation', 'monetization', 'monetize', 'monetized', 'money', 'moneyhon', 'moneyjudgments', 'moneyline', 'moneys', 'moneystarted', 'moneytrancecorp', 'monfan', 'monica', 'monies', 'monika', 'monitor', 'monitored', 'monitorial', 'monitoring', 'monitors', 'monk', 'monkeys', 'monks', 'monline', 'monocle', 'monographs', 'monologues', 'monomial', 'monopolizing', 'monopoly', 'monopsony', 'monotype', 'monrovia', 'monsoon', 'monster', 'monsters', 'monstrous', 'mont', 'montague', 'montana', 'monte', 'monteal', 'montecarlo', 'monterrey', 'montgomery', 'month', 'monthlies', 'monthly', 'months', 'monthsfrom', 'monthy', 'monticule', 'montly', 'montour', 'montovano', 'montreal', 'montrose', 'monty', 'monumental', 'monumentalize', 'mood', 'moody', 'moodys', 'moodysqra', 'moon', 'moonbeam', 'mooney', 'moons', 'moore', 'mooresource', 'moot', 'mooted', 'mop', 'mor', 'mora', 'moral', 'morale', 'moran', 'morawitz', 'mordaunt', 'morenewsletters', 'morenewslettersl', 'moreno', 'moreof', 'moreover', 'moresign', 'moreso', 'morexchange', 'moreyou', 'morgan', 'morison', 'morita', 'moritz', 'morley', 'morn', 'morning', 'mornings', 'morningside', 'mornng', 'morntix', 'morphism', 'morphology', 'morrell', 'morris', 'morrison', 'morristown', 'morroco', 'morrow', 'morsches', 'morska', 'mort', 'mortage', 'mortals', 'mortbanc', 'mortem', 'morten', 'mortg', 'mortgage', 'mortgaged', 'mortgagefkzqeljhyno', 'mortgages', 'morton', 'mos', 'moscoso', 'moscow', 'moshe', 'moshedelaney', 'moshood', 'mosquitoes', 'moss', 'mostly', 'moststringent', 'mostura', 'mot', 'mote', 'mothball', 'mothballed', 'mother', 'motherboards', 'mothers', 'motility', 'motion', 'motioned', 'motions', 'motivate', 'motivated', 'motivates', 'motivating', 'motivation', 'motivational', 'motivations', 'motivator', 'motives', 'motor', 'motorcade', 'motorcyclist', 'motorised', 'motorized', 'motorola', 'motors', 'motoryacht', 'mottom', 'mou', 'moulds', 'moulton', 'mound', 'mount', 'mountain', 'mountains', 'mountaintop', 'mounted', 'mounting', 'mous', 'mouse', 'mouth', 'mouton', 'mov', 'move', 'moved', 'movement', 'movements', 'mover', 'movers', 'moves', 'movi', 'movie', 'movies', 'moving', 'movles', 'moyes', 'moyez', 'moze', 'mozesz', 'mozilla', 'mozliwa', 'mozliwe', 'mozliwie', 'mozliwosc', 'mozliwosci', 'mozna', 'mp', 'mpass', 'mpblalock', 'mpdirect', 'mphan', 'mpl', 'mpls', 'mpotishnak', 'mpr', 'mps', 'mr', 'mraymon', 'mrc', 'mrensink', 'mrf', 'mrha', 'mri', 'mrice', 'mro', 'mrobert', 'mroberts', 'mrodrig', 'mrollhei', 'mrongovia', 'mrozem', 'mrportland', 'mrs', 'mrsa', 'mrvl', 'ms', 'mscf', 'msdw', 'mse', 'mseb', 'msexch', 'msg', 'mshop', 'mshow', 'msica', 'msis', 'msl', 'msmail', 'msmswo', 'msmswolpx', 'msn', 'msnbc', 'msoffice', 'msowaolp', 'mss', 'mssl', 'mst', 'mstat', 'msword', 'mt', 'mta', 'mtao', 'mtaol', 'mtbe', 'mtg', 'mth', 'mtholyoke', 'mths', 'mthsprg', 'mtiyn', 'mtm', 'mtpi', 'mts', 'mtucker', 'mtwr', 'mu', 'much', 'muchbetter', 'mucho', 'mucilage', 'muda', 'muddle', 'muddled', 'mudge', 'mudguard', 'muehe', 'mueller', 'muench', 'muesste', 'muffle', 'mufflers', 'muften', 'mug', 'mugabe', 'mugl', 'mugs', 'muhajabah', 'mui', 'muiti', 'muitipie', 'muitiple', 'mujica', 'mukerji', 'mukesh', 'mul', 'mulholland', 'mulhouse', 'mullen', 'mullennix', 'muller', 'mullers', 'mullin', 'mulong', 'mulrooney', 'multi', 'multicast', 'multiclient', 'multidisciplinary', 'multidiscipline', 'multifold', 'multilateral', 'multilevel', 'multilicensed', 'multimedia', 'multimillion', 'multinational', 'multinationals', 'multipart', 'multiphase', 'multipie', 'multiple', 'multiples', 'multiplication', 'multiplied', 'multiplier', 'multiply', 'multiprocessing', 'multireset', 'multiresets', 'multistory', 'multisym', 'multithreading', 'multitude', 'multitudes', 'multivariate', 'mum', 'mumbai', 'mumford', 'mumma', 'mun', 'munarin', 'mundane', 'muni', 'munich', 'municipal', 'municipalities', 'municipality', 'municipals', 'munis', 'muniz', 'munoz', 'muntz', 'mur', 'murat', 'murder', 'murdered', 'murielmcfarling', 'murkowski', 'murky', 'murph', 'murphy', 'murray', 'murrell', 'muschar', 'muscle', 'muscles', 'muse', 'museler', 'museum', 'musgrove', 'musharaka', 'mushroom', 'musialem', 'music', 'musicihouse', 'musket', 'muslim', 'muslims', 'musrbfi', 'must', 'mustapha', 'muston', 'musze', 'mute', 'mutilation', 'mutinational', 'mutter', 'muttis', 'mutual', 'mutually', 'muzi', 'muzo', 'muzzy', 'mv', 'mvaghedi', 'mvasque', 'mvittal', 'mvv', 'mvwin', 'mw', 'mwagee', 'mwalsh', 'mwf', 'mwh', 'mwis', 'mwolper', 'mwozny', 'mws', 'mwtwominer', 'mx', 'mxarray', 'mxico', 'mxl', 'mxlinux', 'mxncvt', 'mxo', 'mxserver', 'mxservers', 'mya', 'mychau', 'mydaily', 'mydebtsite', 'myers', 'myg', 'mygeorgew', 'myhome', 'myles', 'mypic', 'myresume', 'myriad', 'myrlburns', 'myron', 'myrtice', 'myse', 'myshoppingplace', 'mysiteinc', 'myslal', 'myslalem', 'myslisz', 'mysql', 'mystery', 'mystic', 'mysticism', 'myth', 'mythicize', 'myths', 'myung', 'myway', 'mywebdesignportfo', 'mzmail', 'n', 'na', 'naaa', 'naao', 'nabbed', 'nacey', 'nactivity', 'nad', 'nadal', 'nadasky', 'naderite', 'nadina', 'nadzieja', 'nadzieje', 'nadzwyczajnie', 'naero', 'nag', 'nagali', 'nagasaki', 'nagpur', 'nahou', 'naic', 'nail', 'nailed', 'nailer', 'nailing', 'nails', 'nair', 'naive', 'najbardziej', 'najbardzij', 'najlepiej', 'najlepszym', 'najwiecej', 'naked', 'nakedmail', 'nakornthai', 'nalepa', 'nalexander', 'naleznosc', 'nalin', 'nalini', 'nalink', 'nalu', 'nam', 'name', 'nameable', 'nameand', 'named', 'nameis', 'namelijk', 'namelistbjs', 'namely', 'nameof', 'nameplate', 'names', 'nametags', 'namiary', 'naming', 'nan', 'nance', 'nancee', 'nancy', 'nangas', 'nanisetty', 'nannette', 'nanny', 'nannys', 'nanosensor', 'nanotechnology', 'nansen', 'nao', 'naomi', 'naorwnwbxbsttgvelamusbs', 'nap', 'napa', 'naperville', 'naphtha', 'napisalam', 'napkins', 'napm', 'napoleonic', 'naprawde', 'narasimhan', 'narcotics', 'narcotism', 'narg', 'nariman', 'narongwanich', 'narottam', 'narration', 'narrow', 'narrowed', 'narzeczona', 'nas', 'nasa', 'nasalization', 'nasalize', 'nasas', 'nascent', 'nasd', 'nasdaq', 'nasdq', 'nash', 'nasl', 'nassar', 'nastepna', 'nastepne', 'nastepnie', 'nastepujacy', 'nastiest', 'nasty', 'nasz', 'nasza', 'nasze', 'naszego', 'naszych', 'nat', 'natal', 'natalie', 'nataliebiddinger', 'natarajan', 'natasha', 'nate', 'natgas', 'nath', 'nathan', 'nation', 'nationa', 'national', 'nationale', 'nationalist', 'nationality', 'nationalization', 'nationally', 'nationals', 'nations', 'nationwide', 'native', 'natomiast', 'natpower', 'natrajan', 'natura', 'natural', 'naturalization', 'naturally', 'nature', 'natures', 'naughty', 'naukowo', 'nausea', 'nautical', 'nautile', 'navair', 'naval', 'naveen', 'navidad', 'navigable', 'navigantconsulting', 'navigate', 'navigation', 'navigator', 'navin', 'navroz', 'navy', 'nawal', 'nawet', 'nawiazac', 'nawiazania', 'nawty', 'nay', 'nazareth', 'nazs', 'nazwisko', 'nazywam', 'nb', 'nba', 'nbc', 'nber', 'nbl', 'nbp', 'nbpl', 'nbr', 'nbsk', 'nbtnsbpa', 'nc', 'nce', 'nch', 'ncies', 'ncora', 'ncp', 'ncsu', 'nd', 'nda', 'nddc', 'ndf', 'nds', 'ndsz', 'ndtxcpfjspwwtrkaxnxg', 'ndunbar', 'ne', 'neal', 'neale', 'near', 'nearby', 'nearer', 'nearest', 'nearing', 'nearly', 'nears', 'neary', 'neat', 'neatly', 'nebergall', 'nebraska', 'nec', 'neccessary', 'necessarilly', 'necessarily', 'necessary', 'necessitated', 'necessities', 'necessity', 'neck', 'neckband', 'necrology', 'necropsy', 'necroscopy', 'ned', 'neda', 'nederlands', 'need', 'needed', 'needham', 'needing', 'needlegun', 'needlepoint', 'needless', 'needlessly', 'needlework', 'needs', 'needsand', 'needy', 'neeed', 'neeedless', 'neeley', 'neepool', 'neeraj', 'neff', 'neg', 'negative', 'negatively', 'neglect', 'neglected', 'negligence', 'negligible', 'negocio', 'negotiable', 'negotiant', 'negotiate', 'negotiated', 'negotiates', 'negotiating', 'negotiation', 'negotiations', 'negotiator', 'negotiators', 'negro', 'neighbor', 'neighborhood', 'neighboring', 'neighbors', 'neighbouring', 'neighbourship', 'neil', 'neill', 'neithard', 'neither', 'nel', 'nele', 'nell', 'nelly', 'nelson', 'nelsonb', 'nely', 'nelz', 'nem', 'nemen', 'nemmco', 'nemo', 'neneale', 'nenhum', 'neology', 'neonate', 'neoplasty', 'neoplus', 'nepco', 'nephew', 'nepool', 'neppl', 'nerc', 'nerkowe', 'nerve', 'nerveless', 'nerves', 'nervous', 'nesa', 'nesaneamembership', 'nesanet', 'nesbitt', 'neslage', 'neslon', 'nest', 'nested', 'nests', 'net', 'neta', 'netaddress', 'netblah', 'netcommission', 'netconnection', 'netek', 'netflix', 'netherlands', 'netleads', 'netmechanic', 'netnoteinc', 'netofficesys', 'netorder', 'netratings', 'netrisk', 'nets', 'netscape', 'netspace', 'nettelton', 'nettie', 'nettle', 'netware', 'network', 'networked', 'networking', 'networks', 'netz', 'neubauer', 'neugierig', 'neuhaus', 'neuner', 'neural', 'neuro', 'neustaedter', 'neuter', 'neutral', 'neutrality', 'neutralize', 'neutralized', 'neutralizes', 'neutrino', 'nev', 'nevada', 'never', 'neveragain', 'neverbelieved', 'nevertheless', 'neves', 'nevil', 'neville', 'nevrl', 'new', 'newark', 'newbie', 'newbuscrea', 'newcastle', 'newdelhi', 'newer', 'newest', 'newgate', 'newl', 'newlin', 'newly', 'newman', 'newness', 'newpower', 'newresume', 'news', 'newsbenefitnow', 'newsbyemail', 'newsclips', 'newsdesk', 'newsfeed', 'newsgroups', 'newsietter', 'newsl', 'newslately', 'newsletter', 'newsletters', 'newsletterservice', 'newslettervenita', 'newsoussan', 'newspaper', 'newspapers', 'newsprint', 'newsstands', 'newswire', 'newswires', 'newton', 'newtonian', 'newvatrfacs', 'newworldtoenter', 'newx', 'newyork', 'newyorkfed', 'nex', 'next', 'nextel', 'nextfew', 'nextpart', 'ney', 'nezi', 'nfcf', 'nfcfproposal', 'nfidentiaiity', 'nfl', 'ng', 'nger', 'ngi', 'ngl', 'ngo', 'ngol', 'ngpwmhmx', 'ngriggs', 'ngrlen', 'nguyen', 'ngx', 'nh', 'nhl', 'nhumphrey', 'ni', 'nia', 'niam', 'niamh', 'nic', 'nica', 'nicaragua', 'nice', 'nicechoice', 'nicely', 'nicelywhen', 'nich', 'niche', 'niches', 'nicholas', 'nichols', 'nicht', 'nichuir', 'nick', 'nickel', 'nickelsp', 'nicki', 'nicklos', 'nickname', 'niclas', 'nicodemus', 'nicolay', 'nicole', 'nicosia', 'nicotine', 'niczym', 'nie', 'niecale', 'niechetnie', 'niedrigere', 'niedzieli', 'niego', 'niej', 'nielsen', 'niemieck', 'niepewnego', 'niestety', 'niet', 'nietcho', 'nietety', 'niewlasciwa', 'niezmiernie', 'nigel', 'niger', 'nigeria', 'nigerian', 'night', 'nightclubs', 'nightly', 'nightmare', 'nights', 'nighttime', 'nihilism', 'niif', 'niine', 'nikita', 'nikkei', 'nikkel', 'nikole', 'nikt', 'nil', 'nilay', 'nile', 'nilesh', 'nils', 'nim', 'niman', 'nimbalkar', 'nimmo', 'nina', 'nine', 'nineteen', 'nineteenshots', 'ninety', 'ninfa', 'ning', 'ningbo', 'ningxiong', 'ningya', 'niniejszym', 'nino', 'nios', 'nis', 'nison', 'nissan', 'nita', 'nitin', 'nitrous', 'nitty', 'nixon', 'niz', 'nj', 'njfitzgerald', 'njol', 'nk', 'nkiys', 'nkw', 'nkzrotlw', 'nl', 'nletter', 'nline', 'nlipinski', 'nlwbio', 'nm', 'nmcandrew', 'nmh', 'nms', 'nmss', 'nn', 'nnaji', 'nneed', 'nnews', 'nng', 'nnpm', 'noaa', 'noack', 'noah', 'noandbye', 'nobel', 'nobility', 'noble', 'noblest', 'noblewoman', 'nobody', 'nobr', 'noc', 'noce', 'noch', 'nocowalismy', 'noctambulizm', 'nocturnal', 'nocy', 'nod', 'nodal', 'nodded', 'nodding', 'node', 'nodes', 'nodulated', 'noe', 'noel', 'noemi', 'nofearinvesting', 'nogaps', 'nogid', 'noise', 'noises', 'noisier', 'noit', 'nokia', 'noles', 'nolonger', 'nom', 'nomad', 'nomadic', 'nomatter', 'nominal', 'nominate', 'nominated', 'nominating', 'nomination', 'nominations', 'nominee', 'nominees', 'nomme', 'nommensen', 'nomore', 'nomorel', 'nomtxfellow', 'non', 'nonaffiliated', 'nonary', 'nonbankrupt', 'noncompete', 'noncredit', 'noncurrent', 'nondefault', 'nondisclosure', 'nondiscriminatory', 'none', 'nonenergy', 'nonetheless', 'nonexistent', 'nonferrous', 'nongovernmental', 'nonhierarchal', 'nonius', 'nonlinear', 'nonmarket', 'nonmembers', 'nonparametric', 'nonprofit', 'nonprofits', 'nonrefundable', 'nonsense', 'nonsensical', 'nonsmoker', 'nonsmoking', 'nonsuccess', 'nontransactional', 'nontrivial', 'noon', 'noone', 'noontime', 'nop', 'nopr', 'norasweeney', 'norbert', 'norberto', 'nord', 'norden', 'nordic', 'nordpool', 'nordstrom', 'nordstrum', 'norepro', 'noresco', 'norewgian', 'norm', 'norma', 'normal', 'normalized', 'normally', 'norman', 'normative', 'norment', 'norminv', 'norms', 'norris', 'norristown', 'norsk', 'north', 'northamerica', 'northampton', 'northbound', 'northeast', 'northern', 'northrop', 'northsaint', 'northstar', 'northward', 'northwards', 'northwest', 'northwestern', 'norton', 'norway', 'nos', 'noscv', 'nosi', 'nospam', 'nossa', 'nosso', 'nossos', 'notability', 'notable', 'notably', 'notaglines', 'notarization', 'notary', 'notatce', 'notate', 'notation', 'notbeing', 'notch', 'note', 'notebooks', 'noted', 'notes', 'notesaddr', 'notesmail', 'nothing', 'noticable', 'notice', 'noticeable', 'noticeably', 'noticed', 'noticepending', 'notices', 'noticias', 'notification', 'notifications', 'notified', 'notify', 'notifying', 'noting', 'notion', 'notional', 'notions', 'notis', 'notke', 'notorious', 'notoriously', 'notre', 'nots', 'notwithstanding', 'nouce', 'noun', 'nous', 'nov', 'nova', 'novak', 'novas', 'novel', 'novell', 'novels', 'november', 'novos', 'novosibirsk', 'nowa', 'nowadays', 'nowak', 'nowego', 'nowhere', 'nowlan', 'nowym', 'nowz', 'nox', 'noxp', 'np', 'npalmer', 'npatel', 'npl', 'npng', 'npv', 'nrivera', 'nron', 'nrsc', 'nrumqor', 'ns', 'nsa', 'nscpcd', 'nsdata', 'nsf', 'nsic', 'nsl', 'nsm', 'nss', 'nst', 'nsurance', 'nsw', 'nsze', 'nt', 'ntarr', 'ntb', 'nth', 'ntiaiity', 'ntibrko', 'ntokymo', 'ntpc', 'ntsc', 'ntsitmo', 'ntsj', 'nttpc', 'nua', 'nuances', 'nubers', 'nuciear', 'nuclear', 'nucleate', 'nueces', 'nuestro', 'nuetzlich', 'nuff', 'nugget', 'nuggets', 'nuke', 'null', 'nulty', 'number', 'numbered', 'numbering', 'numbern', 'numbers', 'numbness', 'numer', 'numeral', 'numerate', 'numerator', 'numeric', 'numerical', 'numerics', 'numerix', 'numerology', 'numerous', 'nun', 'nunez', 'nur', 'nurit', 'nurse', 'nursery', 'nursing', 'nurtured', 'nut', 'nuts', 'nutshell', 'nv', 'nvaldes', 'nvar', 'nvda', 'nvidia', 'nw', 'nway', 'nwe', 'nweinber', 'nwfusion', 'nwilson', 'nwl', 'nwol', 'nwp', 'nws', 'nwu', 'nww', 'nx', 'nxho', 'nxwti', 'ny', 'nyc', 'nyegaard', 'nyiso', 'nymarch', 'nymex', 'nypp', 'nyse', 'nyseg', 'nytimes', 'nyu', 'nzoomail', 'oa', 'oaa', 'oacevlmg', 'oak', 'oakland', 'oaks', 'oasis', 'oath', 'oatt', 'oatts', 'oax', 'oaxaca', 'oaxaqueos', 'ob', 'obaj', 'obecnej', 'obecnie', 'obecnych', 'obecnym', 'oberg', 'obesity', 'obeys', 'obi', 'obiad', 'obj', 'object', 'objected', 'objection', 'objections', 'objective', 'objectively', 'objectives', 'objectivity', 'objectless', 'objects', 'objet', 'objetivo', 'obl', 'obligated', 'obligation', 'obligations', 'obligatory', 'oblige', 'obliged', 'obliquity', 'oboje', 'obok', 'obrecht', 'obrona', 'obs', 'obscene', 'observable', 'observation', 'observations', 'observatory', 'observe', 'observed', 'observer', 'observers', 'observes', 'obsolescence', 'obsolete', 'obstacle', 'obstacles', 'obstructionism', 'obstructions', 'obtain', 'obtained', 'obtaining', 'obtains', 'obum', 'obviate', 'obvious', 'obviousiy', 'obviously', 'obydwu', 'oc', 'ocaies', 'ocales', 'ocassionally', 'ocated', 'ocation', 'ocations', 'occ', 'occaisionally', 'occasion', 'occasionally', 'occasioned', 'occasioning', 'occasions', 'occassions', 'occidental', 'occupants', 'occupation', 'occupy', 'occur', 'occured', 'occuring', 'occurred', 'occurrence', 'occurrences', 'occurring', 'occurs', 'ocean', 'oceanography', 'oceanology', 'ocena', 'oceny', 'ochoa', 'ochote', 'ocl', 'ocn', 'ocr', 'oct', 'octal', 'octane', 'octarchy', 'octel', 'octet', 'october', 'ocurred', 'ocurring', 'oczywiscie', 'od', 'oday', 'odbc', 'odbeda', 'odbedzie', 'odd', 'oddbj', 'oddbjorn', 'oddity', 'odds', 'ode', 'odebrecht', 'oder', 'odessa', 'odezwij', 'odnosnie', 'odowiedz', 'odpadna', 'odpowiadalby', 'odpowiadalem', 'odpowiedniej', 'odpowiedz', 'odpowiedzi', 'odwewnetrznego', 'odwilz', 'odwolany', 'odyssey', 'odzywalem', 'odzzfzzq', 'oe', 'oec', 'oecd', 'oeg', 'oem', 'oems', 'oerations', 'oeuvres', 'ofdm', 'ofessional', 'offall', 'offend', 'offended', 'offensive', 'offer', 'offercode', 'offered', 'offerhigher', 'offering', 'offerings', 'offers', 'offersrus', 'offertory', 'officals', 'office', 'officed', 'officer', 'officers', 'offices', 'officia', 'official', 'officializing', 'officially', 'officials', 'officialsin', 'officicals', 'officy', 'offing', 'offline', 'offload', 'offloaded', 'offr', 'offree', 'offrr', 'offs', 'offset', 'offsets', 'offsetting', 'offshore', 'offsite', 'offtake', 'oficjalnym', 'oflwjwsonnkigarhp', 'ofonly', 'ofpocket', 'ofstimulating', 'oft', 'oftel', 'often', 'oga', 'ogbvll', 'ogcgbh', 'ogcon', 'oget', 'oggie', 'ogica', 'ogical', 'oglethorpe', 'ogloszenia', 'ograniczenia', 'oh', 'ohara', 'ohio', 'ohp', 'oi', 'oid', 'oil', 'oilandgaspackage', 'oilandgasremoval', 'oilfield', 'oilplant', 'oils', 'ojcem', 'ojciec', 'ok', 'okay', 'okazana', 'okazja', 'okazji', 'oke', 'okidata', 'oklahoma', 'okmpoi', 'oko', 'okolo', 'okresie', 'okym', 'ol', 'ola', 'olabilir', 'oladeji', 'olaf', 'olafsson', 'olap', 'olariu', 'olbrzymie', 'olce', 'olczyk', 'old', 'olden', 'older', 'oldest', 'oldhtlheuhcclco', 'oldroyd', 'oldstitz', 'olduunca', 'olechowski', 'oleg', 'oleira', 'olf', 'olie', 'oligopoly', 'olim', 'olin', 'olinde', 'olive', 'oliveira', 'oliver', 'olivetto', 'olivo', 'ollie', 'olmas', 'olmasi', 'olmm', 'ols', 'olsen', 'olson', 'olsovsky', 'olsson', 'olugbade', 'olympics', 'om', 'omaha', 'omahahttp', 'oman', 'omar', 'omdat', 'omega', 'omegas', 'omer', 'omers', 'omgroup', 'omicron', 'omin', 'ominous', 'omit', 'omitted', 'omitting', 'omni', 'omnibus', 'omnichoice', 'omnicom', 'omnirange', 'omowic', 'ompadec', 'ona', 'onall', 'onboard', 'oncology', 'oncxbv', 'ondarza', 'ondemand', 'onderstaand', 'ondreko', 'one', 'onerous', 'ones', 'oneself', 'onesheet', 'onet', 'oney', 'onfidentiaiity', 'ong', 'ongc', 'onger', 'ongoing', 'oni', 'oniine', 'oniony', 'oniy', 'onl', 'online', 'ono', 'onoda', 'onomatopoeia', 'onomatopoeic', 'onpeak', 'onpoint', 'onqh', 'ons', 'onseek', 'onset', 'onshore', 'onsite', 'onslaught', 'ont', 'ontario', 'onthe', 'onthis', 'onto', 'ontvangen', 'ontvanger', 'onward', 'onwards', 'onza', 'oo', 'ooc', 'oof', 'ooffr', 'oojavaformanagers', 'ook', 'ooking', 'ool', 'oom', 'ooo', 'oooo', 'oooopppss', 'ooops', 'oops', 'oost', 'op', 'opal', 'opas', 'opay', 'opco', 'opec', 'open', 'opened', 'opener', 'opening', 'openings', 'openly', 'openness', 'openning', 'opens', 'openwin', 'opera', 'operacloak', 'operandi', 'operate', 'operated', 'operateout', 'operates', 'operatic', 'operating', 'operation', 'operational', 'operationalise', 'operations', 'operative', 'operatives', 'operator', 'operators', 'opet', 'opf', 'opgegeven', 'opim', 'opined', 'opiniion', 'opinion', 'opinions', 'opis', 'opl', 'oplaty', 'oplstudio', 'opnet', 'opnieuw', 'opoznienia', 'opp', 'oppers', 'oppidan', 'oppo', 'opportune', 'opportunies', 'opportunites', 'opportunities', 'opportunity', 'oppose', 'opposed', 'opposes', 'opposing', 'opposite', 'opposition', 'opprotunity', 'opps', 'oppurtunites', 'oppurtunities', 'oppurtunity', 'oprah', 'oprefi', 'opriskl', 'oprocz', 'ops', 'opt', 'optdiffswap', 'opted', 'opterm', 'optic', 'optical', 'optics', 'opticus', 'optima', 'optimal', 'optimality', 'optimally', 'optimisation', 'optimise', 'optimising', 'optimism', 'optimistic', 'optimization', 'optimizations', 'optimize', 'optimized', 'optimizer', 'optimizes', 'optimizing', 'optimum', 'optindexswap', 'opting', 'option', 'optional', 'optionality', 'optionally', 'optionii', 'optioning', 'options', 'optoelectronic', 'optout', 'optspreadopt', 'optstripopt', 'optstripspreadopt', 'opttype', 'oqqoe', 'oquinn', 'oqulup', 'oracle', 'oral', 'orange', 'orangeburg', 'oranjestad', 'oration', 'oraz', 'orb', 'orbacus', 'orbt', 'ord', 'orde', 'order', 'ordered', 'ordering', 'orderinq', 'orderly', 'orderreceipt', 'orders', 'orderstatus', 'ordersto', 'ordinance', 'ordinarily', 'ordinary', 'ordinate', 'ordinates', 'ordinating', 'ordinationg', 'ordinator', 'ordonez', 'ordway', 'ore', 'oredressing', 'oregon', 'oren', 'oreo', 'oreos', 'oretech', 'org', 'organika', 'organisation', 'organisational', 'organisations', 'organise', 'organised', 'organiser', 'organising', 'organizacje', 'organizacji', 'organizacyjnego', 'organizacyjnie', 'organization', 'organizational', 'organizations', 'organize', 'organized', 'organizer', 'organizers', 'organizes', 'organizing', 'organizowac', 'organizowal', 'organizujemy', 'organplayer', 'organs', 'orgasm', 'orgasms', 'orgchart', 'orgies', 'orginal', 'orient', 'oriental', 'orientation', 'oriented', 'origin', 'origina', 'original', 'originally', 'originals', 'originated', 'originating', 'origination', 'originations', 'originator', 'originators', 'origins', 'orillion', 'orissa', 'orjan', 'orlandi', 'orlando', 'orlandotaylor', 'orldwide', 'orleans', 'orm', 'ornament', 'ornaments', 'ornate', 'oronto', 'orphan', 'orrery', 'orsak', 'orte', 'ortega', 'orthodontia', 'orthodontist', 'orthogonal', 'orthographical', 'orthotics', 'ortiz', 'os', 'osborne', 'oscair', 'oscar', 'oscillation', 'oscillations', 'osdn', 'osdntextlink', 'ose', 'osezge', 'osierbed', 'oskar', 'osl', 'osler', 'oslo', 'osman', 'osmanabad', 'osmielam', 'osob', 'osoba', 'osoby', 'osonenko', 'osprey', 'ossa', 'osseously', 'ostatecznej', 'ostatni', 'ostatnio', 'ostdeik', 'ostdiek', 'ostensible', 'ostensibly', 'osteoporosis', 'ostrogoth', 'oswego', 'ot', 'otal', 'otani', 'otay', 'otaylor', 'otc', 'otcbb', 'otclive', 'otcpk', 'otemachi', 'oter', 'otherchanges', 'others', 'othersffff', 'othersto', 'otherwise', 'otisa', 'otm', 'otrzyma', 'otrzymalem', 'otrzymania', 'ots', 'otsourcing', 'otswkuk', 'ottawa', 'otten', 'otto', 'otwarcie', 'otwarciem', 'ou', 'ouellette', 'ought', 'ouija', 'oulwmufo', 'ounce', 'ounces', 'ourextensive', 'ourlast', 'ourmailings', 'ourref', 'ourseives', 'ourso', 'outable', 'outage', 'outagepricingo', 'outagerisk', 'outages', 'outbound', 'outbox', 'outcome', 'outcomes', 'outcrops', 'outcry', 'outdated', 'outdoor', 'outdoorsmen', 'outer', 'outfit', 'outflows', 'outgo', 'outgoing', 'outgrew', 'outing', 'outlay', 'outlays', 'outlet', 'outlets', 'outline', 'outlined', 'outlines', 'outlining', 'outlook', 'outlookindia', 'outlooks', 'outlying', 'outmoded', 'outonly', 'outpaced', 'outpatient', 'outperform', 'outperformed', 'outpost', 'output', 'outputs', 'outputsummary', 'outputting', 'outr', 'outrage', 'outrageous', 'outright', 'outros', 'outs', 'outsat', 'outset', 'outside', 'outsider', 'outsiders', 'outsource', 'outsourced', 'outsources', 'outsourcing', 'outspeak', 'outspoken', 'outstanding', 'outstandings', 'outstandinq', 'outstandlng', 'outstrip', 'outstripped', 'outtakes', 'outthought', 'outweigh', 'ouur', 'ouut', 'ov', 'ovalle', 'ovanessian', 'ovdkspcr', 'ove', 'oven', 'overa', 'overages', 'overal', 'overall', 'overbid', 'overboard', 'overbooked', 'overcapacity', 'overcharging', 'overcome', 'overcomes', 'overcoming', 'overcommitments', 'overcrowded', 'overcrowding', 'overdraft', 'overdraw', 'overdue', 'overdyke', 'overexpenditures', 'overflow', 'overgrow', 'overgrown', 'overhaul', 'overhauled', 'overhauls', 'overhead', 'overheads', 'overhear', 'overholt', 'overkill', 'overlaid', 'overlap', 'overlapping', 'overlaps', 'overload', 'overloaded', 'overloading', 'overlook', 'overlooked', 'overlooking', 'overly', 'overlying', 'overman', 'overnight', 'overnite', 'overo', 'overour', 'overpaid', 'overproduction', 'overrode', 'overruled', 'overs', 'overseas', 'oversee', 'overseeing', 'overseer', 'overseers', 'oversees', 'oversight', 'oversite', 'oversold', 'overstocked', 'overthrew', 'overtime', 'overturn', 'overvaluing', 'overview', 'overvveight', 'overweening', 'overweight', 'overwhelmed', 'overwhelming', 'overwhich', 'overworked', 'overwritten', 'overy', 'oviform', 'ovum', 'ow', 'owa', 'owain', 'owe', 'owed', 'owen', 'owens', 'owes', 'owgr', 'owing', 'owl', 'owncen', 'owned', 'ownedboon', 'owner', 'owners', 'ownership', 'owning', 'owns', 'ows', 'owusu', 'ox', 'oxan', 'oxford', 'oxfordagent', 'oxide', 'oxley', 'oxxl', 'oxy', 'oy', 'oyal', 'oyu', 'oz', 'ozaidi', 'ozarka', 'ozt', 'ozzie', 'p', 'pa', 'paakaula', 'pabianic', 'pablo', 'pac', 'pacatte', 'pace', 'paced', 'pacemaker', 'paces', 'pacesetter', 'pachauri', 'pacific', 'pacificare', 'pacificcorp', 'pacificor', 'pacificorp', 'pack', 'package', 'packaged', 'packagers', 'packages', 'packaging', 'packaqes', 'packard', 'packed', 'packet', 'packets', 'packing', 'packs', 'pacmembers', 'pacs', 'pad', 'padamsinh', 'padding', 'paddlewheel', 'paddling', 'paddy', 'padilla', 'padmesh', 'padova', 'padron', 'pads', 'paduano', 'paesanos', 'paez', 'pagan', 'page', 'pageable', 'pageid', 'pagel', 'pagemaker', 'pagemode', 'pagenetips', 'pageone', 'pager', 'pagers', 'pages', 'paging', 'pai', 'paid', 'paige', 'pail', 'pain', 'paine', 'painewebber', 'painful', 'painfully', 'painless', 'painlessly', 'painrelief', 'pains', 'paint', 'paintball', 'painted', 'painter', 'painters', 'painting', 'paints', 'pair', 'paired', 'pairs', 'paise', 'paiste', 'pak', 'pakistan', 'pakoa', 'paks', 'pal', 'palace', 'paladin', 'palais', 'palash', 'palazzi', 'pale', 'paleologo', 'palfrey', 'palladium', 'pallavi', 'pallazzi', 'pallet', 'pallets', 'pallmall', 'palm', 'palmer', 'palmquist', 'palms', 'palo', 'paludal', 'palumbo', 'pam', 'pamela', 'pamietam', 'pamietasz', 'pammy', 'pamper', 'pamphlet', 'pamplets', 'pan', 'pana', 'panalytix', 'panama', 'panami', 'panamsat', 'panasonic', 'pancake', 'pancaking', 'pancharatnam', 'panda', 'pandemic', 'pandemonium', 'pandya', 'paneiized', 'panel', 'paneled', 'panelist', 'panelists', 'panelized', 'panellist', 'panellists', 'panelowe', 'panels', 'panem', 'pangs', 'panhandle', 'pani', 'pania', 'panic', 'panie', 'panjandrum', 'panned', 'panoramic', 'panstwo', 'panu', 'pao', 'paolo', 'paper', 'paperco', 'paperl', 'paperless', 'paperloop', 'papers', 'paperwork', 'papiers', 'pappas', 'paqemaker', 'par', 'para', 'parachutes', 'parade', 'paraded', 'paradigm', 'paradigms', 'paradise', 'paradox', 'paragragh', 'paragraph', 'paragraphs', 'paralle', 'parallel', 'parallelism', 'paralysis', 'parameter', 'parameters', 'paramount', 'paraphrase', 'parayre', 'parbhu', 'parcel', 'parcels', 'pardo', 'pardon', 'pare', 'parekh', 'parent', 'parental', 'parentheses', 'parenthesis', 'parenthetical', 'parents', 'pareto', 'parian', 'paribas', 'parikh', 'paris', 'parisbourse', 'parity', 'park', 'parker', 'parkhill', 'parkhilll', 'parking', 'parkplace', 'parks', 'parkway', 'parli', 'parliament', 'parlour', 'parlourc', 'parnassian', 'parole', 'parquet', 'parra', 'parri', 'parrino', 'parroting', 'parsed', 'parsimonious', 'parsing', 'parsons', 'part', 'partcipation', 'parte', 'partenaire', 'parter', 'parterre', 'parterze', 'partho', 'partial', 'partially', 'particia', 'participacion', 'participant', 'participantion', 'participants', 'participate', 'participated', 'participates', 'participating', 'participation', 'participative', 'participatory', 'particle', 'particles', 'particpate', 'particuarly', 'particuiariy', 'particular', 'particularily', 'particularly', 'particulars', 'particulary', 'partielle', 'parties', 'partiler', 'parting', 'partir', 'partisan', 'partiye', 'partly', 'partner', 'partnered', 'partnering', 'partners', 'partnership', 'partnerships', 'parts', 'partsong', 'party', 'partypoker', 'paru', 'parvenu', 'parviz', 'pas', 'pasadena', 'pascal', 'pascarella', 'pasentertainment', 'paso', 'pass', 'passage', 'passe', 'passed', 'passen', 'passenger', 'passengers', 'passes', 'passible', 'passing', 'passingbell', 'passion', 'passive', 'passover', 'passport', 'passports', 'passu', 'password', 'passwords', 'past', 'pasta', 'paste', 'pasted', 'pasting', 'pastoral', 'pastoria', 'pastry', 'pasuje', 'pat', 'patalganga', 'patata', 'patch', 'patched', 'patches', 'patchs', 'patchwork', 'patel', 'patent', 'patented', 'patents', 'paterae', 'path', 'pathcan', 'pathetic', 'pathologist', 'pathology', 'paths', 'pathstar', 'pathutil', 'pathway', 'patick', 'patiena', 'patience', 'patient', 'patiently', 'patil', 'patina', 'patio', 'patolia', 'paton', 'patric', 'patricia', 'patrick', 'patricks', 'patriot', 'patriotic', 'patrol', 'patron', 'patrycia', 'patrycja', 'patsargent', 'patterm', 'pattern', 'patterns', 'patterson', 'patteson', 'pattesons', 'patti', 'patton', 'patty', 'paul', 'paula', 'paulbennert', 'paulette', 'paulo', 'paulukiewicz', 'paunikar', 'pause', 'paused', 'pavan', 'pave', 'paved', 'pavel', 'paver', 'pavetto', 'pavilion', 'paving', 'pavlou', 'paw', 'pawar', 'pawel', 'pax', 'paxil', 'pay', 'payable', 'payables', 'payback', 'paycheck', 'payday', 'paydesk', 'paydown', 'payee', 'payer', 'payers', 'paying', 'payloads', 'payment', 'payments', 'paymentshome', 'paymet', 'payne', 'payoff', 'payoffs', 'payout', 'payouts', 'paypal', 'payroll', 'pays', 'paysites', 'paysse', 'paystub', 'payton', 'pazdzierniku', 'pazirik', 'pb', 'pbk', 'pbr', 'pbristow', 'pbxd', 'pbxs', 'pc', 'pca', 'pcb', 'pcbxao', 'pcl', 'pclient', 'pcmdi', 'pconcessi', 'pcorder', 'pcp', 'pcqxao', 'pcr', 'pcs', 'pcx', 'pd', 'pda', 'pdalecka', 'pde', 'pdes', 'pdf', 'pdfs', 'pdi', 'pdjd', 'pdo', 'pdp', 'pdq', 'pdt', 'pdx', 'pe', 'pea', 'peace', 'peaceloving', 'peacemaking', 'peach', 'peachtree', 'peak', 'peaker', 'peakerdata', 'peakers', 'peakersl', 'peakimpact', 'peaking', 'peaks', 'pearce', 'pearl', 'pearlbarley', 'pearlman', 'peas', 'peatmoss', 'pec', 'peccia', 'pech', 'pechersky', 'pechman', 'pecksniff', 'peco', 'pecorp', 'pecos', 'pedagogic', 'pedestrians', 'pediatrics', 'pedicure', 'pedigree', 'pedro', 'pedroza', 'peebles', 'peel', 'peep', 'peer', 'peers', 'peeved', 'pefect', 'peg', 'pegged', 'peggott', 'peggy', 'pehlivanova', 'peikert', 'peirre', 'peking', 'pelagian', 'pelerine', 'pelvics', 'pemex', 'pen', 'pena', 'penagos', 'penalized', 'penalties', 'penalty', 'pencil', 'penciled', 'pencilled', 'pendant', 'pending', 'penetrate', 'penetrating', 'penetration', 'penetrations', 'peng', 'penile', 'penis', 'peniss', 'penitence', 'penkava', 'penman', 'penn', 'penner', 'penney', 'pennies', 'pennington', 'pennsylvania', 'pennwell', 'penny', 'pennysto', 'pennystock', 'penron', 'pension', 'pensions', 'pent', 'penthouse', 'pentium', 'pentiumc', 'penultimate', 'peo', 'peole', 'peopie', 'peopl', 'people', 'peoplefinder', 'peoples', 'peoplewho', 'peoplewill', 'peopleyou', 'pep', 'pepco', 'peple', 'pepperdine', 'pepperoni', 'pepsi', 'peptydy', 'per', 'perales', 'perceive', 'perceived', 'perceives', 'percell', 'percent', 'percentage', 'percentages', 'percentile', 'percentiles', 'perception', 'percy', 'pereira', 'pereiraru', 'perez', 'perf', 'perfect', 'perfected', 'perfection', 'perfectly', 'perfectmeeting', 'perfidious', 'perfmgmt', 'perfomance', 'perfonnance', 'perform', 'performance', 'performed', 'performer', 'performing', 'performs', 'perhaps', 'perils', 'period', 'periodic', 'periodical', 'periodically', 'periodicity', 'periods', 'peripheral', 'peripherals', 'peripherical', 'perish', 'perishability', 'perished', 'perjuicios', 'perkins', 'perks', 'perl', 'perleman', 'perlman', 'perlmutter', 'perm', 'permafrost', 'permamently', 'permanent', 'permanently', 'permeability', 'permision', 'permission', 'permissions', 'permit', 'permits', 'permitted', 'permitting', 'pernoud', 'perpective', 'perpetrates', 'perpetual', 'perpetuate', 'perpetuation', 'perpetural', 'perplexed', 'perplexities', 'perpsective', 'perry', 'perryhomes', 'perryton', 'persentation', 'perseverance', 'persevere', 'persia', 'persian', 'persistance', 'persistence', 'persistent', 'person', 'persona', 'personable', 'personably', 'personages', 'personaiized', 'personal', 'personalised', 'personalities', 'personality', 'personalization', 'personalize', 'personalized', 'personally', 'personalnym', 'personals', 'personel', 'personell', 'personne', 'personnel', 'persons', 'perspective', 'perspectives', 'perspicuous', 'persuade', 'persuaded', 'persuading', 'persuasion', 'persuasions', 'persuasiveness', 'persue', 'pert', 'pertain', 'pertained', 'pertaining', 'pertains', 'pertinent', 'perturbations', 'perusal', 'peruse', 'peruvian', 'pervasive', 'pes', 'pesc', 'peschel', 'pesco', 'pessimetic', 'pessimistic', 'pestilent', 'pet', 'petchem', 'pete', 'peter', 'peters', 'petersburg', 'petersen', 'peterson', 'pethealth', 'petite', 'petition', 'petitioners', 'petrie', 'petrocehmical', 'petrochem', 'petrochemica', 'petrochemical', 'petrochemicals', 'petrocosm', 'petroleos', 'petroleum', 'petroluem', 'petronas', 'petronet', 'petronos', 'pets', 'pettersen', 'petteway', 'pettitoes', 'petty', 'petwarmer', 'petzel', 'pewien', 'pewne', 'pewnie', 'pewno', 'pewnym', 'peyron', 'peyton', 'pezentacja', 'pf', 'pfizer', 'pfr', 'pg', 'pgc', 'pgdata', 'pge', 'pgen', 'pgeof', 'pghosh', 'pgn', 'pgp', 'pgpfreeware', 'pgpu', 'pgs', 'ph', 'pha', 'phaedra', 'phaeton', 'phalen', 'pham', 'phan', 'phanis', 'phanish', 'phantasmagoria', 'phantom', 'phar', 'phare', 'pharm', 'pharma', 'pharmace', 'pharmaceu', 'pharmaceuti', 'pharmaceutic', 'pharmaceutica', 'pharmaceuticai', 'pharmaceutical', 'pharmaceuticals', 'pharmacies', 'pharmacist', 'pharmacists', 'pharmacology', 'pharmacy', 'pharmaz', 'pharmazm', 'pharmo', 'pharmon', 'pharmonli', 'pharmonlin', 'pharmonline', 'pharms', 'pharmsh', 'pharmsho', 'pharmshop', 'pharmz', 'pharmzmail', 'pharr', 'phase', 'phased', 'phases', 'phasing', 'phayes', 'phb', 'phd', 'pheasant', 'phelan', 'phelim', 'phenomena', 'phenomenal', 'phenomenology', 'phenomenon', 'phentermine', 'phentrimine', 'pheromone', 'pheromones', 'phi', 'phickey', 'phil', 'phila', 'philadelphia', 'philantropist', 'philbin', 'philbins', 'philip', 'philipp', 'philippe', 'philippov', 'philipps', 'philips', 'phillies', 'phillip', 'phillipe', 'phillippines', 'phillippov', 'phillips', 'philly', 'philosophical', 'philosophize', 'philosophy', 'philtre', 'phily', 'phiri', 'phn', 'phne', 'pho', 'phochmut', 'phoenix', 'phone', 'phoned', 'phonehttp', 'phonemail', 'phones', 'phonetic', 'phonologic', 'phosgene', 'photo', 'photocopying', 'photograph', 'photographer', 'photographers', 'photographic', 'photography', 'photos', 'photoshop', 'php', 'phrase', 'phrases', 'phrasing', 'phreehost', 'phsiang', 'phthisic', 'phyllis', 'phys', 'physica', 'physical', 'physically', 'physicals', 'physician', 'physicians', 'physiciansblend', 'physicist', 'physicists', 'physics', 'physicschair', 'physiology', 'pi', 'piaced', 'piaces', 'pianist', 'pians', 'piatek', 'piatkowy', 'piays', 'piazze', 'piazzet', 'pic', 'picazo', 'piccadilly', 'pick', 'picked', 'pickel', 'pickering', 'picket', 'picking', 'pickle', 'pickling', 'picks', 'pickup', 'picl', 'picnicker', 'pico', 'pics', 'picture', 'picturebook', 'picturepost', 'pictures', 'picturesque', 'pid', 'pie', 'piease', 'pieased', 'piece', 'piecemeal', 'pieces', 'piedmont', 'piekielniak', 'piekne', 'pieniadze', 'pieniedzy', 'pierage', 'pierce', 'piercy', 'piero', 'pierre', 'piersze', 'pierwsze', 'pierwszy', 'piesniewska', 'pifer', 'piggyback', 'pigsty', 'piils', 'pil', 'pilar', 'piled', 'piles', 'pilgrem', 'pilipovic', 'pill', 'pillambien', 'pillativan', 'pillcialis', 'pilllevitra', 'pillory', 'pills', 'pillsoma', 'pillultram', 'pillvalium', 'pillxanax', 'pilot', 'pilots', 'pimbley', 'pimples', 'pin', 'pinch', 'pine', 'pines', 'pinhole', 'pink', 'pinklicious', 'pinksheets', 'pinnacie', 'pinnacle', 'pinnaclegli', 'pinnamaneni', 'pinnnamaneni', 'pino', 'pinos', 'pinpoint', 'pinpointed', 'pinpointing', 'pinsky', 'pinto', 'pioneer', 'pioneered', 'pioneering', 'pioneers', 'piorecki', 'piotr', 'pipe', 'pipeclay', 'piped', 'pipeline', 'pipelines', 'piper', 'pipes', 'piping', 'pira', 'piracy', 'piramidalnej', 'pirate', 'pirella', 'pirogue', 'pirrong', 'pisac', 'pisces', 'piscivorous', 'piso', 'pistil', 'pisze', 'piszemy', 'pitboss', 'pitch', 'pitched', 'pitching', 'pitfall', 'pitfalls', 'pithy', 'pitied', 'pitiful', 'pitiless', 'pitman', 'pitney', 'pits', 'pitt', 'pittenger', 'pittman', 'pittsburg', 'pittsburgh', 'pity', 'piume', 'pivot', 'pixel', 'pixels', 'pizza', 'pj', 'pjm', 'pjmcur', 'pjml', 'pjorion', 'pjwll', 'pk', 'pkftexas', 'pkgs', 'pkl', 'pknkn', 'pknopick', 'pko', 'pkrishan', 'pkrishn', 'pks', 'pkwy', 'pl', 'placatory', 'place', 'placeable', 'placed', 'placemat', 'placemats', 'placement', 'places', 'placeware', 'placing', 'placket', 'plackett', 'plagiary', 'plague', 'plagued', 'plaguing', 'plain', 'plainclothesman', 'plainness', 'plan', 'planar', 'planck', 'plane', 'planes', 'planet', 'planetstruck', 'planned', 'planner', 'planners', 'planning', 'plano', 'planoconvex', 'planow', 'plans', 'plant', 'plantain', 'plantar', 'plante', 'planted', 'plants', 'plantz', 'planujemy', 'plany', 'plaque', 'plastic', 'plastics', 'plata', 'plate', 'plateau', 'plated', 'platen', 'plates', 'platform', 'platforms', 'platinum', 'platinumadnetworks', 'platnosc', 'platnosci', 'platt', 'platts', 'plausible', 'play', 'playa', 'playback', 'played', 'player', 'players', 'playful', 'playground', 'playing', 'plays', 'playstation', 'plaza', 'plazajm', 'plc', 'pleading', 'pleas', 'pleasant', 'please', 'pleased', 'pleasefollow', 'pleaserefer', 'pleases', 'pleaseunderstand', 'pleasing', 'pleasure', 'pleasures', 'pledelo', 'pledge', 'pledged', 'pledgee', 'pledges', 'pledget', 'pledging', 'pleinlaan', 'plenary', 'plenipotentiary', 'plentiful', 'plenty', 'plenum', 'plese', 'pleus', 'plex', 'plextor', 'plf', 'plg', 'pliant', 'plight', 'pll', 'pllu', 'plng', 'ploitis', 'plot', 'plotnick', 'plots', 'plotted', 'plowing', 'plp', 'plr', 'plrk', 'pls', 'plse', 'plsrsvp', 'plucky', 'plug', 'plugged', 'plugging', 'plugs', 'plumbing', 'plume', 'plummet', 'plumose', 'plumtree', 'plunged', 'plunkett', 'plunkettresearch', 'plural', 'plus', 'plusieurs', 'plusy', 'plutocracy', 'plutoristal', 'pluviometer', 'plymouth', 'plywood', 'plz', 'pm', 'pmarb', 'pmb', 'pmccrory', 'pmguid', 'pmnzll', 'pmo', 'pmoney', 'pnance', 'pneumonia', 'pnl', 'pnt', 'pntv', 'pnw', 'po', 'poaching', 'pobox', 'pobrania', 'pochta', 'pociag', 'pocket', 'pocketed', 'pockets', 'pocketwarmers', 'poconos', 'pocus', 'pocz', 'poczatkowo', 'poczatku', 'poczta', 'pocztowe', 'pod', 'podac', 'podagra', 'podczas', 'poddac', 'podeslana', 'podjac', 'podmiotu', 'podobalo', 'podrozy', 'podstawa', 'podstawy', 'podsumowanie', 'podszkolic', 'podzial', 'poet', 'poetic', 'poetry', 'poglady', 'pogxkuayeyl', 'poindexter', 'poinformowac', 'point', 'pointed', 'pointer', 'pointers', 'pointing', 'pointless', 'points', 'poised', 'poison', 'poisoning', 'pojawil', 'pojutrze', 'pokalsky', 'poker', 'pokhlebkin', 'poklocic', 'pokoju', 'pol', 'polach', 'polaczenia', 'poland', 'polariton', 'polaroid', 'polder', 'pole', 'polemic', 'poleward', 'polia', 'polias', 'police', 'policies', 'policy', 'policyholders', 'policymakers', 'policymaking', 'polish', 'polished', 'polite', 'politely', 'politeness', 'political', 'politically', 'politician', 'politicians', 'politicising', 'politics', 'polityczne', 'politycznie', 'polk', 'poll', 'pollard', 'polled', 'pollination', 'polling', 'polls', 'pollutants', 'pollution', 'polonia', 'polsce', 'polska', 'polske', 'polski', 'polskiego', 'polsku', 'polycom', 'polymerase', 'polypropylene', 'polytechnic', 'polytechnique', 'polyurea', 'polyureas', 'polyurethane', 'polyvinyl', 'pomieszal', 'pomoc', 'pomocy', 'pomogl', 'pomoglo', 'pomylilam', 'pomysl', 'pomyslal', 'pomyslalam', 'pomyslnie', 'pond', 'ponddr', 'ponder', 'ponderosity', 'ponds', 'pone', 'poniewa', 'poniewaz', 'pontiff', 'pontific', 'pontois', 'ponuro', 'pony', 'poohbah', 'pool', 'poole', 'pooling', 'pools', 'poor', 'poorer', 'poorly', 'pop', 'popcorn', 'pope', 'popelnilismy', 'popkin', 'poplar', 'popracowac', 'poprosic', 'poprzez', 'pops', 'popt', 'popu', 'popular', 'popularity', 'populate', 'populated', 'populates', 'population', 'populations', 'populist', 'populous', 'popup', 'por', 'porche', 'porfolio', 'porn', 'porno', 'pornostars', 'pornstar', 'pornstars', 'pornstarsplus', 'porous', 'porque', 'port', 'porta', 'portability', 'portable', 'portal', 'portals', 'portcalc', 'porte', 'ported', 'porter', 'portfo', 'portfoiio', 'portfoilo', 'portfolio', 'portfolios', 'porting', 'portion', 'portions', 'portland', 'portray', 'ports', 'portugal', 'portugalmail', 'portugese', 'pory', 'posadas', 'pose', 'posed', 'poses', 'poseur', 'posey', 'positi', 'position', 'positional', 'positioned', 'positioning', 'positions', 'positive', 'positiveiy', 'positively', 'positives', 'positivism', 'positon', 'positron', 'positve', 'posn', 'posrednio', 'possesion', 'possess', 'possesses', 'possession', 'possessions', 'possibie', 'possibilites', 'possibilities', 'possibility', 'possible', 'possiblility', 'possiblity', 'possibly', 'possui', 'post', 'postac', 'postage', 'postal', 'postaram', 'postaramy', 'postcard', 'postcards', 'postdoc', 'postdocs', 'postdoctoral', 'posted', 'poster', 'posters', 'posterv', 'postfix', 'postgrad', 'postillion', 'posting', 'postings', 'postion', 'postions', 'postive', 'postlewaite', 'postman', 'postmarked', 'postmaster', 'postoffice', 'postone', 'postpetition', 'postpone', 'postponed', 'postscript', 'posture', 'posturing', 'poswiecenie', 'poswiecony', 'poszlismy', 'pot', 'potato', 'potatoes', 'poten', 'potencjalnego', 'potency', 'potent', 'potentail', 'potentia', 'potentiaily', 'potential', 'potentialcustomers', 'potentialiy', 'potentially', 'potentials', 'potetially', 'pother', 'pothole', 'pothouse', 'potnetial', 'potomac', 'potrzebowac', 'potrzebowal', 'potted', 'potter', 'potters', 'potwierdzam', 'potwierdzenie', 'potwirerdzenia', 'poullain', 'poulo', 'pound', 'poundings', 'pounds', 'pour', 'poured', 'pourra', 'pourrais', 'poverty', 'pow', 'powa', 'powazaniem', 'powell', 'power', 'powerbrokersllc', 'powercalib', 'powerdat', 'powerdirect', 'powered', 'powerfui', 'powerful', 'powerfultools', 'powergen', 'powerhouse', 'powerhouseonly', 'powering', 'powerisk', 'poweriska', 'powerman', 'powermanl', 'powermen', 'powermod', 'powerpoint', 'powerpoints', 'powers', 'powerseller', 'powersellers', 'powertechlabs', 'powerup', 'powerworld', 'powiedziec', 'powienien', 'powinienem', 'powinny', 'powodu', 'powolac', 'powraca', 'powrotnej', 'powwow', 'poyntz', 'pozdowienia', 'pozdrawiam', 'pozdrowienia', 'poziomie', 'pozniej', 'pozno', 'pozostalo', 'pozytecznych', 'pp', 'ppa', 'ppas', 'ppco', 'ppers', 'ppi', 'ppin', 'ppl', 'pplng', 'ppmg', 'ppo', 'ppp', 'pppoe', 'pppwd', 'pppwdl', 'pppwe', 'pppwel', 'pps', 'ppt', 'ppu', 'ppv', 'pqe', 'pqqca', 'pr', 'prabhu', 'prac', 'praca', 'pracami', 'prace', 'pracowala', 'practicable', 'practical', 'practicalities', 'practicality', 'practically', 'practice', 'practices', 'practicing', 'practicioners', 'practicums', 'practise', 'practitioner', 'practitioners', 'pracuj', 'pracuje', 'pracujemy', 'pracujesz', 'pracy', 'pradesh', 'pradhan', 'pradyumna', 'praful', 'prager', 'pragmatic', 'prahalad', 'prairie', 'praise', 'praised', 'praises', 'praktycznie', 'praline', 'prandle', 'prank', 'prasad', 'prashant', 'pratt', 'pravas', 'praveen', 'prawami', 'prawdopodobnie', 'pray', 'prayer', 'prayers', 'praying', 'prazer', 'prc', 'prcs', 'pre', 'prealablement', 'prearranged', 'precalculus', 'precarious', 'precautionary', 'precautions', 'preceded', 'precedence', 'precedent', 'precedents', 'preceding', 'precedure', 'preceed', 'preceeded', 'precinct', 'precio', 'precious', 'precip', 'precipitate', 'precipitated', 'precipitation', 'precipitous', 'precisa', 'precise', 'precisely', 'precision', 'preclude', 'precludes', 'preconception', 'precut', 'predatory', 'predecessor', 'predecessors', 'predefined', 'predetermined', 'predicament', 'predicated', 'predict', 'predictably', 'predicted', 'predictibility', 'predicting', 'predictio', 'prediction', 'predictions', 'predictive', 'predicts', 'predominantly', 'preempt', 'pref', 'prefabricated', 'preface', 'prefaced', 'prefectly', 'prefecture', 'prefer', 'preferable', 'preferably', 'preferance', 'prefered', 'preference', 'preferences', 'preferencing', 'preferential', 'preferred', 'preferring', 'prefers', 'prefix', 'preform', 'preformatted', 'pregnant', 'prejudices', 'prelimainary', 'prelimary', 'prelimiary', 'preliminary', 'prelimnary', 'preloaded', 'prelude', 'prem', 'premature', 'prematurely', 'premia', 'premier', 'premiere', 'premise', 'premises', 'premium', 'premiuml', 'premiums', 'prendre', 'preneur', 'preos', 'prepaid', 'preparation', 'preparations', 'prepare', 'prepared', 'prepares', 'preparing', 'prepayment', 'preplan', 'preprint', 'preprints', 'preprocessing', 'preranking', 'prerecorded', 'prereg', 'prerequisite', 'prerequisites', 'prereview', 'prerogative', 'pres', 'presas', 'presbyterian', 'preschool', 'prescribe', 'prescribed', 'prescribes', 'prescrip', 'prescripiton', 'prescription', 'prescriptions', 'presenation', 'presence', 'presense', 'present', 'presentabie', 'presentable', 'presentation', 'presentations', 'presentationthe', 'presentaton', 'presente', 'presented', 'presenter', 'presenters', 'presenting', 'presentiy', 'presently', 'presents', 'preservation', 'preserve', 'president', 'presidential', 'presidents', 'presonally', 'press', 'pressed', 'pressing', 'pressrelease', 'pressure', 'pressured', 'pressures', 'pressurising', 'preste', 'prestigious', 'presto', 'presumably', 'presume', 'presumeably', 'presumed', 'presuming', 'pretend', 'pretending', 'preternatural', 'pretext', 'pretty', 'preussenelektra', 'prev', 'prevail', 'prevailed', 'prevailing', 'prevails', 'prevat', 'prevatt', 'prevencion', 'prevent', 'preventative', 'prevented', 'preventing', 'prevention', 'preventive', 'prevents', 'preview', 'previewed', 'previewing', 'previews', 'previlege', 'previleged', 'previou', 'previous', 'previousiy', 'previously', 'prew', 'prey', 'prezentacja', 'prezentacje', 'prezydent', 'prezydenta', 'pri', 'price', 'priced', 'priceless', 'priceline', 'pricelist', 'pricemaker', 'prices', 'priceshift', 'priceshiftl', 'pricest', 'pricevsoutage', 'pricing', 'prickelt', 'prickett', 'pricking', 'prico', 'pride', 'prides', 'prihoda', 'prima', 'primaeval', 'primal', 'primaria', 'primarily', 'primary', 'prime', 'primer', 'primers', 'primes', 'primetime', 'primezone', 'primitive', 'prince', 'princess', 'princeton', 'princing', 'principal', 'principally', 'principals', 'principie', 'principle', 'principles', 'print', 'printable', 'printed', 'printer', 'printers', 'printformat', 'printing', 'printmacro', 'printout', 'prints', 'prinzipiell', 'prioirty', 'prion', 'prionics', 'prior', 'priorities', 'prioritise', 'prioritising', 'prioritization', 'prioritize', 'prioritizing', 'priority', 'prirodu', 'prison', 'prisoner', 'prithviraj', 'privacy', 'private', 'privateering', 'privatefirm', 'privately', 'privatisation', 'privatise', 'privatising', 'privatization', 'privatize', 'privfirm', 'privilege', 'privileged', 'privileges', 'privilegiada', 'privvy', 'privy', 'priya', 'prize', 'prizemama', 'prizes', 'prizewinning', 'prl', 'prlc', 'prlce', 'prlces', 'prnewswire', 'pro', 'proactive', 'proactively', 'proan', 'prob', 'probabilistic', 'probabilites', 'probabilities', 'probability', 'probable', 'probablistic', 'probably', 'probate', 'probation', 'probationary', 'probblem', 'probe', 'probed', 'probeer', 'probers', 'probiems', 'probing', 'probity', 'problams', 'problem', 'problemem', 'problems', 'probler', 'problmes', 'probs', 'probuje', 'procedural', 'procedure', 'procedures', 'proceed', 'proceeding', 'proceedings', 'proceeds', 'procees', 'proces', 'process', 'processagain', 'processed', 'processes', 'processing', 'processinq', 'processor', 'processors', 'procmail', 'procrastination', 'proctection', 'procter', 'procure', 'procured', 'procurement', 'prod', 'prodigious', 'prodigy', 'prods', 'produce', 'produced', 'producer', 'producers', 'produces', 'producing', 'product', 'production', 'productions', 'productive', 'productively', 'productivity', 'products', 'produtos', 'produts', 'prof', 'profanation', 'profconference', 'profess', 'professed', 'profession', 'professiona', 'professionai', 'professionais', 'professional', 'professionalism', 'professionally', 'professionals', 'professions', 'professor', 'professores', 'professorial', 'professorjones', 'professors', 'proffesor', 'proficiency', 'profide', 'profiders', 'profiie', 'profiied', 'profile', 'profiled', 'profiles', 'profiling', 'profir', 'profissionais', 'profissional', 'profit', 'profitabie', 'profitability', 'profitable', 'profitably', 'profitbanners', 'profited', 'profiteering', 'profiting', 'profitless', 'profits', 'profound', 'profs', 'profts', 'profundity', 'prog', 'progamming', 'progenitor', 'prognostics', 'program', 'programie', 'programing', 'programm', 'programmable', 'programme', 'programmed', 'programmer', 'programmers', 'programmes', 'programming', 'programs', 'programu', 'progress', 'progressed', 'progresses', 'progressing', 'progressive', 'prohibida', 'prohibited', 'prohibiting', 'prohibition', 'prohibitions', 'prohibitive', 'prohibits', 'proj', 'projecct', 'project', 'projected', 'projecthoneypot', 'projecting', 'projection', 'projections', 'projector', 'projectors', 'projects', 'projekt', 'projektach', 'projektu', 'projmgt', 'projtrak', 'proliferation', 'prolocutor', 'prolong', 'prolonged', 'promigas', 'prominent', 'promiscuous', 'promise', 'promised', 'promises', 'promiseyou', 'promising', 'promisses', 'promo', 'promoo', 'promote', 'promoted', 'promoters', 'promotes', 'promoting', 'promotion', 'promotional', 'promotions', 'promotoins', 'prompt', 'prompted', 'prompting', 'promptly', 'promptness', 'pronghorn', 'pronounced', 'proof', 'proofs', 'prop', 'propaganda', 'propagation', 'propagowac', 'propane', 'propecia', 'proper', 'properly', 'properties', 'property', 'propertys', 'prophetic', 'propogate', 'propoint', 'proponuje', 'proportion', 'proportional', 'proportionality', 'proportionately', 'proportions', 'proposal', 'proposals', 'propose', 'proposed', 'proposer', 'proposes', 'proposing', 'proposition', 'proprietary', 'proprietor', 'propriety', 'propulsion', 'propylene', 'prorate', 'prorated', 'prorities', 'pros', 'prosba', 'prosecuted', 'prosecution', 'prosecutor', 'prosi', 'prosilbym', 'prospect', 'prospecting', 'prospective', 'prospectively', 'prospector', 'prospects', 'prospectus', 'prosper', 'prospered', 'prosperity', 'prosperous', 'prospex', 'prosrm', 'prostaff', 'prostate', 'prostration', 'prosym', 'prosz', 'prosze', 'protecion', 'protect', 'protected', 'protecting', 'protection', 'protections', 'protective', 'protector', 'protectorsm', 'protects', 'proteja', 'protest', 'protested', 'protesters', 'protesting', 'protests', 'protgs', 'protocol', 'protocols', 'protoplasmic', 'prototype', 'prototypes', 'proud', 'prouder', 'proudest', 'proudly', 'prouve', 'prov', 'prove', 'proved', 'proven', 'provencaux', 'provendiscovery', 'proverb', 'proves', 'provide', 'provided', 'provider', 'providers', 'provides', 'providing', 'providors', 'province', 'provincial', 'provincialize', 'proving', 'provision', 'provisional', 'provisionally', 'provisioning', 'provisions', 'provo', 'provoking', 'provost', 'prowess', 'prowl', 'proximity', 'proxy', 'proyecto', 'prozac', 'prs', 'prspctl', 'prt', 'prudence', 'prudency', 'prudent', 'pruett', 'prupose', 'prusuing', 'pruyt', 'prvenir', 'prvu', 'pryor', 'przeczytac', 'przeczytanie', 'przed', 'przede', 'przedsiebiorstwa', 'przedsiobiorstwie', 'przedstawiciela', 'przedyskutowac', 'przegladnij', 'przelewu', 'przenioslem', 'przepraszam', 'przeprowadzam', 'przeprowadzic', 'przes', 'przeslac', 'przeslal', 'przeslanie', 'przesle', 'przesy', 'przesylam', 'przesylce', 'przewidywania', 'przez', 'przy', 'przygotowujemy', 'przygotowywalismy', 'przyjechac', 'przyjemnoscia', 'przyjezdzal', 'przyjmujemy', 'przypadku', 'przypomina', 'przypominalem', 'przypomnie', 'przyslac', 'przyspieszy', 'przyszlych', 'przyszlym', 'przywodztwa', 'przyznal', 'ps', 'pse', 'pseg', 'pserc', 'pseudo', 'psf', 'psim', 'psl', 'psm', 'pson', 'psr', 'psri', 'pss', 'pst', 'pstemarie', 'psu', 'psuedo', 'psychics', 'psychological', 'psychology', 'pt', 'pta', 'ptc', 'pti', 'ptn', 'ptonline', 'ptry', 'pts', 'ptt', 'ptufano', 'ptwend', 'pty', 'pual', 'pub', 'pubiic', 'pubiication', 'pubiicly', 'pubiisher', 'pubiishing', 'public', 'publication', 'publications', 'publicity', 'publiciy', 'publicizing', 'publicly', 'publicservicel', 'publish', 'publishable', 'publishd', 'published', 'publisher', 'publishers', 'publishes', 'publishing', 'publishinq', 'publishment', 'publocatio', 'puc', 'puct', 'pud', 'puded', 'pudenda', 'pueden', 'puerile', 'puerto', 'puf', 'puffin', 'pugachesky', 'pugachevsky', 'pugnacity', 'puhca', 'pull', 'pullback', 'pulled', 'pulling', 'pulls', 'pulp', 'pulpit', 'pulse', 'pump', 'pumped', 'pumps', 'punch', 'punches', 'punctual', 'pune', 'punit', 'punitive', 'punjab', 'punkty', 'punt', 'puplic', 'puppy', 'puranam', 'purcell', 'purchace', 'purchasable', 'purchase', 'purchased', 'purchaser', 'purchasers', 'purchases', 'purchasing', 'purchasingpower', 'purdue', 'pure', 'purely', 'purgatorial', 'purgatory', 'purge', 'purged', 'purhases', 'puri', 'purification', 'puritanical', 'purivax', 'purkiss', 'purpa', 'purport', 'purported', 'purports', 'purpose', 'purposefully', 'purposes', 'purree', 'purseproud', 'pursuant', 'pursue', 'pursued', 'pursues', 'pursuing', 'pursuit', 'purswell', 'purty', 'purview', 'push', 'pushed', 'pushiest', 'pushing', 'pushkar', 'pussies', 'pussy', 'put', 'puthigai', 'putin', 'putman', 'putnam', 'putpeel', 'puts', 'putting', 'puttting', 'puzzled', 'pv', 'pvc', 'pvrefi', 'pvt', 'pwcglobal', 'pwj', 'pwold', 'pwpens', 'pwr', 'pwxx', 'px', 'pyaemia', 'pyke', 'pyramid', 'pytania', 'pzadoro', 'pzdrawiam', 'pzlqs', 'q', 'qa', 'qaa', 'qaao', 'qaxvogcpu', 'qbdy', 'qbs', 'qc', 'qcf', 'qcfvc', 'qchenl', 'qdwlougj', 'qeeb', 'qerman', 'qestions', 'qf', 'qfs', 'qggo', 'qhlkd', 'qian', 'qing', 'qjb', 'qkerr', 'qkppfiui', 'ql', 'qlist', 'qljiyisjdvambww', 'qllo', 'qm', 'qmail', 'qml', 'qmqp', 'qmtp', 'qo', 'qoil', 'qol', 'qood', 'qos', 'qot', 'qp', 'qprkelmv', 'qqqzj', 'qri', 'qrklx', 'qrwzyyvp', 'qs', 'qse', 'qsri', 'qty', 'qu', 'qua', 'quackenbush', 'quadra', 'quadragesimal', 'quadrat', 'quadrature', 'quadrigae', 'quadro', 'quadros', 'quadrupie', 'quadruple', 'quadrupled', 'quaere', 'quagmire', 'quaiit', 'quaiity', 'quaint', 'quaintance', 'qual', 'qualcomm', 'qualification', 'qualifications', 'qualified', 'qualifiers', 'qualifies', 'qualify', 'qualifying', 'qualitative', 'qualitatively', 'qualitec', 'qualities', 'quality', 'qualquer', 'quandary', 'quant', 'quanta', 'quantal', 'quantative', 'quantifiable', 'quantification', 'quantified', 'quantify', 'quantifying', 'quantile', 'quantin', 'quantinleap', 'quantitate', 'quantitative', 'quantities', 'quantitive', 'quantity', 'quantlab', 'quantos', 'quants', 'quantum', 'quaranteed', 'quarries', 'quarter', 'quarterly', 'quarters', 'quartz', 'quasi', 'quasiperiodic', 'quater', 'quayle', 'quazi', 'quazihossain', 'quddus', 'que', 'quebec', 'quebre', 'queen', 'queensl', 'queensland', 'queensley', 'queijos', 'quelqu', 'quentals', 'quentin', 'queried', 'queries', 'query', 'quesions', 'quesitons', 'quesnel', 'quest', 'question', 'questionable', 'questionaire', 'questionaires', 'questioned', 'questioning', 'questionnaire', 'questionnaires', 'questions', 'questoil', 'queue', 'queueing', 'qui', 'quian', 'quibble', 'quick', 'quickbooks', 'quicken', 'quicker', 'quickest', 'quickly', 'quickmail', 'quicksilver', 'quickstats', 'quicktrade', 'quien', 'quieras', 'quiet', 'quietly', 'quiicker', 'quilkey', 'quilky', 'quill', 'quinn', 'quintana', 'quintessential', 'quirk', 'quirke', 'quirsfeld', 'quit', 'quite', 'quits', 'quitting', 'quo', 'quota', 'quotable', 'quotation', 'quote', 'quoted', 'quotes', 'quoting', 'qvfq', 'qwest', 'qwip', 'qxi', 'qyfvkpfqgknf', 'qyfvkpfqgknfyou', 'qz', 'r', 'ra', 'raa', 'raal', 'raao', 'rab', 'rabi', 'rabinovich', 'rabon', 'rac', 'race', 'raced', 'racer', 'rachel', 'rachunkowoscia', 'rachunku', 'racial', 'racicot', 'racist', 'rack', 'racl', 'racs', 'rad', 'radar', 'radiant', 'radical', 'radically', 'radicals', 'radio', 'radiolocator', 'radioshack', 'radisson', 'radmacher', 'radon', 'radoscia', 'radous', 'radu', 'rae', 'raevsky', 'rafael', 'rafal', 'rafalem', 'raffi', 'raffle', 'rafn', 'rag', 'rage', 'ragged', 'raghallaigh', 'raghavan', 'raghu', 'raghunatha', 'raghuram', 'ragin', 'raging', 'rahil', 'rahim', 'rahl', 'rahrah', 'rahul', 'raid', 'raider', 'rail', 'railroad', 'railways', 'rain', 'rainbow', 'rainer', 'rainey', 'rainfall', 'rains', 'rainstorms', 'rainy', 'raise', 'raised', 'raiser', 'raises', 'raising', 'raj', 'rajan', 'rajaram', 'rajasthan', 'rajat', 'rajendrapachauri', 'rajesh', 'rajgopal', 'rajib', 'rajnish', 'rajwani', 'rakesh', 'rakhi', 'rakish', 'ral', 'rallied', 'ralliedand', 'rally', 'rallying', 'ralph', 'ram', 'rama', 'ramadan', 'ramamurtie', 'raman', 'ramaswamy', 'ramble', 'ramchand', 'ramesh', 'ramifications', 'ramnath', 'ramon', 'ramona', 'ramos', 'ramp', 'rampant', 'rampini', 'ramsey', 'ramu', 'ran', 'ranabir', 'ranch', 'rancour', 'rand', 'randal', 'randall', 'randalls', 'randel', 'randle', 'randolph', 'random', 'randomly', 'randomness', 'randy', 'ranen', 'ranendra', 'rang', 'ranganathan', 'rangarajan', 'range', 'rangel', 'ranges', 'ranging', 'ranjan', 'ranjit', 'rank', 'ranked', 'ranker', 'rankin', 'ranking', 'rankings', 'ranks', 'rano', 'rao', 'rapacious', 'rape', 'rapid', 'rapidiy', 'rapidly', 'rapids', 'rapidsite', 'raptor', 'raptors', 'raquel', 'rare', 'rarely', 'raroc', 'ras', 'rascally', 'rash', 'rasheed', 'rasheidi', 'rashidi', 'raship', 'raships', 'rat', 'ratchet', 'ratchets', 'ratcliff', 'rate', 'rated', 'ratemaking', 'ratepayers', 'rates', 'rathcairn', 'rather', 'ratification', 'ratify', 'rating', 'ratings', 'ratio', 'ration', 'rational', 'rationale', 'rationales', 'rationalisation', 'rationality', 'rationalized', 'rationalizing', 'rationally', 'rationing', 'ratios', 'ratnagiri', 'rats', 'rattled', 'raul', 'rausser', 'ravages', 'ravanshad', 'rave', 'raved', 'ravenswaay', 'ravenswood', 'ravi', 'ravindran', 'raving', 'ravishing', 'raw', 'rawal', 'rawat', 'rawhide', 'rawson', 'ray', 'rayban', 'raymoin', 'raymond', 'raymone', 'rayna', 'raz', 'razem', 'razie', 'razor', 'razorfish', 'rb', 'rbac', 'rbaker', 'rbi', 'rbl', 'rbs', 'rbzxgv', 'rc', 'rca', 'rcarmona', 'rcausey', 'rch', 'rchahal', 'rci', 'rclark', 'rcpt', 'rcs', 'rcsntx', 'rd', 'rder', 'rdh', 'rdi', 'rdl', 'rdp', 'rdvbfylolythsp', 'rdyerlaw', 'rea', 'reaccelerating', 'reach', 'reachability', 'reachable', 'reached', 'reaches', 'reaching', 'react', 'reacted', 'reaction', 'reactions', 'reactionsnet', 'reactivate', 'reactive', 'reactor', 'read', 'readable', 'readarticles', 'reader', 'readers', 'readied', 'readily', 'reading', 'readings', 'readingyour', 'readme', 'reads', 'readwrte', 'ready', 'reaffirm', 'reaffirmed', 'reagan', 'reaiity', 'reaiized', 'reaily', 'real', 'realaudio', 'realign', 'realigned', 'realignment', 'realisation', 'realise', 'realised', 'realising', 'realism', 'realist', 'realistic', 'realistically', 'realities', 'reality', 'realiy', 'realizacji', 'realizar', 'realization', 'realizations', 'realize', 'realized', 'realizes', 'realizing', 'reallocation', 'really', 'reallydurable', 'realm', 'realnetworks', 'realoemsales', 'realone', 'realoptions', 'realplayer', 'realrhapsody', 'realtime', 'realtionship', 'realtor', 'realty', 'realvideo', 'reap', 'reaped', 'reapproaching', 'reaproveitamento', 'reaps', 'rear', 'rearrange', 'rearranged', 'rearranges', 'reas', 'reasearch', 'reason', 'reasonable', 'reasonableness', 'reasonably', 'reasoned', 'reasoner', 'reasoning', 'reasons', 'reassess', 'reassessing', 'reassigned', 'reassure', 'reata', 'reattain', 'rebalancing', 'rebate', 'rebbecca', 'rebecca', 'rebekah', 'rebel', 'rebelled', 'rebelles', 'rebels', 'rebound', 'rebranded', 'rebuilders', 'rebuilding', 'rebuke', 'rebuttal', 'rec', 'recalculate', 'recall', 'recalled', 'recalls', 'recant', 'recap', 'recapture', 'recebendo', 'receber', 'recede', 'receding', 'receipt', 'receiptcurveshift', 'receipts', 'receivable', 'receivables', 'receive', 'received', 'receiveed', 'receiver', 'receivers', 'receives', 'receiving', 'recension', 'recent', 'recently', 'recenzj', 'recenzowany', 'recepcin', 'recepcionista', 'recepiton', 'reception', 'receptions', 'receptive', 'receskim', 'recession', 'recevez', 'recevied', 'recevoir', 'recharge', 'rechargeable', 'rechauffe', 'reciba', 'reciept', 'recieve', 'recieved', 'recieving', 'recipe', 'recipes', 'recipient', 'recipients', 'reciprocally', 'reciprocate', 'reciprocity', 'recive', 'reck', 'reckon', 'reckonings', 'reclass', 'reclassification', 'recode', 'recoding', 'recognise', 'recognised', 'recognition', 'recognize', 'recognized', 'recognizes', 'recognizing', 'recollect', 'recollection', 'recollections', 'recomendaton', 'recomendatons', 'recommend', 'recommendation', 'recommendations', 'recommended', 'recommender', 'recommenders', 'recommending', 'recommends', 'reconcile', 'reconcilement', 'reconciling', 'reconfigs', 'reconfiguing', 'reconfigured', 'reconfigures', 'reconfiguring', 'reconfirm', 'reconfirmation', 'reconnaissance', 'reconnect', 'reconoce', 'reconsider', 'reconsidered', 'reconsidering', 'reconstitute', 'reconstruct', 'reconstruction', 'reconvene', 'reconvened', 'record', 'recorded', 'recorder', 'recorders', 'recording', 'recordings', 'records', 'recordsets', 'recordson', 'recounted', 'recounts', 'recoup', 'recourse', 'recover', 'recoverable', 'recovered', 'recoveries', 'recovering', 'recovers', 'recovery', 'recreate', 'recreating', 'recruit', 'recruited', 'recruiter', 'recruiters', 'recruiting', 'recruitment', 'recruits', 'rect', 'rectangular', 'rectorial', 'recuitment', 'recurring', 'recursive', 'recycled', 'recycling', 'red', 'redaction', 'redaktorem', 'reddish', 'reddy', 'redeem', 'redeemable', 'redefined', 'redefining', 'redeploy', 'redeployment', 'redesign', 'redesigned', 'redhead', 'redhill', 'rediffmail', 'redirect', 'rediscovered', 'redispatching', 'redistributed', 'redistribution', 'redit', 'redlining', 'redman', 'redmond', 'redo', 'redoing', 'redone', 'redoubtable', 'redployment', 'redraft', 'reduce', 'reduced', 'reduces', 'reducing', 'reduction', 'reductions', 'redundance', 'redundancy', 'redundant', 'reece', 'reed', 'reedy', 'reel', 'reenergize', 'reese', 'reevaluate', 'reeves', 'ref', 'refcard', 'refer', 'referal', 'refered', 'referee', 'refereed', 'referees', 'reference', 'referenced', 'referenceif', 'references', 'referral', 'referrals', 'referred', 'referring', 'refers', 'refi', 'refianance', 'refid', 'refiled', 'refin', 'refina', 'refinance', 'refinanced', 'refinances', 'refinancing', 'refinancingoreduce', 'refine', 'refined', 'refinement', 'refinements', 'refineries', 'refiners', 'refinery', 'refining', 'refit', 'reflect', 'reflected', 'reflecting', 'reflection', 'reflections', 'reflective', 'reflects', 'reflnanced', 'refocus', 'reform', 'reforma', 'reformat', 'reformation', 'reformatted', 'reformed', 'reformer', 'reformers', 'reforming', 'reforms', 'reformulation', 'reforward', 'refrain', 'refresh', 'refreshed', 'refreshing', 'refreshments', 'refrigerators', 'refuge', 'refugee', 'refugees', 'refund', 'refundable', 'refunds', 'refusal', 'refuse', 'refused', 'refuses', 'refusing', 'refute', 'refuted', 'reg', 'regain', 'regale', 'regamey', 'regan', 'regard', 'regarded', 'regardig', 'regarding', 'regardless', 'regardoing', 'regards', 'regas', 'regassification', 'regassified', 'regency', 'regeneration', 'regent', 'regform', 'reggie', 'regime', 'regimes', 'regina', 'region', 'regional', 'regionally', 'regionow', 'regions', 'regis', 'registation', 'registeouse', 'register', 'registerded', 'registered', 'registering', 'registernow', 'registers', 'registrant', 'registrar', 'registration', 'registrations', 'registry', 'regresses', 'regression', 'regressions', 'regressive', 'regret', 'regrets', 'regrettably', 'regroup', 'regs', 'regualr', 'reguarding', 'regulable', 'regular', 'regularly', 'regulate', 'regulated', 'regulates', 'regulating', 'regulation', 'regulations', 'regulator', 'regulators', 'regulatory', 'regurgitate', 'rehab', 'rehearing', 'reheat', 'rehire', 'rehired', 'rehman', 'rehouse', 'reiated', 'reibstein', 'reichardt', 'reichart', 'reid', 'reiease', 'reieases', 'reif', 'reiiabie', 'reiiable', 'reiiance', 'reimburse', 'reimbursed', 'reimbursement', 'reimbursements', 'reimove', 'rein', 'reinforce', 'reinforced', 'reinforcement', 'reinforces', 'reinitiate', 'reins', 'reinstall', 'reinstate', 'reinstated', 'reinstating', 'reinsurance', 'reinsured', 'reinsurer', 'reinsurers', 'reintroduce', 'reinvent', 'reinventing', 'reishus', 'reiter', 'reiterate', 'reiterated', 'reiterating', 'reiteration', 'reject', 'rejected', 'rejecting', 'rejection', 'rejoice', 'rejoining', 'rejtman', 'relase', 'relate', 'related', 'relates', 'relatifs', 'relating', 'relation', 'relational', 'relations', 'relationship', 'relationships', 'relative', 'relatively', 'relatives', 'relativistic', 'relax', 'relaxed', 'relaxing', 'relay', 'relayed', 'relayl', 'release', 'released', 'releases', 'releaseso', 'releasing', 'reletive', 'relevance', 'relevant', 'relford', 'reliabie', 'reliability', 'reliable', 'reliably', 'reliance', 'reliant', 'reliantenergy', 'reliaquote', 'relied', 'relief', 'relies', 'relieve', 'relieved', 'religion', 'religions', 'religious', 'religiously', 'relihan', 'relinquish', 'reliquary', 'relive', 'relocatable', 'relocate', 'relocated', 'relocating', 'relocation', 'relocations', 'relook', 'reluctance', 'reluctant', 'reluctantly', 'rely', 'relying', 'rem', 'remain', 'remainder', 'remained', 'remaining', 'remains', 'remark', 'remarkable', 'remarkably', 'remarked', 'remarking', 'remarks', 'rembourser', 'rembursement', 'remediable', 'remedial', 'remediation', 'remedies', 'remedy', 'remember', 'remembered', 'remembering', 'remettre', 'remgro', 'remi', 'remind', 'reminded', 'reminder', 'reminders', 'reminding', 'reminds', 'remington', 'reminiscent', 'remiss', 'remit', 'remitente', 'remittance', 'remittances', 'remitted', 'remodel', 'remote', 'remotely', 'removal', 'remove', 'removed', 'removeme', 'remover', 'removes', 'removeyou', 'removing', 'remuneration', 'remunerationfor', 'ren', 'rena', 'renaissance', 'renamed', 'renc', 'rencontre', 'render', 'rendered', 'rendering', 'renderings', 'rendez', 'rene', 'renee', 'reneeb', 'renegotiable', 'renegotiate', 'renegotiated', 'renegotiates', 'renegotiating', 'renegotiation', 'renegotiations', 'renegotiatons', 'renew', 'renewable', 'renewal', 'renewals', 'renewed', 'renewing', 'renews', 'renni', 'renovating', 'renovation', 'renovations', 'renre', 'renshi', 'rensink', 'rensselaer', 'rent', 'rental', 'rentals', 'renting', 'rents', 'renumbered', 'reoccurring', 'reopen', 'reorganization', 'reorganize', 'reorganized', 'reorganizing', 'rep', 'repaid', 'repair', 'repaired', 'repairing', 'repairs', 'repatriating', 'repay', 'repayment', 'repeal', 'repealed', 'repealer', 'repealing', 'repeals', 'repeat', 'repeated', 'repeatedly', 'repeating', 'repeats', 'repect', 'repellant', 'repentant', 'repertoire', 'repetitive', 'repetto', 'repine', 'repit', 'replace', 'replaced', 'replacement', 'replacements', 'replaces', 'replacing', 'replay', 'replays', 'replenish', 'replenishables', 'repli', 'replica', 'replicate', 'replicating', 'replication', 'replied', 'replies', 'reply', 'replyimmediately', 'replying', 'repo', 'repond', 'reponse', 'reponsibility', 'reponsible', 'report', 'reported', 'reportedly', 'reporter', 'reportero', 'reporters', 'reporti', 'reporting', 'reports', 'reportships', 'repose', 'reposed', 'reposio', 'repositioning', 'repositiry', 'repowering', 'represenative', 'represent', 'representantes', 'representating', 'representation', 'representations', 'representative', 'representatives', 'represente', 'represented', 'representing', 'represents', 'repricing', 'reprieve', 'reprint', 'reprints', 'reprisal', 'repro', 'reproduce', 'reproduced', 'reproduction', 'reproductive', 'reps', 'repsect', 'repsol', 'republic', 'republican', 'republicans', 'republique', 'republished', 'repudiation', 'repulic', 'repulsion', 'reputable', 'reputation', 'reputations', 'reputed', 'req', 'reqards', 'reqiured', 'reqts', 'request', 'requested', 'requester', 'requesters', 'requesting', 'requestor', 'requestors', 'requests', 'require', 'required', 'requirement', 'requirements', 'requiremus', 'requires', 'requiring', 'requirments', 'requisite', 'requisition', 'requisitioning', 'requital', 'requres', 'requst', 'reran', 'rercruiting', 'reread', 'reregulation', 'rerun', 'res', 'resalable', 'resale', 'resales', 'rescheduel', 'reschedule', 'rescheduled', 'rescheduling', 'reschedulings', 'resco', 'rescue', 'rescues', 'resea', 'reseach', 'research', 'researched', 'researcher', 'researchers', 'researches', 'researching', 'researhc', 'resell', 'reseller', 'resellers', 'reselling', 'resembles', 'resend', 'resendez', 'resending', 'resent', 'resently', 'reseource', 'reserach', 'reservation', 'reservations', 'reserve', 'reserved', 'reserves', 'reserving', 'reservist', 'reservoir', 'reservoirs', 'reset', 'resetting', 'reshape', 'reshaping', 'reshapings', 'reshuffled', 'reshuffling', 'resid', 'reside', 'resided', 'residence', 'residences', 'residency', 'resident', 'residential', 'residents', 'resides', 'residfx', 'residing', 'residual', 'residualincome', 'residuals', 'residue', 'resign', 'resignation', 'resigned', 'resigning', 'resigtering', 'resin', 'resistance', 'resistant', 'resistence', 'resize', 'resl', 'resold', 'resolutely', 'resolution', 'resolutions', 'resolve', 'resolved', 'resolving', 'resonance', 'resonant', 'resonded', 'resort', 'resorted', 'resorts', 'resource', 'resourced', 'resourceful', 'resources', 'respect', 'respectability', 'respected', 'respectful', 'respectfully', 'respective', 'respectively', 'respects', 'responce', 'respond', 'responded', 'respondents', 'responder', 'responders', 'respondiendo', 'responding', 'responds', 'respondt', 'respons', 'response', 'responses', 'responsibilities', 'responsibility', 'responsibilty', 'responsible', 'responsiblity', 'responsive', 'responsiveness', 'ress', 'rest', 'restate', 'restated', 'restaurant', 'restaurants', 'restaurnat', 'rested', 'restful', 'restlaufzeiten', 'reston', 'restore', 'restored', 'restoring', 'restrain', 'restraint', 'restraints', 'restricted', 'restricting', 'restriction', 'restrictions', 'restructure', 'restructured', 'restructures', 'restructuring', 'rests', 'resturant', 'resubmit', 'resubmitted', 'resueme', 'resuiting', 'resuits', 'result', 'resultant', 'resulted', 'resultin', 'resulting', 'results', 'resume', 'resumed', 'resumel', 'resumen', 'resumenovo', 'resumeo', 'resumeres', 'resumes', 'resumeus', 'resumption', 'resurrect', 'ret', 'retai', 'retaiiing', 'retail', 'retailer', 'retailers', 'retailing', 'retails', 'retain', 'retained', 'retainer', 'retaining', 'retains', 'retaliate', 'retaliated', 'retdehola', 'retention', 'rethink', 'reti', 'reticent', 'retire', 'retired', 'retiree', 'retirement', 'retiring', 'retouch', 'retouching', 'retransmission', 'retreading', 'retrial', 'retrieval', 'retrievals', 'retrieve', 'retrieved', 'retrieving', 'retroactive', 'retroactively', 'retrofit', 'retrofits', 'retroscreen', 'retrospect', 'retrospective', 'retry', 'return', 'returned', 'returnfor', 'returning', 'returnm', 'returns', 'retval', 'retype', 'reuben', 'reunion', 'reunions', 'reurn', 'reusable', 'reused', 'reuters', 'rev', 'revaluation', 'revalue', 'revalued', 'revamp', 'revamped', 'revamping', 'reveal', 'revealed', 'revealing', 'reveals', 'reveived', 'revelacin', 'revell', 'revenge', 'revenue', 'revenues', 'reverberate', 'reversal', 'reversals', 'reverse', 'reversed', 'reverses', 'reversible', 'reversing', 'reversion', 'revert', 'reverting', 'reverts', 'review', 'reviewed', 'reviewer', 'reviewers', 'reviewing', 'reviewmeister', 'reviewmovies', 'reviews', 'revise', 'revised', 'revises', 'revisin', 'revising', 'revision', 'revisionism', 'revisionl', 'revisions', 'revisit', 'revival', 'revive', 'revnet', 'revoke', 'revoked', 'revolution', 'revolutionary', 'revolutionize', 'revolve', 'revolved', 'revs', 'revspktemp', 'revulsion', 'reward', 'rewarded', 'rewarding', 'rewards', 'reworded', 'reworked', 'rewriting', 'rewritten', 'rewrote', 'rex', 'rexec', 'rexrode', 'reyes', 'reyna', 'reynold', 'reynolds', 'reynosa', 'reza', 'rezaeian', 'rezygnacje', 'rf', 'rfc', 'rfcl', 'rfcs', 'rfid', 'rfm', 'rfp', 'rfps', 'rfreeman', 'rgbaz', 'rgds', 'rgob', 'rgreene', 'rh', 'rhapsodical', 'rhartfi', 'rhenn', 'rhetoric', 'rhetorically', 'rho', 'rhoda', 'rhode', 'rhodes', 'rhomboid', 'rhonda', 'rhonna', 'rhulen', 'rhurt', 'rhymes', 'rhythm', 'rhythms', 'ri', 'riba', 'ribbon', 'ribeiro', 'ric', 'rica', 'ricardo', 'ricardol', 'rice', 'rich', 'richard', 'richards', 'richardson', 'richb', 'richer', 'riches', 'richest', 'richey', 'richland', 'richmond', 'richness', 'richter', 'richtig', 'rick', 'rickard', 'rickards', 'rickbellrist', 'rico', 'ricoh', 'rid', 'riday', 'ridden', 'ridder', 'riddle', 'riddled', 'ride', 'rider', 'riders', 'rides', 'ridge', 'ridged', 'ridiculous', 'riding', 'riedman', 'rieker', 'rien', 'ries', 'right', 'rightful', 'rightfully', 'rightly', 'rights', 'rightwards', 'rigid', 'rigor', 'rigorous', 'rigorously', 'rigour', 'rigs', 'riley', 'rim', 'ring', 'ringed', 'ringing', 'rings', 'rio', 'rios', 'riots', 'rip', 'ripe', 'ripoffs', 'ripped', 'rippers', 'ripping', 'riqht', 'risch', 'risckrac', 'rise', 'risen', 'risers', 'rises', 'rishad', 'risi', 'rising', 'risk', 'riskbenc', 'riskbooks', 'riskbrief', 'riskcalc', 'riskcare', 'riskcenter', 'riskcongress', 'riskdata', 'risked', 'riskfactr', 'riskfree', 'riskgrades', 'riskin', 'riskiness', 'risking', 'risklimited', 'riskm', 'riskmetrics', 'risknews', 'risko', 'riskops', 'riskopstm', 'riskpublications', 'riskreporter', 'risks', 'risktrac', 'risktrack', 'riskwaters', 'risky', 'rita', 'ritchken', 'rittenhouse', 'ritu', 'ritwik', 'ritz', 'rival', 'rivalry', 'rivals', 'rivas', 'rive', 'river', 'rivera', 'riverboat', 'riverflow', 'riverflows', 'riveria', 'rivers', 'riverside', 'riverwalk', 'riverway', 'rives', 'rixranxne', 'riym', 'rizo', 'rizvi', 'rj', 'rjl', 'rkjjz', 'rkosecki', 'rkq', 'rl', 'rla', 'rlb', 'rlc', 'rlces', 'rldwide', 'rle', 'rlf', 'rlj', 'rlk', 'rll', 'rlm', 'rln', 'rly', 'rlyc', 'rlyczak', 'rlz', 'rm', 'rmack', 'rmaghome', 'rmaier', 'rmb', 'rmc', 'rmcmahon', 'rmg', 'rminto', 'rmonline', 'rmonmib', 'rms', 'rmscy', 'rmshop', 'rmt', 'rmurphy', 'rmvol', 'rmzmail', 'rn', 'rna', 'rnetpharmacy', 'ro', 'road', 'roadblock', 'roadblocks', 'roadrunner', 'roads', 'roadside', 'roadster', 'roadway', 'roaming', 'roan', 'roanp', 'roast', 'roasted', 'rob', 'robbed', 'robbi', 'robbins', 'robert', 'robertlu', 'roberto', 'roberts', 'robertsl', 'robertson', 'robertswww', 'robertwalters', 'robila', 'robin', 'robina', 'robinson', 'robinsonm', 'robison', 'robot', 'robotics', 'robots', 'robust', 'robustness', 'robvofjfdx', 'robyn', 'rocco', 'roch', 'rocha', 'roche', 'rochester', 'rochet', 'rock', 'rockafellar', 'rocked', 'rockefeller', 'rockefellers', 'rocket', 'rocketed', 'rocketleads', 'rocketry', 'rockets', 'rockey', 'rockies', 'rockin', 'rocking', 'rocks', 'rockwell', 'rocky', 'rockycrater', 'rod', 'roda', 'roddick', 'rode', 'rodeo', 'rodger', 'rodgers', 'rodney', 'rodneyg', 'rodolfo', 'rodrigo', 'rodrigue', 'rodriguez', 'rodzaju', 'rodziana', 'rodzicami', 'rodzina', 'roe', 'roeder', 'roemer', 'roenz', 'rofr', 'rofrs', 'rog', 'rogan', 'rogas', 'roger', 'rogers', 'rogersuq', 'rognyconference', 'rogram', 'rogroup', 'rogue', 'rohauer', 'roi', 'roibot', 'rojects', 'roku', 'rolamento', 'rolamentos', 'roland', 'roldana', 'roldanas', 'role', 'roles', 'rolete', 'roletes', 'rolex', 'rolexes', 'roll', 'rolled', 'rollercoaster', 'rollick', 'rolling', 'rollout', 'rollover', 'rolls', 'rollup', 'rolodex', 'rom', 'romain', 'roman', 'romance', 'romania', 'romanian', 'romano', 'rome', 'romiane', 'romine', 'romulus', 'ron', 'ronald', 'rong', 'ronh', 'ronn', 'ronnie', 'roof', 'roofing', 'roofpak', 'rookie', 'rookley', 'rooks', 'rool', 'room', 'rooming', 'rooml', 'roommate', 'roommates', 'rooms', 'roosevelt', 'rooster', 'root', 'roots', 'rope', 'rosalee', 'rosalinda', 'rosane', 'rosario', 'rosary', 'rose', 'roseann', 'rosef', 'roseiee', 'roselle', 'rosely', 'rosemary', 'rosemeade', 'rosen', 'rosenberg', 'rosenfield', 'rosenkopf', 'rosenkranz', 'roses', 'rosettanet', 'rosh', 'rosia', 'rosie', 'rosita', 'rosman', 'ross', 'rossi', 'roster', 'rosters', 'rostrate', 'rotan', 'rotarian', 'rotate', 'rotated', 'rotating', 'rotation', 'rotational', 'rotations', 'rote', 'roten', 'rotenberbg', 'rotenberg', 'roth', 'rothchilds', 'rothschild', 'rotman', 'rotor', 'rots', 'rotten', 'rotterdam', 'rouche', 'rouge', 'rough', 'roughly', 'roulade', 'roulette', 'roullette', 'roumanian', 'round', 'rounded', 'roundest', 'roundoff', 'rounds', 'roundtable', 'roundtables', 'roundtrip', 'rourke', 'rouse', 'rousing', 'rout', 'route', 'router', 'routers', 'routes', 'routine', 'routinely', 'routines', 'routing', 'routledge', 'rov', 'roved', 'roving', 'roviris', 'row', 'rowady', 'rowlands', 'rows', 'roxio', 'roxxy', 'roy', 'royal', 'royalties', 'royce', 'royibasco', 'rozchorowalo', 'rozdzia', 'rozen', 'rozmawialem', 'rozmawialismy', 'rozmowie', 'rozne', 'roznego', 'rozni', 'roznica', 'roznych', 'rozpoczecia', 'rozpoczeciem', 'rozpoczyna', 'rozwiazanie', 'rp', 'rpaduano', 'rpbw', 'rpi', 'rpmynofdopnqnyej', 'rpondez', 'rpvnltb', 'rqfa', 'rr', 'rrc', 'rrcs', 'rready', 'rreally', 'rrived', 'rrrhythms', 'rs', 'rsa', 'rsbaker', 'rseitrweao', 'rshelp', 'rskappraiser', 'rspudeck', 'rsrg', 'rstt', 'rsvp', 'rt', 'rtd', 'rtdm', 'rte', 'rtf', 'rtfass', 'rtfm', 'rthe', 'rthm', 'rting', 'rtlambert', 'rto', 'rtol', 'rtomask', 'rtos', 'rtp', 'rtun', 'ru', 'ruane', 'rub', 'rubber', 'rubberized', 'rubbish', 'ruben', 'ruby', 'ruckt', 'rude', 'rudet', 'rudi', 'rudimentary', 'rudl', 'rudolf', 'rudy', 'rue', 'rueckfragen', 'ruewan', 'ruf', 'ruffcorn', 'ruffer', 'rufino', 'rufus', 'rugged', 'rugs', 'ruhul', 'ruining', 'ruinous', 'ruiz', 'rule', 'ruled', 'rulemaking', 'rulers', 'rules', 'ruling', 'rumford', 'rumor', 'rumored', 'rumors', 'rump', 'run', 'rune', 'runes', 'runing', 'runner', 'running', 'runs', 'runshi', 'runtime', 'runyuan', 'rupee', 'rupert', 'ruptures', 'rural', 'ruscitti', 'rush', 'rushed', 'rushing', 'rusk', 'russ', 'russell', 'russia', 'russian', 'russians', 'russo', 'rust', 'rustles', 'rusty', 'rutgers', 'ruth', 'ruthless', 'ruthvan', 'rutkowski', 'ruwan', 'ruwans', 'rvs', 'rvsvh', 'rw', 'rwe', 'rweron', 'rx', 'rxdrugs', 'rxmedications', 'rxoo', 'ryall', 'ryan', 'rylc', 'rynkowi', 'rynku', 'ryte', 'ryzykiem', 'rz', 'rzeh', 'sa', 'saatcioglu', 'sabbatical', 'sabha', 'sabo', 'sabrina', 'sacchi', 'sachs', 'sacks', 'saclay', 'sacramento', 'sacred', 'sacrifice', 'sacrificing', 'sad', 'sadam', 'saddam', 'sadder', 'saddlebow', 'saddled', 'saddlefast', 'sadece', 'sadique', 'sadr', 'sadzilem', 'sadzisz', 'saeger', 'saf', 'safat', 'safe', 'safeguard', 'safeguards', 'safeharbor', 'safekeeping', 'safely', 'safer', 'safety', 'saftey', 'saga', 'sage', 'sager', 'saha', 'sahalia', 'sahara', 'sahgal', 'sai', 'saia', 'said', 'saidhe', 'saie', 'sail', 'sailesh', 'sailors', 'saindon', 'saint', 'sais', 'saiyan', 'sajjad', 'sakarsucks', 'sakauye', 'sake', 'saksena', 'sal', 'sala', 'salad', 'salads', 'salal', 'salaries', 'salary', 'saldana', 'sale', 'saleh', 'salem', 'salemme', 'sales', 'salesl', 'salgados', 'sali', 'salient', 'salil', 'salim', 'salinas', 'salisbury', 'salkl', 'sallow', 'sally', 'sallygould', 'salmon', 'salomon', 'salt', 'saltiel', 'saluda', 'saludo', 'saluted', 'salvage', 'salvaged', 'salve', 'salzbergen', 'sam', 'sama', 'samaniec', 'samaniego', 'samar', 'samawi', 'samek', 'samer', 'sameweb', 'sami', 'samir', 'samira', 'sammy', 'samolotu', 'samon', 'sampies', 'sample', 'samples', 'sampling', 'sampson', 'samsung', 'samuel', 'samuels', 'samuelson', 'samuva', 'samym', 'san', 'sanantonio', 'sanches', 'sanchez', 'sanctioned', 'sanctions', 'sand', 'sandblind', 'sandbox', 'sandeep', 'sandefer', 'sandelli', 'sanders', 'sandherr', 'sandifer', 'sandiford', 'sandisk', 'sandman', 'sandoval', 'sandpoint', 'sandra', 'sands', 'sandstone', 'sandstorm', 'sandwich', 'sandwiches', 'sandy', 'sanford', 'sangster', 'sanguine', 'sani', 'sanitary', 'sanitized', 'sanjay', 'sanjeev', 'sanjosel', 'sank', 'sankey', 'sans', 'sansom', 'sansome', 'santa', 'santiago', 'santistatextil', 'santos', 'santosa', 'santosh', 'santucci', 'sanusi', 'sanyo', 'sap', 'sapata', 'saphale', 'sapient', 'sapling', 'sapp', 'sapphire', 'sapre', 'sapsecurity', 'sara', 'sarah', 'sarasota', 'sarbanes', 'sareen', 'sarkissian', 'sarma', 'sarnj', 'sartor', 'sarveen', 'saryusz', 'sarzyna', 'sas', 'sash', 'sasha', 'saskatchewan', 'sat', 'satellite', 'satellites', 'saterday', 'sates', 'sati', 'satire', 'satis', 'satisfaccin', 'satisfaction', 'satisfactory', 'satisfie', 'satisfied', 'satisfies', 'satisfy', 'satruday', 'saturated', 'saturday', 'saturdays', 'sauce', 'saucebox', 'saudi', 'saulle', 'saunders', 'saundry', 'sausage', 'sav', 'sava', 'savage', 'save', 'saved', 'saver', 'saves', 'savethem', 'savi', 'saving', 'savings', 'savita', 'savoury', 'savviest', 'savvy', 'saw', 'sawdust', 'sawfly', 'sawhney', 'sawhorse', 'saxon', 'say', 'sayed', 'saying', 'sayrak', 'says', 'sb', 'sba', 'sbin', 'sbis', 'sbp', 'sbramlet', 'sbscriptions', 'sbtglaw', 'sburchett', 'sc', 'scabbard', 'scala', 'scalability', 'scalable', 'scalar', 'scale', 'scaled', 'scales', 'scaling', 'scalp', 'scam', 'scampos', 'scams', 'scan', 'scana', 'scandanavian', 'scandinavian', 'scanlan', 'scanned', 'scanner', 'scanners', 'scanning', 'scans', 'scarbeko', 'scarborough', 'scarce', 'scarcity', 'scardino', 'scare', 'scarecrow', 'scared', 'scarlet', 'scary', 'scattered', 'sccs', 'sce', 'scem', 'scenario', 'scenarions', 'scenarios', 'scene', 'scenes', 'sch', 'schaefer', 'schaffer', 'schauer', 'schedule', 'scheduled', 'scheduler', 'schedulers', 'schedules', 'scheduling', 'schemat', 'schematic', 'schematics', 'scheme', 'schemes', 'schenck', 'schertz', 'schield', 'schieldrop', 'schiller', 'schilling', 'schilmoeller', 'schirmeister', 'schlafzimmern', 'schlaudraff', 'schlesinger', 'schlumberger', 'schmidt', 'schmitt', 'schnapper', 'schneider', 'schoemaker', 'schoenbucher', 'schoene', 'scholar', 'scholarly', 'scholars', 'scholarship', 'scholarships', 'scholes', 'scholtes', 'schon', 'school', 'schooling', 'schoolmate', 'schoolof', 'schoolofgeomatics', 'schools', 'schoppe', 'schorr', 'schottla', 'schrijven', 'schroeder', 'schuh', 'schuler', 'schultea', 'schultz', 'schulz', 'schumack', 'schuster', 'schwab', 'schwartz', 'schwartzenburg', 'schwarz', 'schwarzbach', 'schwertner', 'schwieger', 'schwiegereltern', 'sciagnac', 'sciatica', 'scicom', 'scicomp', 'science', 'sciences', 'scientific', 'scientifically', 'scientifics', 'scientist', 'scientistmark', 'scientists', 'scifi', 'scifinance', 'scintillation', 'sclerosis', 'scoaway', 'scollins', 'sconce', 'scoop', 'scope', 'scoping', 'score', 'scoreboard', 'scorecard', 'scores', 'scoring', 'scorn', 'scott', 'scottish', 'scottsdale', 'scottw', 'scoured', 'scout', 'scovill', 'scraggly', 'scrambling', 'scrap', 'scraping', 'scrapped', 'scrapping', 'scraps', 'scratch', 'scratches', 'scratching', 'scream', 'screaming', 'screechy', 'screen', 'screened', 'screening', 'screens', 'screenshots', 'scrensh', 'screwed', 'scribble', 'scribner', 'scribners', 'scrimshaw', 'scripps', 'script', 'scripting', 'scriptless', 'scripts', 'scroll', 'scrub', 'scrubbing', 'scrubby', 'scrubtheweb', 'scrutinized', 'scrutiny', 'scrw', 'scs', 'scsi', 'scsita', 'scss', 'scudder', 'scudderpublishing', 'sculpt', 'sculpture', 'scum', 'scurlock', 'scuttle', 'scutum', 'sd', 'sda', 'sdcera', 'sddp', 'sde', 'sdg', 'sdi', 'sdilabsol', 'sdk', 'sdougla', 'sds', 'sdsc', 'sdt', 'se', 'sea', 'seaborg', 'seaborn', 'seaborne', 'seabreeze', 'seacalf', 'seade', 'seadog', 'seal', 'sealed', 'seals', 'sealy', 'seamless', 'seamlessly', 'seams', 'sean', 'seanet', 'seapc', 'seaport', 'seapp', 'search', 'searchable', 'searched', 'searcher', 'searches', 'searching', 'searchl', 'sears', 'seas', 'season', 'seasonal', 'seasonalities', 'seasonality', 'seasonally', 'seasoned', 'seasoning', 'seasonned', 'seasons', 'seat', 'seated', 'seating', 'seats', 'seattle', 'seawards', 'seay', 'seb', 'sebastien', 'sebesta', 'sebs', 'sec', 'seca', 'secco', 'secetary', 'sechedule', 'secified', 'secluded', 'secom', 'secon', 'second', 'secondary', 'secondcategories', 'seconded', 'secondhand', 'secondly', 'secondment', 'seconds', 'secrecy', 'secret', 'secretariat', 'secretaries', 'secretary', 'secretive', 'secretly', 'secretlyattract', 'secrets', 'secs', 'section', 'sections', 'sector', 'sectorial', 'sectors', 'secure', 'secured', 'securely', 'secures', 'securetechnology', 'securing', 'securities', 'securitiesact', 'securitisation', 'securitization', 'securitize', 'securitized', 'security', 'securitytips', 'secutity', 'sedayao', 'sedimentation', 'seductive', 'see', 'seeblackweil', 'seed', 'seeded', 'seeesion', 'seei', 'seeing', 'seek', 'seeker', 'seekercenter', 'seekers', 'seeking', 'seeks', 'seeligson', 'seely', 'seem', 'seemed', 'seeming', 'seemingly', 'seems', 'seen', 'seeqmail', 'sees', 'seesions', 'seethayya', 'seethe', 'segev', 'segment', 'segmented', 'segments', 'segovia', 'segregate', 'segregation', 'seguchi', 'seguenti', 'segues', 'seguin', 'segundo', 'segurana', 'seguridad', 'seh', 'sehr', 'seib', 'seiche', 'seidman', 'seiected', 'seil', 'seiler', 'seiling', 'seimde', 'seimler', 'seimlerde', 'seimlerin', 'seiner', 'seinn', 'seismic', 'seitz', 'seize', 'seizecars', 'seized', 'seizing', 'seizure', 'seko', 'seksan', 'sekse', 'sel', 'selachian', 'seldom', 'select', 'selectable', 'selected', 'selecting', 'selection', 'selections', 'selective', 'selector', 'selects', 'selena', 'self', 'selfcontained', 'selfish', 'selfishly', 'selfoffence', 'selfrealization', 'seliing', 'sell', 'seller', 'sellers', 'selling', 'sellinternetaccess', 'sells', 'selten', 'selvaggio', 'selzer', 'sem', 'sememe', 'semen', 'semester', 'semi', 'semichem', 'semiconductor', 'semiconductors', 'semiconscious', 'semidumb', 'semin', 'seminar', 'seminariach', 'seminarium', 'seminars', 'semis', 'sen', 'sena', 'senarios', 'senate', 'senator', 'senators', 'send', 'sender', 'senders', 'sendgreatoffers', 'sending', 'sendmultiple', 'sendout', 'sends', 'seneca', 'senegal', 'senft', 'sengupta', 'senior', 'seniors', 'sennse', 'sens', 'sensation', 'sense', 'senseless', 'sensible', 'sensibly', 'sensical', 'sensing', 'sensitive', 'sensitiveness', 'sensitivities', 'sensitivity', 'sensor', 'sensors', 'sensory', 'sensuality', 'sent', 'sentence', 'sentences', 'sententious', 'sentiment', 'sentiments', 'sentryunit', 'seo', 'seond', 'seotools', 'seoul', 'sep', 'separate', 'separated', 'separately', 'separates', 'separating', 'separation', 'separator', 'seperarted', 'seperate', 'seperately', 'seperating', 'sepereately', 'seppi', 'sept', 'september', 'septembero', 'septembre', 'septemeber', 'septic', 'septuagenarian', 'sequence', 'sequencing', 'sequential', 'sequentially', 'sequestration', 'sequoia', 'ser', 'sera', 'serdeczne', 'serdecznie', 'seremak', 'seremakiem', 'sergeev', 'sergey', 'serial', 'serialize', 'series', 'serif', 'serious', 'seriously', 'seriousness', 'sermons', 'serous', 'serrano', 'serrvice', 'serv', 'servant', 'servants', 'serve', 'served', 'server', 'serveral', 'serverhave', 'serveriron', 'serverl', 'servers', 'serves', 'service', 'services', 'servicing', 'servicio', 'serving', 'servio', 'servlet', 'serwin', 'ses', 'sese', 'seshadhri', 'session', 'sessions', 'sestate', 'sesterce', 'sestertius', 'set', 'seth', 'sets', 'settar', 'settee', 'setting', 'settings', 'settle', 'settled', 'settlement', 'settlements', 'settles', 'settling', 'setup', 'setupglobal', 'setupmefree', 'setups', 'seu', 'seuemail', 'seulement', 'seva', 'sevcik', 'seven', 'seventh', 'seventhpower', 'seventy', 'sever', 'severa', 'severai', 'several', 'severance', 'severe', 'severed', 'severely', 'severepain', 'severest', 'severetension', 'severin', 'severities', 'severity', 'severs', 'severude', 'sevevteen', 'sevil', 'sevile', 'seville', 'sew', 'sewage', 'sex', 'sexiest', 'sexin', 'sexton', 'sexual', 'sexualhealth', 'sexually', 'sexy', 'seyfried', 'seymour', 'sezgen', 'sf', 'sfa', 'sfaiz', 'sfas', 'sfied', 'sfo', 'sfs', 'sfull', 'sg', 'sgabriel', 'sgay', 'sgh', 'sgibner', 'sgillan', 'sgoldfield', 'sgoldma', 'sgould', 'sgpis', 'sgreen', 'sgy', 'sh', 'sha', 'shackleton', 'shades', 'shading', 'shadow', 'shadows', 'shah', 'shahi', 'shail', 'shake', 'shakedown', 'shakeout', 'shakeouts', 'shakers', 'shaky', 'shal', 'shale', 'shales', 'shalesh', 'shall', 'shalloon', 'shallow', 'shame', 'shamos', 'shams', 'shanaemorgan', 'shanbhogue', 'shanboghe', 'shandrydan', 'shane', 'shanghai', 'shanhe', 'shankar', 'shanken', 'shankman', 'shankmans', 'shanks', 'shanley', 'shanna', 'shannon', 'shape', 'shaped', 'shapes', 'shaping', 'shapings', 'shapiro', 'sharad', 'share', 'shared', 'sharehoider', 'sharehoiders', 'shareholder', 'shareholders', 'shares', 'shareware', 'sharif', 'sharing', 'sharjah', 'shark', 'sharks', 'sharma', 'sharon', 'sharp', 'sharpens', 'sharpiy', 'sharply', 'sharpness', 'sharril', 'sharron', 'sharuk', 'shasta', 'shaun', 'shauywn', 'shaving', 'shaw', 'shawn', 'shawna', 'shc', 'shceduling', 'shdh', 'shea', 'sheaffer', 'shear', 'shearer', 'shearing', 'shebanow', 'shebl', 'sheble', 'shed', 'shedule', 'shee', 'sheehan', 'sheep', 'sheer', 'sheet', 'sheeting', 'sheetl', 'sheets', 'sheiiafitzgerald', 'sheik', 'sheila', 'shelby', 'shelf', 'shelia', 'shell', 'shelley', 'shelly', 'shelm', 'shelp', 'shelter', 'sheltered', 'shelton', 'shelves', 'shemika', 'shen', 'shenzhen', 'shephard', 'shepherd', 'sheraton', 'sheri', 'sheridan', 'sheriff', 'sherlyn', 'sherman', 'sherri', 'sherrick', 'sherrie', 'sherrif', 'sherriff', 'sherron', 'sherry', 'sherryl', 'sheryl', 'shhhhhh', 'shi', 'shield', 'shielded', 'shielding', 'shields', 'shift', 'shifted', 'shifting', 'shifts', 'shijie', 'shikhar', 'shiloh', 'shimbun', 'shimko', 'shine', 'shingles', 'shining', 'shion', 'ship', 'shipment', 'shipments', 'shippable', 'shipped', 'shipper', 'shippers', 'shipping', 'shippinq', 'ships', 'shirakawa', 'shireley', 'shirely', 'shiring', 'shirlecl', 'shirley', 'shirleys', 'shirt', 'shirts', 'shit', 'shiv', 'shiveley', 'shively', 'shl', 'shlp', 'shlpp', 'shlppl', 'shlppln', 'shlpplng', 'shmuel', 'shnabhogue', 'sho', 'shock', 'shocked', 'shocking', 'shockingly', 'shockwave', 'shockwaveflash', 'shoddy', 'shoe', 'shoebox', 'shoes', 'shoestring', 'shona', 'shonikon', 'shoo', 'shoop', 'shoot', 'shooter', 'shooters', 'shooting', 'shoots', 'shop', 'shopnow', 'shopper', 'shoppers', 'shopping', 'shops', 'shopthere', 'shore', 'shoreface', 'shoreline', 'shores', 'short', 'shortage', 'shortages', 'shortcoming', 'shortcomings', 'shortcuts', 'shorten', 'shortened', 'shortening', 'shorter', 'shortest', 'shortfall', 'shortfalls', 'shortlist', 'shortly', 'shortname', 'shorts', 'shortwave', 'shot', 'shotgun', 'shots', 'shoudl', 'shouid', 'shoulder', 'shouldering', 'shoulders', 'shoup', 'shout', 'shouted', 'shoveller', 'shovvn', 'show', 'showcase', 'showcases', 'showdown', 'showed', 'shower', 'showgood', 'showing', 'shown', 'shows', 'showup', 'shredder', 'shree', 'shreve', 'shriek', 'shriley', 'shring', 'shrink', 'shrinkage', 'shrinking', 'shrinks', 'shrivastava', 'shrley', 'shrugged', 'shruti', 'shtml', 'shu', 'shubh', 'shuffle', 'shulklapper', 'shults', 'shuster', 'shut', 'shutdown', 'shutdowns', 'shuttering', 'shuttle', 'shw', 'shy', 'shymail', 'si', 'sia', 'siad', 'siam', 'sic', 'sicaf', 'sich', 'sick', 'sickle', 'sid', 'siddhi', 'siddiqi', 'siddique', 'side', 'sidebar', 'sidebars', 'sided', 'sidelines', 'sidelining', 'sides', 'sidewalk', 'sideways', 'siding', 'sidney', 'sie', 'siebel', 'siedzial', 'siedziby', 'siegel', 'siemens', 'sierra', 'siesmic', 'siewert', 'sig', 'sigam', 'sigh', 'sightings', 'sights', 'sightseeing', 'sigining', 'sigma', 'sigmal', 'sign', 'signage', 'signal', 'signals', 'signature', 'signatures', 'signed', 'signer', 'signers', 'signifiantly', 'significance', 'significant', 'significantiy', 'significantly', 'signified', 'signify', 'signing', 'signoff', 'signposts', 'signs', 'signup', 'signups', 'siig', 'siightiy', 'siightly', 'sikes', 'sil', 'silami', 'silberman', 'silence', 'silent', 'silently', 'silica', 'siliceous', 'silicification', 'silicon', 'siliconpower', 'silly', 'silniejszy', 'silva', 'silver', 'sim', 'simbol', 'simgal', 'simiiar', 'similar', 'similarity', 'similarly', 'similiar', 'simly', 'simmonds', 'simmons', 'simoes', 'simon', 'simone', 'simonnemayer', 'simou', 'simpiy', 'simple', 'simpleinstructions', 'simpler', 'simplest', 'simplesteps', 'simplex', 'simplicity', 'simplier', 'simplification', 'simplifications', 'simplified', 'simplify', 'simplistic', 'simply', 'simplythankyou', 'simpson', 'sims', 'simular', 'simulate', 'simulated', 'simulates', 'simulating', 'simulation', 'simulations', 'simulator', 'simulink', 'simultaneous', 'simultaneously', 'simunovic', 'sin', 'sina', 'sinatown', 'sinc', 'since', 'sincere', 'sincereiy', 'sincerely', 'sincerest', 'sincerity', 'sincerly', 'sinclair', 'sind', 'sinewave', 'sinful', 'sing', 'singal', 'singapore', 'singer', 'singh', 'singhjai', 'single', 'singled', 'singles', 'singleton', 'sinha', 'sinister', 'sink', 'sinnagasak', 'sinners', 'sins', 'sinuosity', 'siobhan', 'sipc', 'siphon', 'siqnificantiy', 'siqnificantly', 'sir', 'siratu', 'siriam', 'sirri', 'sirs', 'sisneros', 'sissingh', 'sister', 'sisters', 'sit', 'sitara', 'sitback', 'site', 'sitecritic', 'sitepronews', 'sites', 'sithe', 'siting', 'sitio', 'sitm', 'sits', 'sitting', 'situated', 'situation', 'situations', 'situs', 'siueck', 'siurek', 'siva', 'sivaraman', 'six', 'sixnet', 'sixteen', 'sixth', 'sixty', 'siyasi', 'siyvia', 'sizable', 'sizce', 'size', 'sized', 'sizes', 'sizin', 'sizzling', 'sj', 'sjambok', 'sjc', 'sjdemarco', 'sk', 'skadden', 'skandinaviska', 'skarness', 'skateboard', 'skdclan', 'skean', 'skellett', 'skeptical', 'skepticism', 'sketch', 'sketches', 'sketching', 'sketchy', 'skew', 'skewed', 'skewing', 'skewness', 'skews', 'skg', 'ski', 'skierowne', 'skies', 'skill', 'skilled', 'skilling', 'skills', 'skilly', 'skim', 'skin', 'skingsley', 'skinner', 'skinnew', 'skinny', 'skip', 'skit', 'skitter', 'skittles', 'skontaktowac', 'skontaktowania', 'skoordynowac', 'skoro', 'skorze', 'skorzystam', 'skping', 'skrgic', 'sktrace', 'skunkworks', 'skupil', 'skurdahl', 'sky', 'skylarkchamfer', 'skylines', 'skyrocket', 'skyrocketed', 'skyrocketing', 'skytel', 'skywalker', 'sl', 'slaby', 'slack', 'slade', 'slaga', 'slain', 'slam', 'slamming', 'slang', 'slanguage', 'slangy', 'slant', 'slanted', 'slap', 'slapped', 'slapping', 'slapstick', 'slas', 'slash', 'slashed', 'slashing', 'slated', 'slatternly', 'slaughter', 'slaughtered', 'slaughters', 'slava', 'slavery', 'slavic', 'slb', 'slc', 'slected', 'sledding', 'sleep', 'sleeping', 'sleepingdisorder', 'sleepingdisorders', 'sleeps', 'sleeve', 'slewis', 'slice', 'slicence', 'slicker', 'slide', 'slides', 'sliding', 'slight', 'slighted', 'slightest', 'slightiy', 'slightly', 'slim', 'slimp', 'slip', 'slippage', 'slipped', 'slippery', 'slither', 'slo', 'sloan', 'sloansimmo', 'slone', 'sloping', 'slopping', 'slot', 'slotl', 'slots', 'slovakia', 'slovenia', 'slow', 'slowcoach', 'slowdown', 'slowed', 'slower', 'slowing', 'slowly', 'slug', 'slumming', 'slung', 'sluts', 'sluttish', 'slychac', 'slyszalem', 'sm', 'sma', 'smack', 'smail', 'smailer', 'smal', 'smalier', 'smaliest', 'small', 'smallcaps', 'smallcow', 'smaller', 'smallest', 'smalling', 'smart', 'smarter', 'smartmortgageusa', 'smash', 'smco', 'smell', 'smelley', 'smells', 'smi', 'smida', 'smikle', 'smile', 'smiles', 'smiling', 'smiller', 'smilow', 'smirked', 'smith', 'smithville', 'smitnick', 'smocked', 'smocks', 'smoke', 'smoker', 'smoking', 'smooth', 'smoothed', 'smoother', 'smoothfaced', 'smoothing', 'smoothly', 'smoothness', 'smothing', 'smp', 'sms', 'smsmag', 'smsmobility', 'smso', 'smtp', 'smtpd', 'smtpo', 'smtprs', 'smtpsvc', 'smtx', 'smu', 'smud', 'smugglers', 'smuggling', 'smut', 'smuttiest', 'smyrna', 'smyth', 'smythe', 'sn', 'snack', 'snacks', 'snag', 'snaggy', 'snail', 'snap', 'snapshot', 'snapshots', 'snatching', 'snathe', 'sndk', 'sneak', 'sneezy', 'snia', 'snider', 'sniffing', 'snippet', 'snmp', 'sno', 'snob', 'snobs', 'snooping', 'snow', 'snowball', 'snowbird', 'snowfall', 'snowshoe', 'snowy', 'snuffer', 'snyder', 'soak', 'soar', 'soared', 'soares', 'soaring', 'soars', 'sob', 'soba', 'sobie', 'sobotka', 'sobotkad', 'sobrinho', 'sobriquet', 'soc', 'socagefh', 'socal', 'socalgas', 'soccerwe', 'socgen', 'social', 'socially', 'societe', 'society', 'socit', 'socket', 'sockets', 'socorro', 'soda', 'sodergreen', 'soem', 'sofitel', 'soft', 'softare', 'softcraft', 'softel', 'softening', 'softforfast', 'softly', 'softs', 'softtabs', 'software', 'softwares', 'softwindows', 'sofware', 'sofya', 'sog', 'sogei', 'soggier', 'sogomonian', 'sohu', 'soiaak', 'soiicitation', 'soiid', 'soil', 'soiree', 'soiurce', 'soiutions', 'sojorn', 'sokolov', 'sol', 'solana', 'solar', 'solarc', 'solaris', 'solche', 'sold', 'soldado', 'solder', 'soldiers', 'soldiership', 'sole', 'solely', 'solicit', 'solicitation', 'solicitations', 'solicited', 'soliciting', 'solicitor', 'solicits', 'solicitud', 'solid', 'solis', 'solitude', 'solmonson', 'solo', 'soloenergy', 'solomon', 'soltuion', 'solution', 'solutions', 'solvable', 'solve', 'solved', 'solvency', 'solvent', 'solver', 'solves', 'solving', 'solvo', 'soma', 'somatroph', 'somebody', 'someday', 'somehow', 'someone', 'someoneelse', 'something', 'sometime', 'sometimes', 'someway', 'somewhat', 'somewhere', 'somme', 'sommers', 'sommes', 'son', 'sona', 'sonant', 'sonat', 'sondra', 'sondstrom', 'soneone', 'sonesta', 'song', 'songhas', 'songs', 'sonia', 'sonoita', 'sonority', 'sonrasnda', 'sons', 'sont', 'sonucunu', 'sony', 'sonya', 'soo', 'soon', 'sooner', 'soonest', 'soonish', 'soooo', 'sooter', 'sophie', 'sophisticated', 'sophistication', 'sops', 'sor', 'sordid', 'sore', 'sorely', 'soreness', 'sorenson', 'sorescu', 'sorin', 'sorry', 'sort', 'sorted', 'sorting', 'sorts', 'soru', 'sos', 'soth', 'soto', 'souffle', 'sought', 'souhaite', 'soul', 'sound', 'sounded', 'sounder', 'sounding', 'sounds', 'soup', 'source', 'sourced', 'sourceforge', 'sources', 'sourcing', 'sous', 'sousa', 'soussan', 'souter', 'south', 'southafrican', 'southampton', 'southeast', 'southeastern', 'southern', 'southernenergy', 'southernmost', 'southtrust', 'southwest', 'southwestern', 'soutinho', 'sovereign', 'sovergn', 'sow', 'sox', 'sp', 'spa', 'space', 'spacecraft', 'spacedata', 'spaces', 'spacial', 'spacing', 'spacious', 'spadochronowej', 'spaeter', 'spain', 'spam', 'spamassassin', 'spambites', 'spambytes', 'spamcop', 'spamgaaa', 'spaminfo', 'spammer', 'spamming', 'spamreason', 'spamtraq', 'span', 'spangled', 'spaniolo', 'spanish', 'spanning', 'spans', 'spaoyou', 'spare', 'sparger', 'sparing', 'spark', 'sparkasse', 'sparking', 'sparkling', 'spartan', 'spartanburg', 'spat', 'spate', 'spatio', 'spatt', 'spav', 'spawn', 'spawned', 'spazio', 'spb', 'spc', 'spcialist', 'spe', 'speach', 'speak', 'speaker', 'speakerreg', 'speakers', 'speaking', 'speaks', 'spearhead', 'spearheading', 'spearman', 'spears', 'spearsua', 'spec', 'specia', 'speciaiizes', 'speciaily', 'speciaity', 'special', 'specialised', 'specialising', 'specialist', 'specialists', 'speciality', 'specialiy', 'specialization', 'specialize', 'specialized', 'specializes', 'specializing', 'specially', 'specialprices', 'specials', 'specialties', 'specialty', 'species', 'specific', 'specifically', 'specification', 'specifications', 'specifics', 'specified', 'specifiers', 'specifies', 'specify', 'specifying', 'specks', 'specs', 'spectacular', 'spector', 'spectrasensors', 'spectrometer', 'spectrometry', 'spectrum', 'specuiative', 'speculate', 'speculated', 'speculating', 'speculation', 'speculative', 'speculators', 'speech', 'speeches', 'speed', 'speedandlow', 'speediest', 'speeding', 'speeds', 'speedway', 'speedwell', 'speedy', 'speight', 'speiled', 'spel', 'spelied', 'spell', 'spelled', 'spelling', 'spells', 'spelt', 'spence', 'spencer', 'spend', 'spending', 'spends', 'spent', 'sperm', 'sperryn', 'spfa', 'spheral', 'sphere', 'spherical', 'spice', 'spices', 'spider', 'spiders', 'spiel', 'spieto', 'spigonardo', 'spiit', 'spike', 'spikes', 'spiking', 'spilling', 'spillover', 'spin', 'spinal', 'spine', 'spinfinder', 'spinnin', 'spinning', 'spinster', 'spiraling', 'spirit', 'spirited', 'spirits', 'spiritual', 'spiritually', 'spis', 'spisy', 'spite', 'spktemp', 'splash', 'splendid', 'splenic', 'spline', 'split', 'splited', 'splits', 'splitter', 'splitters', 'splitting', 'spn', 'spni', 'spock', 'spodnie', 'spokane', 'spoke', 'spoken', 'spokesman', 'spokesperson', 'sponser', 'sponsor', 'sponsora', 'sponsored', 'sponsorem', 'sponsoring', 'sponsors', 'sponsorship', 'spontaneity', 'spoofed', 'spool', 'sporitelna', 'sporo', 'sport', 'sporting', 'sportkanal', 'sports', 'sportsbetting', 'sportsbook', 'sportscover', 'sportster', 'sposob', 'spot', 'spotakc', 'spotkac', 'spotkalem', 'spotkam', 'spotkania', 'spotkaniem', 'spotlight', 'spotpreise', 'spots', 'spouse', 'spouses', 'spouting', 'spp', 'spradley', 'spradlin', 'spradling', 'sprawa', 'sprawe', 'spray', 'sprayers', 'sprdopt', 'spread', 'spreadapo', 'spreadaso', 'spreading', 'spreadingaround', 'spreadopt', 'spreadoption', 'spreads', 'spreadsheet', 'spreadsheets', 'spreaking', 'spree', 'spring', 'springfield', 'springmorqan', 'springs', 'sprint', 'sprintlabs', 'sprintpcs', 'sprior', 'sprit', 'sprobowac', 'sprocketwheel', 'sproul', 'sprouted', 'spruce', 'spruiell', 'sprzyja', 'spss', 'spu', 'spudeck', 'spur', 'spurge', 'spurred', 'spurring', 'spurternj', 'spvs', 'spxu', 'spy', 'spyros', 'sq', 'sql', 'sqlcare', 'sqrt', 'sqrtpi', 'squabbling', 'squalor', 'squander', 'squandering', 'square', 'squared', 'squarely', 'squares', 'squawk', 'squeakiest', 'squeal', 'squeeze', 'squeezed', 'squeezing', 'squezze', 'squint', 'squirrelmail', 'squirters', 'sr', 'sralama', 'sreerama', 'sreet', 'sreyes', 'srf', 'srh', 'srike', 'sriketan', 'sriously', 'sriram', 'srivas', 'srivastav', 'srivastava', 'srl', 'srm', 'srode', 'srodkow', 'srol', 'srosman', 'srpnet', 'srrs', 'srs', 'srvl', 'ss', 'ssa', 'ssc', 'sschrump', 'ssfull', 'sshs', 'ssi', 'ssinvite', 'ssist', 'ssl', 'ssmb', 'ssmith', 'ssn', 'ssp', 'sspecial', 'sspltm', 'ssps', 'ssreera', 'ssrn', 'sssmith', 'ssswg', 'sst', 'sstojic', 'ssva', 'ssz', 'st', 'sta', 'staat', 'stabbed', 'stabilise', 'stability', 'stabilize', 'stabilized', 'stabilizing', 'stable', 'staccato', 'stacey', 'stacie', 'stack', 'stacked', 'stacks', 'stacy', 'stad', 'stadacona', 'stadium', 'stadiumtours', 'stadtwerke', 'staff', 'staffed', 'staffer', 'staffing', 'staffreports', 'staffs', 'stage', 'stages', 'staggering', 'stagnancy', 'stagnant', 'staicn', 'stainless', 'stainlesssteel', 'stainlesssteelback', 'stainlessteelbody', 'staircase', 'stairs', 'stairway', 'stake', 'staked', 'stakeholder', 'stakeholders', 'stakes', 'staking', 'stakrit', 'stale', 'stalemate', 'staley', 'stalford', 'stalker', 'stall', 'stalled', 'stamer', 'stamford', 'stamina', 'stamp', 'stamped', 'stampf', 'stan', 'stance', 'stand', 'standalone', 'standard', 'standardagents', 'standardisation', 'standardising', 'standardization', 'standardize', 'standardized', 'standardizing', 'standardoptout', 'standards', 'standby', 'standford', 'standing', 'standoff', 'standpoint', 'stands', 'standstill', 'stanford', 'stangl', 'stanie', 'stanislav', 'stanislaw', 'stanley', 'stanleywoodwork', 'stanow', 'stanowi', 'stant', 'stanton', 'stanza', 'staple', 'staples', 'star', 'staralismy', 'stare', 'stared', 'staring', 'starit', 'stark', 'starks', 'staroffice', 'starred', 'stars', 'starscan', 'start', 'startbgmlmezine', 'startech', 'started', 'startedon', 'startedto', 'starter', 'starting', 'startinq', 'startlogic', 'starts', 'startup', 'startups', 'starvation', 'starved', 'starving', 'starz', 'stashing', 'stat', 'stata', 'state', 'stated', 'statement', 'statements', 'states', 'stateside', 'statesman', 'statewide', 'stathis', 'static', 'statical', 'stating', 'station', 'stationarity', 'stationary', 'stationed', 'stationer', 'stationery', 'stations', 'statistic', 'statistica', 'statistical', 'statistically', 'statistician', 'statistics', 'statkraft', 'statlonery', 'stato', 'stats', 'statue', 'stature', 'status', 'statute', 'statutory', 'staude', 'stay', 'stayatlochness', 'stayed', 'staying', 'stays', 'stcelebrate', 'std', 'stdev', 'ste', 'steadfast', 'steady', 'steak', 'steakhouse', 'steal', 'stealing', 'steam', 'steaming', 'stearns', 'steathis', 'sted', 'steel', 'steep', 'steeped', 'steeple', 'steering', 'stefan', 'steffes', 'stehe', 'steinaecker', 'steinberg', 'steing', 'stella', 'stellar', 'stelly', 'stem', 'stemming', 'stems', 'stencil', 'stenhouse', 'steno', 'stenography', 'stentofon', 'step', 'stepfather', 'stephaine', 'stephan', 'stephanie', 'stephen', 'stepheng', 'stephens', 'stephenson', 'steppe', 'stepped', 'stepping', 'steps', 'stepsl', 'stepson', 'stereo', 'stereos', 'sterling', 'stern', 'sternly', 'sternstewart', 'steroid', 'steve', 'steven', 'stevens', 'stevenson', 'stevestock', 'stew', 'stewart', 'stewartthanks', 'stg', 'sth', 'sthh', 'sti', 'stice', 'stick', 'stickers', 'stickiest', 'stickiness', 'sticking', 'stickland', 'stickle', 'sticks', 'stidham', 'stiff', 'stifling', 'stig', 'stiil', 'stil', 'still', 'stillcoming', 'stimulant', 'stimulate', 'stimulating', 'sting', 'stingy', 'stinks', 'stinsen', 'stinso', 'stinson', 'stinston', 'stint', 'stioll', 'stionson', 'stios', 'stipend', 'stipulated', 'stipulates', 'stipulation', 'stitzel', 'stiuation', 'stl', 'stm', 'stn', 'stngvaol', 'sto', 'stoc', 'stocastic', 'stochastic', 'stochastics', 'stock', 'stockbroker', 'stockbuild', 'stockdraw', 'stockemstraat', 'stockguru', 'stockhoider', 'stockholder', 'stockholders', 'stockholm', 'stocking', 'stockinged', 'stockjobbery', 'stocks', 'stockton', 'stoft', 'stoiani', 'stoimy', 'stokc', 'stoked', 'stokes', 'stole', 'stolen', 'stoll', 'stomers', 'stone', 'stones', 'stoness', 'stong', 'stoo', 'stood', 'stop', 'stoplight', 'stopped', 'stopping', 'stops', 'stopsendingresumes', 'storage', 'storagecentral', 'storagenetworks', 'store', 'stored', 'storefront', 'stores', 'storie', 'stories', 'storing', 'storm', 'storms', 'story', 'storyacquired', 'storyclick', 'stosujac', 'stosunku', 'stoupis', 'stow', 'stowarzysznia', 'stox', 'stoxs', 'stpat', 'stpehen', 'straddle', 'straddles', 'stradford', 'straight', 'straighten', 'straightened', 'straightforward', 'straightline', 'strain', 'straining', 'strains', 'strand', 'stranded', 'strange', 'strangely', 'stranger', 'strangers', 'stransky', 'strapped', 'strata', 'strategic', 'strategically', 'strategics', 'strategie', 'strategies', 'strategist', 'strategos', 'strategy', 'stratigraphic', 'strating', 'stratregy', 'stratum', 'strauss', 'straw', 'streak', 'streaky', 'stream', 'streamed', 'streaming', 'streamline', 'streamlined', 'streamlines', 'streamlining', 'streams', 'streamy', 'street', 'streetcar', 'streets', 'strefinance', 'strenghtens', 'strength', 'strengthen', 'strengthened', 'strengthening', 'strengthens', 'strengths', 'strenuous', 'stress', 'stressed', 'stressing', 'stressthe', 'stretagies', 'stretch', 'stretched', 'stretches', 'stretching', 'stricken', 'strickland', 'strict', 'strictest', 'strictly', 'strike', 'strikes', 'striking', 'string', 'stringent', 'strip', 'stripopt', 'stripped', 'stripper', 'strips', 'stripspreadopt', 'stripswingopt', 'striptease', 'strive', 'striving', 'strmenova', 'strokes', 'stron', 'strona', 'strone', 'strong', 'stronger', 'strongest', 'strongly', 'stronie', 'stronke', 'stronq', 'strony', 'stroso', 'struck', 'structura', 'structural', 'structure', 'structured', 'structurer', 'structures', 'structuring', 'struggle', 'struggled', 'struggling', 'strychnine', 'sts', 'ststus', 'stt', 'stteel', 'stu', 'stuart', 'stub', 'stubblefield', 'stubbs', 'stubs', 'stucco', 'stuck', 'stud', 'studay', 'studenci', 'student', 'studentem', 'studentka', 'studentow', 'students', 'studie', 'studied', 'studies', 'studio', 'studios', 'studious', 'studiuja', 'studs', 'study', 'studying', 'stuff', 'stuffed', 'stuffers', 'stuffy', 'stultification', 'stumbling', 'stunning', 'stupid', 'stupidity', 'stupidly', 'sturm', 'stutes', 'stw', 'stwa', 'style', 'stylelogic', 'styles', 'stylish', 'styllsh', 'stylus', 'su', 'sua', 'suarez', 'suasion', 'sub', 'subarctic', 'subbu', 'subcommittee', 'subconjunto', 'subcontract', 'subcontractor', 'subcription', 'subdirectory', 'subdivision', 'subeditor', 'subisidiary', 'subject', 'subjected', 'subjecting', 'subjective', 'subjects', 'subjugation', 'sublime', 'submersibles', 'submission', 'submissions', 'submit', 'submitexpress', 'submitplus', 'submits', 'submittal', 'submitted', 'submitting', 'subpart', 'subprime', 'subra', 'subrahmanyam', 'subramaniam', 'subroto', 'subroutines', 'subscr', 'subscribe', 'subscribed', 'subscriber', 'subscribers', 'subscribes', 'subscribing', 'subscription', 'subscriptions', 'subsea', 'subsequent', 'subsequently', 'subset', 'subsets', 'subsidary', 'subsidiaries', 'subsidiary', 'subsidies', 'subsidise', 'subsidised', 'subsidize', 'subsidized', 'subsidy', 'substance', 'substances', 'substancial', 'substantial', 'substantially', 'substantiate', 'substantiates', 'substantival', 'substantive', 'substituidos', 'substitute', 'substitution', 'subsystems', 'subtle', 'subtlety', 'subtotal', 'subtract', 'subtracted', 'subtracting', 'suburban', 'subversion', 'subverting', 'suc', 'succ', 'succe', 'succeed', 'succeeded', 'succeeding', 'succes', 'success', 'successes', 'successf', 'successfu', 'successful', 'successfull', 'successfully', 'succession', 'successive', 'successmark', 'successnet', 'successor', 'succinct', 'sucha', 'suchas', 'sucheta', 'sucided', 'suck', 'suckers', 'sucking', 'sud', 'sudden', 'suddenly', 'sudhir', 'sue', 'suer', 'suffer', 'sufferance', 'suffered', 'suffering', 'suffers', 'suffice', 'sufficient', 'sufficiently', 'suffield', 'suffocation', 'sugar', 'sugarland', 'sugars', 'suggest', 'suggested', 'suggesting', 'suggestion', 'suggestions', 'suggests', 'sugiura', 'sugqestions', 'sui', 'suicide', 'suisse', 'suit', 'suitability', 'suitable', 'suitably', 'suitcase', 'suite', 'suited', 'suites', 'suits', 'sulawesi', 'sulfur', 'suliyono', 'sull', 'sullen', 'sullies', 'sullivan', 'sullo', 'sultan', 'sultanate', 'sum', 'sumatra', 'sume', 'sumer', 'summar', 'summaries', 'summarise', 'summarised', 'summarising', 'summarize', 'summarized', 'summarizes', 'summarizing', 'summary', 'summer', 'summers', 'summersaults', 'summertime', 'summing', 'summit', 'summon', 'summoned', 'sumof', 'sums', 'sun', 'suncatcher', 'sundae', 'sundaresan', 'sunday', 'sundays', 'sunde', 'sung', 'sungard', 'sunglass', 'sunglasses', 'sungvince', 'sunil', 'sunita', 'sunny', 'sunphol', 'sunrise', 'suns', 'sunscreen', 'sunsets', 'sunshine', 'suntrust', 'sunward', 'suo', 'suon', 'supatgiat', 'super', 'superb', 'superbly', 'supercedes', 'supercharge', 'supercomputing', 'superconductor', 'superette', 'supereva', 'superfluity', 'supergoal', 'superhuman', 'superimpose', 'superink', 'superior', 'superiors', 'superlative', 'supernaculum', 'supernal', 'superpriority', 'superscript', 'supersede', 'supersedes', 'superstore', 'supersymmetry', 'superty', 'supervise', 'supervised', 'supervising', 'supervision', 'supervisor', 'supervisors', 'suporte', 'suportes', 'supper', 'suppiies', 'suppiy', 'supplant', 'supplement', 'supplemental', 'supplemented', 'supplements', 'supplied', 'supplier', 'suppliers', 'suppliersffff', 'supplies', 'supply', 'supplya', 'supplying', 'supplyvalid', 'support', 'supported', 'supporter', 'supporters', 'supporting', 'supportive', 'supports', 'supportsenron', 'suppose', 'supposed', 'supposedly', 'supposing', 'supposition', 'suppository', 'suppressed', 'supreme', 'supremo', 'supressed', 'suqgestions', 'sur', 'surajeet', 'surat', 'surbey', 'surbl', 'surcharge', 'surcingle', 'sure', 'surebut', 'surech', 'surefiremarketing', 'surely', 'suresh', 'sureshb', 'surethat', 'surety', 'surf', 'surface', 'surfaced', 'surfacing', 'surfbuddies', 'surfing', 'surge', 'surged', 'surgeon', 'surgeries', 'surgery', 'surgical', 'surgically', 'surging', 'surlpus', 'surmise', 'surname', 'surowiec', 'surpass', 'surpassed', 'surpasses', 'surpassing', 'surplus', 'surpluses', 'surpresses', 'surprise', 'surprised', 'surprises', 'surprising', 'surprisingly', 'surrejoinder', 'surrender', 'surrendering', 'surrey', 'surrogate', 'surrounded', 'surrounding', 'surrounds', 'surveillance', 'survey', 'surveyed', 'surveyor', 'surveys', 'survival', 'survive', 'survived', 'surviving', 'survivors', 'suryan', 'sus', 'susan', 'susceptible', 'susceptive', 'suse', 'sushi', 'susie', 'suspect', 'suspected', 'suspects', 'suspend', 'suspended', 'suspending', 'suspension', 'suspensions', 'suspicion', 'suspicious', 'suspiciously', 'susquehanna', 'sustain', 'sustainable', 'sustained', 'sustaita', 'sustenance', 'sustenol', 'sutcliffe', 'sutter', 'sutton', 'suum', 'suv', 'suvorov', 'suza', 'suzana', 'suzanna', 'suzanne', 'sv', 'sva', 'svatos', 'svc', 'svcd', 'svcs', 'sven', 'svp', 'svr', 'sw', 'swags', 'swain', 'swakefield', 'swallow', 'swallowed', 'swamped', 'swann', 'swanson', 'swap', 'swapping', 'swaps', 'swapsmonitor', 'swaption', 'swaptions', 'swat', 'swatch', 'swatter', 'swaziland', 'swbank', 'swbell', 'swbpc', 'swears', 'sweden', 'swedish', 'sweeney', 'sweep', 'sweeping', 'sweepstakes', 'sweet', 'sweeten', 'sweetie', 'sweetness', 'sweetwater', 'swelled', 'swelling', 'swelund', 'swenson', 'swept', 'swerzbin', 'swett', 'swift', 'swiftenergy', 'swiftmail', 'swimmer', 'swimming', 'swindell', 'swindon', 'swing', 'swingable', 'swingopt', 'swings', 'swisher', 'swiss', 'swissre', 'switch', 'switchable', 'switchboard', 'switched', 'switches', 'switchgear', 'switching', 'swith', 'switzerland', 'swizterland', 'swl', 'swle', 'swlx', 'swly', 'swoja', 'swojej', 'sword', 'swot', 'swpvfdwt', 'swroy', 'sxjrohvneydjgucyfa', 'sxn', 'sy', 'syacmorenet', 'sybaritic', 'sybase', 'sycamore', 'sycamorenet', 'sydkraft', 'sydney', 'syed', 'sygnalizowal', 'syllabus', 'sylvia', 'sylvie', 'sylwester', 'sylwesterr', 'sym', 'symantec', 'symantecsystemworks', 'symbo', 'symbol', 'symbolic', 'symbols', 'symes', 'sympathetic', 'sympathy', 'symphony', 'symposium', 'symptoms', 'syn', 'sync', 'synchronism', 'synchronization', 'syndicates', 'syndication', 'syndrome', 'synem', 'synergies', 'synergy', 'synfuel', 'synm', 'synopsis', 'synoptical', 'syntax', 'synthesising', 'synthesize', 'synthethic', 'synthetic', 'synthetically', 'syntroleum', 'syphilitic', 'syria', 'syringes', 'sys', 'sysadmin', 'system', 'systematic', 'systematical', 'systematically', 'systemize', 'systems', 'systemworks', 'sytems', 'sz', 'sza', 'szablya', 'szanowny', 'szara', 'szczeg', 'szczegolnie', 'szczegolnosci', 'szczegolowy', 'szej', 'szko', 'szkola', 'szkole', 'szkolenia', 'szkolenie', 'szkoly', 'szoh', 'szopa', 'szybciej', 'szybka', 'szybki', 'ta', 'taablets', 'tab', 'tabanou', 'tabbachino', 'tabbed', 'tabboulehs', 'tabele', 'tabitha', 'table', 'tables', 'tablet', 'tablets', 'tabloidez', 'tabs', 'tabu', 'tabulation', 'tack', 'tackle', 'tackling', 'tactic', 'tactical', 'tactically', 'tactics', 'tadalafil', 'taeglich', 'taek', 'taf', 'tag', 'tagboard', 'tage', 'tagged', 'tagging', 'tagheuers', 'tagliarino', 'tags', 'taguchi', 'tahmin', 'tahoe', 'tai', 'taichi', 'taients', 'taiichi', 'tail', 'tailed', 'tailing', 'tailor', 'tailored', 'tails', 'taint', 'tainted', 'tais', 'taiseid', 'tait', 'taiwan', 'taj', 'tak', 'taka', 'takach', 'takashi', 'take', 'taken', 'takeoff', 'takeover', 'takers', 'takes', 'takiego', 'takiej', 'takim', 'taking', 'takriti', 'tal', 'talbot', 'tale', 'talent', 'talented', 'talents', 'talisman', 'talk', 'talked', 'talking', 'talkingstocks', 'talkington', 'talks', 'talktitles', 'tall', 'tallam', 'tallking', 'talon', 'tam', 'tamachenko', 'tamaktadr', 'tamal', 'tamara', 'tamarachenko', 'tamarchenko', 'tamariz', 'tambm', 'tameable', 'tamera', 'tamerchenko', 'tamiment', 'tamlyn', 'tammie', 'tammy', 'tampa', 'tamper', 'tampering', 'tamu', 'tamug', 'tamullen', 'tan', 'tana', 'tanaka', 'tandem', 'tandklarnza', 'tang', 'tangential', 'tangible', 'tangle', 'tango', 'tani', 'tank', 'tankage', 'tanker', 'tanks', 'tansill', 'tanuja', 'tany', 'tanya', 'tanzania', 'tao', 'tap', 'tape', 'taped', 'taperry', 'tapes', 'tapestry', 'taping', 'tapped', 'tappet', 'tapscott', 'tar', 'tara', 'tarantula', 'tarbrush', 'target', 'targeted', 'targetemailremoval', 'targeting', 'targets', 'targetted', 'tariff', 'tariffs', 'tarihinde', 'tariq', 'tarmac', 'tarot', 'tarr', 'tarrock', 'tartakouski', 'tartakovski', 'tartakowski', 'taser', 'tasha', 'task', 'taskbar', 'tasked', 'tasks', 'tassels', 'tassigny', 'taste', 'tasty', 'tat', 'tata', 'tatar', 'tatars', 'tate', 'tatrzanskiej', 'tatsuro', 'tattoo', 'taty', 'taught', 'tawney', 'tawny', 'tax', 'taxable', 'taxation', 'taxco', 'taxes', 'taxi', 'taxis', 'taxonomy', 'taxpayer', 'taxpayers', 'tayana', 'taylor', 'taylored', 'tba', 'tbal', 'tbalestrery', 'tbc', 'tbd', 'tbersan', 'tbrown', 'tbtu', 'tc', 'tcf', 'tchistory', 'tcigp', 'tcms', 'tconvery', 'tcp', 'tcps', 'tcs', 'tcu', 'tdb', 'tdi', 'te', 'tea', 'teach', 'teachable', 'teacher', 'teachers', 'teaches', 'teaching', 'team', 'teamed', 'teaml', 'teammates', 'teams', 'teamsters', 'teamtel', 'teamwork', 'tear', 'teardrop', 'tears', 'teaser', 'tec', 'tech', 'techhelp', 'techncial', 'technews', 'technica', 'technical', 'technicalities', 'technically', 'technician', 'technicians', 'techniczne', 'technicznych', 'technion', 'technique', 'techniques', 'techno', 'technoiogies', 'technoiogy', 'technological', 'technologically', 'technologies', 'technologist', 'technologists', 'technology', 'technologys', 'techonline', 'techwood', 'techy', 'tecnomare', 'ted', 'teekkr', 'teen', 'teenage', 'teens', 'teeside', 'teesside', 'teeth', 'teethe', 'tefoglou', 'tefon', 'tego', 'tegoz', 'tegument', 'teh', 'tehachapi', 'tehelka', 'tehunt', 'teievision', 'tej', 'tejas', 'tejon', 'teknecon', 'tel', 'teldatasolutions', 'tele', 'telebanc', 'telebank', 'telecom', 'telecommunication', 'telecommunications', 'telecoms', 'teleconference', 'teleconferences', 'teleconnections', 'telecosm', 'telefon', 'telefongespraech', 'telefonica', 'telefoniczne', 'telefonicznej', 'telefonnr', 'telefonos', 'telegraph', 'telegraphindia', 'telehone', 'teleinsurance', 'telemark', 'telemarketers', 'telemarketing', 'telematical', 'telemetry', 'telephone', 'telephoned', 'telephones', 'telephonhe', 'telephonically', 'telephony', 'telerate', 'telesal', 'telescope', 'telesys', 'telesystems', 'telethon', 'televiewer', 'television', 'televisional', 'telex', 'telfax', 'telfonos', 'tell', 'tellez', 'telling', 'tellis', 'tells', 'tellwood', 'telmer', 'telmerc', 'telmex', 'telusplanet', 'tem', 'temat', 'temel', 'temerity', 'temmc', 'temos', 'temp', 'tempe', 'temper', 'tempera', 'temperature', 'temperatures', 'tempers', 'tempestuous', 'tempfail', 'template', 'templates', 'templete', 'temporal', 'temporally', 'temporaly', 'temporaries', 'temporarily', 'temporary', 'temps', 'tempted', 'tempus', 'temslcl', 'temu', 'ten', 'tenants', 'tencel', 'tend', 'tendency', 'tender', 'tendered', 'tenders', 'tendr', 'tends', 'tene', 'teneo', 'tenets', 'tenn', 'tenneco', 'tennesee', 'tennessee', 'tenor', 'tenors', 'tens', 'tense', 'tension', 'tensions', 'tent', 'tentacle', 'tentative', 'tentatively', 'tenth', 'tenuity', 'tenure', 'tenured', 'teporocha', 'teppco', 'ter', 'terabit', 'terabyte', 'terabytes', 'terapop', 'teraz', 'tercet', 'terence', 'teresa', 'teri', 'terlip', 'term', 'termal', 'terman', 'termed', 'termin', 'terminal', 'terminals', 'terminat', 'terminate', 'terminated', 'terminates', 'terminating', 'termination', 'terminations', 'terminology', 'terminowego', 'terminus', 'termites', 'terms', 'termsandconditions', 'termsdebt', 'termserv', 'termsheets', 'terra', 'terraces', 'terrain', 'terralibre', 'terramycin', 'terraso', 'terravision', 'terrell', 'terrellyn', 'terri', 'terrible', 'terribly', 'terrific', 'terrified', 'terrify', 'territories', 'territory', 'terror', 'terrorism', 'terrorist', 'terry', 'ters', 'terse', 'tertiary', 'teslick', 'test', 'testate', 'testatrix', 'tested', 'testers', 'testified', 'testiing', 'testimonial', 'testimonials', 'testimony', 'testing', 'testproject', 'tests', 'tetm', 'tetonka', 'tetris', 'tex', 'texaco', 'texan', 'texans', 'texas', 'texasecomm', 'texasmonthly', 'texasnf', 'texmf', 'texp', 'text', 'textbook', 'textbooks', 'textiles', 'texts', 'textual', 'texture', 'tez', 'tff', 'tfi', 'tfitzgerald', 'tfn', 'tfs', 'tft', 'tgifcam', 'tgo', 'tgobk', 'tgs', 'tguo', 'tgym', 'th', 'tha', 'thabet', 'thackeray', 'thaddeus', 'thai', 'thaibooks', 'thaihotel', 'thailand', 'thaleia', 'thall', 'thambiah', 'thambo', 'thames', 'thane', 'thank', 'thankful', 'thanking', 'thanks', 'thanksgiving', 'thanksgivings', 'thankyou', 'thanx', 'tharsilla', 'thatlead', 'thats', 'thatthey', 'thatyou', 'thay', 'thconfsessions', 'thconfsessionsl', 'theadvantages', 'theath', 'theatre', 'theatrical', 'thebairds', 'thecopyright', 'thedykes', 'thee', 'theend', 'theer', 'theexpertfinderand', 'thefame', 'theft', 'thefund', 'theintended', 'theirproducts', 'thelast', 'theleadmanl', 'themail', 'theme', 'themes', 'themoney', 'thence', 'thenext', 'theodore', 'theology', 'theorem', 'theoretical', 'theoretically', 'theoreticial', 'theories', 'theory', 'theotcbb', 'thepaypal', 'thepeople', 'thepower', 'theprogram', 'therapeutic', 'therapy', 'thereafter', 'thereare', 'thereby', 'therefore', 'therefrom', 'therein', 'thereof', 'thereon', 'thereout', 'thereport', 'theres', 'theresa', 'therese', 'theresimply', 'theressa', 'therfore', 'thermal', 'thermbank', 'thermionic', 'thermit', 'thesame', 'thesecurities', 'theseemails', 'thesepowerfui', 'thesepowerful', 'theseus', 'thesimple', 'thesis', 'thestatesman', 'theta', 'theu', 'theuk', 'thewhole', 'thge', 'thhe', 'thiagarajan', 'thiamin', 'thibaut', 'thibodeaux', 'thick', 'thicken', 'thicker', 'thickness', 'thin', 'thing', 'thingamy', 'things', 'think', 'thinker', 'thinkers', 'thinkgeek', 'thinking', 'thinkpad', 'thinks', 'third', 'thirdly', 'thirds', 'thirteen', 'thirty', 'thisbusiness', 'thisdeal', 'thisdgsrw', 'thislast', 'thiss', 'thje', 'thnaks', 'thnx', 'tho', 'thode', 'thoe', 'tholan', 'tholen', 'thomas', 'thomasbarkley', 'thome', 'thompson', 'thomsen', 'thor', 'thora', 'thorn', 'thorne', 'thornton', 'thorntonnk', 'thorough', 'thoroughly', 'thorpe', 'thosand', 'thou', 'though', 'thought', 'thoughtful', 'thoughtfulness', 'thoughts', 'thousand', 'thousands', 'thr', 'thrash', 'thread', 'threads', 'threat', 'threaten', 'threatened', 'threatening', 'threatens', 'threats', 'three', 'threet', 'threshold', 'thresholds', 'threw', 'thrid', 'thrift', 'thrilled', 'thrive', 'throat', 'throne', 'throughemail', 'throughout', 'throughput', 'throw', 'throwback', 'throwing', 'thrown', 'thru', 'thrust', 'thrustof', 'ths', 'thsi', 'tht', 'thu', 'thuama', 'thugs', 'thuirsday', 'thulium', 'thumb', 'thumbs', 'thunderbird', 'thur', 'thuraisingham', 'thurasingham', 'thurday', 'thurs', 'thursady', 'thursday', 'thursdays', 'thus', 'thusday', 'thwarted', 'thx', 'thyristors', 'thyroid', 'thyself', 'ti', 'tiaa', 'tiaiity', 'tian', 'tianhe', 'tibco', 'tical', 'tick', 'ticker', 'ticket', 'ticketed', 'ticketing', 'tickets', 'tidal', 'tide', 'tided', 'tidy', 'tie', 'tied', 'tieds', 'tiempo', 'tier', 'tiered', 'tierney', 'ties', 'tif', 'tiffany', 'tiffin', 'tiffinyfletcher', 'tiger', 'tigers', 'tight', 'tighten', 'tightener', 'tighter', 'tightness', 'tihista', 'tijerina', 'tijqsemw', 'tile', 'tilebond', 'till', 'tiller', 'tilney', 'tim', 'timber', 'timberwolf', 'time', 'timebeing', 'timed', 'timeframe', 'timeit', 'timekeeper', 'timekeepers', 'timeline', 'timelines', 'timeliness', 'timely', 'timeout', 'times', 'timeserving', 'timeshare', 'timesheet', 'timesheets', 'timesofindia', 'timestamps', 'timetable', 'timimg', 'timing', 'timings', 'timkennedyo', 'timmons', 'timopler', 'timothy', 'timshometownstories', 'timson', 'tin', 'tina', 'tindall', 'tindallfoster', 'tiner', 'tinet', 'ting', 'tinkering', 'tinto', 'tinubu', 'tiny', 'tion', 'tioned', 'tions', 'tip', 'tipdtggz', 'tipo', 'tips', 'tipton', 'tire', 'tired', 'tires', 'tirol', 'tis', 'tiscali', 'tissue', 'titan', 'titie', 'title', 'titled', 'titles', 'titling', 'titman', 'tits', 'tiverton', 'tivioli', 'tivo', 'tiwary', 'tj', 'tjae', 'tjuz', 'tjvs', 'tk', 'tkim', 'tknight', 'tks', 'tkt', 'tku', 'tl', 'tlapek', 'tld', 'tlee', 'tlm', 'tlo', 'tlumaczyla', 'tlx', 'tm', 'tmat', 'tmc', 'tmh', 'tmjitfsi', 'tml', 'tmnto', 'tmonk', 'tmp', 'tn', 'tng', 'tnguye', 'toadminister', 'toasting', 'tobacco', 'tobias', 'tobin', 'toby', 'tochter', 'tock', 'tockhoider', 'tockholder', 'tocks', 'tocome', 'tocqueville', 'tod', 'toda', 'today', 'todayit', 'todd', 'toddle', 'todo', 'todos', 'toechtern', 'toefl', 'toegestaan', 'togeter', 'together', 'togetrher', 'toggle', 'tohttp', 'toi', 'toiling', 'toinfo', 'token', 'tokens', 'tokia', 'toknow', 'tokyo', 'told', 'toledo', 'tolerance', 'tolerant', 'tolerate', 'toll', 'tollefsen', 'tollgate', 'tolling', 'tollway', 'toltec', 'toluene', 'tom', 'tomake', 'tomar', 'tomarrow', 'tomas', 'tomaski', 'tomasz', 'tomaszu', 'tomb', 'tomball', 'tombola', 'tombrandon', 'tomczyk', 'tomeke', 'tomers', 'tomlin', 'tomlinson', 'tommorow', 'tommorrow', 'tommy', 'tomography', 'tomorrow', 'tomorrrow', 'tompaidis', 'tompopplewell', 'tomtom', 'ton', 'tonai', 'tone', 'toned', 'toner', 'tonereverse', 'toners', 'tones', 'tongue', 'toni', 'tonight', 'tonna', 'tonnage', 'tonne', 'tonnes', 'tons', 'tony', 'tonys', 'tooffer', 'toois', 'took', 'tool', 'toolboxes', 'toolkit', 'tools', 'toolset', 'toolson', 'toomey', 'toon', 'toonmegaplex', 'toooo', 'toothbrush', 'toothsome', 'toour', 'top', 'topanga', 'topic', 'topical', 'topics', 'topl', 'toplumumuzun', 'topmost', 'topography', 'topologize', 'topology', 'topped', 'toppin', 'topping', 'topple', 'topps', 'tops', 'toqetherwith', 'tor', 'toraise', 'torben', 'torgersn', 'tori', 'torn', 'tornado', 'toronto', 'torre', 'torrent', 'torres', 'torrey', 'tortilla', 'torture', 'tos', 'tosend', 'tosher', 'toshiba', 'toshop', 'toshow', 'tosoni', 'toss', 'tossed', 'tot', 'tota', 'total', 'totalamount', 'totale', 'totaled', 'totaling', 'totalling', 'totally', 'totals', 'totaly', 'totten', 'totty', 'touch', 'touche', 'touched', 'touches', 'touching', 'tough', 'toughened', 'toughest', 'toughs', 'tour', 'tourenron', 'tourism', 'tourl', 'tournament', 'tourney', 'tours', 'tous', 'toussaint', 'tout', 'toute', 'touted', 'touts', 'tovinh', 'tow', 'towait', 'toward', 'towards', 'tower', 'towers', 'towing', 'town', 'towns', 'townships', 'townspeople', 'towson', 'towww', 'toxology', 'toy', 'toyota', 'toys', 'tpa', 'tpl', 'tpnet', 'tqz', 'tr', 'trabajo', 'trac', 'trace', 'traceable', 'traceback', 'traced', 'tracee', 'traces', 'tracey', 'traci', 'tracie', 'tracing', 'track', 'tracked', 'tracker', 'trackers', 'tracking', 'tracks', 'tractable', 'tractebel', 'tractile', 'traction', 'tractors', 'tracy', 'trade', 'tradeable', 'tradecapture', 'traded', 'trademanager', 'trademark', 'trademarked', 'trademarks', 'tradeoff', 'trader', 'traders', 'trades', 'tradespark', 'tradeweather', 'tradeweb', 'tradgedies', 'tradinf', 'trading', 'tradingexhange', 'tradition', 'traditional', 'traditionally', 'traffc', 'traffic', 'trafficentral', 'trafficmagnet', 'tragedy', 'tragic', 'trail', 'trails', 'train', 'trained', 'trainee', 'trainees', 'trainer', 'trainers', 'training', 'trainning', 'trains', 'trajectories', 'trajectory', 'trakcie', 'tral', 'tranche', 'tranches', 'trang', 'tranger', 'trannys', 'trano', 'tranportation', 'transact', 'transactable', 'transacting', 'transaction', 'transactional', 'transactions', 'transactjion', 'transarea', 'transatlantic', 'transcoastal', 'transcribe', 'transcript', 'transcripts', 'transfer', 'transferable', 'transfered', 'transfering', 'transferor', 'transferrable', 'transferred', 'transferring', 'transfers', 'transform', 'transformation', 'transformative', 'transformed', 'transformers', 'transforming', 'transforms', 'transient', 'transit', 'transition', 'transitioned', 'transitioning', 'translate', 'translated', 'translates', 'translating', 'translation', 'transmission', 'transmissions', 'transmit', 'transmittal', 'transmitted', 'transo', 'transotion', 'transparencies', 'transparency', 'transparent', 'transpired', 'transport', 'transportadora', 'transportation', 'transported', 'transporting', 'transportion', 'transports', 'transwestern', 'trao', 'trapeze', 'trapped', 'traps', 'tras', 'trash', 'trashy', 'trasmission', 'trauma', 'traumas', 'traumatic', 'travel', 'traveled', 'traveler', 'travelers', 'traveling', 'travelled', 'traveller', 'travelling', 'travelogue', 'traversing', 'travis', 'travlling', 'tray', 'traylor', 'trc', 'trd', 'tre', 'treachery', 'treacy', 'treading', 'treadmill', 'treas', 'treasure', 'treasurer', 'treasures', 'treasuries', 'treasury', 'treasuryconnect', 'treat', 'treated', 'treatement', 'treating', 'treatment', 'treatments', 'treats', 'treaty', 'trecento', 'tree', 'trees', 'treesby', 'treffen', 'treiben', 'trek', 'trembling', 'tremendous', 'tremendously', 'trena', 'trenches', 'trend', 'trending', 'trends', 'trendy', 'trenkle', 'trent', 'trevor', 'trey', 'trffic', 'tri', 'triage', 'trial', 'trialing', 'trials', 'triangulate', 'tribal', 'tribe', 'tribes', 'tribesman', 'tribolet', 'tribunals', 'tricia', 'trick', 'tricked', 'trickery', 'tricks', 'tricky', 'tricoli', 'tridas', 'tridium', 'tried', 'tries', 'trifoliate', 'trifurcate', 'trifurcation', 'trigeorgis', 'trigger', 'triggered', 'triggering', 'triggers', 'trillion', 'trilogy', 'trimmings', 'trina', 'trinity', 'trinomial', 'trinoo', 'trip', 'tripie', 'tripied', 'triple', 'tripled', 'triplicate', 'tripp', 'trips', 'trisect', 'trish', 'trisha', 'tristatecapital', 'tristategt', 'trisyllabic', 'triumph', 'triumvirate', 'trminos', 'trobison', 'troca', 'troche', 'troj', 'trojan', 'trollope', 'trond', 'troop', 'troops', 'trophic', 'trophy', 'tropical', 'tropics', 'trosper', 'trouble', 'troubled', 'troubles', 'troubleshooting', 'troublesome', 'trough', 'trousseaux', 'troy', 'trrovhe', 'trry', 'trs', 'trsor', 'truant', 'truck', 'trucked', 'trucker', 'truckers', 'trucking', 'truckload', 'trucks', 'trudno', 'true', 'trueb', 'truett', 'truing', 'truiy', 'truly', 'trump', 'trumpington', 'truncating', 'trunk', 'trushar', 'trusses', 'trust', 'trusted', 'trustee', 'trustees', 'trusting', 'trustworthy', 'truth', 'truthfully', 'try', 'tryand', 'tryed', 'trying', 'trytophan', 'trzecim', 'trzymajcie', 'ts', 'tsa', 'tscintroduced', 'tse', 'tsinghua', 'tsj', 'tso', 'tsr', 'tstc', 'tsunami', 'tt', 'ttamarc', 'ttayyib', 'tten', 'ttle', 'ttowel', 'ttu', 'ttulsi', 'ttyl', 'ttys', 'tu', 'tuaujryt', 'tube', 'tuberculin', 'tuck', 'tucson', 'tudes', 'tudors', 'tue', 'tueday', 'tues', 'tuesday', 'tufano', 'tuffano', 'tufts', 'tuition', 'tulane', 'tulare', 'tulika', 'tull', 'tully', 'tulsa', 'tulsiani', 'tumor', 'tuna', 'tune', 'tuned', 'tunes', 'tungsten', 'tuni', 'tuning', 'tunnel', 'tunuja', 'tupac', 'turanalem', 'turbine', 'turbines', 'turbocharged', 'turbomachinery', 'turbonet', 'turbulence', 'ture', 'tures', 'turf', 'turk', 'turkey', 'turkish', 'turks', 'turley', 'turmoil', 'turn', 'turnaround', 'turnberry', 'turned', 'turner', 'turnerbudd', 'turning', 'turnkey', 'turnkeyim', 'turnout', 'turnover', 'turns', 'turquoise', 'turystyczny', 'tuseday', 'tushar', 'tussle', 'tutor', 'tutorage', 'tutorial', 'tutoring', 'tutos', 'tv', 'tva', 'tvasut', 'tvcable', 'tvlrs', 'tvpredictions', 'tw', 'twa', 'twana', 'twc', 'tweak', 'tweaked', 'tweaking', 'tweive', 'twelfth', 'twelve', 'twenties', 'twentieth', 'twenty', 'twh', 'twice', 'twiddling', 'twila', 'twilight', 'twin', 'twist', 'twisterburritos', 'twistersoffice', 'twisting', 'twix', 'two', 'twoich', 'twoim', 'twoj', 'twojego', 'twolfe', 'twoset', 'tx', 'txmo', 'txt', 'txtemps', 'txtol', 'txu', 'txuenergy', 'ty', 'tyagi', 'tych', 'tycholiz', 'tycoon', 'tyde', 'tydzien', 'tygodnie', 'tygodniu', 'tying', 'tyle', 'tyler', 'tylko', 'tym', 'tynisha', 'type', 'types', 'typeset', 'typesetter', 'typesetters', 'typesetting', 'typewriter', 'typical', 'typically', 'typing', 'typo', 'typos', 'typu', 'tyree', 'tyrone', 'tysnes', 'tytuowa', 'tyu', 'tzamouranis', 'tzigane', 'u', 'ua', 'uaal', 'uae', 'uaeenquiries', 'uaiity', 'uas', 'uat', 'ube', 'ubicado', 'ubieg', 'ubieglym', 'ubiquitous', 'ubn', 'ubrany', 'ubs', 'ubycvski', 'ubyrpqtetxjyuyqyfjtie', 'uc', 'ucd', 'uce', 'ucei', 'uchicago', 'uci', 'uciekamy', 'ucl', 'ucla', 'uclcyhsfvposuw', 'uclink', 'ucm', 'ucrative', 'ud', 'uda', 'udadza', 'udexhoyp', 'udp', 'udzial', 'ue', 'uecker', 'ueckert', 'uefas', 'uexug', 'uexugthat', 'uf', 'ufl', 'ufrj', 'uga', 'ugh', 'ugi', 'ugly', 'uh', 'uhc', 'uhcl', 'uhle', 'uhmain', 'ui', 'uid', 'uidl', 'uiead', 'uio', 'uit', 'uiuc', 'uj', 'ujjwal', 'ujn', 'uk', 'uklinux', 'ukmo', 'ukprankcalls', 'ukraine', 'ukrainian', 'ukrainie', 'ukrpi', 'ul', 'ulaabilmesi', 'ulcer', 'ulead', 'ulfclo', 'ulitsky', 'ull', 'ullom', 'ulmer', 'ultima', 'ultimate', 'ultimately', 'ultimatum', 'ultra', 'ultracomputing', 'ultramweight', 'ultrascale', 'ulubienicem', 'um', 'uma', 'umass', 'umber', 'umbower', 'umbrella', 'umcp', 'umd', 'ume', 'umeby', 'umich', 'uml', 'umowieni', 'umowmy', 'un', 'unabated', 'unable', 'unabridged', 'unacceptable', 'unacceptably', 'unaffordable', 'unambiguous', 'unambiguously', 'unanimous', 'unanimously', 'unanswered', 'unanticipated', 'unappreciative', 'unapproving', 'unarmed', 'unattainable', 'unauthorised', 'unauthorized', 'unavailability', 'unavailable', 'unavoidable', 'unbeatable', 'unbeiivabie', 'unbeiivable', 'unbelievable', 'unbelivabie', 'unbelivable', 'unbiased', 'unbilled', 'unblock', 'unblocks', 'unbloody', 'unbundled', 'unbundling', 'unbuttoned', 'uncanny', 'uncensored', 'uncertain', 'uncertainties', 'uncertainty', 'unchanged', 'uncharitable', 'uncharted', 'unclaimed', 'uncle', 'unclear', 'uncoined', 'uncollectedmoney', 'uncomfortable', 'uncommon', 'uncomofortable', 'unconcerned', 'unconditionally', 'unconfirmed', 'uncongested', 'unconnected', 'unconscious', 'uncontrolled', 'unconventional', 'uncoupling', 'uncover', 'uncovering', 'uncreated', 'uncurtained', 'uncut', 'und', 'undecided', 'undeliverable', 'undeliverables', 'undelivered', 'undeniable', 'underage', 'underbuy', 'underdeliver', 'underdeveloped', 'underdid', 'underemployed', 'underestimate', 'underfoot', 'undergo', 'undergoing', 'undergone', 'undergrad', 'undergraduate', 'undergraduates', 'underground', 'undergrowth', 'underkill', 'underlie', 'underlies', 'underline', 'underlines', 'underlining', 'underlisted', 'underlying', 'underlyings', 'undermanagement', 'undermine', 'undermined', 'underneath', 'underpin', 'underpriced', 'underrate', 'underscore', 'underscoring', 'underspending', 'understably', 'understading', 'understand', 'understandable', 'understandably', 'understanding', 'understands', 'understated', 'understating', 'understood', 'undersupported', 'undertake', 'undertaken', 'undertakes', 'undertaking', 'undervaiued', 'undervalued', 'undervaluing', 'underway', 'underweighting', 'underwood', 'underwrite', 'underwriters', 'underwrites', 'underwriting', 'underwritten', 'undeserved', 'undetermined', 'undisciplined', 'undisclosed', 'undiscounted', 'undiscovered', 'undisputed', 'undiversifiable', 'undivided', 'undone', 'undoubtably', 'undoubtedly', 'undress', 'undue', 'unduly', 'une', 'unearths', 'uneconomic', 'unedited', 'uneducated', 'unemployed', 'unemployment', 'unequal', 'unequalled', 'unethical', 'uneven', 'unexpected', 'unexpectedly', 'unexplicable', 'unexploited', 'unfair', 'unfamiliar', 'unfavorable', 'unfavoured', 'unfocused', 'unfold', 'unfolds', 'unforeseen', 'unforseen', 'unfortunate', 'unfortunatelly', 'unfortunately', 'unfortuneately', 'unfulfilled', 'unfunded', 'ungethum', 'unhand', 'unhang', 'unhappiness', 'unhappy', 'unheard', 'unhoped', 'uni', 'unic', 'unico', 'unicom', 'unidiploma', 'unidirection', 'unidirectional', 'unification', 'unified', 'uniform', 'uniformly', 'unify', 'uniimited', 'unilat', 'unilateral', 'unilaterally', 'unimaginative', 'unimpaired', 'unimpressed', 'uninhibited', 'uninterrupted', 'union', 'unionize', 'unions', 'unique', 'uniquely', 'uniqueness', 'unit', 'unitcorrpremium', 'unite', 'united', 'unitedstates', 'unitedway', 'unites', 'uniting', 'units', 'univ', 'univeristy', 'universal', 'universally', 'universe', 'universit', 'universite', 'universiteit', 'universities', 'university', 'universityluigi', 'unix', 'unjust', 'unjustified', 'unknowable', 'unknowingly', 'unknown', 'unl', 'unlawful', 'unlawfully', 'unleaded', 'unles', 'unless', 'unlike', 'unlikely', 'unlimited', 'unliquidated', 'unlisted', 'unload', 'unlock', 'unlocked', 'unmanageable', 'unmarried', 'unmatched', 'unmeasurable', 'unmortgaged', 'unnecessarily', 'unnecessary', 'unnerving', 'unnmet', 'unnoticed', 'unnumbered', 'unobserved', 'unocal', 'unofficially', 'unorganized', 'unouthorised', 'unpaid', 'unparalleled', 'unpatented', 'unpause', 'unperturbed', 'unplanned', 'unpolitical', 'unprecedented', 'unpredictable', 'unprepared', 'unpretending', 'unpretensive', 'unpriced', 'unprocurable', 'unproductive', 'unprofessional', 'unprofitable', 'unprompted', 'unprotected', 'unpublished', 'unpure', 'unquestionable', 'unrealistic', 'unrealistically', 'unreasonable', 'unreasonably', 'unrecognized', 'unregister', 'unregistered', 'unregulated', 'unrelated', 'unreliable', 'unresolved', 'unrest', 'unrestrained', 'unrestricted', 'uns', 'unsaid', 'unsatisfied', 'unscheduled', 'unscribe', 'unsearchable', 'unsecured', 'unsent', 'unsere', 'unseren', 'unserviceable', 'unsettled', 'unsightly', 'unskilled', 'unsold', 'unsolicitated', 'unsolicited', 'unsown', 'unspecified', 'unspent', 'unspoilt', 'unstable', 'unstick', 'unstrap', 'unstructured', 'unsub', 'unsubscribe', 'unsubscribed', 'unsubscribes', 'unsubscribing', 'unsubstantial', 'unsuccessful', 'unsuccessul', 'unsuitabie', 'unsuitable', 'unsupported', 'unsure', 'unsuspecting', 'unsustainable', 'untangling', 'untapped', 'untested', 'untie', 'untill', 'untimely', 'untold', 'untouched', 'untraceable', 'untries', 'untrodden', 'untrue', 'untrustworthy', 'untune', 'unturned', 'unum', 'unusable', 'unused', 'unusual', 'unusually', 'unvalidated', 'unveil', 'unveiled', 'unveils', 'unverified', 'unviable', 'unwanted', 'unwarranted', 'unwary', 'unwell', 'unwieldy', 'unwilling', 'unwillingly', 'unwinding', 'unworn', 'unzip', 'uo', 'uofh', 'uoft', 'uoh', 'uom', 'uooirdym', 'uoregon', 'upbeat', 'upborne', 'upc', 'upcoming', 'updat', 'update', 'updated', 'updates', 'updating', 'upenn', 'upfront', 'upgrade', 'upgraded', 'upgrades', 'upgrading', 'upheave', 'upholds', 'uplift', 'uplifting', 'upline', 'upload', 'uploaded', 'upn', 'upon', 'upped', 'upper', 'uprightness', 'uprzejmie', 'ups', 'upseb', 'upset', 'upsetting', 'upshaw', 'upshot', 'upside', 'upstairs', 'upstart', 'upstream', 'upswings', 'upt', 'uptake', 'upto', 'upturn', 'upward', 'upwards', 'upwhyvkg', 'uq', 'uqouq', 'ur', 'uracil', 'ural', 'uraland', 'uranium', 'urban', 'urce', 'uregent', 'urethane', 'urge', 'urged', 'urgency', 'urgent', 'urgently', 'urges', 'urging', 'uri', 'uribe', 'urinary', 'urine', 'urjc', 'url', 'urlopie', 'urls', 'urm', 'urquhart', 'urse', 'ursula', 'uryasev', 'us', 'usa', 'usable', 'usacanada', 'usaee', 'usaeekaminska', 'usagain', 'usage', 'usair', 'usaone', 'usb', 'usc', 'uscard', 'usd', 'usda', 'usdl', 'usdollars', 'use', 'useabledatabases', 'used', 'useful', 'usefull', 'usefulness', 'useless', 'usename', 'usenet', 'user', 'userconf', 'userid', 'userids', 'username', 'usernames', 'usero', 'users', 'usership', 'uses', 'usf', 'usfreightways', 'usg', 'usgen', 'usgs', 'usinf', 'using', 'usinternetworking', 'usl', 'usly', 'uslyszenia', 'usman', 'uso', 'usprawiedliwic', 'usps', 'uspto', 'usr', 'usted', 'ustomers', 'usual', 'usually', 'usurious', 'usurp', 'uswebcks', 'uswith', 'ut', 'utah', 'utbxcuhepuffbnkwq', 'utexas', 'uticai', 'utical', 'utiiity', 'utiiize', 'util', 'utilicorp', 'utilisation', 'utilise', 'utilising', 'utilities', 'utilitiesall', 'utilitiesffff', 'utilitiesl', 'utility', 'utilization', 'utilize', 'utilized', 'utilizes', 'utilizing', 'utilizinginternet', 'utmost', 'uts', 'uttar', 'utter', 'uttered', 'utterly', 'uulxwn', 'uus', 'uuseful', 'uv', 'uva', 'uwage', 'uwagi', 'uwaterloo', 'uwazam', 'uxm', 'uy', 'uyz', 'uz', 'uznuy', 'uzyskac', 'v', 'va', 'vaal', 'vaca', 'vacancies', 'vacancy', 'vacant', 'vacants', 'vacation', 'vacationing', 'vacationist', 'vacations', 'vaccinate', 'vaccination', 'vaccinations', 'vaccine', 'vaccines', 'vacs', 'vacuum', 'vader', 'vadim', 'vaghedi', 'vague', 'vai', 'vaidaweeks', 'vail', 'vailas', 'vailey', 'vailresorts', 'vain', 'vainstein', 'vaiuabie', 'vaiuable', 'vaiue', 'vajpayee', 'vakantie', 'val', 'vala', 'valarie', 'valderrama', 'valdes', 'valdez', 'vale', 'valencia', 'valentin', 'valentine', 'valentlne', 'valenzuela', 'valeria', 'valerie', 'valery', 'valet', 'valets', 'valetudinary', 'valeur', 'valid', 'validate', 'validated', 'validates', 'validating', 'validation', 'validations', 'validity', 'valient', 'valles', 'valley', 'valnek', 'valorem', 'valorize', 'valorous', 'valter', 'valtrex', 'valuable', 'valuables', 'valuate', 'valuation', 'valuations', 'value', 'valueable', 'valuecreatorforall', 'valued', 'valuedpaypalmember', 'valuer', 'values', 'valui', 'valuing', 'valusing', 'valuta', 'valverde', 'van', 'vanbell', 'vanbeyerer', 'vanbeyrer', 'vance', 'vancouver', 'vande', 'vanderbilt', 'vanderhorst', 'vandor', 'vandy', 'vanessa', 'vanish', 'vanishing', 'vanlandingham', 'vanstone', 'vaol', 'var', 'varaiya', 'varcsnl', 'vargas', 'vargo', 'variability', 'variable', 'variables', 'variance', 'variances', 'variant', 'variants', 'variate', 'variation', 'variations', 'varicoloured', 'varied', 'varies', 'varieties', 'variety', 'varietyof', 'varinput', 'various', 'variuous', 'varma', 'varmodel', 'varnadoe', 'varpro', 'vars', 'varse', 'varseml', 'varsha', 'varshney', 'varsity', 'vartrack', 'varworks', 'vary', 'varying', 'vas', 'vasant', 'vasconcellos', 'vascular', 'vasicek', 'vasquez', 'vast', 'vastly', 'vasudevan', 'vasut', 'vaticinate', 'vatour', 'vatrfacs', 'vattenfall', 'vaughan', 'vault', 'vaunted', 'vax', 'vaysman', 'vaz', 'vazquez', 'vb', 'vba', 'vbs', 'vbvfl', 'vc', 'vcd', 'vcf', 'vcon', 'vcr', 'vcrs', 'vcs', 'vdeliver', 'vdg', 'vecchio', 'vecta', 'vector', 'vectors', 'vega', 'vegal', 'vegas', 'vegetables', 'vegetarian', 'vehemently', 'vehicle', 'vehicles', 'vehicular', 'vein', 'veinott', 'velaw', 'veldt', 'velocidad', 'velocity', 'velveting', 'ven', 'vend', 'vendas', 'vendor', 'vendors', 'venesuelan', 'veneto', 'venezuela', 'venezuelan', 'venir', 'venita', 'venkat', 'venkata', 'venlo', 'venoco', 'vent', 'venter', 'venture', 'ventured', 'ventures', 'venturing', 'venu', 'venue', 'venues', 'ver', 'vera', 'veracity', 'verbal', 'verbally', 'verbaly', 'verbotenen', 'verde', 'verdict', 'vereceksiniz', 'verfuegbar', 'verfuegung', 'verge', 'verifiable', 'verification', 'verificationno', 'verifications', 'verifictaion', 'verified', 'verifled', 'verify', 'verifying', 'verir', 'verity', 'verizon', 'verlaeger', 'verlfied', 'verlfled', 'vermeyi', 'vermont', 'vermouth', 'vermutlich', 'vernon', 'verona', 'veronica', 'veronneau', 'verpassen', 'verreschi', 'versa', 'versatile', 'versed', 'versen', 'versification', 'version', 'versionlb', 'versions', 'versionsfeatures', 'verson', 'versus', 'vertical', 'verticallv', 'vertically', 'veryy', 'vessel', 'vessels', 'vessey', 'vest', 'vesta', 'vested', 'vester', 'vestry', 'vestured', 'vet', 'veteran', 'veterans', 'veterinary', 'veto', 'vetoed', 'vetted', 'vetters', 'vetting', 'vexed', 'vey', 'vf', 'vga', 'vguggen', 'vh', 'vhck', 'vhcw', 'vhs', 'vi', 'via', 'viability', 'viable', 'viacheslav', 'viaduct', 'viagr', 'viagra', 'viagrra', 'vialogy', 'viaqra', 'viaspace', 'viastar', 'viatel', 'viatical', 'vibrant', 'vibratorspiele', 'vic', 'vice', 'vicek', 'vicens', 'vicent', 'vicinity', 'vickers', 'vicki', 'vickie', 'vickrey', 'vicky', 'vicne', 'victim', 'victimization', 'victims', 'victor', 'victoria', 'victory', 'vida', 'vidal', 'video', 'videoconference', 'videoconferences', 'videoconferencing', 'videos', 'videotape', 'videotaped', 'vidzenija', 'vie', 'vieira', 'viejo', 'viejou', 'vielen', 'viennese', 'vietnam', 'vievv', 'view', 'viewed', 'viewer', 'viewers', 'viewing', 'viewpoint', 'viewpoints', 'views', 'viewstation', 'viewstory', 'viftxtol', 'vigne', 'vigo', 'vigoral', 'vigorous', 'vigorously', 'vii', 'vijapurkar', 'vijayawada', 'vikas', 'viking', 'vilasrao', 'villa', 'village', 'villamizar', 'villanueva', 'villareal', 'villarreal', 'villeggiante', 'villeral', 'villereal', 'villevald', 'vinay', 'vince', 'vincejkaminski', 'vincek', 'vincent', 'vincents', 'vincenty', 'vine', 'ving', 'vings', 'vinhos', 'vinnce', 'vinobie', 'vinoble', 'vinson', 'vintage', 'vinve', 'violate', 'violates', 'violating', 'violation', 'violations', 'violently', 'violet', 'vip', 'vipprofits', 'viral', 'virani', 'virawan', 'virendra', 'virgin', 'virgina', 'virginia', 'virgo', 'virology', 'virtu', 'virtuaiiy', 'virtuaily', 'virtual', 'virtualiy', 'virtually', 'virtualoptionworld', 'virtualpc', 'virtualworld', 'virtue', 'virtues', 'virtuously', 'virtural', 'virus', 'viruschecked', 'viruses', 'viruswall', 'vis', 'visa', 'visage', 'visamastercard', 'visant', 'visas', 'visausa', 'viscid', 'vishnu', 'visibie', 'visibility', 'visible', 'visio', 'vision', 'visionaries', 'visionary', 'visioncastconferencing', 'visioning', 'visions', 'visioson', 'visit', 'visited', 'visiting', 'visitng', 'visitor', 'visitors', 'visits', 'visor', 'vista', 'vistone', 'visuai', 'visual', 'visualbasic', 'visualidentity', 'visualisation', 'visualization', 'visualize', 'visually', 'vita', 'vitae', 'vital', 'vitalism', 'vitality', 'vitally', 'vitamin', 'vite', 'vitrella', 'vittal', 'vitug', 'vivacity', 'vivek', 'viverito', 'vivian', 'viviani', 'vivid', 'viz', 'vjd', 'vjwindsor', 'vk', 'vkamins', 'vkaminski', 'vkp', 'vktfyngoqevl', 'vl', 'vladi', 'vladimir', 'vlady', 'vldeos', 'vlookup', 'vlsa', 'vm', 'vmail', 'vmendan', 'vmi', 'vms', 'vn', 'vnbl', 'vngo', 'vni', 'voc', 'vocabularies', 'vocabulary', 'vocation', 'vod', 'voice', 'voiced', 'voicemail', 'voicenet', 'void', 'voila', 'voiumes', 'voj', 'vojislav', 'vol', 'volaility', 'volat', 'volatile', 'volatilit', 'volatilities', 'volatility', 'volatilty', 'volcano', 'voleyball', 'volksw', 'volkswagen', 'voll', 'volleyball', 'volo', 'vols', 'volt', 'voltage', 'voltairian', 'volume', 'volumes', 'volumetric', 'voluntarily', 'voluntary', 'voluntaryism', 'volunteer', 'volunteered', 'volunteering', 'volunteers', 'vom', 'von', 'vonbock', 'vonderheide', 'vorher', 'vorlaege', 'vorsichtiges', 'vosko', 'vosso', 'votaress', 'votaw', 'vote', 'voted', 'voter', 'voters', 'votes', 'voting', 'votre', 'voucher', 'voulons', 'vous', 'vov', 'vowed', 'vox', 'vp', 'vpji', 'vpn', 'vpokhlebkin', 'vpopmail', 'vps', 'vpsc', 'vq', 'vquill', 'vr', 'vrije', 'vrm', 'vs', 'vsabo', 'vsh', 'vshanbh', 'vsp', 'vspc', 'vt', 'vtmhuy', 'vtxto', 'vu', 'vub', 'vug', 'vukas', 'vukl', 'vulcanite', 'vulnerability', 'vulnerable', 'vulnerary', 'vuthy', 'vv', 'vvalk', 'vvant', 'vvatches', 'vvays', 'vvorld', 'vvvv', 'vx', 'vzc', 'w', 'wa', 'waaaaaaaaaay', 'waal', 'wab', 'wachovia', 'waco', 'wad', 'wade', 'wadey', 'wadle', 'wadlington', 'wady', 'waere', 'waeren', 'waernen', 'wafer', 'waggenspack', 'wagner', 'wagon', 'waha', 'wahab', 'waikola', 'waist', 'wait', 'waited', 'waiting', 'waits', 'waive', 'waived', 'waiver', 'waivers', 'waives', 'wake', 'wakefield', 'wakeless', 'waking', 'wal', 'walaa', 'waldemar', 'waldemarem', 'walden', 'wales', 'walia', 'walk', 'walked', 'walker', 'walkerczesc', 'walkers', 'walking', 'walks', 'walkup', 'walkway', 'wall', 'walla', 'wallace', 'waller', 'wallet', 'wallets', 'wallow', 'wallpaper', 'walls', 'wallst', 'wallstreet', 'walmart', 'walnut', 'walsh', 'walt', 'walter', 'walters', 'waltham', 'walton', 'waltz', 'waltzes', 'wam', 'wamble', 'wan', 'wanda', 'wander', 'wandering', 'wanderings', 'wands', 'wandsworth', 'wang', 'wangassistant', 'wangfa', 'wangxd', 'wankhade', 'wanleader', 'wann', 'wanna', 'wannabe', 'want', 'wanted', 'wanting', 'wants', 'wap', 'wapa', 'war', 'warbler', 'ward', 'wardha', 'ware', 'warehouse', 'warehouses', 'warez', 'warezcds', 'warga', 'warier', 'warily', 'warit', 'warm', 'warmer', 'warmest', 'warming', 'warmish', 'warmth', 'warn', 'warned', 'warner', 'warning', 'warnings', 'warpath', 'warplane', 'warpspeed', 'warrant', 'warranted', 'warranties', 'warrants', 'warranty', 'warren', 'warrent', 'warri', 'warrior', 'warry', 'wars', 'warsaw', 'warship', 'warszawa', 'warszawie', 'warszawskie', 'wartosc', 'warwick', 'wary', 'wasaff', 'wash', 'washday', 'washgh', 'washington', 'wasl', 'waslegal', 'wasserstein', 'waste', 'wasted', 'wasteful', 'wastes', 'wastewater', 'wasting', 'waszej', 'wat', 'watch', 'watchdog', 'watched', 'watches', 'watchindustry', 'watching', 'watchword', 'water', 'waterage', 'watered', 'waterfall', 'waterhouse', 'waterloo', 'waterproof', 'waters', 'watershed', 'waterside', 'watersinfo', 'watertight', 'waterway', 'watkins', 'watson', 'watts', 'watttage', 'waukesha', 'wave', 'waved', 'wavefrontl', 'wavefrtl', 'waves', 'waving', 'waw', 'wax', 'waxle', 'way', 'waygood', 'wayne', 'ways', 'wayside', 'wayville', 'wbm', 'wc', 'wcast', 'wccd', 'wcg', 'wch', 'wchodzi', 'wciaz', 'wcit', 'wclb', 'wcprvl', 'wctopics', 'wczesnie', 'wczesniej', 'wd', 'wdtiidd', 'wdzieczny', 'weak', 'weakened', 'weakening', 'weakens', 'weaker', 'weakest', 'weakly', 'weakness', 'weaknesses', 'wealso', 'wealth', 'wealthbuilder', 'wealthier', 'wealthnow', 'wealthy', 'weapon', 'weapons', 'wear', 'wearable', 'wearing', 'weary', 'weasel', 'weath', 'weather', 'weatherdelta', 'weatherderivatives', 'weatherderivs', 'weathered', 'weathereffects', 'weatherforecast', 'weathering', 'weatherol', 'weatherproof', 'weatherrisk', 'weatherwave', 'weatherwise', 'weathet', 'weaver', 'web', 'webb', 'webber', 'webcafe', 'webcam', 'webconference', 'weber', 'webi', 'weblink', 'weblinks', 'weblogic', 'webmail', 'webmake', 'webmaster', 'webmasters', 'webmodal', 'webpage', 'webpages', 'webscheduler', 'webscr', 'webserver', 'websit', 'website', 'websites', 'webslte', 'websphere', 'webster', 'webtransit', 'webxperts', 'wecomed', 'wed', 'wedding', 'weddings', 'wedel', 'wedesday', 'wedge', 'wednesay', 'wednesday', 'wednesdays', 'weds', 'weed', 'weedon', 'weeds', 'week', 'weekday', 'weekdays', 'weekend', 'weekends', 'weekes', 'weeklong', 'weekly', 'weeks', 'weened', 'wees', 'wefa', 'wefaenergy', 'wegemo', 'wegen', 'weglein', 'wei', 'weidell', 'weidenbaum', 'weigelt', 'weigh', 'weighed', 'weighing', 'weighs', 'weight', 'weightbuild', 'weightctrl', 'weighted', 'weighting', 'weightings', 'weights', 'weijun', 'weil', 'weilerstein', 'weils', 'weinberg', 'weinert', 'weir', 'weird', 'weisbach', 'weiss', 'wekend', 'wel', 'welche', 'welcome', 'welcomed', 'welcomel', 'welcomes', 'welcoming', 'welded', 'welding', 'weldon', 'welfare', 'welikely', 'welis', 'well', 'wellbalanced', 'wellbeing', 'wellboring', 'weller', 'wellesley', 'wellhead', 'wellington', 'wellknown', 'welll', 'wellness', 'wells', 'wellsfargo', 'welsh', 'welshman', 'wendell', 'wendi', 'wendy', 'wenn', 'went', 'wente', 'wentworth', 'wenxiong', 'wenyao', 'wenz', 'wepco', 'wer', 'werckle', 'werden', 'werner', 'weron', 'werona', 'weronem', 'wersji', 'wes', 'wesley', 'wesloski', 'wesner', 'wess', 'wessex', 'wessexwater', 'west', 'westbro', 'westbrook', 'westdesk', 'wester', 'western', 'westernmost', 'westernsierramining', 'westford', 'westheimer', 'westin', 'westlb', 'westmore', 'westmoreland', 'weston', 'westplains', 'westport', 'westre', 'wet', 'wever', 'wewill', 'wex', 'wf', 'wg', 'wgay', 'wgo', 'wgs', 'whalen', 'whaley', 'whalley', 'whar', 'wharton', 'whartonetevent', 'whartons', 'whatever', 'whats', 'whatsoever', 'wheat', 'wheatland', 'wheaton', 'wheatstone', 'wheel', 'wheelchair', 'wheeler', 'wheelng', 'wheelock', 'wheels', 'whenever', 'whenthe', 'whereabouts', 'whereas', 'whereby', 'whereever', 'wherein', 'whereof', 'whereupon', 'wherever', 'wherry', 'whether', 'whichcontain', 'whichever', 'whichreport', 'whiie', 'whil', 'whilst', 'whim', 'whine', 'whiole', 'whipped', 'whirled', 'whirligig', 'whirligigs', 'whirling', 'whirlpool', 'whiskas', 'whiskey', 'whistle', 'whistleable', 'whitaker', 'white', 'whiteboard', 'whitebook', 'whitehead', 'whitehill', 'whiten', 'whitening', 'whitish', 'whitley', 'whitney', 'whitsel', 'whitselk', 'whitt', 'whittaker', 'whitter', 'whoever', 'whogan', 'whoily', 'whole', 'wholeheartedly', 'wholes', 'wholesale', 'wholesaler', 'wholesalers', 'wholeworld', 'wholiy', 'wholly', 'whomever', 'whopping', 'whose', 'wi', 'wiadomosc', 'wicek', 'wichai', 'wicke', 'wicked', 'wickedness', 'wickline', 'wicku', 'wicusiowi', 'wicusiu', 'wide', 'wideband', 'widely', 'widening', 'widens', 'wider', 'widespread', 'widest', 'widevine', 'widow', 'width', 'widziane', 'widzielismy', 'wiec', 'wiecej', 'wiecznie', 'wieczor', 'wieczorem', 'wiedziec', 'wiele', 'wielka', 'wieloma', 'wielu', 'wiem', 'wien', 'wife', 'wifeand', 'wifeless', 'wigner', 'wih', 'wiht', 'wii', 'wiii', 'wiil', 'wil', 'wild', 'wilder', 'wildest', 'wildlife', 'wildness', 'wile', 'wiley', 'wileyprint', 'wili', 'wilkinson', 'wilks', 'willachieve', 'willbe', 'willcome', 'willcompensate', 'willed', 'willemyns', 'willever', 'willey', 'william', 'williams', 'williamson', 'willing', 'willingness', 'willis', 'willitts', 'willl', 'willow', 'willperiodically', 'wilma', 'wilmingtontrust', 'wilmont', 'wilson', 'wilsonkamela', 'wiltfong', 'wilton', 'wiltshire', 'wimberley', 'win', 'wince', 'wincen', 'wincently', 'wincenty', 'wincety', 'winchester', 'wind', 'windbreak', 'windfall', 'winding', 'windle', 'windmill', 'window', 'windows', 'windowsfs', 'windowsize', 'windsor', 'windspeeds', 'windstorm', 'windstorms', 'wine', 'winedt', 'winfaxffff', 'winfield', 'winfrey', 'wing', 'wingram', 'wings', 'wining', 'winkelman', 'winmail', 'winner', 'winners', 'winnetka', 'winni', 'winning', 'winnings', 'winningstate', 'winnipeg', 'winnt', 'winny', 'winokur', 'wins', 'winship', 'winslow', 'winston', 'winstons', 'winter', 'winters', 'winton', 'winword', 'winzip', 'wipe', 'wipo', 'wir', 'wire', 'wired', 'wireiessiy', 'wireiessly', 'wireless', 'wirelessiy', 'wirelessly', 'wireline', 'wires', 'wiretaps', 'wirick', 'wiring', 'wirya', 'wis', 'wisc', 'wisconsin', 'wisdom', 'wisdomthat', 'wise', 'wisely', 'wisethe', 'wish', 'wished', 'wisher', 'wishes', 'wishing', 'wit', 'witaj', 'witch', 'witer', 'withdecay', 'withdraw', 'withdrawal', 'withdrawals', 'withdrawing', 'withdrawn', 'withdraws', 'withhold', 'withholding', 'within', 'withing', 'without', 'witness', 'witnessed', 'witnesses', 'witter', 'witty', 'wives', 'wizard', 'wizards', 'wizyt', 'wizyty', 'wjodybxdzknt', 'wkamins', 'wkca', 'wkgrp', 'wks', 'wkshp', 'wlasnej', 'wlasnie', 'wlasnymi', 'wlewis', 'wln', 'wlowr', 'wlv', 'wm', 'wml', 'wmos', 'wn', 'wnarongw', 'wnbra', 'wng', 'wnt', 'wo', 'wobbly', 'wobec', 'wochenenden', 'wodnicki', 'woe', 'woechentlich', 'woefully', 'woes', 'wof', 'woke', 'woksal', 'wolak', 'wolf', 'wolfe', 'wolff', 'wolfin', 'wolfram', 'wollen', 'wolny', 'wolski', 'wolverine', 'womack', 'woman', 'women', 'womenscare', 'womenshealth', 'wonder', 'wondered', 'wonderful', 'wonderfull', 'wondering', 'wonderingly', 'wonders', 'wong', 'wont', 'woo', 'wood', 'woodbind', 'woodcock', 'woodcraft', 'wooddy', 'woodengraver', 'woodgrouse', 'woodlands', 'woodridge', 'woodrow', 'woods', 'woodside', 'woodway', 'woodwork', 'woodworking', 'woody', 'woodybc', 'wool', 'woolgar', 'woorks', 'wooster', 'wor', 'word', 'worded', 'wording', 'wordings', 'wordperfect', 'words', 'wore', 'worid', 'woridwide', 'work', 'workable', 'workably', 'workbook', 'workbooks', 'workday', 'workded', 'worked', 'worker', 'workers', 'workfiles', 'workflow', 'workforce', 'workforcemetrics', 'workgroup', 'workhorses', 'working', 'workings', 'workload', 'workorder', 'workout', 'workplace', 'works', 'worksheet', 'worksheets', 'workshop', 'workshops', 'worksite', 'workspace', 'workss', 'workstation', 'workstations', 'worl', 'world', 'worldnet', 'worldpower', 'worldrxco', 'worlds', 'worldw', 'worldwi', 'worldwid', 'worldwide', 'worm', 'worms', 'worn', 'worried', 'worries', 'worrk', 'worry', 'worrying', 'worse', 'worsening', 'worst', 'worth', 'wortham', 'worthiness', 'worthless', 'worththemoney', 'worthty', 'worthwhile', 'worthy', 'wou', 'wouid', 'would', 'wouldamaze', 'woulfe', 'wound', 'wow', 'wozny', 'wp', 'wpasc', 'wpb', 'wpc', 'wpd', 'wpicker', 'wpl', 'wplacenie', 'wplacic', 'wplacila', 'wplynely', 'wplynieciu', 'wpm', 'wprowadzenia', 'wprowadzilem', 'wprzedsiebiorstwie', 'wps', 'wq', 'wquinn', 'wr', 'wrack', 'wrangler', 'wrap', 'wrapped', 'wrapping', 'wraps', 'wrath', 'wraz', 'wrenching', 'wriggle', 'wright', 'wrigley', 'wrinkle', 'wrinkles', 'wrist', 'writ', 'write', 'writer', 'writers', 'writes', 'writeup', 'writeups', 'writing', 'writingyou', 'written', 'writting', 'wroc', 'wrong', 'wrongfu', 'wrongfuily', 'wrongfuliy', 'wrongfully', 'wrote', 'wrt', 'wrting', 'wrw', 'wrzesnia', 'wrzesniu', 'ws', 'wscc', 'wschodem', 'wschodniego', 'wsfoclxkmsyflo', 'wsftp', 'wsi', 'wsicorp', 'wsiesai', 'wskaznikiwej', 'wskaznikow', 'wskaznikowa', 'wskaznikowej', 'wsmh', 'wsop', 'wsparcie', 'wspolny', 'wspolpracujemy', 'wsprd', 'wsr', 'wsrefi', 'wsrm', 'wstep', 'wsx', 'wszelkie', 'wszystkim', 'wszystko', 'wt', 'wtc', 'wtcs', 'wti', 'wtih', 'wto', 'wtorek', 'wu', 'wudo', 'wuerde', 'wuerden', 'wun', 'wunderlich', 'wurtt', 'wustl', 'wuwei', 'wv', 'ww', 'wwcidawgmcln', 'www', 'wwwpuntocom', 'wwww', 'wx', 'wxderiv', 'wxget', 'wxmap', 'wxmaps', 'wxpx', 'wy', 'wyatt', 'wybiera', 'wybranego', 'wybrzeza', 'wydaje', 'wydal', 'wydalismy', 'wydanie', 'wydaniem', 'wydarzenia', 'wydarzenie', 'wydarzeniem', 'wydarzeniu', 'wydatnie', 'wydawnictwa', 'wykena', 'wyklady', 'wykonawczych', 'wykorzystywanych', 'wykresy', 'wylatuje', 'wylie', 'wyndham', 'wyniku', 'wynosi', 'wyoming', 'wyrazicie', 'wyslalem', 'wyslemy', 'wysokie', 'wysokim', 'wysylam', 'wysylany', 'wysylke', 'wyzwanie', 'wz', 'wzgledy', 'x', 'xaal', 'xaao', 'xabsolutely', 'xana', 'xango', 'xao', 'xaol', 'xara', 'xavier', 'xb', 'xbox', 'xbsl', 'xcbl', 'xcelenergy', 'xcelerator', 'xenical', 'xent', 'xerox', 'xeroxffffae', 'xersonissos', 'xf', 'xfocwg', 'xgab', 'xi', 'xia', 'xiao', 'xiaojun', 'xiguan', 'xilinx', 'xim', 'xin', 'xinhua', 'xinlan', 'xinlancenter', 'xintong', 'xipwtobnf', 'xj', 'xl', 'xla', 'xle', 'xll', 'xlls', 'xlnx', 'xls', 'xlt', 'xmas', 'xmim', 'xmimhost', 'xml', 'xms', 'xnd', 'xo', 'xochil', 'xochitl', 'xol', 'xp', 'xpention', 'xpjk', 'xpng', 'xpress', 'xr', 'xs', 'xsvcd', 'xt', 'xterm', 'xu', 'xual', 'xualdes', 'xunepa', 'xuni', 'xv', 'xvcd', 'xwindow', 'xx', 'xxl', 'xxm', 'xxx', 'xxxvideoplex', 'xxxx', 'xyu', 'xyx', 'xyz', 'ya', 'yacine', 'yaeger', 'yahoo', 'yahoobb', 'yale', 'yalked', 'yall', 'yamada', 'yaman', 'yamen', 'yamin', 'yan', 'yana', 'yang', 'yankees', 'yann', 'yanna', 'yannis', 'yao', 'yapabilir', 'yaplmas', 'yaplmayaca', 'yapmaktadr', 'yapmamz', 'yaralov', 'yard', 'yards', 'yardstick', 'yaron', 'yashwant', 'yasuda', 'yates', 'yco', 'ydhallui', 'ydo', 'ydol', 'yea', 'yeager', 'yeah', 'year', 'yearend', 'yeargain', 'yearly', 'years', 'yeboah', 'yeck', 'yelling', 'yellow', 'yellowish', 'yellowness', 'yen', 'yeo', 'yeow', 'yeremenko', 'yergin', 'yermack', 'yes', 'yeshwantrao', 'yesterady', 'yesterday', 'yesterdays', 'yestersday', 'yesturday', 'yet', 'yfdjedbe', 'ygo', 'ygol', 'ygr', 'yhdo', 'yho', 'yhol', 'yi', 'yicheng', 'yield', 'yielded', 'yielding', 'yields', 'yin', 'ying', 'yingquan', 'yip', 'yisxx', 'yments', 'ymjg', 'ymjscytxnvpf', 'ymw', 'yn', 'ynnde', 'yo', 'yof', 'yoga', 'yoho', 'yoichi', 'yolaa', 'yolanda', 'yommc', 'yomogida', 'yong', 'yongcho', 'yoou', 'yopu', 'yoram', 'york', 'yorku', 'yoshiura', 'yoshiuro', 'youcan', 'youdid', 'youdo', 'youe', 'youhave', 'youll', 'youlosing', 'young', 'youngblood', 'younger', 'youngest', 'youour', 'yourcomputer', 'youre', 'yourmembership', 'yourname', 'yourpartner', 'yourpaypal', 'yourr', 'yoursite', 'yoursts', 'youth', 'youthful', 'youthh', 'youtouseemail', 'youu', 'youve', 'youyi', 'yowman', 'yoy', 'yoyoforsheerjoy', 'yoyukrpi', 'yp', 'ype', 'ypf', 'ypur', 'yqkc', 'yr', 'yrs', 'ystyxapg', 'ytd', 'ytu', 'yu', 'yuan', 'yue', 'yueguo', 'yule', 'yumhjn', 'yumi', 'yumigada', 'yusuf', 'yv', 'yvan', 'yvette', 'yvonne', 'ywhere', 'ywlvcqb', 'yxfl', 'yy', 'yyyy', 'yyyymmdd', 'yz', 'yzaguirre', 'z', 'za', 'zaangazowany', 'zabarankin', 'zabral', 'zach', 'zachary', 'zaczac', 'zadarozhny', 'zadorozhny', 'zadzoniles', 'zadzwonic', 'zagubiono', 'zaida', 'zaimejlowac', 'zainteresowac', 'zainteresowana', 'zainteresowanie', 'zainteresowany', 'zainteresuje', 'zaire', 'zajda', 'zajetym', 'zajmuje', 'zajzeniu', 'zak', 'zakopanem', 'zakup', 'zakupu', 'zalaczniku', 'zalety', 'zalozyciel', 'zamiar', 'zamiast', 'zamieszkania', 'zamin', 'zamowiona', 'zanieczyszczen', 'zanu', 'zapada', 'zaplanowana', 'zaplanowany', 'zapoznania', 'zapper', 'zaprzeczenie', 'zapytac', 'zapytania', 'zar', 'zargon', 'zariphopoulou', 'zarzadzania', 'zarzeczny', 'zastanawia', 'zastosowaniem', 'zastosowaniu', 'zasugerowalem', 'zasypiam', 'zaszczyt', 'zaunpe', 'zawarte', 'zawiedli', 'zawiera', 'zawierac', 'zbb', 'zbo', 'zbol', 'zbyt', 'zco', 'zdarzylo', 'zdrowia', 'ze', 'zealand', 'zealot', 'zebrac', 'zeby', 'zedo', 'zeebrugge', 'zeff', 'zehn', 'zeigham', 'zeitraum', 'zel', 'zelma', 'zenab', 'zenker', 'zenon', 'zerka', 'zero', 'zesto', 'zeszlego', 'zeszlym', 'zewnetrznego', 'zex', 'zg', 'zgadzam', 'zgc', 'zglosilismy', 'zhan', 'zhang', 'zhangn', 'zhendong', 'zheng', 'zhi', 'zhimin', 'zhiyang', 'zhiyong', 'zhiyun', 'zhong', 'zhongwen', 'zhongxun', 'zhou', 'zhu', 'zi', 'zia', 'zidar', 'zig', 'zigo', 'zijn', 'zimbabwe', 'zimbabwean', 'zimie', 'zimin', 'zimmerman', 'zimmy', 'zimno', 'zin', 'zinc', 'zingales', 'zingalesuniversity', 'zip', 'zipcode', 'ziplink', 'ziplip', 'zipmail', 'zipped', 'zipper', 'zipter', 'zisman', 'ziyong', 'zkcc', 'zkhokher', 'zl', 'zlotowkach', 'zlotych', 'zlotys', 'zlozyli', 'zlu', 'zmail', 'zmian', 'zmienilo', 'zmin', 'zmolek', 'zmsx', 'zn', 'znac', 'znacza', 'znacznie', 'znajomych', 'znakomitych', 'znalazlam', 'znalezc', 'znalezlismy', 'znam', 'znana', 'zndnioays', 'znow', 'znowu', 'zobaczenie', 'zoch', 'zoe', 'zofia', 'zoko', 'zoloftpain', 'zombie', 'zonal', 'zone', 'zones', 'zongo', 'zonings', 'zonline', 'zoo', 'zoolant', 'zoraidaguerra', 'zorganizowalem', 'zosta', 'zostal', 'zou', 'zrobic', 'zrobilem', 'zt', 'ztvwo', 'zu', 'zucha', 'zuerich', 'zufferli', 'zuid', 'zulie', 'zulkifli', 'zum', 'zuma', 'zunaechst', 'zunf', 'zungenakrobatik', 'zur', 'zurich', 'zusaetzlich', 'zustellstatus', 'zuyw', 'zuzana', 'zwabic', 'zwischen', 'zwlaszcza', 'zwrocic', 'zwwyw', 'zwzm', 'zxghlajf', 'zyban', 'zyc', 'zygoma', 'zymg', 'zzmacmac', 'zzn', 'zzncacst', 'zzzz']\n"
          ],
          "name": "stdout"
        }
      ]
    },
    {
      "cell_type": "code",
      "metadata": {
        "id": "6bKlkNRnv7wH",
        "colab_type": "code",
        "colab": {
          "base_uri": "https://localhost:8080/",
          "height": 136
        },
        "outputId": "06b275a9-41bc-4afe-a8ee-d6c542df6ddc"
      },
      "source": [
        "print(spamham_countvectorizer.toarray())  "
      ],
      "execution_count": 43,
      "outputs": [
        {
          "output_type": "stream",
          "text": [
            "[[0 0 0 ... 0 0 0]\n",
            " [0 0 0 ... 0 0 0]\n",
            " [0 0 0 ... 0 0 0]\n",
            " ...\n",
            " [0 0 0 ... 0 0 0]\n",
            " [0 0 0 ... 0 0 0]\n",
            " [0 0 0 ... 0 0 0]]\n"
          ],
          "name": "stdout"
        }
      ]
    },
    {
      "cell_type": "code",
      "metadata": {
        "id": "1u3bBJbUv7wJ",
        "colab_type": "code",
        "colab": {
          "base_uri": "https://localhost:8080/",
          "height": 34
        },
        "outputId": "de39d782-8cf2-4abe-ebba-2bece09d2156"
      },
      "source": [
        "spamham_countvectorizer.shape"
      ],
      "execution_count": 44,
      "outputs": [
        {
          "output_type": "execute_result",
          "data": {
            "text/plain": [
              "(5728, 37229)"
            ]
          },
          "metadata": {
            "tags": []
          },
          "execution_count": 44
        }
      ]
    },
    {
      "cell_type": "markdown",
      "metadata": {
        "id": "th5LDDEev7wM",
        "colab_type": "text"
      },
      "source": [
        "# STEP#4: TRAINING THE MODEL WITH ALL DATASET"
      ]
    },
    {
      "cell_type": "code",
      "metadata": {
        "id": "tI5Bl6Ufv7wN",
        "colab_type": "code",
        "colab": {
          "base_uri": "https://localhost:8080/",
          "height": 34
        },
        "outputId": "0b704e1a-c851-405a-ec8e-80ede1e16566"
      },
      "source": [
        "from sklearn.naive_bayes import MultinomialNB\n",
        "\n",
        "NB_classifier = MultinomialNB()\n",
        "label = spam_df['spam'].values\n",
        "NB_classifier.fit(spamham_countvectorizer, label)"
      ],
      "execution_count": 45,
      "outputs": [
        {
          "output_type": "execute_result",
          "data": {
            "text/plain": [
              "MultinomialNB(alpha=1.0, class_prior=None, fit_prior=True)"
            ]
          },
          "metadata": {
            "tags": []
          },
          "execution_count": 45
        }
      ]
    },
    {
      "cell_type": "code",
      "metadata": {
        "id": "u4HfHGlbv7wP",
        "colab_type": "code",
        "colab": {}
      },
      "source": [
        "testing_sample = ['Free money!!!', \"Hi Kim, Please let me know if you need any further information. Thanks\"]\n",
        "testing_sample_countvectorizer = vectorizer.transform(testing_sample)\n"
      ],
      "execution_count": 0,
      "outputs": []
    },
    {
      "cell_type": "code",
      "metadata": {
        "id": "P1r1nUSpv7wU",
        "colab_type": "code",
        "colab": {
          "base_uri": "https://localhost:8080/",
          "height": 34
        },
        "outputId": "2809b669-b180-442a-a93d-a8787c0c6c0c"
      },
      "source": [
        "test_predict = NB_classifier.predict(testing_sample_countvectorizer)\n",
        "test_predict"
      ],
      "execution_count": 47,
      "outputs": [
        {
          "output_type": "execute_result",
          "data": {
            "text/plain": [
              "array([1, 0])"
            ]
          },
          "metadata": {
            "tags": []
          },
          "execution_count": 47
        }
      ]
    },
    {
      "cell_type": "code",
      "metadata": {
        "id": "Opz8Jt5xv7wb",
        "colab_type": "code",
        "colab": {}
      },
      "source": [
        "# Mini Challenge!\n",
        "testing_sample = ['Hello, I am Ryan, I would like to book a hotel in Bali by January 24th', 'money viagara!!!!!']\n"
      ],
      "execution_count": 0,
      "outputs": []
    },
    {
      "cell_type": "code",
      "metadata": {
        "id": "Z00rRDJqv7we",
        "colab_type": "code",
        "colab": {
          "base_uri": "https://localhost:8080/",
          "height": 34
        },
        "outputId": "2c541151-8a7f-49d9-c3fe-726f01ec66c2"
      },
      "source": [
        "testing_sample = ['money viagara!!!!!', \"Hello, I am Ryan, I would like to book a hotel in SF by January 24th\"]\n",
        "testing_sample_countvectorizer = vectorizer.transform(testing_sample)\n",
        "test_predict = NB_classifier.predict(testing_sample_countvectorizer)\n",
        "test_predict"
      ],
      "execution_count": 49,
      "outputs": [
        {
          "output_type": "execute_result",
          "data": {
            "text/plain": [
              "array([1, 0])"
            ]
          },
          "metadata": {
            "tags": []
          },
          "execution_count": 49
        }
      ]
    },
    {
      "cell_type": "markdown",
      "metadata": {
        "id": "Igz6YmeDv7wi",
        "colab_type": "text"
      },
      "source": [
        "# STEP#4: DIVIDE THE DATA INTO TRAINING AND TESTING PRIOR TO TRAINING"
      ]
    },
    {
      "cell_type": "code",
      "metadata": {
        "id": "xU8UH_jgv7wj",
        "colab_type": "code",
        "colab": {}
      },
      "source": [
        "X = spamham_countvectorizer\n",
        "y = label"
      ],
      "execution_count": 0,
      "outputs": []
    },
    {
      "cell_type": "code",
      "metadata": {
        "id": "-MWwMZj6v7wm",
        "colab_type": "code",
        "colab": {
          "base_uri": "https://localhost:8080/",
          "height": 34
        },
        "outputId": "e12f504a-5fff-4ed5-a35a-2cd7c6589612"
      },
      "source": [
        "X.shape"
      ],
      "execution_count": 51,
      "outputs": [
        {
          "output_type": "execute_result",
          "data": {
            "text/plain": [
              "(5728, 37229)"
            ]
          },
          "metadata": {
            "tags": []
          },
          "execution_count": 51
        }
      ]
    },
    {
      "cell_type": "code",
      "metadata": {
        "id": "pr84nAEGv7wp",
        "colab_type": "code",
        "colab": {
          "base_uri": "https://localhost:8080/",
          "height": 34
        },
        "outputId": "a1d8c826-6d34-427a-e3b2-9216075357c1"
      },
      "source": [
        "y.shape"
      ],
      "execution_count": 52,
      "outputs": [
        {
          "output_type": "execute_result",
          "data": {
            "text/plain": [
              "(5728,)"
            ]
          },
          "metadata": {
            "tags": []
          },
          "execution_count": 52
        }
      ]
    },
    {
      "cell_type": "code",
      "metadata": {
        "id": "ecrVDYqhv7wr",
        "colab_type": "code",
        "colab": {}
      },
      "source": [
        "from sklearn.model_selection import train_test_split\n",
        "X_train, X_test, y_train, y_test = train_test_split(X, y, test_size=0.2)"
      ],
      "execution_count": 0,
      "outputs": []
    },
    {
      "cell_type": "code",
      "metadata": {
        "id": "sP4C9J1bv7wt",
        "colab_type": "code",
        "colab": {
          "base_uri": "https://localhost:8080/",
          "height": 34
        },
        "outputId": "5b1dfd1f-c4f5-4ae7-b685-dc9c1d9f28de"
      },
      "source": [
        "from sklearn.naive_bayes import MultinomialNB\n",
        "\n",
        "NB_classifier = MultinomialNB()\n",
        "NB_classifier.fit(X_train, y_train)"
      ],
      "execution_count": 63,
      "outputs": [
        {
          "output_type": "execute_result",
          "data": {
            "text/plain": [
              "MultinomialNB(alpha=1.0, class_prior=None, fit_prior=True)"
            ]
          },
          "metadata": {
            "tags": []
          },
          "execution_count": 63
        }
      ]
    },
    {
      "cell_type": "code",
      "metadata": {
        "id": "75F4YF2bv7wy",
        "colab_type": "code",
        "colab": {}
      },
      "source": [
        "#from sklearn.naive_bayes import GaussianNB \n",
        "#NB_classifier = GaussianNB()\n",
        "#NB_classifier.fit(X_train, y_train)"
      ],
      "execution_count": 0,
      "outputs": []
    },
    {
      "cell_type": "markdown",
      "metadata": {
        "id": "B8hTCF8Ev7w0",
        "colab_type": "text"
      },
      "source": [
        "# STEP#5: EVALUATING THE MODEL "
      ]
    },
    {
      "cell_type": "code",
      "metadata": {
        "id": "x7EYNes-v7w4",
        "colab_type": "code",
        "colab": {}
      },
      "source": [
        "from sklearn.metrics import classification_report, confusion_matrix"
      ],
      "execution_count": 0,
      "outputs": []
    },
    {
      "cell_type": "code",
      "metadata": {
        "id": "Ctmpscwrv7w6",
        "colab_type": "code",
        "colab": {
          "base_uri": "https://localhost:8080/",
          "height": 286
        },
        "outputId": "674bd6d2-7295-4891-f066-804af32f1696"
      },
      "source": [
        "y_predict_train = NB_classifier.predict(X_train)\n",
        "y_predict_train\n",
        "cm = confusion_matrix(y_train, y_predict_train)\n",
        "sns.heatmap(cm, annot=True)"
      ],
      "execution_count": 65,
      "outputs": [
        {
          "output_type": "execute_result",
          "data": {
            "text/plain": [
              "<matplotlib.axes._subplots.AxesSubplot at 0x7f05d7468128>"
            ]
          },
          "metadata": {
            "tags": []
          },
          "execution_count": 65
        },
        {
          "output_type": "display_data",
          "data": {
            "image/png": "[encoded data removed]",
            "text/plain": [
              "<Figure size 432x288 with 2 Axes>"
            ]
          },
          "metadata": {
            "tags": []
          }
        }
      ]
    },
    {
      "cell_type": "code",
      "metadata": {
        "id": "MoE3EujIv7w9",
        "colab_type": "code",
        "colab": {
          "base_uri": "https://localhost:8080/",
          "height": 286
        },
        "outputId": "6544b86e-fcc6-4fd3-ce3d-f94c60ca9bb3"
      },
      "source": [
        "# Predicting the Test set results\n",
        "y_predict_test = NB_classifier.predict(X_test)\n",
        "cm = confusion_matrix(y_test, y_predict_test)\n",
        "sns.heatmap(cm, annot=True)"
      ],
      "execution_count": 66,
      "outputs": [
        {
          "output_type": "execute_result",
          "data": {
            "text/plain": [
              "<matplotlib.axes._subplots.AxesSubplot at 0x7f05d75f1e80>"
            ]
          },
          "metadata": {
            "tags": []
          },
          "execution_count": 66
        },
        {
          "output_type": "display_data",
          "data": {
            "image/png": "[encoded data removed]",
            "text/plain": [
              "<Figure size 432x288 with 2 Axes>"
            ]
          },
          "metadata": {
            "tags": []
          }
        }
      ]
    },
    {
      "cell_type": "code",
      "metadata": {
        "id": "e8BOyiArv7xA",
        "colab_type": "code",
        "colab": {
          "base_uri": "https://localhost:8080/",
          "height": 170
        },
        "outputId": "39c03a54-0930-4358-857a-ccf65b2cb225"
      },
      "source": [
        "print(classification_report(y_test, y_predict_test))"
      ],
      "execution_count": 67,
      "outputs": [
        {
          "output_type": "stream",
          "text": [
            "              precision    recall  f1-score   support\n",
            "\n",
            "           0       1.00      0.99      0.99       885\n",
            "           1       0.96      0.99      0.98       261\n",
            "\n",
            "    accuracy                           0.99      1146\n",
            "   macro avg       0.98      0.99      0.99      1146\n",
            "weighted avg       0.99      0.99      0.99      1146\n",
            "\n"
          ],
          "name": "stdout"
        }
      ]
    },
    {
      "cell_type": "markdown",
      "metadata": {
        "id": "H_F1P_RQv7xE",
        "colab_type": "text"
      },
      "source": [
        "# STEP #6: LET'S ADD ADDITIONAL FEATURE TF-IDF"
      ]
    },
    {
      "cell_type": "code",
      "metadata": {
        "id": "QBIjdj4ev7xG",
        "colab_type": "code",
        "colab": {
          "base_uri": "https://localhost:8080/",
          "height": 51
        },
        "outputId": "d2c32410-efd1-4fce-e07f-b93d3ac20836"
      },
      "source": [
        "spamham_countvectorizer"
      ],
      "execution_count": 68,
      "outputs": [
        {
          "output_type": "execute_result",
          "data": {
            "text/plain": [
              "<5728x37229 sparse matrix of type '<class 'numpy.int64'>'\n",
              "\twith 565908 stored elements in Compressed Sparse Row format>"
            ]
          },
          "metadata": {
            "tags": []
          },
          "execution_count": 68
        }
      ]
    },
    {
      "cell_type": "code",
      "metadata": {
        "id": "GqYi6a-jv7xL",
        "colab_type": "code",
        "colab": {
          "base_uri": "https://localhost:8080/",
          "height": 34
        },
        "outputId": "51bae863-5de2-4e96-c964-b4c80485913d"
      },
      "source": [
        "from sklearn.feature_extraction.text import TfidfTransformer\n",
        "\n",
        "emails_tfidf = TfidfTransformer().fit_transform(spamham_countvectorizer)\n",
        "print(emails_tfidf.shape)"
      ],
      "execution_count": 69,
      "outputs": [
        {
          "output_type": "stream",
          "text": [
            "(5728, 37229)\n"
          ],
          "name": "stdout"
        }
      ]
    },
    {
      "cell_type": "code",
      "metadata": {
        "id": "gnJdK4yEv7xU",
        "colab_type": "code",
        "colab": {
          "base_uri": "https://localhost:8080/",
          "height": 884
        },
        "outputId": "cf85f564-0d3f-4a4c-fe36-2d21c5df27ea"
      },
      "source": [
        "print(emails_tfidf[:,:])\n",
        "# Sparse matrix with all the values of IF-IDF"
      ],
      "execution_count": 70,
      "outputs": [
        {
          "output_type": "stream",
          "text": [
            "  (0, 36565)\t0.06908944889543289\n",
            "  (0, 36432)\t0.06757047739651872\n",
            "  (0, 36430)\t0.059679365326344706\n",
            "  (0, 36025)\t0.1319392730989776\n",
            "  (0, 35034)\t0.05233428188145157\n",
            "  (0, 34800)\t0.09384305652743173\n",
            "  (0, 33562)\t0.06921203533637368\n",
            "  (0, 33037)\t0.09490328795519132\n",
            "  (0, 32843)\t0.06073679014431701\n",
            "  (0, 32617)\t0.11152518721878715\n",
            "  (0, 32602)\t0.11962021118089677\n",
            "  (0, 32319)\t0.11962021118089677\n",
            "  (0, 32263)\t0.0789584619498058\n",
            "  (0, 31968)\t0.11850864343422601\n",
            "  (0, 31959)\t0.08499360588016656\n",
            "  (0, 31547)\t0.10454173100334828\n",
            "  (0, 30218)\t0.04607380847274443\n",
            "  (0, 29858)\t0.09333645170409068\n",
            "  (0, 28879)\t0.07691781511072393\n",
            "  (0, 28266)\t0.09213153238881405\n",
            "  (0, 28110)\t0.11014658587128429\n",
            "  (0, 27986)\t0.06591875520600377\n",
            "  (0, 27225)\t0.0732875367149963\n",
            "  (0, 27224)\t0.05761542024424838\n",
            "  (0, 27122)\t0.11082209685254277\n",
            "  :\t:\n",
            "  (5727, 7921)\t0.04309622276800823\n",
            "  (5727, 7842)\t0.09382800880629484\n",
            "  (5727, 7841)\t0.08777996676891853\n",
            "  (5727, 5729)\t0.5517795052228944\n",
            "  (5727, 5629)\t0.023897736992445382\n",
            "  (5727, 5458)\t0.029509826655889585\n",
            "  (5727, 4975)\t0.0492955480245261\n",
            "  (5727, 4829)\t0.060643408563277344\n",
            "  (5727, 4620)\t0.02891616982793196\n",
            "  (5727, 4298)\t0.035510292849835555\n",
            "  (5727, 3983)\t0.028957107356579692\n",
            "  (5727, 3973)\t0.039213789311404956\n",
            "  (5727, 3972)\t0.03555799074347679\n",
            "  (5727, 3800)\t0.05577005731969894\n",
            "  (5727, 3692)\t0.07488612664596817\n",
            "  (5727, 3638)\t0.007798581299429165\n",
            "  (5727, 2828)\t0.17444034391197472\n",
            "  (5727, 2797)\t0.0644708865233183\n",
            "  (5727, 2755)\t0.026073605117948376\n",
            "  (5727, 2153)\t0.14962045521090822\n",
            "  (5727, 2126)\t0.10534027702139201\n",
            "  (5727, 1155)\t0.027760816548011092\n",
            "  (5727, 959)\t0.1289417730466366\n",
            "  (5727, 915)\t0.09421611309725271\n",
            "  (5727, 356)\t0.018470747665003947\n"
          ],
          "name": "stdout"
        }
      ]
    },
    {
      "cell_type": "code",
      "metadata": {
        "id": "Fe0Sz4h1v7xX",
        "colab_type": "code",
        "colab": {
          "base_uri": "https://localhost:8080/",
          "height": 286
        },
        "outputId": "c592a239-0c9d-4c08-ecde-e0253b7d42c2"
      },
      "source": [
        "X = emails_tfidf\n",
        "y = label\n",
        "\n",
        "from sklearn.model_selection import train_test_split\n",
        "X_train, X_test, y_train, y_test = train_test_split(X, y, test_size=0.2)\n",
        "\n",
        "from sklearn.naive_bayes import MultinomialNB\n",
        "NB_classifier = MultinomialNB()\n",
        "NB_classifier.fit(X_train, y_train)\n",
        "\n",
        "from sklearn.metrics import classification_report, confusion_matrix\n",
        "y_predict_train = NB_classifier.predict(X_train)\n",
        "y_predict_train\n",
        "cm = confusion_matrix(y_train, y_predict_train)\n",
        "sns.heatmap(cm, annot=True)"
      ],
      "execution_count": 71,
      "outputs": [
        {
          "output_type": "execute_result",
          "data": {
            "text/plain": [
              "<matplotlib.axes._subplots.AxesSubplot at 0x7f05d7405da0>"
            ]
          },
          "metadata": {
            "tags": []
          },
          "execution_count": 71
        },
        {
          "output_type": "display_data",
          "data": {
            "image/png": "[encoded data removed]",
            "text/plain": [
              "<Figure size 432x288 with 2 Axes>"
            ]
          },
          "metadata": {
            "tags": []
          }
        }
      ]
    },
    {
      "cell_type": "code",
      "metadata": {
        "id": "qyvUhNUSv7xZ",
        "colab_type": "code",
        "colab": {
          "base_uri": "https://localhost:8080/",
          "height": 170
        },
        "outputId": "37a5dc32-b4bc-4346-b519-667e79db7974"
      },
      "source": [
        "print(classification_report(y_test, y_predict_test))"
      ],
      "execution_count": 72,
      "outputs": [
        {
          "output_type": "stream",
          "text": [
            "              precision    recall  f1-score   support\n",
            "\n",
            "           0       0.77      0.77      0.77       886\n",
            "           1       0.23      0.23      0.23       260\n",
            "\n",
            "    accuracy                           0.64      1146\n",
            "   macro avg       0.50      0.50      0.50      1146\n",
            "weighted avg       0.65      0.64      0.65      1146\n",
            "\n"
          ],
          "name": "stdout"
        }
      ]
    }
  ]
}